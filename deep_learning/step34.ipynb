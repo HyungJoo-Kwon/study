{
  "cells": [
    {
      "cell_type": "code",
      "metadata": {},
      "source": [
        "if '__file__' in globals():\n",
        "    import os, sys\n",
        "    sys.path.append(os.path.join(os.path.dirname(__file__), '..'))\n",
        "import numpy as np\n",
        "import matplotlib.pyplot as plt\n",
        "from dezero import Variable\n",
        "import dezero.functions as F\n",
        "\n",
        "x = Variable(np.linspace(-7, 7, 200))\n",
        "y = F.sin(x)\n",
        "y.backward(create_graph=True)\n",
        "\n",
        "logs = [y.data]\n",
        "\n",
        "for i in range(3):\n",
        "    logs.append(x.grad.data)\n",
        "    gx = x.grad\n",
        "    x.cleargrad()\n",
        "    gx.backward(create_graph=True)\n",
        "\n",
        "labels = [\"y=sin(x)\", \"y'\", \"y''\", \"y'''\"]\n",
        "for i, v in enumerate(logs):\n",
        "    plt.plot(x.data, logs[i], label=labels[i])\n",
        "plt.legend(loc='lower right')\n",
        "plt.show()"
      ],
      "outputs": [],
      "execution_count": null
    }
  ],
  "metadata": {
    "anaconda-cloud": {},
    "kernelspec": {
      "display_name": "Python 3",
      "language": "python",
      "name": "python3"
    },
    "language_info": {
      "codemirror_mode": {
        "name": "ipython",
        "version": 3
      },
      "file_extension": ".py",
      "mimetype": "text/x-python",
      "name": "python",
      "nbconvert_exporter": "python",
      "pygments_lexer": "ipython3",
      "version": "3.6.1"
    }
  },
  "nbformat": 4,
  "nbformat_minor": 4
}