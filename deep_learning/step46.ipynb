{
  "cells": [
    {
      "cell_type": "code",
      "metadata": {},
      "source": [
        "if '__file__' in globals():\n",
        "    import os, sys\n",
        "    sys.path.append(os.path.join(os.path.dirname(__file__), '..'))\n",
        "import numpy as np\n",
        "from dezero import optimizers\n",
        "import dezero.functions as F\n",
        "from dezero.models import MLP\n",
        "\n",
        "\n",
        "np.random.seed(0)\n",
        "x = np.random.rand(100, 1)\n",
        "y = np.sin(2 * np.pi * x) + np.random.rand(100, 1)\n",
        "\n",
        "lr = 0.2\n",
        "max_iter = 10000\n",
        "hidden_size = 10\n",
        "\n",
        "model = MLP((hidden_size, 1))\n",
        "optimizer = optimizers.SGD(lr).setup(model)\n",
        "\n",
        "for i in range(max_iter):\n",
        "    y_pred = model(x)\n",
        "    loss = F.mean_squared_error(y, y_pred)\n",
        "\n",
        "    model.cleargrads()\n",
        "    loss.backward()\n",
        "\n",
        "    optimizer.update()\n",
        "    if i % 1000 == 0:\n",
        "        print(loss)"
      ],
      "outputs": [],
      "execution_count": null
    }
  ],
  "metadata": {
    "anaconda-cloud": {},
    "kernelspec": {
      "display_name": "Python 3",
      "language": "python",
      "name": "python3"
    },
    "language_info": {
      "codemirror_mode": {
        "name": "ipython",
        "version": 3
      },
      "file_extension": ".py",
      "mimetype": "text/x-python",
      "name": "python",
      "nbconvert_exporter": "python",
      "pygments_lexer": "ipython3",
      "version": "3.6.1"
    }
  },
  "nbformat": 4,
  "nbformat_minor": 4
}