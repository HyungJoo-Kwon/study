{
  "cells": [
    {
      "cell_type": "code",
      "metadata": {},
      "source": [
        "def get_conv_outsize(input_size, kernel_size, stride, pad):\n",
        "    return (input_size + pad * 2 - kernel_size) // stride + 1\n",
        "\n",
        "\n",
        "H, W = 4, 4  # Input size\n",
        "KH, KW = 3, 3  # Kernel size\n",
        "SH, SW = 1, 1  # Kernel stride\n",
        "PH, PW = 1, 1  # Padding size\n",
        "\n",
        "OH = get_conv_outsize(H, KH, SH, PH)\n",
        "OW = get_conv_outsize(W, KW, SW, PW)\n",
        "print(OH, OW)"
      ],
      "outputs": [],
      "execution_count": null
    }
  ],
  "metadata": {
    "anaconda-cloud": {},
    "kernelspec": {
      "display_name": "Python 3",
      "language": "python",
      "name": "python3"
    },
    "language_info": {
      "codemirror_mode": {
        "name": "ipython",
        "version": 3
      },
      "file_extension": ".py",
      "mimetype": "text/x-python",
      "name": "python",
      "nbconvert_exporter": "python",
      "pygments_lexer": "ipython3",
      "version": "3.6.1"
    }
  },
  "nbformat": 4,
  "nbformat_minor": 4
}