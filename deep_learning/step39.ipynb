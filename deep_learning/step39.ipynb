{
  "cells": [
    {
      "cell_type": "code",
      "metadata": {},
      "source": [
        "if '__file__' in globals():\n",
        "    import os, sys\n",
        "    sys.path.append(os.path.join(os.path.dirname(__file__), '..'))\n",
        "import numpy as np\n",
        "from dezero import Variable\n",
        "import dezero.functions as F\n",
        "\n",
        "x = Variable(np.array([1, 2, 3, 4, 5, 6]))\n",
        "y = F.sum(x)\n",
        "y.backward()\n",
        "print(y)\n",
        "print(x.grad)\n",
        "\n",
        "x = Variable(np.array([[1, 2, 3], [4, 5, 6]]))\n",
        "y = F.sum(x)\n",
        "y.backward()\n",
        "print(y)\n",
        "print(x.grad)\n",
        "\n",
        "x = Variable(np.array([[1, 2, 3], [4, 5, 6]]))\n",
        "y = F.sum(x, axis=0)\n",
        "y.backward()\n",
        "print(y)\n",
        "print(x.grad)\n",
        "\n",
        "x = Variable(np.random.randn(2, 3, 4, 5))\n",
        "y = x.sum(keepdims=True)\n",
        "print(y.shape)"
      ],
      "outputs": [],
      "execution_count": null
    }
  ],
  "metadata": {
    "anaconda-cloud": {},
    "kernelspec": {
      "display_name": "Python 3",
      "language": "python",
      "name": "python3"
    },
    "language_info": {
      "codemirror_mode": {
        "name": "ipython",
        "version": 3
      },
      "file_extension": ".py",
      "mimetype": "text/x-python",
      "name": "python",
      "nbconvert_exporter": "python",
      "pygments_lexer": "ipython3",
      "version": "3.6.1"
    }
  },
  "nbformat": 4,
  "nbformat_minor": 4
}