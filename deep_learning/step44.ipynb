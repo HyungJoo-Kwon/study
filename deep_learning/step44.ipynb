{
  "cells": [
    {
      "cell_type": "code",
      "metadata": {},
      "source": [
        "if '__file__' in globals():\n",
        "    import os, sys\n",
        "    sys.path.append(os.path.join(os.path.dirname(__file__), '..'))\n",
        "import numpy as np\n",
        "import dezero.functions as F\n",
        "import dezero.layers as L\n",
        "\n",
        "\n",
        "np.random.seed(0)\n",
        "x = np.random.rand(100, 1)\n",
        "y = np.sin(2 * np.pi * x) + np.random.rand(100, 1)\n",
        "\n",
        "l1 = L.Linear(10)\n",
        "l2 = L.Linear(1)\n",
        "\n",
        "\n",
        "def predict(x):\n",
        "    y = l1(x)\n",
        "    y = F.sigmoid(y)\n",
        "    y = l2(y)\n",
        "    return y\n",
        "\n",
        "\n",
        "lr = 0.2\n",
        "iters = 10000\n",
        "\n",
        "for i in range(iters):\n",
        "    y_pred = predict(x)\n",
        "    loss = F.mean_squared_error(y, y_pred)\n",
        "\n",
        "    l1.cleargrads()\n",
        "    l2.cleargrads()\n",
        "    loss.backward()\n",
        "\n",
        "    for l in [l1, l2]:\n",
        "        for p in l.params():\n",
        "            p.data -= lr * p.grad.data\n",
        "    if i % 1000 == 0:\n",
        "        print(loss)"
      ],
      "outputs": [],
      "execution_count": null
    }
  ],
  "metadata": {
    "anaconda-cloud": {},
    "kernelspec": {
      "display_name": "Python 3",
      "language": "python",
      "name": "python3"
    },
    "language_info": {
      "codemirror_mode": {
        "name": "ipython",
        "version": 3
      },
      "file_extension": ".py",
      "mimetype": "text/x-python",
      "name": "python",
      "nbconvert_exporter": "python",
      "pygments_lexer": "ipython3",
      "version": "3.6.1"
    }
  },
  "nbformat": 4,
  "nbformat_minor": 4
}