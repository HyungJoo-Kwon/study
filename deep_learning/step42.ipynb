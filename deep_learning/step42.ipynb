{
  "cells": [
    {
      "cell_type": "code",
      "metadata": {},
      "source": [
        "if '__file__' in globals():\n",
        "    import os, sys\n",
        "    sys.path.append(os.path.join(os.path.dirname(__file__), '..'))\n",
        "import numpy as np\n",
        "import matplotlib.pyplot as plt\n",
        "from dezero import Variable\n",
        "import dezero.functions as F\n",
        "\n",
        "# Generate toy dataset\n",
        "np.random.seed(0)\n",
        "x = np.random.rand(100, 1)\n",
        "y = 5 + 2 * x + np.random.rand(100, 1)\n",
        "x, y = Variable(x), Variable(y)\n",
        "\n",
        "W = Variable(np.zeros((1, 1)))\n",
        "b = Variable(np.zeros(1))\n",
        "\n",
        "\n",
        "def predict(x):\n",
        "    y = F.matmul(x, W) + b\n",
        "    return y\n",
        "\n",
        "\n",
        "def mean_squared_error(x0, x1):\n",
        "    diff = x0 - x1\n",
        "    return F.sum(diff ** 2) / len(diff)\n",
        "\n",
        "\n",
        "lr = 0.1\n",
        "iters = 100\n",
        "\n",
        "for i in range(iters):\n",
        "    y_pred = predict(x)\n",
        "    loss = mean_squared_error(y, y_pred)\n",
        "\n",
        "    W.cleargrad()\n",
        "    b.cleargrad()\n",
        "    loss.backward()\n",
        "\n",
        "    # Update .data attribute (No need grads when updating params)\n",
        "    W.data -= lr * W.grad.data\n",
        "    b.data -= lr * b.grad.data\n",
        "    print(W, b, loss)\n",
        "\n",
        "\n",
        "# Plot\n",
        "plt.scatter(x.data, y.data, s=10)\n",
        "plt.xlabel('x')\n",
        "plt.ylabel('y')\n",
        "y_pred = predict(x)\n",
        "plt.plot(x.data, y_pred.data, color='r')\n",
        "plt.show()"
      ],
      "outputs": [],
      "execution_count": null
    }
  ],
  "metadata": {
    "anaconda-cloud": {},
    "kernelspec": {
      "display_name": "Python 3",
      "language": "python",
      "name": "python3"
    },
    "language_info": {
      "codemirror_mode": {
        "name": "ipython",
        "version": 3
      },
      "file_extension": ".py",
      "mimetype": "text/x-python",
      "name": "python",
      "nbconvert_exporter": "python",
      "pygments_lexer": "ipython3",
      "version": "3.6.1"
    }
  },
  "nbformat": 4,
  "nbformat_minor": 4
}