{
  "cells": [
    {
      "cell_type": "code",
      "metadata": {},
      "source": [
        "if '__file__' in globals():\n",
        "    import os, sys\n",
        "    sys.path.append(os.path.join(os.path.dirname(__file__), '..'))\n",
        "import numpy as np\n",
        "np.random.seed(0)\n",
        "from dezero import Variable, as_variable\n",
        "import dezero.functions as F\n",
        "from dezero.models import MLP\n",
        "\n",
        "\n",
        "def softmax1d(x):\n",
        "    x = as_variable(x)\n",
        "    y = F.exp(x)\n",
        "    sum_y = F.sum(y)\n",
        "    return y / sum_y\n",
        "\n",
        "\n",
        "model = MLP((10, 3))\n",
        "\n",
        "x = Variable(np.array([[0.2, -0.4]]))\n",
        "y = model(x)\n",
        "p = softmax1d(y)\n",
        "print(y)\n",
        "print(p)\n",
        "\n",
        "x = np.array([[0.2, -0.4], [0.3, 0.5], [1.3, -3.2], [2.1, 0.3]])\n",
        "t = np.array([2, 0, 1, 0])\n",
        "\n",
        "y = model(x)\n",
        "p = F.softmax_simple(y)\n",
        "print(y)\n",
        "print(p)\n",
        "\n",
        "loss = F.softmax_cross_entropy_simple(y, t)\n",
        "loss.backward()\n",
        "print(loss)"
      ],
      "outputs": [],
      "execution_count": null
    }
  ],
  "metadata": {
    "anaconda-cloud": {},
    "kernelspec": {
      "display_name": "Python 3",
      "language": "python",
      "name": "python3"
    },
    "language_info": {
      "codemirror_mode": {
        "name": "ipython",
        "version": 3
      },
      "file_extension": ".py",
      "mimetype": "text/x-python",
      "name": "python",
      "nbconvert_exporter": "python",
      "pygments_lexer": "ipython3",
      "version": "3.6.1"
    }
  },
  "nbformat": 4,
  "nbformat_minor": 4
}