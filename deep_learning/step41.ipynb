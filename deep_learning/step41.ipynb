{
  "cells": [
    {
      "cell_type": "code",
      "metadata": {},
      "source": [
        "if '__file__' in globals():\n",
        "    import os, sys\n",
        "    sys.path.append(os.path.join(os.path.dirname(__file__), '..'))\n",
        "import numpy as np\n",
        "from dezero import Variable\n",
        "import dezero.functions as F\n",
        "\n",
        "x = Variable(np.random.randn(2, 3))\n",
        "w = Variable(np.random.randn(3, 4))\n",
        "y = F.matmul(x, w)\n",
        "y.backward()\n",
        "\n",
        "print(x.grad.shape)\n",
        "print(w.grad.shape)"
      ],
      "outputs": [],
      "execution_count": null
    }
  ],
  "metadata": {
    "anaconda-cloud": {},
    "kernelspec": {
      "display_name": "Python 3",
      "language": "python",
      "name": "python3"
    },
    "language_info": {
      "codemirror_mode": {
        "name": "ipython",
        "version": 3
      },
      "file_extension": ".py",
      "mimetype": "text/x-python",
      "name": "python",
      "nbconvert_exporter": "python",
      "pygments_lexer": "ipython3",
      "version": "3.6.1"
    }
  },
  "nbformat": 4,
  "nbformat_minor": 4
}