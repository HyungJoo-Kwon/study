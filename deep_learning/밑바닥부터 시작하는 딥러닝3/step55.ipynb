{
  "cells": [
    {
      "cell_type": "code",
      "metadata": {},
      "source": [
        "# CNN 메커니즘 1"
      ],
      "outputs": [],
      "execution_count": 1
    },
    {
      "source": [
        "CNN (Convolutional Nerual Network) 합성곱 신경망의 약자로 이미지 인식, 음성 인식, 자연어 처리 등 다양한 분야에서 사용됨. 이미지 인식용 딥러닝은 대부분 CNN 기반.    \n",
        "![그림 55-1](./img/55-1.png)    \n",
        "Conv -> ReLU -> (Pool) 순서로 연결됨/ Pool 계층은 생략가능  \n",
        "출력이 가까워지면 Linear -> ReLU 조합이 사용"
      ],
      "cell_type": "markdown",
      "metadata": {}
    },
    {
      "source": [
        "![그림 55-2](./img/55-2.png)        \n",
        " 필터를 문헌에 따라 커널이라고도 사용함     \n",
        "![그림 55-3](./img/55-3.png)    \n",
        "필터가 가로 세로 두 방향으로 이동한다. 이처럼 필터가 두 개의 차원으로 움직여 2차원 합성곱층이라고 함, 세 방향으로 움직이면 3차원 합성곱층.  \n",
        "![그림 55-4](./img/55-4.png)"
      ],
      "cell_type": "markdown",
      "metadata": {}
    },
    {
      "source": [
        "패딩    \n",
        "합성곱층의 주요 처리 전에 입력 데이터 주위에 고정값을 채울 수 있으며 이러한 처리를 패딩.    \n",
        "아래 그림은 (4,4) 입력 데이터에 폭 1짜리 패딩을 적용한 모습     \n",
        "(세로 방향 패딩과 가로 방향 패딩을 다르게 설정 가능)     \n",
        "![그림 55-5](./img/55-5.png)    \n",
        "(6, 6) * (3, 3) -> (4, 4)    \n",
        "패딩을 사용하는 주된 이유는 출력 크기를 조정하기 위함."
      ],
      "cell_type": "markdown",
      "metadata": {}
    },
    {
      "source": [
        "스트라이드  \n",
        "필터를 작용하는 위치의 간격을 스트라이드(보폭).\n",
        "(세로 방향과 가로 방향 스트라이드 값을 다르게 설정 가능)\n",
        "![그림 55-6](./img/55-6.png)"
      ],
      "cell_type": "markdown",
      "metadata": {}
    },
    {
      "cell_type": "code",
      "execution_count": 4,
      "metadata": {},
      "outputs": [
        {
          "output_type": "stream",
          "name": "stdout",
          "text": [
            "4 4\n"
          ]
        }
      ],
      "source": [
        "# 출력 크기 계산 방법\n",
        "# 패딩 크기를 늘리면 출력 데이터의 크기가 커지고, 스트라이드를 크게하면 출력 데이터의 크기가 작아진다.\n",
        "def get_conv_outsize(input_size, kernel_size, stride, pad):\n",
        "    return (input_size + pad * 2 - kernel_size) // stride + 1\n",
        "\n",
        "H, W = 4, 4  # Input size\n",
        "KH, KW = 3, 3  # Kernel size\n",
        "SH, SW = 1, 1  # Kernel stride\n",
        "PH, PW = 1, 1  # Padding size\n",
        "\n",
        "OH = get_conv_outsize(H, KH, SH, PH)\n",
        "OW = get_conv_outsize(W, KW, SW, PW)\n",
        "print(OH, OW)"
      ]
    },
    {
      "cell_type": "code",
      "execution_count": null,
      "metadata": {},
      "outputs": [],
      "source": []
    }
  ],
  "metadata": {
    "anaconda-cloud": {},
    "kernelspec": {
      "display_name": "Python 3",
      "language": "python",
      "name": "python3"
    },
    "language_info": {
      "codemirror_mode": {
        "name": "ipython",
        "version": 3
      },
      "file_extension": ".py",
      "mimetype": "text/x-python",
      "name": "python",
      "nbconvert_exporter": "python",
      "pygments_lexer": "ipython3",
      "version": "3.8.5-final"
    }
  },
  "nbformat": 4,
  "nbformat_minor": 4
}