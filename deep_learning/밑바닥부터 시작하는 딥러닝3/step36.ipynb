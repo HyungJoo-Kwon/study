{
 "cells": [
  {
   "cell_type": "markdown",
   "metadata": {},
   "source": [
    "# 고차 미분 이외의 용도     \n",
    "두 식이 주어졌을 때 x = 2.0에서 x에 대한 z의 미분을 구하자.     \n",
    "![식 36.1](./img/36.1.png)  \n",
    "y미분 : 2x  \n",
    "![식 36.2](./img/36.2.png)  \n",
    "z = (2x)^3 + y = 8x^3 + x^2     \n",
    "z미분 : 24x^2 + 2x"
   ]
  },
  {
   "cell_type": "code",
   "execution_count": 2,
   "metadata": {},
   "outputs": [
    {
     "name": "stdout",
     "output_type": "stream",
     "text": [
      "variable(100.0)\n"
     ]
    }
   ],
   "source": [
    "if '__file__' in globals():\n",
    "    import os, sys\n",
    "    sys.path.append(os.path.join(os.path.dirname(__file__), '..'))\n",
    "\n",
    "import numpy as np\n",
    "from dezero import Variable\n",
    "\n",
    "x = Variable(np.array(2.0))\n",
    "y = x ** 2\n",
    "y.backward(create_graph=True)\n",
    "gx = x.grad\n",
    "x.cleargrad()\n",
    "\n",
    "z = gx ** 3 + y\n",
    "z.backward()\n",
    "print(x.grad)"
   ]
  },
  {
   "cell_type": "code",
   "execution_count": null,
   "metadata": {},
   "outputs": [],
   "source": []
  }
 ],
 "metadata": {
  "anaconda-cloud": {},
  "kernelspec": {
   "display_name": "Python 3",
   "language": "python",
   "name": "python3"
  },
  "language_info": {
   "codemirror_mode": {
    "name": "ipython",
    "version": 3
   },
   "file_extension": ".py",
   "mimetype": "text/x-python",
   "name": "python",
   "nbconvert_exporter": "python",
   "pygments_lexer": "ipython3",
   "version": "3.8.3"
  }
 },
 "nbformat": 4,
 "nbformat_minor": 4
}
