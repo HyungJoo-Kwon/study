{
  "cells": [
    {
      "cell_type": "code",
      "metadata": {},
      "source": [
        "if '__file__' in globals():\n",
        "    import os, sys\n",
        "    sys.path.append(os.path.join(os.path.dirname(__file__), '..'))\n",
        "import numpy as np\n",
        "from dezero import Variable\n",
        "import dezero.functions as F\n",
        "\n",
        "\n",
        "# im2col\n",
        "x1 = np.random.rand(1, 3, 7, 7)\n",
        "col1 = F.im2col(x1, kernel_size=5, stride=1, pad=0, to_matrix=True)\n",
        "print(col1.shape)  # (9, 75)\n",
        "\n",
        "x2 = np.random.rand(10, 3, 7, 7)  # 10\u500b\u306e\u30c7\u30fc\u30bf\n",
        "kernel_size = (5, 5)\n",
        "stride = (1, 1)\n",
        "pad = (0, 0)\n",
        "col2 = F.im2col(x2, kernel_size, stride, pad, to_matrix=True)\n",
        "print(col2.shape)  # (90, 75)\n",
        "\n",
        "\n",
        "# conv2d\n",
        "N, C, H, W = 1, 5, 15, 15\n",
        "OC, (KH, KW) = 8, (3, 3)\n",
        "x = Variable(np.random.randn(N, C, H, W))\n",
        "W = np.random.randn(OC, C, KH, KW)\n",
        "y = F.conv2d_simple(x, W, b=None, stride=1, pad=1)\n",
        "y.backward()\n",
        "print(y.shape)  # (1, 8, 15, 15)\n",
        "print(x.grad.shape)  # (1, 5, 15, 15)\n"
      ],
      "outputs": [],
      "execution_count": null
    }
  ],
  "metadata": {
    "anaconda-cloud": {},
    "kernelspec": {
      "display_name": "Python 3",
      "language": "python",
      "name": "python3"
    },
    "language_info": {
      "codemirror_mode": {
        "name": "ipython",
        "version": 3
      },
      "file_extension": ".py",
      "mimetype": "text/x-python",
      "name": "python",
      "nbconvert_exporter": "python",
      "pygments_lexer": "ipython3",
      "version": "3.6.1"
    }
  },
  "nbformat": 4,
  "nbformat_minor": 4
}