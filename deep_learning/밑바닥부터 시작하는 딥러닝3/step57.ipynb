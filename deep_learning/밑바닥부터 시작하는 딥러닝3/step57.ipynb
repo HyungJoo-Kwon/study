{
  "cells": [
    {
      "cell_type": "code",
      "metadata": {},
      "source": [
        "# conv2d 함수와 pooling 함수\n",
        "if '__file__' in globals():\n",
        "    import os, sys\n",
        "    sys.path.append(os.path.join(os.path.dirname(__file__), '..'))\n",
        "\n",
        "import numpy as np\n",
        "from dezero import Variable\n",
        "import dezero.functions as F"
      ],
      "outputs": [],
      "execution_count": 1
    },
    {
      "source": [
        "im2col에 의한 전개      \n",
        "im2col은 입력 데이터를 펼쳐줌.  \n",
        "![그림 57-1](./img/57-1.png)    \n",
        " * 텐서 곱은 단순히 행렬 곱의 확장으로, 축을 지정하여 두 텐서를 곱셈한 후 누적하는 계산.   \n",
        " * 이를 곱셈 누적 연산이라 하며 넘파이에서는 np.tensordot과 np.einsum을 사용해 텐서 곱을 계산 가능      \n",
        " \n",
        "![그림 57-2](./img/57-2.png)"
      ],
      "cell_type": "markdown",
      "metadata": {}
    },
    {
      "source": [
        "conv2d 함수 구현    \n",
        "im2col(x, kernel_size, stride=1, pad=0, to_matrix=True)     \n",
        "![표 57-1](./img/p57-1.png)"
      ],
      "cell_type": "markdown",
      "metadata": {}
    },
    {
      "cell_type": "code",
      "execution_count": 5,
      "metadata": {},
      "outputs": [
        {
          "output_type": "stream",
          "name": "stdout",
          "text": [
            "(9, 75)\n(90, 75)\n(1, 1)\n(1, 2)\n"
          ]
        }
      ],
      "source": [
        "import numpy as np\n",
        "from dezero import Variable\n",
        "import dezero.functions as F\n",
        "\n",
        "\n",
        "# im2col\n",
        "x1 = np.random.rand(1, 3, 7, 7)     # 배치 크기 = 1\n",
        "col1 = F.im2col(x1, kernel_size=5, stride=1, pad=0, to_matrix=True)\n",
        "print(col1.shape)  # (9, 75)    75 = channel(3) * kenel_size (5 x 5)의 원ㅗ수\n",
        "\n",
        "x2 = np.random.rand(10, 3, 7, 7)  # 배치 크기 = 10\n",
        "kernel_size = (5, 5)\n",
        "stride = (1, 1)\n",
        "pad = (0, 0)\n",
        "col2 = F.im2col(x2, kernel_size, stride, pad, to_matrix=True)\n",
        "print(col2.shape)  # (90, 75)\n",
        "\n",
        "def pair(x):                # 인수 x 가 int라면 (x,x) 튜플 형태 반환, 원소 2개짜리 튜플이면 그대로 돌려줌\n",
        "    if isinstance(x, int):\n",
        "        return (x, x)\n",
        "    elif isinstance(x, tuple):\n",
        "        assert len(x) == 2\n",
        "        return x\n",
        "    else:\n",
        "        raise ValueError\n",
        "\n",
        "print(pair(1))\n",
        "print(pair((1,2)))"
      ]
    },
    {
      "cell_type": "code",
      "execution_count": 6,
      "metadata": {},
      "outputs": [
        {
          "output_type": "stream",
          "name": "stdout",
          "text": [
            "(1, 8, 15, 15)\n(1, 5, 15, 15)\n"
          ]
        }
      ],
      "source": [
        "def conv2d_simple(x, W, b=None, stride=1, pad=0):\n",
        "    x, W = as_variable(x), as_variable(W)\n",
        "\n",
        "    Weight = W\n",
        "    N, C, H, W = x.shape\n",
        "    OC, C, KH, KW = Weight.shape\n",
        "    SH, SW = pair(stride)\n",
        "    PH, PW = pair(pad)\n",
        "    OH = get_conv_outsize(H, KH, SH, PH)\n",
        "    OW = get_conv_outsize(W, KW, SW, PW)\n",
        "\n",
        "    col = im2col(x, (KH, KW), stride, pad, to_matrix=True)      # 입력데이터를 im2col로 전개\n",
        "    Weight = Weight.reshape(OC, -1).transpose()         # weight를 재정렬. \n",
        "    # reshape()의 마지막 인수를 -1로 주면 그앞의 인수들로 정의한 다차원 배열에 전체 원소들을 적절히 분배\n",
        "    # ex (10, 3, 5, 5) 의 원소가 총 750개인데, reshape(10, -1)을 수행하면 (10, 75)로 변환 \n",
        "    t = linear(col, Weight, b)              # 행렬 곱 계산\n",
        "    y = t.reshape(N, OH, OW, OC).transpose(0, 3, 1, 2)  # 아래 그림 참고\n",
        "    return y\n",
        "\n",
        "\n",
        "# conv2d\n",
        "N, C, H, W = 1, 5, 15, 15\n",
        "OC, (KH, KW) = 8, (3, 3)\n",
        "x = Variable(np.random.randn(N, C, H, W))\n",
        "W = np.random.randn(OC, C, KH, KW)\n",
        "y = F.conv2d_simple(x, W, b=None, stride=1, pad=1)\n",
        "y.backward()\n",
        "print(y.shape)  # (1, 8, 15, 15)\n",
        "print(x.grad.shape)  # (1, 5, 15, 15)"
      ]
    },
    {
      "source": [
        "![그림 57-3](./img/57-3.png)"
      ],
      "cell_type": "markdown",
      "metadata": {}
    },
    {
      "cell_type": "code",
      "execution_count": null,
      "metadata": {},
      "outputs": [],
      "source": [
        "# Conv2d 계층 구현 dezero/layers.py\n",
        "class Conv2d(Layer):\n",
        "    def __init__(self, out_channels, kernel_size, stride=1,\n",
        "                 pad=0, nobias=False, dtype=np.float32, in_channels=None):\n",
        "        \"\"\"Two-dimensional convolutional layer.\n",
        "\n",
        "        Args:\n",
        "            out_channels (int): Number of channels of output arrays.\n",
        "            kernel_size (int or (int, int)): Size of filters.\n",
        "            stride (int or (int, int)): Stride of filter applications.\n",
        "            pad (int or (int, int)): Spatial padding width for input arrays.\n",
        "            nobias (bool): If `True`, then this function does not use the bias.\n",
        "            in_channels (int or None): Number of channels of input arrays. If\n",
        "            `None`, parameter initialization will be deferred until the first\n",
        "            forward data pass at which time the size will be determined.\n",
        "        \"\"\"\n",
        "        super().__init__()\n",
        "        self.in_channels = in_channels\n",
        "        self.out_channels = out_channels\n",
        "        self.kernel_size = kernel_size\n",
        "        self.stride = stride\n",
        "        self.pad = pad\n",
        "        self.dtype = dtype\n",
        "\n",
        "        self.W = Parameter(None, name='W')\n",
        "        if in_channels is not None:\n",
        "            self._init_W()\n",
        "\n",
        "        if nobias:\n",
        "            self.b = None\n",
        "        else:\n",
        "            self.b = Parameter(np.zeros(out_channels, dtype=dtype), name='b')\n",
        "\n",
        "    def _init_W(self, xp=np):\n",
        "        C, OC = self.in_channels, self.out_channels\n",
        "        KH, KW = pair(self.kernel_size)\n",
        "        scale = np.sqrt(1 / (C * KH * KW))\n",
        "        W_data = xp.random.randn(OC, C, KH, KW).astype(self.dtype) * scale\n",
        "        self.W.data = W_data\n",
        "\n",
        "    def forward(self, x):\n",
        "        if self.W.data is None:\n",
        "            self.in_channels = x.shape[1]\n",
        "            xp = cuda.get_array_module(x)\n",
        "            self._init_W(xp)\n",
        "\n",
        "        y = F.conv2d(x, self.W, self.b, self.stride, self.pad)\n",
        "        return y\n"
      ]
    },
    {
      "source": [
        "![표 57-2](./img/p57-2.png)"
      ],
      "cell_type": "markdown",
      "metadata": {}
    },
    {
      "source": [
        "pooling 함수 구현       \n",
        "풀링 적용 영역은 채널마다 독립적으로.   \n",
        "![그림 57-4](./img/57-4.png)    \n",
        "![그림 57-5](./img/57-5.png)"
      ],
      "cell_type": "markdown",
      "metadata": {}
    },
    {
      "cell_type": "code",
      "execution_count": null,
      "metadata": {},
      "outputs": [],
      "source": [
        "def pooling_simple(x, kernel_size, stride=1, pad=0):\n",
        "    x = as_variable(x)\n",
        "\n",
        "    N, C, H, W = x.shape\n",
        "    KH, KW = pair(kernel_size)\n",
        "    PH, PW = pair(pad)\n",
        "    SH, SW = pair(stride)\n",
        "    OH = get_conv_outsize(H, KH, SH, PH)\n",
        "    OW = get_conv_outsize(W, KW, SW, PW)\n",
        "\n",
        "    col = im2col(x, kernel_size, stride, pad, to_matrix=True)   # 데이터 전개\n",
        "    col = col.reshape(-1, KH * KW)              \n",
        "    y = col.max(axis=1)                                         # 각 행의 최댓값을 찾는다.\n",
        "    y = y.reshape(N, OH, OW, C).transpose(0, 3, 1, 2)          # 형상 변환\n",
        "    return y"
      ]
    }
  ],
  "metadata": {
    "anaconda-cloud": {},
    "kernelspec": {
      "display_name": "Python 3",
      "language": "python",
      "name": "python3"
    },
    "language_info": {
      "codemirror_mode": {
        "name": "ipython",
        "version": 3
      },
      "file_extension": ".py",
      "mimetype": "text/x-python",
      "name": "python",
      "nbconvert_exporter": "python",
      "pygments_lexer": "ipython3",
      "version": "3.8.5-final"
    }
  },
  "nbformat": 4,
  "nbformat_minor": 4
}