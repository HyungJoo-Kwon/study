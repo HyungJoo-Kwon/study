{
 "cells": [
  {
   "cell_type": "markdown",
   "metadata": {},
   "source": [
    "# 역전파 이론\n",
    "\n",
    "![그림 5-1](https://user-images.githubusercontent.com/73815944/109748032-8018c400-7c1b-11eb-9c27-c1d58730f90e.png)\n",
    "\n",
    "연쇄 법칙에 의해 합성 함수의 미분은 구성 함수 각각을 미분한 후 곱한 것\n",
    "\n",
    "![그림 5-2](https://user-images.githubusercontent.com/73815944/109748033-8018c400-7c1b-11eb-9036-3a970c7ce488.png)\n",
    "![그림 5-3](https://user-images.githubusercontent.com/73815944/109748035-80b15a80-7c1b-11eb-93ce-88219814ff12.png)\n",
    "![그림 5-4](https://user-images.githubusercontent.com/73815944/109748025-7ee79700-7c1b-11eb-95b7-5a735633ba96.png)\n",
    "![그림 5-5](https://user-images.githubusercontent.com/73815944/109748030-7f802d80-7c1b-11eb-97bd-6e7ce30df6cb.png)"
   ]
  },
  {
   "cell_type": "code",
   "execution_count": null,
   "metadata": {},
   "outputs": [],
   "source": []
  }
 ],
 "metadata": {
  "anaconda-cloud": {},
  "kernelspec": {
   "display_name": "Python 3",
   "language": "python",
   "name": "python3"
  },
  "language_info": {
   "codemirror_mode": {
    "name": "ipython",
    "version": 3
   },
   "file_extension": ".py",
   "mimetype": "text/x-python",
   "name": "python",
   "nbconvert_exporter": "python",
   "pygments_lexer": "ipython3",
   "version": "3.8.3"
  }
 },
 "nbformat": 4,
 "nbformat_minor": 4
}
