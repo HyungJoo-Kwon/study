{
  "cells": [
    {
      "cell_type": "code",
      "metadata": {},
      "source": [
        "if '__file__' in globals():\n",
        "    import os, sys\n",
        "    sys.path.append(os.path.join(os.path.dirname(__file__), '..'))\n",
        "import numpy as np\n",
        "from dezero import Model\n",
        "import dezero.layers as L\n",
        "import dezero.functions as F\n",
        "\n",
        "\n",
        "np.random.seed(0)\n",
        "x = np.random.rand(100, 1)\n",
        "y = np.sin(2 * np.pi * x) + np.random.rand(100, 1)\n",
        "\n",
        "# Hyperparameters\n",
        "lr = 0.2\n",
        "max_iter = 10000\n",
        "hidden_size = 10\n",
        "\n",
        "# Model definition\n",
        "class TwoLayerNet(Model):\n",
        "    def __init__(self, hidden_size, out_size):\n",
        "        super().__init__()\n",
        "        self.l1 = L.Linear(hidden_size)\n",
        "        self.l2 = L.Linear(out_size)\n",
        "\n",
        "    def forward(self, x):\n",
        "        y = F.sigmoid(self.l1(x))\n",
        "        y = self.l2(y)\n",
        "        return y\n",
        "\n",
        "\n",
        "model = TwoLayerNet(hidden_size, 1)\n",
        "\n",
        "for i in range(max_iter):\n",
        "    y_pred = model(x)\n",
        "    loss = F.mean_squared_error(y, y_pred)\n",
        "\n",
        "    model.cleargrads()\n",
        "    loss.backward()\n",
        "\n",
        "    for p in model.params():\n",
        "        p.data -= lr * p.grad.data\n",
        "    if i % 1000 == 0:\n",
        "        print(loss)"
      ],
      "outputs": [],
      "execution_count": null
    }
  ],
  "metadata": {
    "anaconda-cloud": {},
    "kernelspec": {
      "display_name": "Python 3",
      "language": "python",
      "name": "python3"
    },
    "language_info": {
      "codemirror_mode": {
        "name": "ipython",
        "version": 3
      },
      "file_extension": ".py",
      "mimetype": "text/x-python",
      "name": "python",
      "nbconvert_exporter": "python",
      "pygments_lexer": "ipython3",
      "version": "3.6.1"
    }
  },
  "nbformat": 4,
  "nbformat_minor": 4
}