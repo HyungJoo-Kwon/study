{
  "cells": [
    {
      "cell_type": "code",
      "metadata": {},
      "source": [
        "if '__file__' in globals():\n",
        "    import os, sys\n",
        "    sys.path.append(os.path.join(os.path.dirname(__file__), '..'))\n",
        "import dezero\n",
        "import dezero.functions as F\n",
        "from dezero import optimizers\n",
        "from dezero import DataLoader\n",
        "from dezero.models import MLP\n",
        "\n",
        "\n",
        "max_epoch = 300\n",
        "batch_size = 30\n",
        "hidden_size = 10\n",
        "lr = 1.0\n",
        "\n",
        "train_set = dezero.datasets.Spiral(train=True)\n",
        "test_set = dezero.datasets.Spiral(train=False)\n",
        "train_loader = DataLoader(train_set, batch_size)\n",
        "test_loader = DataLoader(test_set, batch_size, shuffle=False)\n",
        "\n",
        "model = MLP((hidden_size, 3))\n",
        "optimizer = optimizers.SGD(lr).setup(model)\n",
        "\n",
        "for epoch in range(max_epoch):\n",
        "    sum_loss, sum_acc = 0, 0\n",
        "\n",
        "    for x, t in train_loader:\n",
        "        y = model(x)\n",
        "        loss = F.softmax_cross_entropy(y, t)\n",
        "        acc = F.accuracy(y, t)\n",
        "        model.cleargrads()\n",
        "        loss.backward()\n",
        "        optimizer.update()\n",
        "\n",
        "        sum_loss += float(loss.data) * len(t)\n",
        "        sum_acc += float(acc.data) * len(t)\n",
        "\n",
        "    print('epoch: {}'.format(epoch+1))\n",
        "    print('train loss: {:.4f}, accuracy: {:.4f}'.format(\n",
        "        sum_loss / len(train_set), sum_acc / len(train_set)))\n",
        "\n",
        "    sum_loss, sum_acc = 0, 0\n",
        "    with dezero.no_grad():\n",
        "        for x, t in test_loader:\n",
        "            y = model(x)\n",
        "            loss = F.softmax_cross_entropy(y, t)\n",
        "            acc = F.accuracy(y, t)\n",
        "            sum_loss += float(loss.data) * len(t)\n",
        "            sum_acc += float(acc.data) * len(t)\n",
        "\n",
        "    print('test loss: {:.4f}, accuracy: {:.4f}'.format(\n",
        "        sum_loss / len(test_set), sum_acc / len(test_set)))\n"
      ],
      "outputs": [],
      "execution_count": null
    }
  ],
  "metadata": {
    "anaconda-cloud": {},
    "kernelspec": {
      "display_name": "Python 3",
      "language": "python",
      "name": "python3"
    },
    "language_info": {
      "codemirror_mode": {
        "name": "ipython",
        "version": 3
      },
      "file_extension": ".py",
      "mimetype": "text/x-python",
      "name": "python",
      "nbconvert_exporter": "python",
      "pygments_lexer": "ipython3",
      "version": "3.6.1"
    }
  },
  "nbformat": 4,
  "nbformat_minor": 4
}