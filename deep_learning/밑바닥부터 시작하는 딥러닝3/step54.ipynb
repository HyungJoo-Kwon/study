{
  "cells": [
    {
      "cell_type": "code",
      "metadata": {},
      "source": [
        "# 드롭아웃과 테스트 모드\n",
        "if '__file__' in globals():\n",
        "    import os, sys\n",
        "    sys.path.append(os.path.join(os.path.dirname(__file__), '..'))\n",
        "\n",
        "import numpy as np\n",
        "from dezero import test_mode\n",
        "import dezero.functions as F\n",
        "\n",
        "# 과대적합이 일어나는 주요 원인 \n",
        "#   - 훈련 데이터가 적음 : 해결책 (데이터 확장) \n",
        "#   - 모델의 표현력이 지나치게 높음 : (가중치 감소, 드롭아웃, 배치 정규화)"
      ],
      "outputs": [],
      "execution_count": 4
    },
    {
      "source": [
        "드롭아웃 : 뉴런을 임의로 삭제(비활성화)하면서 학습하는 방법. 학습 시에는 뉴런을 무작위로 골라 삭제      \n",
        "![그림 54-1](./img/54-1.png)"
      ],
      "cell_type": "markdown",
      "metadata": {}
    },
    {
      "cell_type": "code",
      "execution_count": 16,
      "metadata": {},
      "outputs": [
        {
          "output_type": "stream",
          "name": "stdout",
          "text": [
            "[1. 0. 1. 1. 1. 0. 0. 0. 1. 0.]\n[1. 0. 0. 0. 0. 1. 0. 0. 0. 1.]\n[1. 0. 1. 1. 0. 1. 0. 1. 0. 0.]\n[1. 0. 0. 0. 0. 0. 0. 1. 0. 0.]\n[0. 1. 0. 0. 1. 0. 0. 1. 1. 0.]\n[1. 0. 1. 0. 0. 0. 1. 0. 1. 0.]\n[1. 0. 0. 0. 0. 1. 0. 0. 0. 0.]\n[1. 1. 0. 0. 0. 0. 0. 1. 1. 0.]\n[1. 1. 0. 0. 0. 1. 0. 0. 0. 0.]\n[0. 0. 0. 0. 1. 0. 0. 0. 1. 1.]\ntrain : [0. 0. 1. 0. 0. 1. 0. 1. 0. 1.]\ntest : [0.4 0.4 0.4 0.4 0.4 0.4 0.4 0.4 0.4 0.4]\n"
          ]
        }
      ],
      "source": [
        "# 드롭아웃 == 다이렉트 드롭아웃\n",
        "import numpy as np \n",
        "\n",
        "dropout_ratio = 0.6\n",
        "x = np.ones(10)\n",
        "\n",
        "for _ in range(10):\n",
        "    mask = np.random.rand(10) > dropout_ratio           # 생성한 mask는 False의 비율이 평균적으로 60%가 될 것.\n",
        "    y = x * mask                                    \n",
        "    print(y)\n",
        "\n",
        "# 학습 시 \n",
        "mask = np.random.rand(*x.shape) > dropout_ratio\n",
        "y = x * mask\n",
        "print(f'train : {y}')\n",
        "\n",
        "# 테스트 시\n",
        "scale = 1 - dropout_ratio       # 학습 시에 살아남은 뉴런의 비율\n",
        "y = x * scale\n",
        "print(f'test : {y}')\n",
        "\n",
        "# 학습할때 평균 40%의 뉴런이 생존했기 때문에 테스트할 때는 모든 뉴런을 사용해 계산한 출력에 0.4를 곱함. 이렇게 학습, 테스트 시의 비율을 일치시킨다."
      ]
    },
    {
      "cell_type": "code",
      "execution_count": 19,
      "metadata": {},
      "outputs": [
        {
          "output_type": "stream",
          "name": "stdout",
          "text": [
            "train : [2.5 0.  2.5 0.  2.5 0.  0.  0.  0.  2.5]\ntest : [1. 1. 1. 1. 1. 1. 1. 1. 1. 1.]\n"
          ]
        }
      ],
      "source": [
        "# 역 드롭아웃 : 스케일 맞추기를 '학습할 때' 수행.\n",
        "# 학습할 때 미리 뉴런의 값에 1/scale을 곱해두고, 테스트 때는 아무런 동작도 하지 않음.\n",
        "\n",
        "# 학습 시 \n",
        "scale = 1 - dropout_ratio\n",
        "mask = np.random.rand(*x.shape) > dropout_ratio      \n",
        "y = x * mask / scale\n",
        "print(f'train : {y}')\n",
        "\n",
        "# 테스트 시\n",
        "y = x\n",
        "print(f'test : {y}')\n",
        "\n",
        "# 테스트 시 아무런 처리도 하지 않기 때문에 테스트 속도가 살짝 향상되고 추론 처리만을 이용하는 경우에 바랍직하다.\n",
        "# 또한 역 드롭아웃은 학습할 때 dropout_ratio를 동적으로 변경 가능.\n",
        "# 많은 딥러닝 프레임워크에서 역 드롭아웃 방식을 사용."
      ]
    },
    {
      "cell_type": "code",
      "execution_count": null,
      "metadata": {},
      "outputs": [],
      "source": [
        "# 테스트 모드 추가\n",
        "class Config:\n",
        "    enable_backprop = True\n",
        "    train = True\n",
        "\n",
        "\n",
        "@contextlib.contextmanager\n",
        "def using_config(name, value):\n",
        "    old_value = getattr(Config, name)\n",
        "    setattr(Config, name, value)\n",
        "    try:\n",
        "        yield\n",
        "    finally:\n",
        "        setattr(Config, name, old_value)\n",
        "\n",
        "\n",
        "def no_grad():\n",
        "    return using_config('enable_backprop', False)\n",
        "\n",
        "\n",
        "def test_mode():\n",
        "    return using_config('train', False)\n",
        "\n",
        "# dezero/__init__.py에 from dezero.core import Config 가 있어 다른 파일에서 dezero.Config.train 값을 참조 가능.\n",
        "# with test_mode(): 안에서는 Config.train이 False로 전환\n",
        "# dezero/__init__.py에 dezero.core import test_mode 추가하여 from dezero import test_mode 형태로 임포트 가능"
      ]
    },
    {
      "cell_type": "code",
      "execution_count": null,
      "metadata": {},
      "outputs": [],
      "source": [
        "# 드롭아웃 구현\n",
        "def dropout(x, dropout_ratio=0.5):\n",
        "    x = as_variable(x)\n",
        "\n",
        "    if dezero.Config.train:\n",
        "        xp = cuda.get_array_module(x)\n",
        "        mask = xp.random.rand(*x.shape) > dropout_ratio\n",
        "        scale = xp.array(1.0 - dropout_ratio).astype(x.dtype)\n",
        "        y = x * mask / scale\n",
        "        return y\n",
        "    else:\n",
        "        return x"
      ]
    },
    {
      "source": [
        "머신러닝에서는 앙상블 학습이 주로 사용      \n",
        "앙상블 학습 : 여러 모델을 개별적으로 학습시킨 후 추론 시 모든 모델의 출력을 평균 내는 방법."
      ],
      "cell_type": "markdown",
      "metadata": {}
    },
    {
      "cell_type": "code",
      "execution_count": 7,
      "metadata": {},
      "outputs": [
        {
          "output_type": "stream",
          "name": "stdout",
          "text": [
            "[1. 1. 1. 1. 1.] \n\nvariable([0. 0. 2. 2. 2.])\nvariable([0. 2. 0. 0. 0.])\nvariable([2. 2. 2. 2. 2.])\nvariable([2. 0. 0. 0. 2.])\nvariable([0. 2. 0. 0. 2.])\n\nvariable([1. 1. 1. 1. 1.])\n"
          ]
        }
      ],
      "source": [
        "import numpy as np\n",
        "from dezero import test_mode\n",
        "import dezero.functions as F\n",
        "\n",
        "x = np.ones(5)\n",
        "print(x, '\\n')\n",
        "\n",
        "# When training\n",
        "for _ in range(5):\n",
        "    y = F.dropout(x)\n",
        "    print(y)\n",
        "print()\n",
        "\n",
        "# When testing (predicting)\n",
        "with test_mode():\n",
        "    y = F.dropout(x)\n",
        "    print(y)"
      ]
    },
    {
      "cell_type": "code",
      "execution_count": null,
      "metadata": {},
      "outputs": [],
      "source": []
    }
  ],
  "metadata": {
    "anaconda-cloud": {},
    "kernelspec": {
      "display_name": "Python 3",
      "language": "python",
      "name": "python3"
    },
    "language_info": {
      "codemirror_mode": {
        "name": "ipython",
        "version": 3
      },
      "file_extension": ".py",
      "mimetype": "text/x-python",
      "name": "python",
      "nbconvert_exporter": "python",
      "pygments_lexer": "ipython3",
      "version": "3.8.5-final"
    }
  },
  "nbformat": 4,
  "nbformat_minor": 4
}