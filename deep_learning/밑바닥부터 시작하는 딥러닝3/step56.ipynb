{
  "cells": [
    {
      "source": [
        "# CNN 메커니즘 2\n",
        "3차원 텐서  \n",
        "![그림 56-1](./img/56-1.png)    \n",
        "* 주의할 점은 입력 데이터와 필터의 채널 수를 같이 맞춰줘야 한다."
      ],
      "cell_type": "markdown",
      "metadata": {}
    },
    {
      "source": [
        "![그림 56-2](./img/56-2.png)    \n",
        "(채널, 높이, 너비), (C, H, W)   \n",
        "출력은 특징 맵(feature map)라고 불리며 특징 맵이 한장만 출력"
      ],
      "cell_type": "markdown",
      "metadata": {}
    },
    {
      "source": [
        "![그림 56-3](./img/56-3.png)    \n",
        "![그림 56-4](./img/56-4.png)    \n",
        "\n"
      ],
      "cell_type": "markdown",
      "metadata": {}
    },
    {
      "source": [
        "미니배치 처리   \n",
        "![그림 56-5](./img/56-5.png)    \n"
      ],
      "cell_type": "markdown",
      "metadata": {}
    },
    {
      "source": [
        "풀링층(가로, 세로 공간을 작게...)      \n",
        "2x2 최대 풀링(Max polling) : 2x2는 대상 영역의 크기를 나타냄.  (일반적으로 풀링 크기와 스트라이드 크기는 값은 값으로 설정)      \n",
        "![그림 56-6](./img/56-6.png)    \n",
        "Max 풀링 외에 평균 풀링(Average 풀링)이 있지만 주리 Max Polling 사용\n",
        "\n",
        "풀링층의 주요 특징      \n",
        "    - 학습하는 매개변수가 없다.     \n",
        "    - 채널 수가 변하지 않는다. ![그림 56-7](./img/56-7.png)     \n",
        "    - 미세한 위치 변화에 영향을 덜 받는다. ![그림 56-8](./img/56-8.png)    "
      ],
      "cell_type": "markdown",
      "metadata": {}
    },
    {
      "cell_type": "code",
      "execution_count": null,
      "metadata": {},
      "outputs": [],
      "source": []
    }
  ],
  "metadata": {
    "anaconda-cloud": {},
    "kernelspec": {
      "display_name": "Python 3",
      "language": "python",
      "name": "python3"
    },
    "language_info": {
      "codemirror_mode": {
        "name": "ipython",
        "version": 3
      },
      "file_extension": ".py",
      "mimetype": "text/x-python",
      "name": "python",
      "nbconvert_exporter": "python",
      "pygments_lexer": "ipython3",
      "version": "3.8.5-final"
    }
  },
  "nbformat": 4,
  "nbformat_minor": 4
}