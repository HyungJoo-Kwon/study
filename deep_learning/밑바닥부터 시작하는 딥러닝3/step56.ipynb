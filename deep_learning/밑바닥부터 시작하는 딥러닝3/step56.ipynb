{
  "cells": [
    {
      "source": [
        "# CNN 메커니즘 2\n",
        "3차원 텐서  \n",
        "![그림 56-1](./img/56-1.png)    \n",
        "* 주의할 점은 입력 데이터와 필터의 채널 수를 같이 맞춰줘야 한다."
      ],
      "cell_type": "markdown",
      "metadata": {}
    },
    {
      "cell_type": "code",
      "execution_count": null,
      "metadata": {},
      "outputs": [],
      "source": []
    }
  ],
  "metadata": {
    "anaconda-cloud": {},
    "kernelspec": {
      "display_name": "Python 3",
      "language": "python",
      "name": "python3"
    },
    "language_info": {
      "codemirror_mode": {
        "name": "ipython",
        "version": 3
      },
      "file_extension": ".py",
      "mimetype": "text/x-python",
      "name": "python",
      "nbconvert_exporter": "python",
      "pygments_lexer": "ipython3",
      "version": "3.6.1"
    }
  },
  "nbformat": 4,
  "nbformat_minor": 4
}