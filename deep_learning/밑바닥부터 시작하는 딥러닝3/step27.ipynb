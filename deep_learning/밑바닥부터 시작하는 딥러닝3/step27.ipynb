{
  "cells": [
    {
      "cell_type": "code",
      "metadata": {},
      "source": [
        "if '__file__' in globals():\n",
        "    import os, sys\n",
        "    sys.path.append(os.path.join(os.path.dirname(__file__), '..'))\n",
        "import numpy as np\n",
        "import math\n",
        "from dezero import Variable, Function\n",
        "from dezero.utils import plot_dot_graph\n",
        "\n",
        "\n",
        "class Sin(Function):\n",
        "    def forward(self, x):\n",
        "        y = np.sin(x)\n",
        "        return y\n",
        "\n",
        "    def backward(self, gy):\n",
        "        x = self.inputs[0].data\n",
        "        gx = gy * np.cos(x)\n",
        "        return gx\n",
        "\n",
        "\n",
        "def sin(x):\n",
        "    return Sin()(x)\n",
        "\n",
        "\n",
        "x = Variable(np.array(np.pi / 4))\n",
        "y = sin(x)\n",
        "y.backward()\n",
        "print('--- original sin ---')\n",
        "print(y.data)\n",
        "print(x.grad)\n",
        "\n",
        "\n",
        "def my_sin(x, threshold=0.0001):\n",
        "    y = 0\n",
        "    for i in range(100000):\n",
        "        c = (-1) ** i / math.factorial(2 * i + 1)\n",
        "        t = c * x ** (2 * i + 1)\n",
        "        y = y + t\n",
        "        if abs(t.data) < threshold:\n",
        "            break\n",
        "    return y\n",
        "\n",
        "\n",
        "x = Variable(np.array(np.pi / 4))\n",
        "y = my_sin(x)  # , threshold=1e-150)\n",
        "y.backward()\n",
        "print('--- approximate sin ---')\n",
        "print(y.data)\n",
        "print(x.grad)\n",
        "\n",
        "x.name = 'x'\n",
        "y.name = 'y'\n",
        "plot_dot_graph(y, verbose=False, to_file='my_sin.png')"
      ],
      "outputs": [],
      "execution_count": null
    }
  ],
  "metadata": {
    "anaconda-cloud": {},
    "kernelspec": {
      "display_name": "Python 3",
      "language": "python",
      "name": "python3"
    },
    "language_info": {
      "codemirror_mode": {
        "name": "ipython",
        "version": 3
      },
      "file_extension": ".py",
      "mimetype": "text/x-python",
      "name": "python",
      "nbconvert_exporter": "python",
      "pygments_lexer": "ipython3",
      "version": "3.6.1"
    }
  },
  "nbformat": 4,
  "nbformat_minor": 4
}