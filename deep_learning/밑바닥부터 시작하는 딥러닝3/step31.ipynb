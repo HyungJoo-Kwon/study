{
 "cells": [
  {
   "cell_type": "code",
   "execution_count": null,
   "metadata": {},
   "outputs": [],
   "source": [
    "# 고차 미분(이론)\n",
    "class Sin(Function):\n",
    "    ...\n",
    "\n",
    "    def backward(self, gy):\n",
    "        x = self.inputs[0].data\n",
    "        gx = gy * np.cos(x)\n",
    "        return gx"
   ]
  },
  {
   "cell_type": "markdown",
   "metadata": {},
   "source": [
    "![그림 31-1](./img/31-1.png)\n",
    "![그림 31-1](./img/31-2.png)"
   ]
  },
  {
   "cell_type": "markdown",
   "metadata": {},
   "source": [
    "Variable 클래스의 grad는 ndarray 인스턴스를 참조하도록 새로운 Variable 클래스를 만듬    \n",
    "![그림 31-3](./img/31-3.png)    \n",
    "적용    \n",
    "![그림 31-4](./img/31-4.png)\n",
    "실제"
   ]
  },
  {
   "cell_type": "markdown",
   "metadata": {},
   "source": [
    "gx.backward()를 호출함으로써 y의 x에 대한 2차 미분이 가능   \n",
    "![그림 31-5](./img/31-5.png)"
   ]
  },
  {
   "cell_type": "code",
   "execution_count": null,
   "metadata": {},
   "outputs": [],
   "source": []
  }
 ],
 "metadata": {
  "anaconda-cloud": {},
  "kernelspec": {
   "display_name": "Python 3",
   "language": "python",
   "name": "python3"
  },
  "language_info": {
   "codemirror_mode": {
    "name": "ipython",
    "version": 3
   },
   "file_extension": ".py",
   "mimetype": "text/x-python",
   "name": "python",
   "nbconvert_exporter": "python",
   "pygments_lexer": "ipython3",
   "version": "3.8.3"
  }
 },
 "nbformat": 4,
 "nbformat_minor": 4
}
