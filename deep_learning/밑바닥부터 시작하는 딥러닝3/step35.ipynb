{
  "cells": [
    {
      "cell_type": "code",
      "metadata": {},
      "source": [
        "if '__file__' in globals():\n",
        "    import os, sys\n",
        "    sys.path.append(os.path.join(os.path.dirname(__file__), '..'))\n",
        "import numpy as np\n",
        "from dezero import Variable\n",
        "from dezero.utils import plot_dot_graph\n",
        "import dezero.functions as F\n",
        "\n",
        "x = Variable(np.array(1.0))\n",
        "y = F.tanh(x)\n",
        "x.name = 'x'\n",
        "y.name = 'y'\n",
        "y.backward(create_graph=True)\n",
        "\n",
        "iters = 1\n",
        "\n",
        "for i in range(iters):\n",
        "    gx = x.grad\n",
        "    x.cleargrad()\n",
        "    gx.backward(create_graph=True)\n",
        "\n",
        "gx = x.grad\n",
        "gx.name = 'gx' + str(iters + 1)\n",
        "plot_dot_graph(gx, verbose=False, to_file='tanh.png')"
      ],
      "outputs": [],
      "execution_count": null
    }
  ],
  "metadata": {
    "anaconda-cloud": {},
    "kernelspec": {
      "display_name": "Python 3",
      "language": "python",
      "name": "python3"
    },
    "language_info": {
      "codemirror_mode": {
        "name": "ipython",
        "version": 3
      },
      "file_extension": ".py",
      "mimetype": "text/x-python",
      "name": "python",
      "nbconvert_exporter": "python",
      "pygments_lexer": "ipython3",
      "version": "3.6.1"
    }
  },
  "nbformat": 4,
  "nbformat_minor": 4
}