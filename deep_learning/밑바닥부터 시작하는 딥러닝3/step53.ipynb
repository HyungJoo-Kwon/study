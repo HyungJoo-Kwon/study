{
  "cells": [
    {
      "cell_type": "code",
      "metadata": {},
      "source": [
        "# 모델 저장 및 읽어오기 \n",
        "if '__file__' in globals():\n",
        "    import os, sys\n",
        "    sys.path.append(os.path.join(os.path.dirname(__file__), '..'))\n",
        "    import dezero\n",
        "\n",
        "import dezero.functions as F\n",
        "from dezero import optimizers\n",
        "from dezero import DataLoader\n",
        "from dezero.models import MLP"
      ],
      "outputs": [],
      "execution_count": 1
    },
    {
      "cell_type": "code",
      "execution_count": 10,
      "metadata": {},
      "outputs": [
        {
          "output_type": "stream",
          "name": "stdout",
          "text": [
            "[1 2 3]\n----------------------------------------------------------------------------\n[1 2 3]\n[4 5 6]\n----------------------------------------------------------------------------\n[1 2 3]\n[4 5 6]\n"
          ]
        }
      ],
      "source": [
        "import numpy as np \n",
        "\n",
        "x = np.array([1, 2, 3])\n",
        "np.save('test.npy', x)          # np.save() : ndarray 인스턴스를 외부 파일로 저장\n",
        "\n",
        "x = np.load('test.npy')         # np.load() : 이미 저장되어 있는 데이터를 읽어올 때 사용\n",
        "print(x)\n",
        "# ndarray를 저장할 땐 .npy로 확장자를 해주는 게. 만약 확장자를 생략하면 자동으로 .npy가 뒤에 추가됨\n",
        "print('----------------------------------------------------------------------------')\n",
        "x1 = np.array([1, 2, 3])\n",
        "x2 = np.array([4, 5, 6])\n",
        "\n",
        "np.savez('test.npz', x1=x1, x2=x2)      # 여러 개의 ndarray 인스턴스를 저장하고 읽어옴\n",
        "                                        # x1=x1, x2=x2처럼 키워드 인수를 지정할 수 있다.\n",
        "arrays = np.load('test.npz')\n",
        "x1 = arrays['x1']\n",
        "x2 = arrays['x2']\n",
        "print(x1)\n",
        "print(x2)\n",
        "print('----------------------------------------------------------------------------')\n",
        "x1 = np.array([1, 2, 3])\n",
        "x2 = np.array([4, 5, 6])\n",
        "data = {'x1':x1, 'x2':x2}       # 키워드를 딕셔너리로 묶음\n",
        "\n",
        "np.savez('test.npz', **data)    # **data와 같이 앞에 별표 두 개를 붙여주면 딕셔너리가 자동으로 전개되어 전달\n",
        "\n",
        "arrays = np.load('test.npz')\n",
        "x1 = arrays['x1']\n",
        "x2 = arrays['x2']\n",
        "print(x1)\n",
        "print(x2)\n",
        "\n",
        "# np.savez()와 비슷한 기능을 하는 함수로 np.savez_compressed()가 있다."
      ]
    },
    {
      "cell_type": "code",
      "execution_count": 14,
      "metadata": {},
      "outputs": [
        {
          "output_type": "stream",
          "name": "stdout",
          "text": [
            "{'l1/p1': variable(1), 'p3': variable(3), 'p2': variable(2)}\n"
          ]
        }
      ],
      "source": [
        "# Layer 클래스의 매개변수를 평평하게\n",
        "from dezero.layers import Layer\n",
        "from dezero.core import Parameter\n",
        "\n",
        "layer = Layer()\n",
        "\n",
        "l1 = Layer()\n",
        "l1.p1 = Parameter(np.array(1))\n",
        "\n",
        "layer.l1 = l1\n",
        "layer.p2 = Parameter(np.array(2))\n",
        "layer.p3 = Parameter(np.array(3))\n",
        "\n",
        "params_dict = {}\n",
        "layer._flatten_params(params_dict)\n",
        "print(params_dict)\n",
        "\n",
        "# class Layer:\n",
        "#     def _flatten_params(self, params_dict, parent_key=\"\"):                Layer클래스의 인스턴스 변수인 _params에는 Parameter 또는 Layer의 인스턴스 변수 이름을 가짐\n",
        "#         for name in self._params:                                         실제 객체는 obj = self.__dict__[name] 으로 꺼내야 함\n",
        "#             obj = self.__dict__[name]\n",
        "#             key = parent_key + '/' + name if parent_key else name\n",
        "\n",
        "#             if isinstance(obj, Layer):                                    꺼낸 obj가 Layer라면 obj의 _flatten_params 메서드를 호출\n",
        "#                 obj._flatten_params(params_dict, key)\n",
        "#             else:\n",
        "#                 params_dict[key] = obj"
      ]
    },
    {
      "source": [
        "![그림 53-1](./img/53-1.png)"
      ],
      "cell_type": "markdown",
      "metadata": {}
    },
    {
      "source": [
        "# Layer 클래스의 save(), load()\n",
        "\n",
        "# class Layer:\n",
        "#     def save_weights(self, path):                                                 # 데이터가 메인 메모리에 존재함을 보장함(데이터가 넘파이 ndarray임을)\n",
        "#         self.to_cpu()\n",
        "\n",
        "#         params_dict = {}\n",
        "#         self._flatten_params(params_dict)\n",
        "#         array_dict = {key: param.data for key, param in params_dict.items()\n",
        "#                       if param is not None}\n",
        "#         try:\n",
        "#             np.savez_compressed(path, **array_dict)\n",
        "#         except (Exception, KeyboardInterrupt) as e:\n",
        "#             if os.path.exists(path):\n",
        "#                 os.remove(path)\n",
        "#             raise\n",
        "\n",
        "#     def load_weights(self, path):                                                 # np.laod 함수로 데이터를 읽어 들인 후 대응하는 키 데이터를 매개변수로 설정함.\n",
        "#         npz = np.load(path)\n",
        "#         params_dict = {}\n",
        "#         self._flatten_params(params_dict)\n",
        "#         for key, param in params_dict.items():\n",
        "#             param.data = npz[key]"
      ],
      "cell_type": "code",
      "metadata": {},
      "execution_count": null,
      "outputs": []
    },
    {
      "cell_type": "code",
      "execution_count": 15,
      "metadata": {},
      "outputs": [
        {
          "output_type": "stream",
          "name": "stdout",
          "text": [
            "epoch: 1, loss: 1.9273\n",
            "epoch: 2, loss: 1.2962\n",
            "epoch: 3, loss: 0.9324\n"
          ]
        }
      ],
      "source": [
        "import dezero\n",
        "import dezero.functions as F\n",
        "from dezero import optimizers\n",
        "from dezero import DataLoader\n",
        "from dezero.models import MLP\n",
        "\n",
        "max_epoch = 3\n",
        "batch_size = 100\n",
        "\n",
        "train_set = dezero.datasets.MNIST(train=True)\n",
        "train_loader = DataLoader(train_set, batch_size)\n",
        "model = MLP((1000, 10))\n",
        "optimizer = optimizers.SGD().setup(model)\n",
        "\n",
        "# 매개변수 읽기\n",
        "if os.path.exists('my_mlp.npz'):\n",
        "    model.load_weights('my_mlp.npz')\n",
        "\n",
        "for epoch in range(max_epoch):\n",
        "    sum_loss = 0\n",
        "\n",
        "    for x, t in train_loader:\n",
        "        y = model(x)\n",
        "        loss = F.softmax_cross_entropy(y, t)\n",
        "        model.cleargrads()\n",
        "        loss.backward()\n",
        "        optimizer.update()\n",
        "        sum_loss += float(loss.data) * len(t)\n",
        "\n",
        "    print('epoch: {}, loss: {:.4f}'.format(\n",
        "        epoch + 1, sum_loss / len(train_set)))\n",
        "\n",
        "model.save_weights('my_mlp.npz')\n",
        "\n",
        "# 코드 처음 실행 시 my_mlp.npz 파일이 존재하지 않으므로 모델의 매개변수를 무작위로 초기화한 상태에서 학습 시작."
      ]
    },
    {
      "cell_type": "code",
      "execution_count": null,
      "metadata": {},
      "outputs": [],
      "source": []
    }
  ],
  "metadata": {
    "anaconda-cloud": {},
    "kernelspec": {
      "display_name": "Python 3",
      "language": "python",
      "name": "python3"
    },
    "language_info": {
      "codemirror_mode": {
        "name": "ipython",
        "version": 3
      },
      "file_extension": ".py",
      "mimetype": "text/x-python",
      "name": "python",
      "nbconvert_exporter": "python",
      "pygments_lexer": "ipython3",
      "version": "3.8.3-final"
    }
  },
  "nbformat": 4,
  "nbformat_minor": 4
}