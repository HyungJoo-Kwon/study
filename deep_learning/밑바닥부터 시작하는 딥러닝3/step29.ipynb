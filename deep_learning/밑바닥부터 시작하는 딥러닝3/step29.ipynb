{
  "cells": [
    {
      "cell_type": "code",
      "metadata": {},
      "source": [
        "if '__file__' in globals():\n",
        "    import os, sys\n",
        "    sys.path.append(os.path.join(os.path.dirname(__file__), '..'))\n",
        "import numpy as np\n",
        "from dezero import Variable\n",
        "# import dezero's simple_core explicitly\n",
        "import dezero\n",
        "if not dezero.is_simple_core:\n",
        "    from dezero.core_simple import Variable\n",
        "    from dezero.core_simple import setup_variable\n",
        "    setup_variable()\n",
        "\n",
        "\n",
        "def f(x):\n",
        "    y = x ** 4 - 2 * x ** 2\n",
        "    return y\n",
        "\n",
        "\n",
        "def gx2(x):\n",
        "    return 12 * x ** 2 - 4\n",
        "\n",
        "\n",
        "x = Variable(np.array(2.0))\n",
        "iters = 10\n",
        "\n",
        "for i in range(iters):\n",
        "    print(i, x)\n",
        "\n",
        "    y = f(x)\n",
        "    x.cleargrad()\n",
        "    y.backward()\n",
        "\n",
        "    x.data -= x.grad / gx2(x.data)"
      ],
      "outputs": [],
      "execution_count": null
    }
  ],
  "metadata": {
    "anaconda-cloud": {},
    "kernelspec": {
      "display_name": "Python 3",
      "language": "python",
      "name": "python3"
    },
    "language_info": {
      "codemirror_mode": {
        "name": "ipython",
        "version": 3
      },
      "file_extension": ".py",
      "mimetype": "text/x-python",
      "name": "python",
      "nbconvert_exporter": "python",
      "pygments_lexer": "ipython3",
      "version": "3.6.1"
    }
  },
  "nbformat": 4,
  "nbformat_minor": 4
}