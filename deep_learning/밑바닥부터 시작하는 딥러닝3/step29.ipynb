{
  "cells": [
    {
      "cell_type": "code",
      "metadata": {},
      "source": [
        "# 뉴턴 방법으로 푸는 최적화\n",
        "# 이전 단계에서 경사하강법으로 5만 번 가까이 반복해야 목적지에 도달. 수렴이 빠른 뉴턴 방법 이용 시 단 6번만에 도달.\n",
        "if '__file__' in globals():\n",
        "    import os, sys\n",
        "    sys.path.append(os.path.join(os.path.dirname(__file__), '..'))\n",
        "import numpy as np\n",
        "from dezero import Variable\n",
        "# import dezero's simple_core explicitly\n",
        "import dezero\n",
        "if not dezero.is_simple_core:\n",
        "    from dezero.core_simple import Variable\n",
        "    from dezero.core_simple import setup_variable\n",
        "    setup_variable()"
      ],
      "outputs": [],
      "execution_count": 1
    },
    {
      "source": [
        "뉴턴 방법은 추가된 2차 미분 정보로 효율적인 탐색을 기대할 수 있으며 목적지에 더 빨리 도달   \n",
        "![그림 29-1](./img/29-1.png)"
      ],
      "cell_type": "markdown",
      "metadata": {}
    },
    {
      "cell_type": "code",
      "execution_count": 2,
      "metadata": {},
      "outputs": [
        {
          "output_type": "stream",
          "name": "stdout",
          "text": [
            "0 variable(2.0)\n1 variable(1.4545454545454546)\n2 variable(1.1510467893775467)\n3 variable(1.0253259289766978)\n4 variable(1.0009084519430513)\n5 variable(1.0000012353089454)\n6 variable(1.000000000002289)\n7 variable(1.0)\n8 variable(1.0)\n9 variable(1.0)\n"
          ]
        }
      ],
      "source": [
        "# 2차 미분을 수동 코딩 함.\n",
        "def f(x):\n",
        "    y = x ** 4 - 2 * x ** 2\n",
        "    return y\n",
        "\n",
        "\n",
        "def gx2(x):\n",
        "    return 12 * x ** 2 - 4\n",
        "\n",
        "\n",
        "x = Variable(np.array(2.0))\n",
        "iters = 10\n",
        "\n",
        "for i in range(iters):\n",
        "    print(i, x)\n",
        "\n",
        "    y = f(x)\n",
        "    x.cleargrad()\n",
        "    y.backward()\n",
        "\n",
        "    x.data -= x.grad / gx2(x.data)"
      ]
    },
    {
      "source": [
        "![그림 29-5](./img/29-5.png)"
      ],
      "cell_type": "markdown",
      "metadata": {}
    },
    {
      "cell_type": "code",
      "execution_count": null,
      "metadata": {},
      "outputs": [],
      "source": []
    }
  ],
  "metadata": {
    "anaconda-cloud": {},
    "kernelspec": {
      "display_name": "Python 3",
      "language": "python",
      "name": "python3"
    },
    "language_info": {
      "codemirror_mode": {
        "name": "ipython",
        "version": 3
      },
      "file_extension": ".py",
      "mimetype": "text/x-python",
      "name": "python",
      "nbconvert_exporter": "python",
      "pygments_lexer": "ipython3",
      "version": "3.8.3-final"
    }
  },
  "nbformat": 4,
  "nbformat_minor": 4
}