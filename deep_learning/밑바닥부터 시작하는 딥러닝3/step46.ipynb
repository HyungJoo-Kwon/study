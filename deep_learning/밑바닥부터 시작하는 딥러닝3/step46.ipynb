{
  "cells": [
    {
      "cell_type": "code",
      "metadata": {},
      "source": [
        "# Optimizer로 수행하는 매개변수 갱신\n",
        "if '__file__' in globals():\n",
        "    import os, sys\n",
        "    sys.path.append(os.path.join(os.path.dirname(__file__), '..'))"
      ],
      "outputs": [],
      "execution_count": null
    },
    {
      "cell_type": "code",
      "execution_count": null,
      "metadata": {},
      "outputs": [],
      "source": [
        "# Optimizer 클래스\n",
        "# 매개변수 갱신을 위한 기반 클래스\n",
        "class Optimizer:\n",
        "    def __init__(self):\n",
        "        self.target = None\n",
        "        self.hooks = []\n",
        "\n",
        "    def setup(self, target):\n",
        "        self.target = target\n",
        "        return self\n",
        "\n",
        "    def update(self):\n",
        "        # None 이외에 매개변수를 리스트에 모아둠\n",
        "        params = [p for p in self.target.params() if p.grad is not None] # grad 가 None이면 pass\n",
        "\n",
        "        # 전처리(옵션)\n",
        "        for f in self.hooks:\n",
        "            f(params)\n",
        "        # 매개변수 갱신\n",
        "        for param in params:\n",
        "            self.update_one(param)\n",
        "\n",
        "    def update_one(self, param):\n",
        "        raise NotImplementedError()\n",
        "\n",
        "    def add_hook(self, f):\n",
        "        self.hooks.append(f)\n",
        "\n",
        "# __init__() : target과 hooks 두개의 인스턴스 변수 초기화\n",
        "# setup() : 매개변수를 갖는 클래스(Model or Layer)를 target으로 설정\n",
        "# update() : 모든 매개변수 갱신\n",
        "# add_hook() : 전처리를 수행하는 함수를 추가"
      ]
    },
    {
      "cell_type": "code",
      "execution_count": null,
      "metadata": {},
      "outputs": [],
      "source": [
        "# SGD (stochastic Gradient Descent) 클래스 \n",
        "# 확률적경사하강법으로 매개변수를 갱신하는 클래스\n",
        "# 확률적경사하강법 : 데이터 중에서 무작위로(확률적으로) 선별한 데이터에 대해 경사하강법을 수행\n",
        "class SGD(Optimizer):\n",
        "    def __init__(self, lr=0.01):\n",
        "        super().__init__()\n",
        "        self.lr = lr\n",
        "\n",
        "    def update_one(self, param):\n",
        "        param.data -= self.lr * param.grad.data"
      ]
    },
    {
      "cell_type": "code",
      "execution_count": 1,
      "metadata": {},
      "outputs": [
        {
          "output_type": "stream",
          "name": "stdout",
          "text": [
            "variable(0.8165178492839196)\n",
            "variable(0.24990280802148895)\n",
            "variable(0.24609876581126014)\n",
            "variable(0.23721590814318072)\n",
            "variable(0.20793216413350174)\n",
            "variable(0.12311905720649353)\n",
            "variable(0.07888166506355153)\n",
            "variable(0.07655073683421634)\n",
            "variable(0.07637803086238225)\n",
            "variable(0.07618764131185568)\n"
          ]
        }
      ],
      "source": [
        "import numpy as np\n",
        "from dezero import optimizers\n",
        "import dezero.functions as F\n",
        "from dezero.models import MLP\n",
        "\n",
        "\n",
        "np.random.seed(0)\n",
        "x = np.random.rand(100, 1)\n",
        "y = np.sin(2 * np.pi * x) + np.random.rand(100, 1)\n",
        "\n",
        "lr = 0.2\n",
        "max_iter = 10000\n",
        "hidden_size = 10\n",
        "\n",
        "model = MLP((hidden_size, 1))\n",
        "optimizer = optimizers.SGD(lr).setup(model)\n",
        "\n",
        "for i in range(max_iter):\n",
        "    y_pred = model(x)\n",
        "    loss = F.mean_squared_error(y, y_pred)\n",
        "\n",
        "    model.cleargrads()\n",
        "    loss.backward()\n",
        "\n",
        "    optimizer.update()      # 매개변수 갱신\n",
        "    if i % 1000 == 0:\n",
        "        print(loss)"
      ]
    },
    {
      "cell_type": "code",
      "execution_count": null,
      "metadata": {},
      "outputs": [],
      "source": []
    }
  ],
  "metadata": {
    "anaconda-cloud": {},
    "kernelspec": {
      "display_name": "Python 3",
      "language": "python",
      "name": "python3"
    },
    "language_info": {
      "codemirror_mode": {
        "name": "ipython",
        "version": 3
      },
      "file_extension": ".py",
      "mimetype": "text/x-python",
      "name": "python",
      "nbconvert_exporter": "python",
      "pygments_lexer": "ipython3",
      "version": "3.8.3-final"
    }
  },
  "nbformat": 4,
  "nbformat_minor": 4
}