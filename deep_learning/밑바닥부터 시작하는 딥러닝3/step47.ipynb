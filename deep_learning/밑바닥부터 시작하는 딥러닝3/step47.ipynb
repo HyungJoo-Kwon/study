{
 "cells": [
  {
   "cell_type": "code",
   "execution_count": 1,
   "metadata": {},
   "outputs": [],
   "source": [
    "# 소프트맥스 함수와 교차 엔트로피 오차\n",
    "if '__file__' in globals():\n",
    "    import os, sys\n",
    "    sys.path.append(os.path.join(os.path.dirname(__file__), '..'))"
   ]
  },
  {
   "cell_type": "code",
   "execution_count": 4,
   "metadata": {},
   "outputs": [
    {
     "name": "stdout",
     "output_type": "stream",
     "text": [
      "variable([4 5 6])\n",
      "variable([[0 0 0]\n",
      "          [1 1 1]])\n",
      "variable([[1 2 3]\n",
      "          [1 2 3]\n",
      "          [4 5 6]])\n"
     ]
    }
   ],
   "source": [
    "import numpy as np \n",
    "from dezero import Variable\n",
    "import dezero.functions as F\n",
    "\n",
    "x = Variable(np.array([[1, 2, 3], [4, 5, 6]]))\n",
    "y = F.get_item(x, 1)\n",
    "y.backward()\n",
    "print(y)\n",
    "print(x.grad)\n",
    "\n",
    "indices = np.array([0, 0, 1])\n",
    "y = F.get_item(x, indices)\n",
    "print(y)"
   ]
  },
  {
   "cell_type": "markdown",
   "metadata": {},
   "source": [
    "get_item()은 Variable의 다차원 배열 중에서 일부를 슬라이스하여 뽑아준다.        \n",
    "![그림 47-1](./img/47-1.png)"
   ]
  },
  {
   "cell_type": "code",
   "execution_count": 5,
   "metadata": {},
   "outputs": [
    {
     "name": "stdout",
     "output_type": "stream",
     "text": [
      "variable([4 5 6])\n",
      "variable([3 6])\n"
     ]
    }
   ],
   "source": [
    "Variable.__getitem__ = F.get_item       # Variable의 메서드로 설정\n",
    "\n",
    "y = x[1]\n",
    "print(y)\n",
    "\n",
    "y = x[:,2]\n",
    "print(y)"
   ]
  },
  {
   "cell_type": "markdown",
   "metadata": {},
   "source": [
    "소프트맥스 함수     \n",
    "![식 47.1](./img/47.1.png)\n",
    "![그림 47-2](./img/47-2.png)    \n",
    "각 행의 원소들은 0이상 1이하이고, 총합은 1이 된다."
   ]
  },
  {
   "cell_type": "markdown",
   "metadata": {},
   "source": [
    "선형 회귀에서는 손실 함수로 평균 제곱 오차를 이용했지만 다중 클래스 분류에는 교차 엔트로피 오차를 손실 함수로 사용.     \n",
    "![식 47.2](./img/47.2.png)      \n",
    "정답데이터의 각 원소는 정답에 해당하는 클래스면 1로, 그렇지 않으면 0으로 기록됨. = (**원핫 벡터**)\n"
   ]
  },
  {
   "cell_type": "code",
   "execution_count": null,
   "metadata": {},
   "outputs": [],
   "source": [
    "# 소프트맥스 함수와 교차 엔트로피 오차를 한꺼번에 수행하는 함수\n",
    "def softmax_cross_entropy_simple(x, t):\n",
    "    x, t = as_variable(x), as_variable(t)\n",
    "    N = x.shape[0]\n",
    "    p = softmax(x)\n",
    "    p = clip(p, 1e-15, 1.0)  # To avoid log(0), 0을 1e-15라는 작은 값으로 대체\n",
    "                              # clip(x, x_min, x_max) : x가 x_min 이하면 x_min으로 변환, x_max 이상이면 x_max로 변환\n",
    "    log_p = log(p)\n",
    "    tlog_p = log_p[np.arange(N), t.data]  # log_p[0, t.data[0]], log_p[1, t.data[1]], ... \n",
    "    y = -1 * sum(tlog_p) / N\n",
    "    return y"
   ]
  },
  {
   "cell_type": "code",
   "execution_count": 8,
   "metadata": {},
   "outputs": [
    {
     "name": "stdout",
     "output_type": "stream",
     "text": [
      "variable([[-0.61505778 -0.42790161  0.31733289]]) \n",
      "\n",
      "variable([[-0.61505778 -0.42790161  0.31733289]]) \n",
      "\n",
      "variable([[0.21068639 0.25404893 0.53526469]]) \n",
      "\n",
      "variable([[-0.61505778 -0.42790161  0.31733289]\n",
      "          [-0.76395313 -0.2497645   0.18591382]\n",
      "          [-0.52006391 -0.96254612  0.57818938]\n",
      "          [-0.94252164 -0.50307479  0.17576323]]) \n",
      "\n",
      "variable([[0.21068639 0.25404893 0.53526469]\n",
      "          [0.19019916 0.31806646 0.49173438]\n",
      "          [0.21545395 0.13841619 0.64612986]\n",
      "          [0.17820704 0.27655034 0.54524263]]) \n",
      "\n",
      "variable(1.496744252405306) \n",
      "\n"
     ]
    }
   ],
   "source": [
    "import numpy as np\n",
    "np.random.seed(0)\n",
    "from dezero import Variable, as_variable\n",
    "import dezero.functions as F\n",
    "from dezero.models import MLP\n",
    "\n",
    "\n",
    "def softmax1d(x):\n",
    "    x = as_variable(x)\n",
    "    y = F.exp(x)\n",
    "    sum_y = F.sum(y)\n",
    "    return y / sum_y\n",
    "\n",
    "\n",
    "model = MLP((10, 3))\n",
    "\n",
    "x = Variable(np.array([[0.2, -0.4]]))\n",
    "y = model(x)\n",
    "print(y, '\\n')\n",
    "p = softmax1d(y)\n",
    "print(y, '\\n')\n",
    "print(p, '\\n')\n",
    "\n",
    "\n",
    "# 입력데이터 x와 정답 데이터 t\n",
    "x = np.array([[0.2, -0.4], [0.3, 0.5], [1.3, -3.2], [2.1, 0.3]])\n",
    "t = np.array([2, 0, 1, 0])\n",
    "\n",
    "y = model(x)\n",
    "p = F.softmax_simple(y)\n",
    "print(y, '\\n')\n",
    "print(p, '\\n')\n",
    "\n",
    "loss = F.softmax_cross_entropy_simple(y, t)\n",
    "loss.backward()\n",
    "print(loss, '\\n')"
   ]
  },
  {
   "cell_type": "code",
   "execution_count": null,
   "metadata": {},
   "outputs": [],
   "source": []
  }
 ],
 "metadata": {
  "anaconda-cloud": {},
  "kernelspec": {
   "display_name": "Python 3",
   "language": "python",
   "name": "python3"
  },
  "language_info": {
   "codemirror_mode": {
    "name": "ipython",
    "version": 3
   },
   "file_extension": ".py",
   "mimetype": "text/x-python",
   "name": "python",
   "nbconvert_exporter": "python",
   "pygments_lexer": "ipython3",
   "version": "3.8.3"
  }
 },
 "nbformat": 4,
 "nbformat_minor": 4
}
