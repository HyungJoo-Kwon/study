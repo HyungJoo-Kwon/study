{
  "cells": [
    {
      "cell_type": "code",
      "metadata": {},
      "source": [
        "# 복잡한 함수의 미분\n",
        "if '__file__' in globals():\n",
        "    import os, sys\n",
        "    sys.path.append(os.path.join(os.path.dirname(__file__), '..'))\n",
        "import numpy as np\n",
        "from dezero import Variable\n",
        "\n",
        "\n",
        "def sphere(x, y):\n",
        "    z = x ** 2 + y ** 2\n",
        "    return z\n",
        "\n",
        "\n",
        "def matyas(x, y):\n",
        "    z = 0.26 * (x ** 2 + y ** 2) - 0.48 * x * y\n",
        "    return z\n",
        "\n",
        "\n",
        "def goldstein(x, y):\n",
        "    z = (1 + (x + y + 1)**2 * (19 - 14*x + 3*x**2 - 14*y + 6*x*y + 3*y**2)) * \\\n",
        "        (30 + (2*x - 3*y)**2 * (18 - 32*x + 12*x**2 + 48*y - 36*x*y + 27*y**2))\n",
        "    return z\n",
        "\n",
        "\n",
        "x = Variable(np.array(1.0))\n",
        "y = Variable(np.array(1.0))\n",
        "z = sphere(x, y)  \n",
        "z.backward()\n",
        "print(x.grad, y.grad)\n",
        "\n",
        "x = Variable(np.array(1.0))\n",
        "y = Variable(np.array(1.0))\n",
        "z = matyas(x, y)  \n",
        "z.backward()\n",
        "print(x.grad, y.grad)\n",
        "\n",
        "x = Variable(np.array(1.0))\n",
        "y = Variable(np.array(1.0))\n",
        "z = goldstein(x, y)  \n",
        "z.backward()\n",
        "print(x.grad, y.grad)"
      ],
      "outputs": [
        {
          "output_type": "stream",
          "name": "stdout",
          "text": [
            "variable(2.0) variable(2.0)\nvariable(0.040000000000000036) variable(0.040000000000000036)\nvariable(-5376.0) variable(8064.0)\n"
          ]
        }
      ],
      "execution_count": 5
    },
    {
      "source": [
        "![24-1](./img/24-1.png)   \n",
        "최적화 문제의 테스트 함수란 다양한 최적화 기법이 얼마나 좋은가를 평가하는 데에 사용되는 함수.(벤치마크용 함수)"
      ],
      "cell_type": "markdown",
      "metadata": {}
    },
    {
      "source": [
        "![표 B-1](./img/표B-1.png)"
      ],
      "cell_type": "markdown",
      "metadata": {}
    },
    {
      "cell_type": "code",
      "execution_count": null,
      "metadata": {},
      "outputs": [],
      "source": []
    }
  ],
  "metadata": {
    "anaconda-cloud": {},
    "kernelspec": {
      "display_name": "Python 3",
      "language": "python",
      "name": "python3"
    },
    "language_info": {
      "codemirror_mode": {
        "name": "ipython",
        "version": 3
      },
      "file_extension": ".py",
      "mimetype": "text/x-python",
      "name": "python",
      "nbconvert_exporter": "python",
      "pygments_lexer": "ipython3",
      "version": "3.8.5-final"
    }
  },
  "nbformat": 4,
  "nbformat_minor": 4
}