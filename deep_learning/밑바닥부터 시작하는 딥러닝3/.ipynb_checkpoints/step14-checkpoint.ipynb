{
  "cells": [
    {
      "cell_type": "code",
      "metadata": {},
      "source": [
        "# 같은 변수 반복 사용의 문제 해결\n",
        "import numpy as np\n",
        "\n",
        "\n",
        "class Variable:\n",
        "    def __init__(self, data):\n",
        "        if data is not None:\n",
        "            if not isinstance(data, np.ndarray):\n",
        "                raise TypeError('{} is not supported'.format(type(data)))\n",
        "\n",
        "        self.data = data\n",
        "        self.grad = None\n",
        "        self.creator = None\n",
        "\n",
        "    def set_creator(self, func):\n",
        "        self.creator = func\n",
        "\n",
        "    def cleargrad(self):        # 같은 변수를 사용하여 다른 계산을 할 경우(Variable 인스턴스를 재사용 할 경우)) \n",
        "        self.grad = None        # 미분값 초기화가 필요\n",
        "\n",
        "    def backward(self):\n",
        "        if self.grad is None:\n",
        "            self.grad = np.ones_like(self.data)\n",
        "\n",
        "        funcs = [self.creator]\n",
        "        while funcs:\n",
        "            f = funcs.pop()\n",
        "            gys = [output.grad for output in f.outputs]\n",
        "            gxs = f.backward(*gys)\n",
        "            if not isinstance(gxs, tuple):\n",
        "                gxs = (gxs,)\n",
        "\n",
        "            for x, gx in zip(f.inputs, gxs):\n",
        "                if x.grad is None:                             # 답, step 13과의 차이\n",
        "                    x.grad = gx\n",
        "                else:\n",
        "                    x.grad = x.grad + gx\n",
        "\n",
        "                if x.creator is not None:\n",
        "                    funcs.append(x.creator)\n",
        "\n",
        "\n",
        "def as_array(x):\n",
        "    if np.isscalar(x):\n",
        "        return np.array(x)\n",
        "    return x\n",
        "\n",
        "\n",
        "class Function:\n",
        "    def __call__(self, *inputs):\n",
        "        xs = [x.data for x in inputs]\n",
        "        ys = self.forward(*xs)\n",
        "        if not isinstance(ys, tuple):\n",
        "            ys = (ys,)\n",
        "        outputs = [Variable(as_array(y)) for y in ys]\n",
        "\n",
        "        for output in outputs:\n",
        "            output.set_creator(self)\n",
        "        self.inputs = inputs\n",
        "        self.outputs = outputs\n",
        "        return outputs if len(outputs) > 1 else outputs[0]\n",
        "\n",
        "    def forward(self, xs):\n",
        "        raise NotImplementedError()\n",
        "\n",
        "    def backward(self, gys):\n",
        "        raise NotImplementedError()\n",
        "\n",
        "\n",
        "class Add(Function):\n",
        "    def forward(self, x0, x1):\n",
        "        y = x0 + x1\n",
        "        return y\n",
        "\n",
        "    def backward(self, gy):\n",
        "        return gy, gy\n",
        "\n",
        "\n",
        "def add(x0, x1):\n",
        "    return Add()(x0, x1)\n",
        "\n",
        "\n",
        "x = Variable(np.array(3.0))\n",
        "y = add(x, x)\n",
        "y.backward()\n",
        "print(f'1 : y.grad {y.grad}')\n",
        "print(f'1 : x.grad {x.grad}')\n",
        "\n",
        "x.cleargrad()   # 미분값 초기화\n",
        "x = Variable(np.array(3.0))  # 같은 Variable를 사용\n",
        "y = add(add(x, x), x)\n",
        "y.backward()\n",
        "print(f'2 : y.grad {y.grad}')\n",
        "print(f'2 : x.grad {x.grad}')\n"
      ],
      "outputs": [
        {
          "output_type": "stream",
          "name": "stdout",
          "text": [
            "1 : y.grad 1.0\n1 : x.grad 2.0\n2 : y.grad 1.0\n2 : x.grad 3.0\n"
          ]
        }
      ],
      "execution_count": 19
    },
    {
      "cell_type": "code",
      "execution_count": 6,
      "metadata": {},
      "outputs": [
        {
          "output_type": "stream",
          "name": "stdout",
          "text": [
            "2513712565824\n2513712565824\n2513750896048\n"
          ]
        }
      ],
      "source": [
        "# 복사와 덮어 쓰기\n",
        "x = np.array(1)\n",
        "print (id(x))\n",
        "\n",
        "x += x\n",
        "print (id(x)) # 덮어 쓰기 == 인플레이스 연산\n",
        "\n",
        "x = x + x\n",
        "print (id(x)) # 복사 (새로 생성)\n",
        "\n",
        "# x.grad = x.grad + gx 를 x.grad += gx로 인플레이스 연산 사용 시 값을 덮어 써서 y.grad와 x.grad가 같은 값을 참조하게 되어"
      ]
    },
    {
      "cell_type": "code",
      "execution_count": null,
      "metadata": {},
      "outputs": [],
      "source": []
    }
  ],
  "metadata": {
    "anaconda-cloud": {},
    "kernelspec": {
      "display_name": "Python 3",
      "language": "python",
      "name": "python3"
    },
    "language_info": {
      "codemirror_mode": {
        "name": "ipython",
        "version": 3
      },
      "file_extension": ".py",
      "mimetype": "text/x-python",
      "name": "python",
      "nbconvert_exporter": "python",
      "pygments_lexer": "ipython3",
      "version": "3.8.3-final"
    }
  },
  "nbformat": 4,
  "nbformat_minor": 4
}