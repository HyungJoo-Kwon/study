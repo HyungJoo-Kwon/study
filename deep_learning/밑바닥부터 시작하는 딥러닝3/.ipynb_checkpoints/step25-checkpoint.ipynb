{
  "cells": [
    {
      "cell_type": "code",
      "metadata": {},
      "source": [
        "# Graphviz를 이용한 계산 그래프 시각화\n",
        "\n",
        "# https://graphbiz.gitlab.io/download/\n",
        "# conda install graphviz\n",
        "# conda install python-graphviz\n",
        "\n",
        "# dot sample.dot -T png -o sample.png  :  sample.dot라는 파일을 sample.png로 변환"
      ],
      "outputs": [],
      "execution_count": 1
    },
    {
      "cell_type": "code",
      "execution_count": null,
      "metadata": {},
      "outputs": [],
      "source": [
        "digraph g{\n",
        "    x\n",
        "    y\n",
        "}"
      ]
    },
    {
      "source": [
        "![그림 25-1](./img/25-1.png)"
      ],
      "cell_type": "markdown",
      "metadata": {}
    },
    {
      "cell_type": "code",
      "execution_count": null,
      "metadata": {},
      "outputs": [],
      "source": [
        "digraph g{\n",
        "    [label='x', color=orange, style=filled]\n",
        "    [label='y', color=orange, style=filled]\n",
        "}"
      ]
    },
    {
      "source": [
        "![25-1](./img/25-2.png)"
      ],
      "cell_type": "markdown",
      "metadata": {}
    },
    {
      "cell_type": "code",
      "execution_count": null,
      "metadata": {},
      "outputs": [],
      "source": [
        "digraph g{\n",
        "    [label='x', color=orange, style=filled]\n",
        "    [label='y', color=orange, style=filled]\n",
        "    [label='Exp', color=lightblue, style=filled, shape=box]\n",
        "}"
      ]
    },
    {
      "source": [
        "![그림 25-3](./img/25-3.png)"
      ],
      "cell_type": "markdown",
      "metadata": {}
    },
    {
      "cell_type": "code",
      "execution_count": null,
      "metadata": {},
      "outputs": [],
      "source": [
        "digraph g{\n",
        "1 [label='x', color=orange, style=filled]\n",
        "2 [label='y', color=orange, style=filled]\n",
        "3 [label='Exp', color=lightblue, style=filled, shape=box]\n",
        "1 -> 3\n",
        "3 -> 2\n",
        "}"
      ]
    },
    {
      "source": [
        "![그림 25-4](./img/25-4.png)"
      ],
      "cell_type": "markdown",
      "metadata": {}
    },
    {
      "cell_type": "code",
      "execution_count": null,
      "metadata": {},
      "outputs": [],
      "source": []
    }
  ],
  "metadata": {
    "anaconda-cloud": {},
    "kernelspec": {
      "display_name": "Python 3",
      "language": "python",
      "name": "python3"
    },
    "language_info": {
      "codemirror_mode": {
        "name": "ipython",
        "version": 3
      },
      "file_extension": ".py",
      "mimetype": "text/x-python",
      "name": "python",
      "nbconvert_exporter": "python",
      "pygments_lexer": "ipython3",
      "version": "3.8.3-final"
    }
  },
  "nbformat": 4,
  "nbformat_minor": 4
}