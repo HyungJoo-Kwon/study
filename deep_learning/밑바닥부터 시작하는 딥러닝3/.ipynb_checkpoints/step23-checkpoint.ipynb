{
  "cells": [
    {
      "cell_type": "code",
      "metadata": {},
      "source": [
        "# 패키지로 정리\n",
        "# Add import path for the dezero directory.\n",
        "if '__file__' in globals():         # 문장에서 __file__이라는 전역 변수가 정의되어 있는지 확인\n",
        "    import os, sys\n",
        "    sys.path.append(os.path.join(os.path.dirname(__file__), '..'))\n",
        "\n",
        "import numpy as np\n",
        "from dezero import Variable\n",
        "\n",
        "\n",
        "x = Variable(np.array(1.0))\n",
        "y = (x + 3) ** 2\n",
        "y.backward()\n",
        "\n",
        "print(y)\n",
        "print(x.grad)\n",
        "\n",
        "# python step23.py 처럼 터미널에서 python 명령으로 실행한다면  __file__ 변수가 정의되어 있음. 이 경우 현재 파일이 위치한 디렉터리의 부모 디렉터리(..)를 모듈 검색 경로에 추가."
      ],
      "outputs": [
        {
          "output_type": "stream",
          "name": "stdout",
          "text": [
            "variable(16.0)\nvariable(8.0)\n"
          ]
        }
      ],
      "execution_count": 5
    },
    {
      "cell_type": "code",
      "execution_count": 6,
      "metadata": {},
      "outputs": [
        {
          "output_type": "execute_result",
          "data": {
            "text/plain": [
              "['c:\\\\Users\\\\82103\\\\Desktop\\\\study\\\\deep_learning\\\\밑바닥부터 시작하는 딥러닝3',\n",
              " 'c:\\\\Users\\\\82103\\\\.vscode\\\\extensions\\\\ms-toolsai.jupyter-2021.3.619093157\\\\pythonFiles',\n",
              " 'c:\\\\Users\\\\82103\\\\.vscode\\\\extensions\\\\ms-toolsai.jupyter-2021.3.619093157\\\\pythonFiles\\\\lib\\\\python',\n",
              " 'C:\\\\Users\\\\82103\\\\anaconda3\\\\python38.zip',\n",
              " 'C:\\\\Users\\\\82103\\\\anaconda3\\\\DLLs',\n",
              " 'C:\\\\Users\\\\82103\\\\anaconda3\\\\lib',\n",
              " 'C:\\\\Users\\\\82103\\\\anaconda3',\n",
              " '',\n",
              " 'C:\\\\Users\\\\82103\\\\AppData\\\\Roaming\\\\Python\\\\Python38\\\\site-packages',\n",
              " 'C:\\\\Users\\\\82103\\\\anaconda3\\\\lib\\\\site-packages',\n",
              " 'C:\\\\Users\\\\82103\\\\anaconda3\\\\lib\\\\site-packages\\\\win32',\n",
              " 'C:\\\\Users\\\\82103\\\\anaconda3\\\\lib\\\\site-packages\\\\win32\\\\lib',\n",
              " 'C:\\\\Users\\\\82103\\\\anaconda3\\\\lib\\\\site-packages\\\\Pythonwin',\n",
              " 'C:\\\\Users\\\\82103\\\\anaconda3\\\\lib\\\\site-packages\\\\IPython\\\\extensions',\n",
              " 'C:\\\\Users\\\\82103\\\\.ipython']"
            ]
          },
          "metadata": {},
          "execution_count": 6
        }
      ],
      "source": [
        "sys.path"
      ]
    },
    {
      "source": [
        "- 모듈 \n",
        "    - 모듈은 파이썬 파일. import하여 사용하는 것을 가정하고 만들어진 파이썬 파일을 모듈.\n",
        "- 패키지\n",
        "    - 패키지는 여러 모듈을 묶은 것. 패키지를 만들려면 먼저 디렉터리를 만들고 그 안에 모듈을 추가.\n",
        "- 라이브러리\n",
        "    - 라이브러리는 여러 패키지를 묶은 것. 하나 이상의 디렉터리로 구성.    "
      ],
      "cell_type": "markdown",
      "metadata": {}
    },
    {
      "cell_type": "code",
      "execution_count": null,
      "metadata": {},
      "outputs": [],
      "source": []
    }
  ],
  "metadata": {
    "anaconda-cloud": {},
    "kernelspec": {
      "display_name": "Python 3",
      "language": "python",
      "name": "python3"
    },
    "language_info": {
      "codemirror_mode": {
        "name": "ipython",
        "version": 3
      },
      "file_extension": ".py",
      "mimetype": "text/x-python",
      "name": "python",
      "nbconvert_exporter": "python",
      "pygments_lexer": "ipython3",
      "version": "3.8.5-final"
    }
  },
  "nbformat": 4,
  "nbformat_minor": 4
}