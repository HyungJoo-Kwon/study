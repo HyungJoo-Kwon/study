{
  "cells": [
    {
      "cell_type": "code",
      "metadata": {},
      "source": [
        "# 고차 미분(준비)\n",
        "\n",
        "class Variable:\n",
        "    def __init__(self, data, name=None):\n",
        "        if data is not None:\n",
        "            if not isinstance(data, np.ndarray):\n",
        "                raise TypeError('{} is not supported'.format(type(data)))\n",
        "\n",
        "        self.data = data\n",
        "        self.name = name\n",
        "        self.grad = None\n",
        "        self.creator = None\n",
        "        self.generation = 0"
      ],
      "outputs": [],
      "execution_count": 3
    },
    {
      "source": [
        "![그림 30-1](./img/30-1.png)"
      ],
      "cell_type": "markdown",
      "metadata": {}
    },
    {
      "cell_type": "code",
      "execution_count": null,
      "metadata": {},
      "outputs": [],
      "source": [
        "x = Variable(np.array(2.0))\n",
        "x.backward()\n",
        "x.grad = np.array(1.0)"
      ]
    },
    {
      "source": [
        "![그림 30-2](./img/30-2.png))"
      ],
      "cell_type": "markdown",
      "metadata": {}
    },
    {
      "cell_type": "code",
      "execution_count": null,
      "metadata": {},
      "outputs": [],
      "source": [
        "class Function:\n",
        "    def __call__(self, *inputs):\n",
        "        xs = [x.data for x in inputs]                   # ---------------------------------------\n",
        "        ys = self.forward(*xs)                          # 순전파 계산 \n",
        "        if not isinstance(ys, tuple):\n",
        "            ys = (ys,)\n",
        "        outputs = [Variable(as_array(y)) for y in ys]   # ---------------------------------------\n",
        "\n",
        "        if Config.enable_backprop:\n",
        "            self.generation = max([x.generation for x in inputs])\n",
        "            for output in outputs:                                       # ---------------------------------------\n",
        "                output.set_creator(self)                                 # Variable과 Function의 관계가 만들어짐.\n",
        "            self.inputs = inputs\n",
        "            self.outputs = [weakref.ref(output) for output in outputs]   # ---------------------------------------\n",
        "\n",
        "        return outputs if len(outputs) > 1 else outputs[0]"
      ]
    },
    {
      "cell_type": "code",
      "execution_count": null,
      "metadata": {},
      "outputs": [],
      "source": [
        "class Sin(Function):\n",
        "    def forward(self, x):\n",
        "        y = np.sin(x)\n",
        "        return y\n",
        "    def backward(self, gy):\n",
        "        x = self.inputs[0].cata\n",
        "        gx = gy * np.cos(x)\n",
        "        return gx\n",
        "\n",
        "def sin(x):\n",
        "    return Sin()(x)\n",
        "\n",
        "x = Variable(np.array(1.0))\n",
        "y = sin(x)"
      ]
    },
    {
      "source": [
        "![그림 30-3](./img/30-3.png)"
      ],
      "cell_type": "markdown",
      "metadata": {}
    },
    {
      "cell_type": "code",
      "execution_count": null,
      "metadata": {},
      "outputs": [],
      "source": [
        "class Variable:\n",
        "    ...\n",
        "\n",
        "    def backward(self, retain_grad=False):      # retain_grad = True : 모든 변수가 미분 결과(기울기) 유지\n",
        "        if self.grad is None:                   # retain_grad = False : 중간 변수의 미분값을 모두 None으로 설정\n",
        "            self.grad = np.ones_like(self.data)\n",
        "\n",
        "        funcs = []\n",
        "        seen_set = set()\n",
        "\n",
        "        def add_func(f):\n",
        "            if f not in seen_set:\n",
        "                funcs.append(f)\n",
        "                seen_set.add(f)\n",
        "                funcs.sort(key=lambda x: x.generation)\n",
        "\n",
        "        add_func(self.creator)\n",
        "\n",
        "        while funcs:\n",
        "            f = funcs.pop()\n",
        "            gys = [output().grad for output in f.outputs]  # output is weakref  # ------------------------------------\n",
        "            gxs = f.backward(*gys)                                              # 역전파 계산    \n",
        "            if not isinstance(gxs, tuple):\n",
        "                gxs = (gxs,)\n",
        "\n",
        "            for x, gx in zip(f.inputs, gxs):\n",
        "                if x.grad is None:\n",
        "                    x.grad = gx\n",
        "                else:\n",
        "                    x.grad = x.grad + gx                                        # ------------------------------------\n",
        "\n",
        "                if x.creator is not None:\n",
        "                    add_func(x.creator)\n",
        "\n",
        "            if not retain_grad:                           # --------------------------------------------------          \n",
        "                for y in f.outputs:                       #  y() : y가 약한 참조이기 때문                \n",
        "                    y().grad = None  # y is weakref       #  y().grad = None 코드가 실행되면 참조카운트가 0이 되어 미분값 \n",
        "                                                          #                  데이터가 메모리에서 삭제됨\n",
        "                                                          # --------------------------------------------------\n",
        "x = Variable(np.array(1.0))\n",
        "y = sin(x)\n",
        "y.backward(retain_grad=True)"
      ]
    },
    {
      "source": [
        "![그림 30-4](./img/30-4.png)"
      ],
      "cell_type": "markdown",
      "metadata": {}
    },
    {
      "cell_type": "code",
      "execution_count": null,
      "metadata": {},
      "outputs": [],
      "source": []
    }
  ],
  "metadata": {
    "anaconda-cloud": {},
    "kernelspec": {
      "display_name": "Python 3",
      "language": "python",
      "name": "python3"
    },
    "language_info": {
      "codemirror_mode": {
        "name": "ipython",
        "version": 3
      },
      "file_extension": ".py",
      "mimetype": "text/x-python",
      "name": "python",
      "nbconvert_exporter": "python",
      "pygments_lexer": "ipython3",
      "version": "3.8.3-final"
    }
  },
  "nbformat": 4,
  "nbformat_minor": 4
}