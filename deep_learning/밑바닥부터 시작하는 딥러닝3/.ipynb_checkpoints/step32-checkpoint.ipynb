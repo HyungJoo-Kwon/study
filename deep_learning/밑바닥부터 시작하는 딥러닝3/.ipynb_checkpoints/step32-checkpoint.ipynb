{
  "cells": [
    {
      "cell_type": "code",
      "metadata": {},
      "source": [
        "# 고차 미분(구현)\n",
        "# dezero/core.py 새로 구현\n",
        "class Variable: \n",
        "    ...\n",
        "     def backward(self, retain_grad=False, create_graph=False):\n",
        "        if self.grad is None:\n",
        "            # self.grad = np.ones_like(self.data)\n",
        "            self.grad = Variable(np.ones_like(self.data))   # self.grad가 Variable 인스턴스를 담게 됨.\n"
      ],
      "outputs": [],
      "execution_count": null
    },
    {
      "cell_type": "code",
      "execution_count": null,
      "metadata": {},
      "outputs": [],
      "source": [
        "def backward(self, retain_grad=False, create_graph=False):      # create_graph 인수 추가, False면 역전파로 인한 계산은 역전파 비활성 모드에서 이뤄진다. \n",
        "        if self.grad is None:\n",
        "            xp = dezero.cuda.get_array_module(self.data)\n",
        "            self.grad = Variable(xp.ones_like(self.data))\n",
        "\n",
        "        funcs = []\n",
        "        seen_set = set()\n",
        "\n",
        "        def add_func(f):\n",
        "            if f not in seen_set:\n",
        "                funcs.append(f)\n",
        "                seen_set.add(f)\n",
        "                funcs.sort(key=lambda x: x.generation)\n",
        "\n",
        "        add_func(self.creator)\n",
        "        while funcs:\n",
        "            f = funcs.pop()\n",
        "            gys = [output().grad for output in f.outputs]  # output is weakref\n",
        "\n",
        "            with using_config('enable_backprop', create_graph):\n",
        "                gxs = f.backward(*gys)\n",
        "                if not isinstance(gxs, tuple):\n",
        "                    gxs = (gxs,)\n",
        "\n",
        "                for x, gx in zip(f.inputs, gxs):\n",
        "                    if x.grad is None:\n",
        "                        x.grad = gx\n",
        "                    else:\n",
        "                        x.grad = x.grad + gx\n",
        "\n",
        "                    if x.creator is not None:\n",
        "                        add_func(x.creator)\n",
        "\n",
        "            if not retain_grad:\n",
        "                for y in f.outputs:\n",
        "                    y().grad = None  # y is weakref"
      ]
    },
    {
      "cell_type": "code",
      "execution_count": null,
      "metadata": {},
      "outputs": [],
      "source": []
    }
  ],
  "metadata": {
    "anaconda-cloud": {},
    "kernelspec": {
      "display_name": "Python 3",
      "language": "python",
      "name": "python3"
    },
    "language_info": {
      "codemirror_mode": {
        "name": "ipython",
        "version": 3
      },
      "file_extension": ".py",
      "mimetype": "text/x-python",
      "name": "python",
      "nbconvert_exporter": "python",
      "pygments_lexer": "ipython3",
      "version": "3.6.1"
    }
  },
  "nbformat": 4,
  "nbformat_minor": 4
}