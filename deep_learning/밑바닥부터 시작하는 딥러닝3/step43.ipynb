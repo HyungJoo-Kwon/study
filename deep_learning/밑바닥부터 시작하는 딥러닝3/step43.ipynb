{
  "cells": [
    {
      "cell_type": "code",
      "metadata": {},
      "source": [
        "# 신경망\n",
        "if '__file__' in globals():\n",
        "    import os, sys\n",
        "    sys.path.append(os.path.join(os.path.dirname(__file__), '..'))\n",
        "\n",
        "import numpy as np\n",
        "import matplotlib.pyplot as plt\n",
        "from dezero import Variable\n",
        "import dezero.functions as F"
      ],
      "outputs": [],
      "execution_count": 5
    },
    {
      "source": [
        "![그림 43-1](./img/43-1.png)    \n",
        "linear처럼 사용 시 메모리를 더 효율적으로"
      ],
      "cell_type": "markdown",
      "metadata": {}
    },
    {
      "cell_type": "code",
      "execution_count": 6,
      "metadata": {},
      "outputs": [],
      "source": [
        "from dezero.core import Function, Variable, as_variable, as_array\n",
        "\n",
        "class Linear(Function):\n",
        "    def forward(self, x, W, b):\n",
        "        y = x.dot(W)\n",
        "        if b is not None:\n",
        "            y += b\n",
        "        return y\n",
        "\n",
        "    def backward(self, gy):\n",
        "        x, W, b = self.inputs\n",
        "        gb = None if b.data is None else sum_to(gy, b.shape)\n",
        "        gx = matmul(gy, W.T)\n",
        "        gW = matmul(x.T, gy)\n",
        "        return gx, gW, gb\n",
        "\n",
        "def linear(x, W, b=None):\n",
        "    return Linear()(x, W, b)\n",
        "\n",
        "def linear_simple(x, W, b=None):\n",
        "    t = matmul(x, W)\n",
        "    print(f't {type(t)}')\n",
        "    if b is None:\n",
        "        return t\n",
        "\n",
        "    y = t + b\n",
        "    t.data = None  # Release t.data (ndarray) for memory efficiency\n",
        "    return y\n",
        "\n",
        "# chainer는 Aggressive Buffer Release 사용\n",
        "# https://docs.google.com/document/d/1CxNS2xg2bLT9LoUe6rPSMuIuqt8Gbkz156LTPJPT3BE/edit#"
      ]
    },
    {
      "cell_type": "code",
      "execution_count": 14,
      "metadata": {},
      "outputs": [
        {
          "output_type": "execute_result",
          "data": {
            "text/plain": [
              "(100, 1)"
            ]
          },
          "metadata": {},
          "execution_count": 14
        }
      ],
      "source": [
        "np.random.seed(0)\n",
        "x = np.random.rand(100, 1)                          \n",
        "y = np.sin(2 * np.pi * x) + np.random.rand(100, 1)          # 비선형 데이터셋\n",
        "\n",
        "x.shape"
      ]
    },
    {
      "source": [
        "신경망은 선형 변환의 출력에 비선형 변환을 수행. (비선형 변환 = 활성화 함수)    \n",
        "대표적으로 ReLU와 sigmoid가 있다     \n",
        "![식 43.1](./img/43.1.png)  \n",
        "![그림 43-3](./img/43-3.png)"
      ],
      "cell_type": "markdown",
      "metadata": {}
    },
    {
      "cell_type": "code",
      "execution_count": 8,
      "metadata": {},
      "outputs": [],
      "source": [
        "# 시그모이드 함수\n",
        "def sigmoid_simple(x):\n",
        "    x = as_variable(x)\n",
        "    y = 1 / (1 + exp(-x))\n",
        "    return y\n",
        "\n",
        "# 시그모이드 개선\n",
        "class Sigmoid(Function):\n",
        "    def forward(self, x):\n",
        "        xp = cuda.get_array_module(x)\n",
        "        # y = 1 / (1 + xp.exp(-x))\n",
        "        y = xp.tanh(x * 0.5) * 0.5 + 0.5  # Better implementation\n",
        "        return y\n",
        "\n",
        "    def backward(self, gy):\n",
        "        y = self.outputs[0]()\n",
        "        gx = gy * y * (1 - y)\n",
        "        return gx\n",
        "\n",
        "\n",
        "def sigmoid(x):\n",
        "    return Sigmoid()(x)"
      ]
    },
    {
      "cell_type": "code",
      "execution_count": 17,
      "metadata": {},
      "outputs": [
        {
          "output_type": "stream",
          "name": "stdout",
          "text": [
            "W1 : [[-0.00814881 -0.00689008 -0.00463214  0.00033506 -0.00367422 -0.01372178\n",
            "  -0.00644026 -0.02235536  0.00630667 -0.01603839]], b1 : [-6.10891136e-04  2.88551875e-05 -4.09090396e-04  8.53520993e-04\n",
            " -7.15145806e-04  1.47719420e-04 -2.17293475e-05 -6.46130550e-04\n",
            "  2.89451243e-04 -9.48909571e-05], w2 : [[0.09950304]\n",
            " [0.11108035]\n",
            " [0.10318738]\n",
            " [0.12606228]\n",
            " [0.09766498]\n",
            " [0.11315802]\n",
            " [0.11017064]\n",
            " [0.09871845]\n",
            " [0.11592803]\n",
            " [0.10874846]], b2 : [0.22126064], loss : variable(0.8593119652336929)\n",
            "W1 : [[-0.67659375 -1.14071595 -0.68506215 -1.42710118 -0.32636497 -1.46813667\n",
            "  -1.08649359 -1.25909168 -0.77495264 -1.39365582]], b1 : [-0.06705836  0.00693032 -0.06730717  0.17825989 -0.02585478  0.21156387\n",
            " -0.01321024  0.064188   -0.06711807  0.15252882], w2 : [[ 0.26833136]\n",
            " [ 0.77656449]\n",
            " [ 0.27723088]\n",
            " [ 1.11690658]\n",
            " [-0.09102799]\n",
            " [ 1.16605444]\n",
            " [ 0.71423584]\n",
            " [ 0.91512791]\n",
            " [ 0.37204394]\n",
            " [ 1.0763443 ]], b2 : [-1.97098488], loss : variable(0.2527540406362989)\n",
            "W1 : [[-0.66790145 -1.12589986 -0.67606329 -1.49138694 -0.33195539 -1.5601236\n",
            "  -1.06917758 -1.25932183 -0.76276904 -1.43939412]], b1 : [-0.06142108  0.10172317 -0.06117014  0.44550519 -0.02501931  0.51432714\n",
            "  0.06199198  0.21481106 -0.05391276  0.39274683], w2 : [[ 0.20646799]\n",
            " [ 0.71020169]\n",
            " [ 0.21505314]\n",
            " [ 1.10253323]\n",
            " [-0.13871753]\n",
            " [ 1.16811819]\n",
            " [ 0.6455847 ]\n",
            " [ 0.86006062]\n",
            " [ 0.30671035]\n",
            " [ 1.05071547]], b2 : [-2.03460855], loss : variable(0.25121096023983636)\n",
            "W1 : [[-0.64969367 -1.09296811 -0.65706075 -1.63084794 -0.35239234 -1.76968902\n",
            "  -1.03133796 -1.25613023 -0.73587562 -1.53477632]], b1 : [-0.05641231  0.17622846 -0.05577949  0.6935058  -0.02682739  0.80415348\n",
            "  0.12005289  0.3400035  -0.04331302  0.61033733], w2 : [[ 0.13488245]\n",
            " [ 0.61500012]\n",
            " [ 0.14263852]\n",
            " [ 1.09410751]\n",
            " [-0.17211777]\n",
            " [ 1.19615175]\n",
            " [ 0.54877167]\n",
            " [ 0.77889991]\n",
            " [ 0.22593493]\n",
            " [ 1.01960363]], b2 : [-2.0075866], loss : variable(0.2494950089053902)\n",
            "W1 : [[-0.63160434 -1.03145228 -0.63766922 -1.83071743 -0.39371472 -2.12870659\n",
            "  -0.96811822 -1.22296981 -0.70323201 -1.64947945]], b1 : [-0.05272768  0.23160791 -0.05177374  0.92377911 -0.03303391  1.09298667\n",
            "  0.16245849  0.43921041 -0.03529991  0.80412808], w2 : [[ 0.05632036]\n",
            " [ 0.48694145]\n",
            " [ 0.06280408]\n",
            " [ 1.07759704]\n",
            " [-0.19388434]\n",
            " [ 1.26090616]\n",
            " [ 0.42256598]\n",
            " [ 0.65824581]\n",
            " [ 0.13304533]\n",
            " [ 0.96241595]], b2 : [-1.872679], loss : variable(0.2470790485373347)\n",
            "W1 : [[-0.6281981  -0.937214   -0.63248242 -2.05678335 -0.46498818 -2.74436743\n",
            "  -0.88161128 -1.13196678 -0.67930302 -1.72389068]], b1 : [-0.05208504  0.27300302 -0.05079892  1.13319775 -0.04576264  1.4212187\n",
            "  0.19370514  0.51696146 -0.0305591   0.97018535], w2 : [[-0.0301571 ]\n",
            " [ 0.32443607]\n",
            " [-0.025241  ]\n",
            " [ 1.00706796]\n",
            " [-0.21311496]\n",
            " [ 1.39992857]\n",
            " [ 0.26766101]\n",
            " [ 0.48320985]\n",
            " [ 0.02862979]\n",
            " [ 0.82854144]], b2 : [-1.58594172], loss : variable(0.24255665312988114)\n",
            "W1 : [[-0.67547999 -0.83201221 -0.67756839 -2.17502108 -0.59640117 -3.86512747\n",
            "  -0.79872351 -0.98105638 -0.70049653 -1.64602193]], b1 : [-0.06027143  0.3044002  -0.0586108   1.32343509 -0.06976326  1.96765202\n",
            "  0.2155065   0.58324112 -0.03428175  1.11909966], w2 : [[-0.14792929]\n",
            " [ 0.12911509]\n",
            " [-0.14452769]\n",
            " [ 0.72682718]\n",
            " [-0.26689373]\n",
            " [ 1.73029698]\n",
            " [ 0.08272638]\n",
            " [ 0.25154949]\n",
            " [-0.10655607]\n",
            " [ 0.51434628]], b2 : [-1.04338179], loss : variable(0.229788584019742)\n",
            "W1 : [[-0.92169149 -0.82316579 -0.92110566 -2.07053883 -0.93493469 -5.79648186\n",
            "  -0.836912   -0.86419505 -0.91387607 -1.48889817]], b1 : [-0.09627598  0.30675844 -0.09434688  1.45690927 -0.11918028  2.96522225\n",
            "  0.20618543  0.62613749 -0.06724282  1.22239765], w2 : [[-0.42242898]\n",
            " [-0.0958493 ]\n",
            " [-0.41940678]\n",
            " [-0.03587749]\n",
            " [-0.51610944]\n",
            " [ 2.35419682]\n",
            " [-0.15580792]\n",
            " [ 0.02703352]\n",
            " [-0.38436845]\n",
            " [-0.01643891]], b2 : [0.0587711], loss : variable(0.18853156846911773)\n",
            "W1 : [[-1.50339539 -1.07572589 -1.50055288 -2.39102584 -1.58930325 -8.19687265\n",
            "  -1.17037751 -0.92383349 -1.46716587 -1.77179453]], b1 : [-0.0984568   0.24528924 -0.09737437  1.22301133 -0.10361368  4.11327657\n",
            "  0.14143751  0.60484943 -0.08082372  1.06661523], w2 : [[-1.06128088]\n",
            " [-0.43406693]\n",
            " [-1.05676017]\n",
            " [-1.06042745]\n",
            " [-1.19675047]\n",
            " [ 3.6975355 ]\n",
            " [-0.57111687]\n",
            " [-0.14713918]\n",
            " [-1.00350817]\n",
            " [-0.66584802]], b2 : [1.36444952], loss : variable(0.10794065514995173)\n",
            "W1 : [[-1.815772   -1.28109675 -1.81232202 -2.59936717 -1.92147264 -9.41186652\n",
            "  -1.40881487 -1.01819045 -1.77196159 -2.02364167]], b1 : [-0.02666195  0.21627403 -0.02635124  1.09611584 -0.01360137  4.63231273\n",
            "  0.12779263  0.57492124 -0.0194288   0.96386394], w2 : [[-1.45999069]\n",
            " [-0.68388866]\n",
            " [-1.45471095]\n",
            " [-1.6058759 ]\n",
            " [-1.61935087]\n",
            " [ 4.78915775]\n",
            " [-0.86453031]\n",
            " [-0.27376012]\n",
            " [-1.39259892]\n",
            " [-1.08907466]], b2 : [1.90125216], loss : variable(0.07852506088311084)\n"
          ]
        }
      ],
      "source": [
        "I, H, O = 1, 10, 1\n",
        "W1 = Variable(0.01 * np.random.randn(I, H)) # (1, 10), 가중치는 랜덤으로\n",
        "b1 = Variable(np.zeros(H))                  # (10,)\n",
        "W2 = Variable(0.01 * np.random.randn(H, O)) # (10, 1), 가중치는 랜덤으로\n",
        "b2 = Variable(np.zeros(O))                  # (1,)\n",
        "\n",
        "\n",
        "\n",
        "def predict(x):                 # 2층 신경망\n",
        "    y = F.linear(x, W1, b1)    \n",
        "    # (100,1) * (1, 10) + (10, ) = (100, 10)\n",
        "    y = F.sigmoid(y)           \n",
        "    # (100, 10)\n",
        "    y = F.linear(y, W2, b2)   \n",
        "    # (100, 10) * (10, 1) + (1, ) = (100, 1)\n",
        "    return y\n",
        "\n",
        "lr = 0.2\n",
        "iters = 10000\n",
        "\n",
        "for i in range(iters):\n",
        "    y_pred = predict(x)\n",
        "    loss = F.mean_squared_error(y, y_pred)\n",
        "\n",
        "    W1.cleargrad()\n",
        "    b1.cleargrad()\n",
        "    W2.cleargrad()\n",
        "    b2.cleargrad()\n",
        "    loss.backward()\n",
        "\n",
        "    W1.data -= lr * W1.grad.data\n",
        "    b1.data -= lr * b1.grad.data\n",
        "    W2.data -= lr * W2.grad.data\n",
        "    b2.data -= lr * b2.grad.data\n",
        "    if i % 1000 == 0:\n",
        "        print(f'W1 : {W1.data}, b1 : {b1.data}, w2 : {W2.data}, b2 : {b2.data}, loss : {loss}')\n"
      ]
    },
    {
      "cell_type": "code",
      "execution_count": 11,
      "metadata": {},
      "outputs": [
        {
          "output_type": "stream",
          "name": "stdout",
          "text": [
            "(100, 1)\n(100, 1)\n(1, 100)\n"
          ]
        },
        {
          "output_type": "display_data",
          "data": {
            "text/plain": "<Figure size 432x288 with 1 Axes>",
            "image/svg+xml": "<?xml version=\"1.0\" encoding=\"utf-8\" standalone=\"no\"?>\r\n<!DOCTYPE svg PUBLIC \"-//W3C//DTD SVG 1.1//EN\"\r\n  \"http://www.w3.org/Graphics/SVG/1.1/DTD/svg11.dtd\">\r\n<!-- Created with matplotlib (https://matplotlib.org/) -->\r\n<svg height=\"262.19625pt\" version=\"1.1\" viewBox=\"0 0 394.160937 262.19625\" width=\"394.160937pt\" xmlns=\"http://www.w3.org/2000/svg\" xmlns:xlink=\"http://www.w3.org/1999/xlink\">\r\n <metadata>\r\n  <rdf:RDF xmlns:cc=\"http://creativecommons.org/ns#\" xmlns:dc=\"http://purl.org/dc/elements/1.1/\" xmlns:rdf=\"http://www.w3.org/1999/02/22-rdf-syntax-ns#\">\r\n   <cc:Work>\r\n    <dc:type rdf:resource=\"http://purl.org/dc/dcmitype/StillImage\"/>\r\n    <dc:date>2021-03-11T14:55:34.600972</dc:date>\r\n    <dc:format>image/svg+xml</dc:format>\r\n    <dc:creator>\r\n     <cc:Agent>\r\n      <dc:title>Matplotlib v3.3.4, https://matplotlib.org/</dc:title>\r\n     </cc:Agent>\r\n    </dc:creator>\r\n   </cc:Work>\r\n  </rdf:RDF>\r\n </metadata>\r\n <defs>\r\n  <style type=\"text/css\">*{stroke-linecap:butt;stroke-linejoin:round;}</style>\r\n </defs>\r\n <g id=\"figure_1\">\r\n  <g id=\"patch_1\">\r\n   <path d=\"M 0 262.19625 \r\nL 394.160937 262.19625 \r\nL 394.160937 0 \r\nL 0 0 \r\nz\r\n\" style=\"fill:none;\"/>\r\n  </g>\r\n  <g id=\"axes_1\">\r\n   <g id=\"patch_2\">\r\n    <path d=\"M 52.160938 224.64 \r\nL 386.960938 224.64 \r\nL 386.960938 7.2 \r\nL 52.160938 7.2 \r\nz\r\n\" style=\"fill:#ffffff;\"/>\r\n   </g>\r\n   <g id=\"PathCollection_1\">\r\n    <defs>\r\n     <path d=\"M 0 1.581139 \r\nC 0.419323 1.581139 0.821528 1.41454 1.118034 1.118034 \r\nC 1.41454 0.821528 1.581139 0.419323 1.581139 0 \r\nC 1.581139 -0.419323 1.41454 -0.821528 1.118034 -1.118034 \r\nC 0.821528 -1.41454 0.419323 -1.581139 0 -1.581139 \r\nC -0.419323 -1.581139 -0.821528 -1.41454 -1.118034 -1.118034 \r\nC -1.41454 -0.821528 -1.581139 -0.419323 -1.581139 0 \r\nC -1.581139 0.419323 -1.41454 0.821528 -1.118034 1.118034 \r\nC -0.821528 1.41454 -0.419323 1.581139 0 1.581139 \r\nz\r\n\" id=\"mf9d10eca15\" style=\"stroke:#1f77b4;\"/>\r\n    </defs>\r\n    <g clip-path=\"url(#pee04216b94)\">\r\n     <use style=\"fill:#1f77b4;stroke:#1f77b4;\" x=\"236.105254\" xlink:href=\"#mf9d10eca15\" y=\"125.679581\"/>\r\n     <use style=\"fill:#1f77b4;stroke:#1f77b4;\" x=\"287.25552\" xlink:href=\"#mf9d10eca15\" y=\"201.794381\"/>\r\n     <use style=\"fill:#1f77b4;stroke:#1f77b4;\" x=\"252.691496\" xlink:href=\"#mf9d10eca15\" y=\"142.733809\"/>\r\n     <use style=\"fill:#1f77b4;stroke:#1f77b4;\" x=\"234.896924\" xlink:href=\"#mf9d10eca15\" y=\"104.013915\"/>\r\n     <use style=\"fill:#1f77b4;stroke:#1f77b4;\" x=\"197.626711\" xlink:href=\"#mf9d10eca15\" y=\"102.159985\"/>\r\n     <use style=\"fill:#1f77b4;stroke:#1f77b4;\" x=\"265.951524\" xlink:href=\"#mf9d10eca15\" y=\"167.41543\"/>\r\n     <use style=\"fill:#1f77b4;stroke:#1f77b4;\" x=\"201.910064\" xlink:href=\"#mf9d10eca15\" y=\"83.592423\"/>\r\n     <use style=\"fill:#1f77b4;stroke:#1f77b4;\" x=\"341.544042\" xlink:href=\"#mf9d10eca15\" y=\"156.098839\"/>\r\n     <use style=\"fill:#1f77b4;stroke:#1f77b4;\" x=\"363.645687\" xlink:href=\"#mf9d10eca15\" y=\"152.349918\"/>\r\n     <use style=\"fill:#1f77b4;stroke:#1f77b4;\" x=\"185.263619\" xlink:href=\"#mf9d10eca15\" y=\"38.070153\"/>\r\n     <use style=\"fill:#1f77b4;stroke:#1f77b4;\" x=\"310.785495\" xlink:href=\"#mf9d10eca15\" y=\"188.607894\"/>\r\n     <use style=\"fill:#1f77b4;stroke:#1f77b4;\" x=\"229.981524\" xlink:href=\"#mf9d10eca15\" y=\"105.283597\"/>\r\n     <use style=\"fill:#1f77b4;stroke:#1f77b4;\" x=\"242.017612\" xlink:href=\"#mf9d10eca15\" y=\"132.08418\"/>\r\n     <use style=\"fill:#1f77b4;stroke:#1f77b4;\" x=\"351.942714\" xlink:href=\"#mf9d10eca15\" y=\"162.898182\"/>\r\n     <use style=\"fill:#1f77b4;stroke:#1f77b4;\" x=\"89.218304\" xlink:href=\"#mf9d10eca15\" y=\"64.512885\"/>\r\n     <use style=\"fill:#1f77b4;stroke:#1f77b4;\" x=\"94.165978\" xlink:href=\"#mf9d10eca15\" y=\"87.616141\"/>\r\n     <use style=\"fill:#1f77b4;stroke:#1f77b4;\" x=\"73.595023\" xlink:href=\"#mf9d10eca15\" y=\"81.230429\"/>\r\n     <use style=\"fill:#1f77b4;stroke:#1f77b4;\" x=\"323.358113\" xlink:href=\"#mf9d10eca15\" y=\"172.308208\"/>\r\n     <use style=\"fill:#1f77b4;stroke:#1f77b4;\" x=\"306.614087\" xlink:href=\"#mf9d10eca15\" y=\"159.342102\"/>\r\n     <use style=\"fill:#1f77b4;stroke:#1f77b4;\" x=\"334.853929\" xlink:href=\"#mf9d10eca15\" y=\"154.680437\"/>\r\n     <use style=\"fill:#1f77b4;stroke:#1f77b4;\" x=\"368.243601\" xlink:href=\"#mf9d10eca15\" y=\"110.526837\"/>\r\n     <use style=\"fill:#1f77b4;stroke:#1f77b4;\" x=\"313.070843\" xlink:href=\"#mf9d10eca15\" y=\"183.870149\"/>\r\n     <use style=\"fill:#1f77b4;stroke:#1f77b4;\" x=\"209.255419\" xlink:href=\"#mf9d10eca15\" y=\"68.008777\"/>\r\n     <use style=\"fill:#1f77b4;stroke:#1f77b4;\" x=\"307.343461\" xlink:href=\"#mf9d10eca15\" y=\"175.873378\"/>\r\n     <use style=\"fill:#1f77b4;stroke:#1f77b4;\" x=\"103.741174\" xlink:href=\"#mf9d10eca15\" y=\"74.712472\"/>\r\n     <use style=\"fill:#1f77b4;stroke:#1f77b4;\" x=\"264.115169\" xlink:href=\"#mf9d10eca15\" y=\"163.643347\"/>\r\n     <use style=\"fill:#1f77b4;stroke:#1f77b4;\" x=\"111.45137\" xlink:href=\"#mf9d10eca15\" y=\"95.638829\"/>\r\n     <use style=\"fill:#1f77b4;stroke:#1f77b4;\" x=\"357.806257\" xlink:href=\"#mf9d10eca15\" y=\"154.872812\"/>\r\n     <use style=\"fill:#1f77b4;stroke:#1f77b4;\" x=\"227.815132\" xlink:href=\"#mf9d10eca15\" y=\"115.309108\"/>\r\n     <use style=\"fill:#1f77b4;stroke:#1f77b4;\" x=\"194.861964\" xlink:href=\"#mf9d10eca15\" y=\"95.780805\"/>\r\n     <use style=\"fill:#1f77b4;stroke:#1f77b4;\" x=\"148.713572\" xlink:href=\"#mf9d10eca15\" y=\"38.600394\"/>\r\n     <use style=\"fill:#1f77b4;stroke:#1f77b4;\" x=\"305.407989\" xlink:href=\"#mf9d10eca15\" y=\"191.488821\"/>\r\n     <use style=\"fill:#1f77b4;stroke:#1f77b4;\" x=\"207.617073\" xlink:href=\"#mf9d10eca15\" y=\"123.455433\"/>\r\n     <use style=\"fill:#1f77b4;stroke:#1f77b4;\" x=\"242.137325\" xlink:href=\"#mf9d10eca15\" y=\"160.461743\"/>\r\n     <use style=\"fill:#1f77b4;stroke:#1f77b4;\" x=\"73.155818\" xlink:href=\"#mf9d10eca15\" y=\"103.743218\"/>\r\n     <use style=\"fill:#1f77b4;stroke:#1f77b4;\" x=\"257.263751\" xlink:href=\"#mf9d10eca15\" y=\"157.943214\"/>\r\n     <use style=\"fill:#1f77b4;stroke:#1f77b4;\" x=\"255.560614\" xlink:href=\"#mf9d10eca15\" y=\"157.269334\"/>\r\n     <use style=\"fill:#1f77b4;stroke:#1f77b4;\" x=\"257.048084\" xlink:href=\"#mf9d10eca15\" y=\"153.329327\"/>\r\n     <use style=\"fill:#1f77b4;stroke:#1f77b4;\" x=\"357.523157\" xlink:href=\"#mf9d10eca15\" y=\"130.598133\"/>\r\n     <use style=\"fill:#1f77b4;stroke:#1f77b4;\" x=\"276.9966\" xlink:href=\"#mf9d10eca15\" y=\"185.759997\"/>\r\n     <use style=\"fill:#1f77b4;stroke:#1f77b4;\" x=\"177.905515\" xlink:href=\"#mf9d10eca15\" y=\"34.718159\"/>\r\n     <use style=\"fill:#1f77b4;stroke:#1f77b4;\" x=\"201.739356\" xlink:href=\"#mf9d10eca15\" y=\"99.156211\"/>\r\n     <use style=\"fill:#1f77b4;stroke:#1f77b4;\" x=\"281.85747\" xlink:href=\"#mf9d10eca15\" y=\"188.029799\"/>\r\n     <use style=\"fill:#1f77b4;stroke:#1f77b4;\" x=\"85.894719\" xlink:href=\"#mf9d10eca15\" y=\"63.393988\"/>\r\n     <use style=\"fill:#1f77b4;stroke:#1f77b4;\" x=\"272.368556\" xlink:href=\"#mf9d10eca15\" y=\"156.35182\"/>\r\n     <use style=\"fill:#1f77b4;stroke:#1f77b4;\" x=\"273.558696\" xlink:href=\"#mf9d10eca15\" y=\"164.384629\"/>\r\n     <use style=\"fill:#1f77b4;stroke:#1f77b4;\" x=\"132.058717\" xlink:href=\"#mf9d10eca15\" y=\"76.896841\"/>\r\n     <use style=\"fill:#1f77b4;stroke:#1f77b4;\" x=\"107.015965\" xlink:href=\"#mf9d10eca15\" y=\"36.491518\"/>\r\n     <use style=\"fill:#1f77b4;stroke:#1f77b4;\" x=\"164.353786\" xlink:href=\"#mf9d10eca15\" y=\"37.398427\"/>\r\n     <use style=\"fill:#1f77b4;stroke:#1f77b4;\" x=\"179.197637\" xlink:href=\"#mf9d10eca15\" y=\"28.720558\"/>\r\n     <use style=\"fill:#1f77b4;stroke:#1f77b4;\" x=\"242.679283\" xlink:href=\"#mf9d10eca15\" y=\"171.637428\"/>\r\n     <use style=\"fill:#1f77b4;stroke:#1f77b4;\" x=\"202.221899\" xlink:href=\"#mf9d10eca15\" y=\"64.586888\"/>\r\n     <use style=\"fill:#1f77b4;stroke:#1f77b4;\" x=\"371.242812\" xlink:href=\"#mf9d10eca15\" y=\"145.824833\"/>\r\n     <use style=\"fill:#1f77b4;stroke:#1f77b4;\" x=\"98.751574\" xlink:href=\"#mf9d10eca15\" y=\"66.747515\"/>\r\n     <use style=\"fill:#1f77b4;stroke:#1f77b4;\" x=\"131.595775\" xlink:href=\"#mf9d10eca15\" y=\"75.40426\"/>\r\n     <use style=\"fill:#1f77b4;stroke:#1f77b4;\" x=\"116.971798\" xlink:href=\"#mf9d10eca15\" y=\"32.770439\"/>\r\n     <use style=\"fill:#1f77b4;stroke:#1f77b4;\" x=\"268.169447\" xlink:href=\"#mf9d10eca15\" y=\"153.037089\"/>\r\n     <use style=\"fill:#1f77b4;stroke:#1f77b4;\" x=\"145.250587\" xlink:href=\"#mf9d10eca15\" y=\"41.76223\"/>\r\n     <use style=\"fill:#1f77b4;stroke:#1f77b4;\" x=\"210.740778\" xlink:href=\"#mf9d10eca15\" y=\"108.700149\"/>\r\n     <use style=\"fill:#1f77b4;stroke:#1f77b4;\" x=\"142.524839\" xlink:href=\"#mf9d10eca15\" y=\"76.956726\"/>\r\n     <use style=\"fill:#1f77b4;stroke:#1f77b4;\" x=\"116.252413\" xlink:href=\"#mf9d10eca15\" y=\"43.915891\"/>\r\n     <use style=\"fill:#1f77b4;stroke:#1f77b4;\" x=\"101.312634\" xlink:href=\"#mf9d10eca15\" y=\"75.252521\"/>\r\n     <use style=\"fill:#1f77b4;stroke:#1f77b4;\" x=\"269.159786\" xlink:href=\"#mf9d10eca15\" y=\"159.837003\"/>\r\n     <use style=\"fill:#1f77b4;stroke:#1f77b4;\" x=\"109.861812\" xlink:href=\"#mf9d10eca15\" y=\"37.493782\"/>\r\n     <use style=\"fill:#1f77b4;stroke:#1f77b4;\" x=\"127.816011\" xlink:href=\"#mf9d10eca15\" y=\"17.083636\"/>\r\n     <use style=\"fill:#1f77b4;stroke:#1f77b4;\" x=\"180.739254\" xlink:href=\"#mf9d10eca15\" y=\"40.260787\"/>\r\n     <use style=\"fill:#1f77b4;stroke:#1f77b4;\" x=\"319.783649\" xlink:href=\"#mf9d10eca15\" y=\"214.756364\"/>\r\n     <use style=\"fill:#1f77b4;stroke:#1f77b4;\" x=\"97.231743\" xlink:href=\"#mf9d10eca15\" y=\"86.496654\"/>\r\n     <use style=\"fill:#1f77b4;stroke:#1f77b4;\" x=\"324.99524\" xlink:href=\"#mf9d10eca15\" y=\"160.64551\"/>\r\n     <use style=\"fill:#1f77b4;stroke:#1f77b4;\" x=\"96.923423\" xlink:href=\"#mf9d10eca15\" y=\"100.10955\"/>\r\n     <use style=\"fill:#1f77b4;stroke:#1f77b4;\" x=\"367.57988\" xlink:href=\"#mf9d10eca15\" y=\"125.836612\"/>\r\n     <use style=\"fill:#1f77b4;stroke:#1f77b4;\" x=\"211.460315\" xlink:href=\"#mf9d10eca15\" y=\"134.532914\"/>\r\n     <use style=\"fill:#1f77b4;stroke:#1f77b4;\" x=\"367.672611\" xlink:href=\"#mf9d10eca15\" y=\"148.287379\"/>\r\n     <use style=\"fill:#1f77b4;stroke:#1f77b4;\" x=\"253.331626\" xlink:href=\"#mf9d10eca15\" y=\"193.877402\"/>\r\n     <use style=\"fill:#1f77b4;stroke:#1f77b4;\" x=\"294.656848\" xlink:href=\"#mf9d10eca15\" y=\"166.472802\"/>\r\n     <use style=\"fill:#1f77b4;stroke:#1f77b4;\" x=\"79.426936\" xlink:href=\"#mf9d10eca15\" y=\"119.224266\"/>\r\n     <use style=\"fill:#1f77b4;stroke:#1f77b4;\" x=\"154.324731\" xlink:href=\"#mf9d10eca15\" y=\"58.97532\"/>\r\n     <use style=\"fill:#1f77b4;stroke:#1f77b4;\" x=\"104.332112\" xlink:href=\"#mf9d10eca15\" y=\"38.622066\"/>\r\n     <use style=\"fill:#1f77b4;stroke:#1f77b4;\" x=\"158.423874\" xlink:href=\"#mf9d10eca15\" y=\"35.164289\"/>\r\n     <use style=\"fill:#1f77b4;stroke:#1f77b4;\" x=\"103.880534\" xlink:href=\"#mf9d10eca15\" y=\"102.140387\"/>\r\n     <use style=\"fill:#1f77b4;stroke:#1f77b4;\" x=\"165.139237\" xlink:href=\"#mf9d10eca15\" y=\"76.514258\"/>\r\n     <use style=\"fill:#1f77b4;stroke:#1f77b4;\" x=\"194.739313\" xlink:href=\"#mf9d10eca15\" y=\"72.317907\"/>\r\n     <use style=\"fill:#1f77b4;stroke:#1f77b4;\" x=\"87.100498\" xlink:href=\"#mf9d10eca15\" y=\"83.927543\"/>\r\n     <use style=\"fill:#1f77b4;stroke:#1f77b4;\" x=\"280.271374\" xlink:href=\"#mf9d10eca15\" y=\"201.183926\"/>\r\n     <use style=\"fill:#1f77b4;stroke:#1f77b4;\" x=\"241.573947\" xlink:href=\"#mf9d10eca15\" y=\"114.990847\"/>\r\n     <use style=\"fill:#1f77b4;stroke:#1f77b4;\" x=\"148.969938\" xlink:href=\"#mf9d10eca15\" y=\"38.919863\"/>\r\n     <use style=\"fill:#1f77b4;stroke:#1f77b4;\" x=\"228.245463\" xlink:href=\"#mf9d10eca15\" y=\"124.68201\"/>\r\n     <use style=\"fill:#1f77b4;stroke:#1f77b4;\" x=\"96.260004\" xlink:href=\"#mf9d10eca15\" y=\"71.475569\"/>\r\n     <use style=\"fill:#1f77b4;stroke:#1f77b4;\" x=\"244.446968\" xlink:href=\"#mf9d10eca15\" y=\"133.069541\"/>\r\n     <use style=\"fill:#1f77b4;stroke:#1f77b4;\" x=\"353.080099\" xlink:href=\"#mf9d10eca15\" y=\"160.409562\"/>\r\n     <use style=\"fill:#1f77b4;stroke:#1f77b4;\" x=\"165.319326\" xlink:href=\"#mf9d10eca15\" y=\"60.195169\"/>\r\n     <use style=\"fill:#1f77b4;stroke:#1f77b4;\" x=\"272.566443\" xlink:href=\"#mf9d10eca15\" y=\"198.441945\"/>\r\n     <use style=\"fill:#1f77b4;stroke:#1f77b4;\" x=\"107.898793\" xlink:href=\"#mf9d10eca15\" y=\"87.205985\"/>\r\n     <use style=\"fill:#1f77b4;stroke:#1f77b4;\" x=\"287.605334\" xlink:href=\"#mf9d10eca15\" y=\"154.465524\"/>\r\n     <use style=\"fill:#1f77b4;stroke:#1f77b4;\" x=\"156.353555\" xlink:href=\"#mf9d10eca15\" y=\"31.902491\"/>\r\n     <use style=\"fill:#1f77b4;stroke:#1f77b4;\" x=\"123.699108\" xlink:href=\"#mf9d10eca15\" y=\"53.385969\"/>\r\n     <use style=\"fill:#1f77b4;stroke:#1f77b4;\" x=\"247.695493\" xlink:href=\"#mf9d10eca15\" y=\"172.505209\"/>\r\n     <use style=\"fill:#1f77b4;stroke:#1f77b4;\" x=\"73.560943\" xlink:href=\"#mf9d10eca15\" y=\"125.36572\"/>\r\n     <use style=\"fill:#1f77b4;stroke:#1f77b4;\" x=\"322.226798\" xlink:href=\"#mf9d10eca15\" y=\"209.904749\"/>\r\n     <use style=\"fill:#1f77b4;stroke:#1f77b4;\" x=\"68.822687\" xlink:href=\"#mf9d10eca15\" y=\"119.488298\"/>\r\n    </g>\r\n   </g>\r\n   <g id=\"matplotlib.axis_1\">\r\n    <g id=\"xtick_1\">\r\n     <g id=\"line2d_1\">\r\n      <defs>\r\n       <path d=\"M 0 0 \r\nL 0 3.5 \r\n\" id=\"m6cb142c8ff\" style=\"stroke:#000000;stroke-width:0.8;\"/>\r\n      </defs>\r\n      <g>\r\n       <use style=\"stroke:#000000;stroke-width:0.8;\" x=\"67.379119\" xlink:href=\"#m6cb142c8ff\" y=\"224.64\"/>\r\n      </g>\r\n     </g>\r\n     <g id=\"text_1\">\r\n      <!-- 0.0 -->\r\n      <g transform=\"translate(59.427557 239.238437)scale(0.1 -0.1)\">\r\n       <defs>\r\n        <path d=\"M 31.78125 66.40625 \r\nQ 24.171875 66.40625 20.328125 58.90625 \r\nQ 16.5 51.421875 16.5 36.375 \r\nQ 16.5 21.390625 20.328125 13.890625 \r\nQ 24.171875 6.390625 31.78125 6.390625 \r\nQ 39.453125 6.390625 43.28125 13.890625 \r\nQ 47.125 21.390625 47.125 36.375 \r\nQ 47.125 51.421875 43.28125 58.90625 \r\nQ 39.453125 66.40625 31.78125 66.40625 \r\nz\r\nM 31.78125 74.21875 \r\nQ 44.046875 74.21875 50.515625 64.515625 \r\nQ 56.984375 54.828125 56.984375 36.375 \r\nQ 56.984375 17.96875 50.515625 8.265625 \r\nQ 44.046875 -1.421875 31.78125 -1.421875 \r\nQ 19.53125 -1.421875 13.0625 8.265625 \r\nQ 6.59375 17.96875 6.59375 36.375 \r\nQ 6.59375 54.828125 13.0625 64.515625 \r\nQ 19.53125 74.21875 31.78125 74.21875 \r\nz\r\n\" id=\"DejaVuSans-48\"/>\r\n        <path d=\"M 10.6875 12.40625 \r\nL 21 12.40625 \r\nL 21 0 \r\nL 10.6875 0 \r\nz\r\n\" id=\"DejaVuSans-46\"/>\r\n       </defs>\r\n       <use xlink:href=\"#DejaVuSans-48\"/>\r\n       <use x=\"63.623047\" xlink:href=\"#DejaVuSans-46\"/>\r\n       <use x=\"95.410156\" xlink:href=\"#DejaVuSans-48\"/>\r\n      </g>\r\n     </g>\r\n    </g>\r\n    <g id=\"xtick_2\">\r\n     <g id=\"line2d_2\">\r\n      <g>\r\n       <use style=\"stroke:#000000;stroke-width:0.8;\" x=\"128.866723\" xlink:href=\"#m6cb142c8ff\" y=\"224.64\"/>\r\n      </g>\r\n     </g>\r\n     <g id=\"text_2\">\r\n      <!-- 0.2 -->\r\n      <g transform=\"translate(120.91516 239.238437)scale(0.1 -0.1)\">\r\n       <defs>\r\n        <path d=\"M 19.1875 8.296875 \r\nL 53.609375 8.296875 \r\nL 53.609375 0 \r\nL 7.328125 0 \r\nL 7.328125 8.296875 \r\nQ 12.9375 14.109375 22.625 23.890625 \r\nQ 32.328125 33.6875 34.8125 36.53125 \r\nQ 39.546875 41.84375 41.421875 45.53125 \r\nQ 43.3125 49.21875 43.3125 52.78125 \r\nQ 43.3125 58.59375 39.234375 62.25 \r\nQ 35.15625 65.921875 28.609375 65.921875 \r\nQ 23.96875 65.921875 18.8125 64.3125 \r\nQ 13.671875 62.703125 7.8125 59.421875 \r\nL 7.8125 69.390625 \r\nQ 13.765625 71.78125 18.9375 73 \r\nQ 24.125 74.21875 28.421875 74.21875 \r\nQ 39.75 74.21875 46.484375 68.546875 \r\nQ 53.21875 62.890625 53.21875 53.421875 \r\nQ 53.21875 48.921875 51.53125 44.890625 \r\nQ 49.859375 40.875 45.40625 35.40625 \r\nQ 44.1875 33.984375 37.640625 27.21875 \r\nQ 31.109375 20.453125 19.1875 8.296875 \r\nz\r\n\" id=\"DejaVuSans-50\"/>\r\n       </defs>\r\n       <use xlink:href=\"#DejaVuSans-48\"/>\r\n       <use x=\"63.623047\" xlink:href=\"#DejaVuSans-46\"/>\r\n       <use x=\"95.410156\" xlink:href=\"#DejaVuSans-50\"/>\r\n      </g>\r\n     </g>\r\n    </g>\r\n    <g id=\"xtick_3\">\r\n     <g id=\"line2d_3\">\r\n      <g>\r\n       <use style=\"stroke:#000000;stroke-width:0.8;\" x=\"190.354326\" xlink:href=\"#m6cb142c8ff\" y=\"224.64\"/>\r\n      </g>\r\n     </g>\r\n     <g id=\"text_3\">\r\n      <!-- 0.4 -->\r\n      <g transform=\"translate(182.402763 239.238437)scale(0.1 -0.1)\">\r\n       <defs>\r\n        <path d=\"M 37.796875 64.3125 \r\nL 12.890625 25.390625 \r\nL 37.796875 25.390625 \r\nz\r\nM 35.203125 72.90625 \r\nL 47.609375 72.90625 \r\nL 47.609375 25.390625 \r\nL 58.015625 25.390625 \r\nL 58.015625 17.1875 \r\nL 47.609375 17.1875 \r\nL 47.609375 0 \r\nL 37.796875 0 \r\nL 37.796875 17.1875 \r\nL 4.890625 17.1875 \r\nL 4.890625 26.703125 \r\nz\r\n\" id=\"DejaVuSans-52\"/>\r\n       </defs>\r\n       <use xlink:href=\"#DejaVuSans-48\"/>\r\n       <use x=\"63.623047\" xlink:href=\"#DejaVuSans-46\"/>\r\n       <use x=\"95.410156\" xlink:href=\"#DejaVuSans-52\"/>\r\n      </g>\r\n     </g>\r\n    </g>\r\n    <g id=\"xtick_4\">\r\n     <g id=\"line2d_4\">\r\n      <g>\r\n       <use style=\"stroke:#000000;stroke-width:0.8;\" x=\"251.841929\" xlink:href=\"#m6cb142c8ff\" y=\"224.64\"/>\r\n      </g>\r\n     </g>\r\n     <g id=\"text_4\">\r\n      <!-- 0.6 -->\r\n      <g transform=\"translate(243.890367 239.238437)scale(0.1 -0.1)\">\r\n       <defs>\r\n        <path d=\"M 33.015625 40.375 \r\nQ 26.375 40.375 22.484375 35.828125 \r\nQ 18.609375 31.296875 18.609375 23.390625 \r\nQ 18.609375 15.53125 22.484375 10.953125 \r\nQ 26.375 6.390625 33.015625 6.390625 \r\nQ 39.65625 6.390625 43.53125 10.953125 \r\nQ 47.40625 15.53125 47.40625 23.390625 \r\nQ 47.40625 31.296875 43.53125 35.828125 \r\nQ 39.65625 40.375 33.015625 40.375 \r\nz\r\nM 52.59375 71.296875 \r\nL 52.59375 62.3125 \r\nQ 48.875 64.0625 45.09375 64.984375 \r\nQ 41.3125 65.921875 37.59375 65.921875 \r\nQ 27.828125 65.921875 22.671875 59.328125 \r\nQ 17.53125 52.734375 16.796875 39.40625 \r\nQ 19.671875 43.65625 24.015625 45.921875 \r\nQ 28.375 48.1875 33.59375 48.1875 \r\nQ 44.578125 48.1875 50.953125 41.515625 \r\nQ 57.328125 34.859375 57.328125 23.390625 \r\nQ 57.328125 12.15625 50.6875 5.359375 \r\nQ 44.046875 -1.421875 33.015625 -1.421875 \r\nQ 20.359375 -1.421875 13.671875 8.265625 \r\nQ 6.984375 17.96875 6.984375 36.375 \r\nQ 6.984375 53.65625 15.1875 63.9375 \r\nQ 23.390625 74.21875 37.203125 74.21875 \r\nQ 40.921875 74.21875 44.703125 73.484375 \r\nQ 48.484375 72.75 52.59375 71.296875 \r\nz\r\n\" id=\"DejaVuSans-54\"/>\r\n       </defs>\r\n       <use xlink:href=\"#DejaVuSans-48\"/>\r\n       <use x=\"63.623047\" xlink:href=\"#DejaVuSans-46\"/>\r\n       <use x=\"95.410156\" xlink:href=\"#DejaVuSans-54\"/>\r\n      </g>\r\n     </g>\r\n    </g>\r\n    <g id=\"xtick_5\">\r\n     <g id=\"line2d_5\">\r\n      <g>\r\n       <use style=\"stroke:#000000;stroke-width:0.8;\" x=\"313.329533\" xlink:href=\"#m6cb142c8ff\" y=\"224.64\"/>\r\n      </g>\r\n     </g>\r\n     <g id=\"text_5\">\r\n      <!-- 0.8 -->\r\n      <g transform=\"translate(305.37797 239.238437)scale(0.1 -0.1)\">\r\n       <defs>\r\n        <path d=\"M 31.78125 34.625 \r\nQ 24.75 34.625 20.71875 30.859375 \r\nQ 16.703125 27.09375 16.703125 20.515625 \r\nQ 16.703125 13.921875 20.71875 10.15625 \r\nQ 24.75 6.390625 31.78125 6.390625 \r\nQ 38.8125 6.390625 42.859375 10.171875 \r\nQ 46.921875 13.96875 46.921875 20.515625 \r\nQ 46.921875 27.09375 42.890625 30.859375 \r\nQ 38.875 34.625 31.78125 34.625 \r\nz\r\nM 21.921875 38.8125 \r\nQ 15.578125 40.375 12.03125 44.71875 \r\nQ 8.5 49.078125 8.5 55.328125 \r\nQ 8.5 64.0625 14.71875 69.140625 \r\nQ 20.953125 74.21875 31.78125 74.21875 \r\nQ 42.671875 74.21875 48.875 69.140625 \r\nQ 55.078125 64.0625 55.078125 55.328125 \r\nQ 55.078125 49.078125 51.53125 44.71875 \r\nQ 48 40.375 41.703125 38.8125 \r\nQ 48.828125 37.15625 52.796875 32.3125 \r\nQ 56.78125 27.484375 56.78125 20.515625 \r\nQ 56.78125 9.90625 50.3125 4.234375 \r\nQ 43.84375 -1.421875 31.78125 -1.421875 \r\nQ 19.734375 -1.421875 13.25 4.234375 \r\nQ 6.78125 9.90625 6.78125 20.515625 \r\nQ 6.78125 27.484375 10.78125 32.3125 \r\nQ 14.796875 37.15625 21.921875 38.8125 \r\nz\r\nM 18.3125 54.390625 \r\nQ 18.3125 48.734375 21.84375 45.5625 \r\nQ 25.390625 42.390625 31.78125 42.390625 \r\nQ 38.140625 42.390625 41.71875 45.5625 \r\nQ 45.3125 48.734375 45.3125 54.390625 \r\nQ 45.3125 60.0625 41.71875 63.234375 \r\nQ 38.140625 66.40625 31.78125 66.40625 \r\nQ 25.390625 66.40625 21.84375 63.234375 \r\nQ 18.3125 60.0625 18.3125 54.390625 \r\nz\r\n\" id=\"DejaVuSans-56\"/>\r\n       </defs>\r\n       <use xlink:href=\"#DejaVuSans-48\"/>\r\n       <use x=\"63.623047\" xlink:href=\"#DejaVuSans-46\"/>\r\n       <use x=\"95.410156\" xlink:href=\"#DejaVuSans-56\"/>\r\n      </g>\r\n     </g>\r\n    </g>\r\n    <g id=\"xtick_6\">\r\n     <g id=\"line2d_6\">\r\n      <g>\r\n       <use style=\"stroke:#000000;stroke-width:0.8;\" x=\"374.817136\" xlink:href=\"#m6cb142c8ff\" y=\"224.64\"/>\r\n      </g>\r\n     </g>\r\n     <g id=\"text_6\">\r\n      <!-- 1.0 -->\r\n      <g transform=\"translate(366.865573 239.238437)scale(0.1 -0.1)\">\r\n       <defs>\r\n        <path d=\"M 12.40625 8.296875 \r\nL 28.515625 8.296875 \r\nL 28.515625 63.921875 \r\nL 10.984375 60.40625 \r\nL 10.984375 69.390625 \r\nL 28.421875 72.90625 \r\nL 38.28125 72.90625 \r\nL 38.28125 8.296875 \r\nL 54.390625 8.296875 \r\nL 54.390625 0 \r\nL 12.40625 0 \r\nz\r\n\" id=\"DejaVuSans-49\"/>\r\n       </defs>\r\n       <use xlink:href=\"#DejaVuSans-49\"/>\r\n       <use x=\"63.623047\" xlink:href=\"#DejaVuSans-46\"/>\r\n       <use x=\"95.410156\" xlink:href=\"#DejaVuSans-48\"/>\r\n      </g>\r\n     </g>\r\n    </g>\r\n    <g id=\"text_7\">\r\n     <!-- x -->\r\n     <g transform=\"translate(216.601563 252.916562)scale(0.1 -0.1)\">\r\n      <defs>\r\n       <path d=\"M 54.890625 54.6875 \r\nL 35.109375 28.078125 \r\nL 55.90625 0 \r\nL 45.3125 0 \r\nL 29.390625 21.484375 \r\nL 13.484375 0 \r\nL 2.875 0 \r\nL 24.125 28.609375 \r\nL 4.6875 54.6875 \r\nL 15.28125 54.6875 \r\nL 29.78125 35.203125 \r\nL 44.28125 54.6875 \r\nz\r\n\" id=\"DejaVuSans-120\"/>\r\n      </defs>\r\n      <use xlink:href=\"#DejaVuSans-120\"/>\r\n     </g>\r\n    </g>\r\n   </g>\r\n   <g id=\"matplotlib.axis_2\">\r\n    <g id=\"ytick_1\">\r\n     <g id=\"line2d_7\">\r\n      <defs>\r\n       <path d=\"M 0 0 \r\nL -3.5 0 \r\n\" id=\"m7e1ee990b8\" style=\"stroke:#000000;stroke-width:0.8;\"/>\r\n      </defs>\r\n      <g>\r\n       <use style=\"stroke:#000000;stroke-width:0.8;\" x=\"52.160938\" xlink:href=\"#m7e1ee990b8\" y=\"222.463171\"/>\r\n      </g>\r\n     </g>\r\n     <g id=\"text_8\">\r\n      <!-- −1.0 -->\r\n      <g transform=\"translate(20.878125 226.262389)scale(0.1 -0.1)\">\r\n       <defs>\r\n        <path d=\"M 10.59375 35.5 \r\nL 73.1875 35.5 \r\nL 73.1875 27.203125 \r\nL 10.59375 27.203125 \r\nz\r\n\" id=\"DejaVuSans-8722\"/>\r\n       </defs>\r\n       <use xlink:href=\"#DejaVuSans-8722\"/>\r\n       <use x=\"83.789062\" xlink:href=\"#DejaVuSans-49\"/>\r\n       <use x=\"147.412109\" xlink:href=\"#DejaVuSans-46\"/>\r\n       <use x=\"179.199219\" xlink:href=\"#DejaVuSans-48\"/>\r\n      </g>\r\n     </g>\r\n    </g>\r\n    <g id=\"ytick_2\">\r\n     <g id=\"line2d_8\">\r\n      <g>\r\n       <use style=\"stroke:#000000;stroke-width:0.8;\" x=\"52.160938\" xlink:href=\"#m7e1ee990b8\" y=\"187.292112\"/>\r\n      </g>\r\n     </g>\r\n     <g id=\"text_9\">\r\n      <!-- −0.5 -->\r\n      <g transform=\"translate(20.878125 191.091331)scale(0.1 -0.1)\">\r\n       <defs>\r\n        <path d=\"M 10.796875 72.90625 \r\nL 49.515625 72.90625 \r\nL 49.515625 64.59375 \r\nL 19.828125 64.59375 \r\nL 19.828125 46.734375 \r\nQ 21.96875 47.46875 24.109375 47.828125 \r\nQ 26.265625 48.1875 28.421875 48.1875 \r\nQ 40.625 48.1875 47.75 41.5 \r\nQ 54.890625 34.8125 54.890625 23.390625 \r\nQ 54.890625 11.625 47.5625 5.09375 \r\nQ 40.234375 -1.421875 26.90625 -1.421875 \r\nQ 22.3125 -1.421875 17.546875 -0.640625 \r\nQ 12.796875 0.140625 7.71875 1.703125 \r\nL 7.71875 11.625 \r\nQ 12.109375 9.234375 16.796875 8.0625 \r\nQ 21.484375 6.890625 26.703125 6.890625 \r\nQ 35.15625 6.890625 40.078125 11.328125 \r\nQ 45.015625 15.765625 45.015625 23.390625 \r\nQ 45.015625 31 40.078125 35.4375 \r\nQ 35.15625 39.890625 26.703125 39.890625 \r\nQ 22.75 39.890625 18.8125 39.015625 \r\nQ 14.890625 38.140625 10.796875 36.28125 \r\nz\r\n\" id=\"DejaVuSans-53\"/>\r\n       </defs>\r\n       <use xlink:href=\"#DejaVuSans-8722\"/>\r\n       <use x=\"83.789062\" xlink:href=\"#DejaVuSans-48\"/>\r\n       <use x=\"147.412109\" xlink:href=\"#DejaVuSans-46\"/>\r\n       <use x=\"179.199219\" xlink:href=\"#DejaVuSans-53\"/>\r\n      </g>\r\n     </g>\r\n    </g>\r\n    <g id=\"ytick_3\">\r\n     <g id=\"line2d_9\">\r\n      <g>\r\n       <use style=\"stroke:#000000;stroke-width:0.8;\" x=\"52.160938\" xlink:href=\"#m7e1ee990b8\" y=\"152.121054\"/>\r\n      </g>\r\n     </g>\r\n     <g id=\"text_10\">\r\n      <!-- 0.0 -->\r\n      <g transform=\"translate(29.257812 155.920273)scale(0.1 -0.1)\">\r\n       <use xlink:href=\"#DejaVuSans-48\"/>\r\n       <use x=\"63.623047\" xlink:href=\"#DejaVuSans-46\"/>\r\n       <use x=\"95.410156\" xlink:href=\"#DejaVuSans-48\"/>\r\n      </g>\r\n     </g>\r\n    </g>\r\n    <g id=\"ytick_4\">\r\n     <g id=\"line2d_10\">\r\n      <g>\r\n       <use style=\"stroke:#000000;stroke-width:0.8;\" x=\"52.160938\" xlink:href=\"#m7e1ee990b8\" y=\"116.949995\"/>\r\n      </g>\r\n     </g>\r\n     <g id=\"text_11\">\r\n      <!-- 0.5 -->\r\n      <g transform=\"translate(29.257812 120.749214)scale(0.1 -0.1)\">\r\n       <use xlink:href=\"#DejaVuSans-48\"/>\r\n       <use x=\"63.623047\" xlink:href=\"#DejaVuSans-46\"/>\r\n       <use x=\"95.410156\" xlink:href=\"#DejaVuSans-53\"/>\r\n      </g>\r\n     </g>\r\n    </g>\r\n    <g id=\"ytick_5\">\r\n     <g id=\"line2d_11\">\r\n      <g>\r\n       <use style=\"stroke:#000000;stroke-width:0.8;\" x=\"52.160938\" xlink:href=\"#m7e1ee990b8\" y=\"81.778937\"/>\r\n      </g>\r\n     </g>\r\n     <g id=\"text_12\">\r\n      <!-- 1.0 -->\r\n      <g transform=\"translate(29.257812 85.578156)scale(0.1 -0.1)\">\r\n       <use xlink:href=\"#DejaVuSans-49\"/>\r\n       <use x=\"63.623047\" xlink:href=\"#DejaVuSans-46\"/>\r\n       <use x=\"95.410156\" xlink:href=\"#DejaVuSans-48\"/>\r\n      </g>\r\n     </g>\r\n    </g>\r\n    <g id=\"ytick_6\">\r\n     <g id=\"line2d_12\">\r\n      <g>\r\n       <use style=\"stroke:#000000;stroke-width:0.8;\" x=\"52.160938\" xlink:href=\"#m7e1ee990b8\" y=\"46.607879\"/>\r\n      </g>\r\n     </g>\r\n     <g id=\"text_13\">\r\n      <!-- 1.5 -->\r\n      <g transform=\"translate(29.257812 50.407097)scale(0.1 -0.1)\">\r\n       <use xlink:href=\"#DejaVuSans-49\"/>\r\n       <use x=\"63.623047\" xlink:href=\"#DejaVuSans-46\"/>\r\n       <use x=\"95.410156\" xlink:href=\"#DejaVuSans-53\"/>\r\n      </g>\r\n     </g>\r\n    </g>\r\n    <g id=\"ytick_7\">\r\n     <g id=\"line2d_13\">\r\n      <g>\r\n       <use style=\"stroke:#000000;stroke-width:0.8;\" x=\"52.160938\" xlink:href=\"#m7e1ee990b8\" y=\"11.43682\"/>\r\n      </g>\r\n     </g>\r\n     <g id=\"text_14\">\r\n      <!-- 2.0 -->\r\n      <g transform=\"translate(29.257812 15.236039)scale(0.1 -0.1)\">\r\n       <use xlink:href=\"#DejaVuSans-50\"/>\r\n       <use x=\"63.623047\" xlink:href=\"#DejaVuSans-46\"/>\r\n       <use x=\"95.410156\" xlink:href=\"#DejaVuSans-48\"/>\r\n      </g>\r\n     </g>\r\n    </g>\r\n    <g id=\"text_15\">\r\n     <!-- y -->\r\n     <g transform=\"translate(14.798438 118.879375)rotate(-90)scale(0.1 -0.1)\">\r\n      <defs>\r\n       <path d=\"M 32.171875 -5.078125 \r\nQ 28.375 -14.84375 24.75 -17.8125 \r\nQ 21.140625 -20.796875 15.09375 -20.796875 \r\nL 7.90625 -20.796875 \r\nL 7.90625 -13.28125 \r\nL 13.1875 -13.28125 \r\nQ 16.890625 -13.28125 18.9375 -11.515625 \r\nQ 21 -9.765625 23.484375 -3.21875 \r\nL 25.09375 0.875 \r\nL 2.984375 54.6875 \r\nL 12.5 54.6875 \r\nL 29.59375 11.921875 \r\nL 46.6875 54.6875 \r\nL 56.203125 54.6875 \r\nz\r\n\" id=\"DejaVuSans-121\"/>\r\n      </defs>\r\n      <use xlink:href=\"#DejaVuSans-121\"/>\r\n     </g>\r\n    </g>\r\n   </g>\r\n   <g id=\"line2d_14\">\r\n    <path clip-path=\"url(#pee04216b94)\" d=\"M 67.379119 107.684243 \r\nL 70.453499 104.416971 \r\nL 73.52788 101.17318 \r\nL 76.60226 97.956356 \r\nL 79.67664 94.770261 \r\nL 82.75102 91.618958 \r\nL 85.8254 88.50683 \r\nL 88.89978 85.43861 \r\nL 91.974161 82.419401 \r\nL 95.048541 79.454704 \r\nL 98.122921 76.550445 \r\nL 101.197301 73.713 \r\nL 104.271681 70.949224 \r\nL 107.346061 68.266474 \r\nL 110.420442 65.672631 \r\nL 113.494822 63.176127 \r\nL 116.569202 60.785959 \r\nL 119.643582 58.511704 \r\nL 122.717962 56.363524 \r\nL 125.792342 54.352172 \r\nL 128.866723 52.488974 \r\nL 131.941103 50.785817 \r\nL 135.015483 49.255107 \r\nL 138.089863 47.909723 \r\nL 141.164243 46.762941 \r\nL 144.238623 45.828351 \r\nL 147.313004 45.119734 \r\nL 150.387384 44.650924 \r\nL 153.461764 44.435633 \r\nL 156.536144 44.487253 \r\nL 159.610524 44.81862 \r\nL 162.684904 45.441754 \r\nL 165.759285 46.367559 \r\nL 168.833665 47.605509 \r\nL 171.908045 49.163306 \r\nL 174.982425 51.046525 \r\nL 178.056805 53.258256 \r\nL 181.131185 55.798751 \r\nL 184.205566 58.665101 \r\nL 187.279946 61.850939 \r\nL 190.354326 65.346205 \r\nL 193.428706 69.136977 \r\nL 196.503086 73.205393 \r\nL 199.577466 77.529669 \r\nL 202.651847 82.08423 \r\nL 205.726227 86.839954 \r\nL 208.800607 91.764541 \r\nL 211.874987 96.822981 \r\nL 214.949367 101.97813 \r\nL 218.023747 107.191364 \r\nL 221.098128 112.423287 \r\nL 224.172508 117.634472 \r\nL 227.246888 122.7862 \r\nL 230.321268 127.841179 \r\nL 233.395648 132.764192 \r\nL 236.470028 137.522684 \r\nL 239.544409 142.087236 \r\nL 242.618789 146.431937 \r\nL 245.693169 150.534641 \r\nL 248.767549 154.377096 \r\nL 251.841929 157.944979 \r\nL 254.916309 161.227815 \r\nL 257.99069 164.218819 \r\nL 261.06507 166.914656 \r\nL 264.13945 169.31516 \r\nL 267.21383 171.423002 \r\nL 270.28821 173.243342 \r\nL 273.36259 174.783472 \r\nL 276.436971 176.052458 \r\nL 279.511351 177.060804 \r\nL 282.585731 177.820129 \r\nL 285.660111 178.342869 \r\nL 288.734491 178.642017 \r\nL 291.808871 178.730885 \r\nL 294.883252 178.622902 \r\nL 297.957632 178.331442 \r\nL 301.032012 177.869678 \r\nL 304.106392 177.250468 \r\nL 307.180772 176.486263 \r\nL 310.255152 175.589032 \r\nL 313.329533 174.570217 \r\nL 316.403913 173.44069 \r\nL 319.478293 172.21074 \r\nL 322.552673 170.890057 \r\nL 325.627053 169.487735 \r\nL 328.701433 168.012278 \r\nL 331.775814 166.471616 \r\nL 334.850194 164.873123 \r\nL 337.924574 163.223634 \r\nL 340.998954 161.529478 \r\nL 344.073334 159.796495 \r\nL 347.147714 158.030069 \r\nL 350.222095 156.235152 \r\nL 353.296475 154.416293 \r\nL 356.370855 152.577661 \r\nL 359.445235 150.723074 \r\nL 362.519615 148.856024 \r\nL 365.593995 146.979698 \r\nL 368.668376 145.097002 \r\nL 371.742756 143.210584 \r\n\" style=\"fill:none;stroke:#ff0000;stroke-linecap:square;stroke-width:1.5;\"/>\r\n   </g>\r\n   <g id=\"patch_3\">\r\n    <path d=\"M 52.160938 224.64 \r\nL 52.160938 7.2 \r\n\" style=\"fill:none;stroke:#000000;stroke-linecap:square;stroke-linejoin:miter;stroke-width:0.8;\"/>\r\n   </g>\r\n   <g id=\"patch_4\">\r\n    <path d=\"M 386.960938 224.64 \r\nL 386.960938 7.2 \r\n\" style=\"fill:none;stroke:#000000;stroke-linecap:square;stroke-linejoin:miter;stroke-width:0.8;\"/>\r\n   </g>\r\n   <g id=\"patch_5\">\r\n    <path d=\"M 52.160938 224.64 \r\nL 386.960938 224.64 \r\n\" style=\"fill:none;stroke:#000000;stroke-linecap:square;stroke-linejoin:miter;stroke-width:0.8;\"/>\r\n   </g>\r\n   <g id=\"patch_6\">\r\n    <path d=\"M 52.160938 7.2 \r\nL 386.960938 7.2 \r\n\" style=\"fill:none;stroke:#000000;stroke-linecap:square;stroke-linejoin:miter;stroke-width:0.8;\"/>\r\n   </g>\r\n  </g>\r\n </g>\r\n <defs>\r\n  <clipPath id=\"pee04216b94\">\r\n   <rect height=\"217.44\" width=\"334.8\" x=\"52.160938\" y=\"7.2\"/>\r\n  </clipPath>\r\n </defs>\r\n</svg>\r\n",
            "image/png": "[encoded data removed]"
          },
          "metadata": {
            "needs_background": "light"
          }
        }
      ],
      "source": [
        "# Plot\n",
        "plt.scatter(x, y, s=10)\n",
        "plt.xlabel('x')\n",
        "plt.ylabel('y')\n",
        "t = np.arange(0, 1, .01)[:, np.newaxis]\n",
        "            \n",
        "print(np.arange(0, 1, .01)[:, np.newaxis].shape)   # (100,1) 열 부분에 np.newaxis를 입력시, 차원을 분해한 후 한 단계 추가합니다.\n",
        "print(np.arange(0, 1, .01)[np.newaxis, :].shape)  # (1,100) 행 부분에 np.newaxis를 입력시, 차원을 한 단계 추가합니다.\n",
        "\n",
        "y_pred = predict(t)\n",
        "plt.plot(t, y_pred.data, color='r')\n",
        "plt.show()"
      ]
    },
    {
      "cell_type": "code",
      "execution_count": 17,
      "metadata": {},
      "outputs": [
        {
          "output_type": "execute_result",
          "data": {
            "text/plain": [
              "(100, 1)"
            ]
          },
          "metadata": {},
          "execution_count": 17
        }
      ],
      "source": [
        "np.arange(0, 1, .01)[:, np.newaxis].shape"
      ]
    }
  ],
  "metadata": {
    "anaconda-cloud": {},
    "kernelspec": {
      "display_name": "Python 3",
      "language": "python",
      "name": "python3"
    },
    "language_info": {
      "codemirror_mode": {
        "name": "ipython",
        "version": 3
      },
      "file_extension": ".py",
      "mimetype": "text/x-python",
      "name": "python",
      "nbconvert_exporter": "python",
      "pygments_lexer": "ipython3",
      "version": "3.8.3-final"
    }
  },
  "nbformat": 4,
  "nbformat_minor": 4
}