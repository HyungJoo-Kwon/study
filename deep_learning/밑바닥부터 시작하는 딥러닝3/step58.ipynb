{
  "cells": [
    {
      "cell_type": "code",
      "metadata": {},
      "source": [
        "if '__file__' in globals():\n",
        "    import os, sys\n",
        "    sys.path.append(os.path.join(os.path.dirname(__file__), '..'))\n",
        "import numpy as np\n",
        "from PIL import Image\n",
        "import dezero\n",
        "from dezero.models import VGG16\n",
        "\n",
        "\n",
        "url = 'https://github.com/oreilly-japan/deep-learning-from-scratch-3/raw/images/zebra.jpg'\n",
        "img_path = dezero.utils.get_file(url)\n",
        "img = Image.open(img_path)\n",
        "\n",
        "x = VGG16.preprocess(img)\n",
        "x = x[np.newaxis]\n",
        "\n",
        "model = VGG16(pretrained=True)\n",
        "with dezero.test_mode():\n",
        "    y = model(x)\n",
        "predict_id = np.argmax(y.data)\n",
        "\n",
        "model.plot(x, to_file='vgg.pdf')\n",
        "labels = dezero.datasets.ImageNet.labels()\n",
        "print(labels[predict_id])"
      ],
      "outputs": [],
      "execution_count": null
    }
  ],
  "metadata": {
    "anaconda-cloud": {},
    "kernelspec": {
      "display_name": "Python 3",
      "language": "python",
      "name": "python3"
    },
    "language_info": {
      "codemirror_mode": {
        "name": "ipython",
        "version": 3
      },
      "file_extension": ".py",
      "mimetype": "text/x-python",
      "name": "python",
      "nbconvert_exporter": "python",
      "pygments_lexer": "ipython3",
      "version": "3.6.1"
    }
  },
  "nbformat": 4,
  "nbformat_minor": 4
}