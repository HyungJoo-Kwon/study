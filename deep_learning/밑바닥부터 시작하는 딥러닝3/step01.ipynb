{
 "cells": [
  {
   "cell_type": "code",
   "execution_count": 1,
   "metadata": {},
   "outputs": [
    {
     "name": "stdout",
     "output_type": "stream",
     "text": [
      "1.0\n",
      "2.0\n"
     ]
    }
   ],
   "source": [
    "## Variable 클래스\n",
    "\n",
    "import numpy as np\n",
    "\n",
    "\n",
    "class Variable:\n",
    "    def __init__(self, data):\n",
    "        self.data = data\n",
    "\n",
    "\n",
    "data = np.array(1.0)\n",
    "x = Variable(data)\n",
    "print(x.data)\n",
    "\n",
    "x.data = np.array(2.0)\n",
    "print(x.data)\n",
    "\n",
    "\n",
    "# x = np.array(1)  // 0차원 배열, 스칼라\n",
    "# x.ndim  >>  0  \n",
    "\n",
    "# x = np.array([1, 2, 3]) // 1차원 배열, 벡터\n",
    "# x.ndim  >>  1\n",
    "\n",
    "# x = np.array([[1, 2, 3],[4, 5, 6]]) // 2차원 배열, 행렬, 3차원 벡터\n",
    "# x.ndim  >>  2\n",
    "\n"
   ]
  },
  {
   "cell_type": "markdown",
   "metadata": {},
   "source": [
    "![그림 1-2](https://user-images.githubusercontent.com/73815944/109747363-54e1a500-7c1a-11eb-9c64-e188d642bb16.png)\n"
   ]
  },
  {
   "cell_type": "code",
   "execution_count": null,
   "metadata": {},
   "outputs": [],
   "source": []
  }
 ],
 "metadata": {
  "anaconda-cloud": {},
  "kernelspec": {
   "display_name": "Python 3",
   "language": "python",
   "name": "python3"
  },
  "language_info": {
   "codemirror_mode": {
    "name": "ipython",
    "version": 3
   },
   "file_extension": ".py",
   "mimetype": "text/x-python",
   "name": "python",
   "nbconvert_exporter": "python",
   "pygments_lexer": "ipython3",
   "version": "3.8.3"
  }
 },
 "nbformat": 4,
 "nbformat_minor": 4
}
