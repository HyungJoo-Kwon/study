{
  "cells": [
    {
      "source": [
        "# 복잡한 계산 그래프\n",
        "![그림 15-1](https://user-images.githubusercontent.com/73815944/110056939-04498380-7da3-11eb-8a15-43bc5393507c.png)\n",
        "![그림 15-2](https://user-images.githubusercontent.com/73815944/110056940-06abdd80-7da3-11eb-87c4-18566e208ffe.png)\n",
        "![그림 15-3](https://user-images.githubusercontent.com/73815944/110056946-090e3780-7da3-11eb-98e3-a3a17ce2f84d.png)\n",
        "![그림 15-4](https://user-images.githubusercontent.com/73815944/110056950-0a3f6480-7da3-11eb-81ba-0879e2ea7b36.png)\n",
        "![그림 15-5](https://user-images.githubusercontent.com/73815944/110056959-0dd2eb80-7da3-11eb-8b1c-3f920b4236b2.png)\n",
        "![그림 15-6](https://user-images.githubusercontent.com/73815944/110056968-11ff0900-7da3-11eb-8068-c4a3d1dd26ef.png)\n",
        "![그림 15-7](https://user-images.githubusercontent.com/73815944/110056975-14616300-7da3-11eb-89de-72899b65a723.png)\n",
        "![그림 15-8](https://user-images.githubusercontent.com/73815944/110056980-162b2680-7da3-11eb-919b-a4a2b30c4867.png)"
      ],
      "cell_type": "markdown",
      "metadata": {}
    },
    {
      "cell_type": "code",
      "execution_count": null,
      "metadata": {},
      "outputs": [],
      "source": []
    }
  ],
  "metadata": {
    "anaconda-cloud": {},
    "kernelspec": {
      "display_name": "Python 3",
      "language": "python",
      "name": "python3"
    },
    "language_info": {
      "codemirror_mode": {
        "name": "ipython",
        "version": 3
      },
      "file_extension": ".py",
      "mimetype": "text/x-python",
      "name": "python",
      "nbconvert_exporter": "python",
      "pygments_lexer": "ipython3",
      "version": "3.8.3-final"
    }
  },
  "nbformat": 4,
  "nbformat_minor": 4
}