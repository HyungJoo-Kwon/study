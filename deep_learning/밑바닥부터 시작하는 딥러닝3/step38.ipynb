{
 "cells": [
  {
   "cell_type": "code",
   "execution_count": 2,
   "metadata": {},
   "outputs": [
    {
     "name": "stdout",
     "output_type": "stream",
     "text": [
      "variable([0 1 2 3 4 5])\n",
      "variable([[1 1 1]\n",
      "          [1 1 1]])\n",
      "variable([[1 1 1]\n",
      "          [1 1 1]])\n"
     ]
    }
   ],
   "source": [
    "# 형상 변환 함수 (reshape, transpose)\n",
    "if '__file__' in globals():\n",
    "    import os, sys\n",
    "    sys.path.append(os.path.join(os.path.dirname(__file__), '..'))\n",
    "\n",
    "import numpy as np\n",
    "from dezero import Variable\n",
    "import dezero.functions as F\n",
    "\n",
    "x = Variable(np.array([[0, 1, 2], [3, 4, 5]]))\n",
    "y = F.reshape(x, (6,))  # y = x.reshape(6)\n",
    "print(y)\n",
    "y.backward(retain_grad=True)\n",
    "print(x.grad)\n",
    "\n",
    "\n",
    "x = Variable(np.array([[1, 2, 3], [4, 5, 6]]))\n",
    "y = F.transpose(x)  # y = x.T\n",
    "y.backward()\n",
    "print(x.grad)"
   ]
  },
  {
   "cell_type": "markdown",
   "metadata": {},
   "source": [
    "![그림 38-1](./img/38-1.png)"
   ]
  },
  {
   "cell_type": "code",
   "execution_count": null,
   "metadata": {},
   "outputs": [],
   "source": [
    "class Reshape(Function):\n",
    "    def __init__(self, shape):\n",
    "        self.shape = shape\n",
    "\n",
    "    def forward(self, x):\n",
    "        self.x_shape = x.shape          # 역전파에 사용할 shape\n",
    "        y = x.reshape(self.shape)\n",
    "        return y\n",
    "\n",
    "    def backward(self, gy):             # gy는 Variable 인스턴스\n",
    "        return reshape(gy, self.x_shape)\n",
    "\n",
    "\n",
    "def reshape(x, shape):\n",
    "    if x.shape == shape:\n",
    "        return as_variable(x)\n",
    "    return Reshape(shape)(x)"
   ]
  },
  {
   "cell_type": "markdown",
   "metadata": {},
   "source": [
    "![그림 38-2](./img/38-2.png)    \n",
    "data와 grad의 형상이 일치"
   ]
  },
  {
   "cell_type": "code",
   "execution_count": 14,
   "metadata": {},
   "outputs": [
    {
     "name": "stdout",
     "output_type": "stream",
     "text": [
      "[[[0.20790506 0.70694382 0.825933  ]\n",
      "  [0.05052655 0.06452241 0.60763724]]]\n",
      "[[0.20790506 0.70694382 0.825933  ]\n",
      " [0.05052655 0.06452241 0.60763724]] <class 'numpy.ndarray'>\n",
      "[[0.20790506 0.70694382 0.825933  ]\n",
      " [0.05052655 0.06452241 0.60763724]] <class 'numpy.ndarray'>\n",
      "[[0.20790506 0.70694382 0.825933  ]\n",
      " [0.05052655 0.06452241 0.60763724]] <class 'numpy.ndarray'>\n"
     ]
    }
   ],
   "source": [
    "x = np.random.rand(1,2,3)\n",
    "print(x)\n",
    "y = x.reshape((2,3))    # 튜플로\n",
    "print(f'{y} {type(y)}')\n",
    "y = x.reshape([2,3])    # 리스트로\n",
    "print(f'{y} {type(y)}')\n",
    "y = x.reshape(2,3)      # 인수 그대로\n",
    "print(f'{y} {type(y)}')"
   ]
  },
  {
   "cell_type": "code",
   "execution_count": null,
   "metadata": {},
   "outputs": [],
   "source": [
    "class Variable:\n",
    "    ...\n",
    "\n",
    "    def reshape(self, *shape):\n",
    "        if len(shape) == 1 and isinstance(shape[0], (tuple, list)):\n",
    "            shape = shape[0]\n",
    "        return dezero.functions.reshape(self, shape)"
   ]
  },
  {
   "cell_type": "code",
   "execution_count": 15,
   "metadata": {},
   "outputs": [
    {
     "name": "stdout",
     "output_type": "stream",
     "text": [
      "variable([[[0.15225959 0.82392413 0.25257209]\n",
      "           [0.97473538 0.27579144 0.91532736]]])\n",
      "variable([[0.15225959 0.82392413 0.25257209]\n",
      "          [0.97473538 0.27579144 0.91532736]]) <class 'dezero.core.Variable'>\n",
      "variable([[0.15225959 0.82392413 0.25257209]\n",
      "          [0.97473538 0.27579144 0.91532736]]) <class 'dezero.core.Variable'>\n",
      "variable([[0.15225959 0.82392413 0.25257209]\n",
      "          [0.97473538 0.27579144 0.91532736]]) <class 'dezero.core.Variable'>\n"
     ]
    }
   ],
   "source": [
    "x = Variable(np.random.rand(1,2,3))\n",
    "print(x)\n",
    "y = x.reshape((2,3))    # 튜플로\n",
    "print(f'{y} {type(y)}')\n",
    "y = x.reshape([2,3])    # 리스트로\n",
    "print(f'{y} {type(y)}')\n",
    "y = x.reshape(2,3)      # 인수 그대로\n",
    "print(f'{y} {type(y)}')"
   ]
  },
  {
   "cell_type": "markdown",
   "metadata": {},
   "source": [
    "행렬의 전치     \n",
    "![그림 38-3](./img/38-3.png)"
   ]
  },
  {
   "cell_type": "code",
   "execution_count": null,
   "metadata": {},
   "outputs": [],
   "source": [
    "class Transpose(Function):\n",
    "    def __init__(self, axes=None):\n",
    "        self.axes = axes\n",
    "\n",
    "    def forward(self, x):\n",
    "        y = x.transpose(self.axes)\n",
    "        return y\n",
    "\n",
    "    def backward(self, gy):\n",
    "        if self.axes is None:\n",
    "            return transpose(gy)\n",
    "\n",
    "        axes_len = len(self.axes)\n",
    "        inv_axes = tuple(np.argsort([ax % axes_len for ax in self.axes]))\n",
    "        return transpose(gy, inv_axes)\n",
    "\n",
    "\n",
    "def transpose(x, axes=None):\n",
    "    return Transpose(axes)(x)"
   ]
  },
  {
   "cell_type": "code",
   "execution_count": 18,
   "metadata": {},
   "outputs": [
    {
     "name": "stdout",
     "output_type": "stream",
     "text": [
      "variable([[1 4]\n",
      "          [2 5]\n",
      "          [3 6]])\n",
      "variable([[1 1 1]\n",
      "          [1 1 1]])\n"
     ]
    }
   ],
   "source": [
    "x = Variable(np.array([[1,2,3], [4,5,6]]))\n",
    "y = F.transpose(x)\n",
    "y.backward()\n",
    "print(y)\n",
    "print(x.grad)"
   ]
  },
  {
   "cell_type": "code",
   "execution_count": null,
   "metadata": {},
   "outputs": [],
   "source": [
    "class Variable:\n",
    "    ...\n",
    "\n",
    "    def transpose(self):\n",
    "            return dezero.functions.transpose(self, axes)\n",
    "\n",
    "        @property\n",
    "        def T(self):\n",
    "            return dezero.functions.transpose(self)"
   ]
  },
  {
   "cell_type": "code",
   "execution_count": 20,
   "metadata": {},
   "outputs": [
    {
     "name": "stdout",
     "output_type": "stream",
     "text": [
      "variable([[0.5041187  0.41034285]\n",
      "          [0.06302946 0.8664606 ]\n",
      "          [0.68756705 0.63477581]])\n",
      "variable([[0.5041187  0.41034285]\n",
      "          [0.06302946 0.8664606 ]\n",
      "          [0.68756705 0.63477581]])\n"
     ]
    }
   ],
   "source": [
    "x = Variable(np.random.rand(2,3))\n",
    "y = x.transpose()\n",
    "print(y)\n",
    "y = x.T\n",
    "print(y)"
   ]
  },
  {
   "cell_type": "code",
   "execution_count": 33,
   "metadata": {},
   "outputs": [
    {
     "name": "stdout",
     "output_type": "stream",
     "text": [
      "[[[[0.75147587 0.30682387 0.85112738 0.63454265]\n",
      "   [0.34424171 0.90582832 0.32751845 0.06420491]\n",
      "   [0.67027894 0.17196008 0.31259227 0.30201902]]\n",
      "\n",
      "  [[0.6280575  0.7044106  0.61482446 0.55201586]\n",
      "   [0.12795702 0.68524623 0.37494585 0.07248666]\n",
      "   [0.68783251 0.94559924 0.03004996 0.53189678]]]] (1, 2, 3, 4) \n",
      "\n",
      "------------------------------------------------------- \n",
      "\n",
      "[[[[0.75147587 0.34424171 0.67027894]\n",
      "   [0.30682387 0.90582832 0.17196008]\n",
      "   [0.85112738 0.32751845 0.31259227]\n",
      "   [0.63454265 0.06420491 0.30201902]]]\n",
      "\n",
      "\n",
      " [[[0.6280575  0.12795702 0.68783251]\n",
      "   [0.7044106  0.68524623 0.94559924]\n",
      "   [0.61482446 0.37494585 0.03004996]\n",
      "   [0.55201586 0.07248666 0.53189678]]]] (2, 1, 4, 3) \n",
      "\n",
      "------------------------------------------------------- \n",
      "\n",
      "[[[[0.75147587]\n",
      "   [0.6280575 ]]\n",
      "\n",
      "  [[0.34424171]\n",
      "   [0.12795702]]\n",
      "\n",
      "  [[0.67027894]\n",
      "   [0.68783251]]]\n",
      "\n",
      "\n",
      " [[[0.30682387]\n",
      "   [0.7044106 ]]\n",
      "\n",
      "  [[0.90582832]\n",
      "   [0.68524623]]\n",
      "\n",
      "  [[0.17196008]\n",
      "   [0.94559924]]]\n",
      "\n",
      "\n",
      " [[[0.85112738]\n",
      "   [0.61482446]]\n",
      "\n",
      "  [[0.32751845]\n",
      "   [0.37494585]]\n",
      "\n",
      "  [[0.31259227]\n",
      "   [0.03004996]]]\n",
      "\n",
      "\n",
      " [[[0.63454265]\n",
      "   [0.55201586]]\n",
      "\n",
      "  [[0.06420491]\n",
      "   [0.07248666]]\n",
      "\n",
      "  [[0.30201902]\n",
      "   [0.53189678]]]] (4, 3, 2, 1) \n",
      "\n"
     ]
    }
   ],
   "source": [
    "# transpose 함수\n",
    "A, B, C, D = 1, 2, 3, 4\n",
    "x = np.random.rand(A, B, C, D)\n",
    "print(f'{x} {x.shape} \\n')\n",
    "print('------------------------------------------------------- \\n')\n",
    "y = x.transpose(1, 0, 3, 2)\n",
    "print(f'{y} {y.shape} \\n')\n",
    "print('------------------------------------------------------- \\n')\n",
    "y = x.transpose()\n",
    "print(f'{y} {y.shape} \\n')"
   ]
  },
  {
   "cell_type": "markdown",
   "metadata": {},
   "source": [
    "![그림 38-4](./img/38-4.png)    \n",
    "x.transpose() : 역순으로 정렬"
   ]
  }
 ],
 "metadata": {
  "anaconda-cloud": {},
  "kernelspec": {
   "display_name": "Python 3",
   "language": "python",
   "name": "python3"
  },
  "language_info": {
   "codemirror_mode": {
    "name": "ipython",
    "version": 3
   },
   "file_extension": ".py",
   "mimetype": "text/x-python",
   "name": "python",
   "nbconvert_exporter": "python",
   "pygments_lexer": "ipython3",
   "version": "3.8.3"
  }
 },
 "nbformat": 4,
 "nbformat_minor": 4
}
