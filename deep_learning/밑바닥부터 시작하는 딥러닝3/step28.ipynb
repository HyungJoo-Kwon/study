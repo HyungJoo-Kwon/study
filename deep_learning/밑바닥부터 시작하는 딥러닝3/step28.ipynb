{
  "cells": [
    {
      "cell_type": "code",
      "metadata": {},
      "source": [
        "if '__file__' in globals():\n",
        "    import os, sys\n",
        "    sys.path.append(os.path.join(os.path.dirname(__file__), '..'))\n",
        "import numpy as np\n",
        "from dezero import Variable\n",
        "# import dezero's simple_core explicitly\n",
        "import dezero\n",
        "if not dezero.is_simple_core:\n",
        "    from dezero.core_simple import Variable\n",
        "    from dezero.core_simple import setup_variable\n",
        "    setup_variable()\n",
        "\n",
        "\n",
        "def rosenbrock(x0, x1):\n",
        "    y = 100 * (x1 - x0 ** 2) ** 2 + (x0 - 1) ** 2\n",
        "    return y\n",
        "\n",
        "\n",
        "x0 = Variable(np.array(0.0))\n",
        "x1 = Variable(np.array(2.0))\n",
        "lr = 0.001\n",
        "iters = 1000\n",
        "\n",
        "for i in range(iters):\n",
        "    print(x0, x1)\n",
        "\n",
        "    y = rosenbrock(x0, x1)\n",
        "\n",
        "    x0.cleargrad()\n",
        "    x1.cleargrad()\n",
        "    y.backward()\n",
        "\n",
        "    x0.data -= lr * x0.grad\n",
        "    x1.data -= lr * x1.grad"
      ],
      "outputs": [],
      "execution_count": null
    }
  ],
  "metadata": {
    "anaconda-cloud": {},
    "kernelspec": {
      "display_name": "Python 3",
      "language": "python",
      "name": "python3"
    },
    "language_info": {
      "codemirror_mode": {
        "name": "ipython",
        "version": 3
      },
      "file_extension": ".py",
      "mimetype": "text/x-python",
      "name": "python",
      "nbconvert_exporter": "python",
      "pygments_lexer": "ipython3",
      "version": "3.6.1"
    }
  },
  "nbformat": 4,
  "nbformat_minor": 4
}