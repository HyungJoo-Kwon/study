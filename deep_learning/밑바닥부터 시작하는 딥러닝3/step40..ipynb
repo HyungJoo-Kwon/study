{
 "cells": [
  {
   "cell_type": "code",
   "execution_count": 49,
   "metadata": {},
   "outputs": [],
   "source": [
    "# 브로드캐스트 함수\n",
    "if '__file__' in globals():\n",
    "    import os, sys\n",
    "    sys.path.append(os.path.join(os.path.dirname(__file__), '..'))"
   ]
  },
  {
   "cell_type": "markdown",
   "metadata": {},
   "source": [
    "[브로드캐스트 github](https://github.com/numpy/numpy/blob/v1.19.0/numpy/lib/stride_tricks.py#L141-L180)"
   ]
  },
  {
   "cell_type": "code",
   "execution_count": 4,
   "metadata": {},
   "outputs": [
    {
     "name": "stdout",
     "output_type": "stream",
     "text": [
      "[[1 2 3]\n",
      " [1 2 3]]\n",
      "(3,) -> (2, 3)\n"
     ]
    }
   ],
   "source": [
    "# 넘파이 np.broadcast_to(x, shape) : ndarray 인스턴스인 x의 원소를 복제하여 shape 인수로 지정한 형상이 되도록.\n",
    "x = np.array([1, 2, 3])\n",
    "y = np.broadcast_to(x, (2,3))\n",
    "print(y)\n",
    "print(f'{x.shape} -> {y.shape}')"
   ]
  },
  {
   "cell_type": "markdown",
   "metadata": {},
   "source": [
    "![그림 40-1](./img/40-1.png)    \n",
    "브로드캐스트(원소 복사)가 일어날 경우 역전파에서는 x에 기울기를 두 번 흘려 보내게 되어 기울기가 더해지게 됨.    \n",
    "브로드캐스트(원소 복사)가 일어날 경우 기울기를 합하면 된다."
   ]
  },
  {
   "cell_type": "code",
   "execution_count": 46,
   "metadata": {},
   "outputs": [
    {
     "name": "stdout",
     "output_type": "stream",
     "text": [
      "ndim 2\n",
      "lead 0\n",
      "lead_axis ()\n",
      "axis (0,)\n",
      "[[5 7 9]]\n",
      "(2, 3) -> (1, 3) \n",
      "\n",
      "ndim 2\n",
      "lead 0\n",
      "lead_axis ()\n",
      "axis (1,)\n",
      "[[ 6]\n",
      " [15]]\n",
      "(2, 3) -> (2, 1) \n",
      "\n"
     ]
    }
   ],
   "source": [
    "# sum_to : x의 원소의 합을 구해 shape 형상을 만들어주는 함수\n",
    "\n",
    "def sum_to(x, shape):\n",
    "    \"\"\"Sum elements along axes to output an array of a given shape.\n",
    "\n",
    "    Args:\n",
    "        x (ndarray): Input array.\n",
    "        shape:\n",
    "\n",
    "    Returns:\n",
    "        ndarray: Output array of the shape.\n",
    "    \"\"\"\n",
    "    ndim = len(shape)\n",
    "    print(f'ndim {ndim}')\n",
    "    lead = x.ndim - ndim\n",
    "    print(f'lead {lead}')\n",
    "    lead_axis = tuple(range(lead))\n",
    "    print(f'lead_axis {lead_axis}')\n",
    "\n",
    "    axis = tuple([i + lead for i, sx in enumerate(shape) if sx == 1])\n",
    "    print(f'axis {axis}')\n",
    "    y = x.sum(lead_axis + axis, keepdims=True)\n",
    "    if lead > 0:\n",
    "        y = y.squeeze(lead_axis)            # 1차원인 축을 제로\n",
    "    return y\n",
    "\n",
    "x = np.array([[1, 2, 3], [4, 5, 6]])\n",
    "y = sum_to(x, (1,3))\n",
    "print(y)\n",
    "print(f'{x.shape} -> {y.shape} \\n')\n",
    "\n",
    "y = sum_to(x, (2,1))\n",
    "print(y)\n",
    "print(f'{x.shape} -> {y.shape} \\n')\n",
    "\n",
    "# x.sum((0,), keepdims=True) # axis=0 세로\n",
    "# x.sum((1,), keepdims=True) # axis=1 가로"
   ]
  },
  {
   "cell_type": "markdown",
   "metadata": {},
   "source": [
    "![그림 40-2](./img/40-2.png)    \n",
    "x의 형상과 같아지도록 기울기의 원소를 복제"
   ]
  },
  {
   "cell_type": "code",
   "execution_count": null,
   "metadata": {},
   "outputs": [],
   "source": [
    "# Dezero version의 sun_to()와 broadcast_to()\n",
    "# sun_to()와 broadcast_to()는 상호의존적\n",
    "class SumTo(Function):\n",
    "    def __init__(self, shape):\n",
    "        self.shape = shape\n",
    "\n",
    "    def forward(self, x):\n",
    "        self.x_shape = x.shape\n",
    "        y = utils.sum_to(x, self.shape)\n",
    "        return y\n",
    "\n",
    "    def backward(self, gy):\n",
    "        gx = broadcast_to(gy, self.x_shape)\n",
    "        return gx\n",
    "\n",
    "\n",
    "def sum_to(x, shape):\n",
    "    if x.shape == shape:\n",
    "        return as_variable(x)\n",
    "    return SumTo(shape)(x)\n",
    "\n",
    "\n",
    "class BroadcastTo(Function):\n",
    "    def __init__(self, shape):\n",
    "        self.shape = shape\n",
    "\n",
    "    def forward(self, x):\n",
    "        self.x_shape = x.shape\n",
    "        xp = dezero.cuda.get_array_module(x)\n",
    "        y = xp.broadcast_to(x, self.shape)\n",
    "        return y\n",
    "\n",
    "    def backward(self, gy):\n",
    "        gx = sum_to(gy, self.x_shape)\n",
    "        return gx\n",
    "\n",
    "def broadcast_to(x, shape):\n",
    "    if x.shape == shape:\n",
    "        return as_variable(x)\n",
    "    return BroadcastTo(shape)(x)"
   ]
  },
  {
   "cell_type": "code",
   "execution_count": null,
   "metadata": {},
   "outputs": [],
   "source": [
    "class Add(Function):\n",
    "    def forward(self, x0, x1):\n",
    "        self.x0_shape, self.x1_shape = x0.shape, x1.shape\n",
    "        y = x0 + x1\n",
    "        return y\n",
    "\n",
    "    def backward(self, gy):\n",
    "        gx0, gx1 = gy, gy\n",
    "        if self.x0_shape != self.x1_shape:  # for broadcaset        #--------------------------------------------\n",
    "            gx0 = dezero.functions.sum_to(gx0, self.x0_shape)       # gx0은 x0, gx1은 x1의 형상이 되도록 sum_to\n",
    "            gx1 = dezero.functions.sum_to(gx1, self.x1_shape)       #--------------------------------------------\n",
    "        return gx0, gx1\n",
    "# 순전파는 ndarray 인스턴스를 사용해 구현했기 때문에 variable인스턴스 에서 브로드캐스트가 일어남."
   ]
  },
  {
   "cell_type": "code",
   "execution_count": 62,
   "metadata": {},
   "outputs": [
    {
     "name": "stdout",
     "output_type": "stream",
     "text": [
      "variable([11 12 13])\n",
      "variable([3])\n",
      "variable([1 1 1])\n"
     ]
    }
   ],
   "source": [
    "import numpy as np\n",
    "from dezero import Variable\n",
    "\n",
    "x0 = Variable(np.array([1, 2, 3]))\n",
    "x1 = Variable(np.array([10]))\n",
    "y = x0 + x1\n",
    "print(y)\n",
    "\n",
    "y.backward()\n",
    "print(x1.grad)\n",
    "print(x0.grad)"
   ]
  },
  {
   "cell_type": "markdown",
   "metadata": {},
   "source": [
    "![그림 40-3](./img/40-3.png)"
   ]
  },
  {
   "cell_type": "code",
   "execution_count": null,
   "metadata": {},
   "outputs": [],
   "source": []
  }
 ],
 "metadata": {
  "anaconda-cloud": {},
  "kernelspec": {
   "display_name": "Python 3",
   "language": "python",
   "name": "python3"
  },
  "language_info": {
   "codemirror_mode": {
    "name": "ipython",
    "version": 3
   },
   "file_extension": ".py",
   "mimetype": "text/x-python",
   "name": "python",
   "nbconvert_exporter": "python",
   "pygments_lexer": "ipython3",
   "version": "3.8.3"
  }
 },
 "nbformat": 4,
 "nbformat_minor": 4
}
