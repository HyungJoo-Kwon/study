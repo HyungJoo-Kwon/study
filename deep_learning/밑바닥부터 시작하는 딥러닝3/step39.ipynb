{
  "cells": [
    {
      "cell_type": "code",
      "metadata": {},
      "source": [
        "# 합계 함수\n",
        "if '__file__' in globals():\n",
        "    import os, sys\n",
        "    sys.path.append(os.path.join(os.path.dirname(__file__), '..'))"
      ],
      "outputs": [],
      "execution_count": null
    },
    {
      "source": [
        "![그림 39-1](./img/39-1.png)    \n",
        "![그림 39-2](./img/39-2.png)\n",
        "![그림 39-3](./img/39-3.png)    \n",
        "기울기를 입력 변수의 형상과 같아지도록 복사"
      ],
      "cell_type": "markdown",
      "metadata": {}
    },
    {
      "cell_type": "code",
      "execution_count": null,
      "metadata": {},
      "outputs": [],
      "source": [
        "class Sum(Function):\n",
        "    \n",
        "    def forward(self, x):\n",
        "        self.x_shape = x.shape\n",
        "        y = x.sum()\n",
        "        return y\n",
        "\n",
        "    def backward(self, gy):\n",
        "        gx = broadcast_to(gy, self.x_shape)\n",
        "        return gx\n",
        "\n",
        "\n",
        "def sum(x):\n",
        "    return Sum()(x)"
      ]
    },
    {
      "cell_type": "code",
      "execution_count": 8,
      "metadata": {},
      "outputs": [
        {
          "output_type": "stream",
          "name": "stdout",
          "text": [
            "variable(21)\nvariable([1 1 1 1 1 1])\n"
          ]
        }
      ],
      "source": [
        "import numpy as np\n",
        "from dezero import Variable\n",
        "import dezero.functions as F\n",
        "\n",
        "x = Variable(np.array([1, 2, 3, 4, 5, 6]))\n",
        "y = F.sum(x)\n",
        "y.backward()\n",
        "\n",
        "print(y)\n",
        "print(x.grad)"
      ]
    },
    {
      "cell_type": "code",
      "execution_count": 9,
      "metadata": {},
      "outputs": [
        {
          "output_type": "stream",
          "name": "stdout",
          "text": [
            "variable(21)\nvariable([[1 1 1]\n          [1 1 1]])\n"
          ]
        }
      ],
      "source": [
        "x = Variable(np.array([[1, 2, 3], [4, 5, 6]]))\n",
        "y = F.sum(x)\n",
        "y.backward()\n",
        "print(y)\n",
        "print(x.grad)"
      ]
    },
    {
      "cell_type": "code",
      "execution_count": 17,
      "metadata": {},
      "outputs": [
        {
          "output_type": "stream",
          "name": "stdout",
          "text": [
            "variable([5 7 9])\nvariable([[1 1 1]\n          [1 1 1]])\n(2, 3) -> (3,)\nvariable(21)\n"
          ]
        }
      ],
      "source": [
        "x = Variable(np.array([[1, 2, 3], [4, 5, 6]]))\n",
        "y = F.sum(x, axis=0)\n",
        "y.backward()\n",
        "print(y)\n",
        "print(x.grad)\n",
        "print(x.shape, '->', y.shape)\n",
        "\n",
        "y = F.sum(x, axis=(0,1))\n",
        "print(y)"
      ]
    },
    {
      "source": [
        "![그림 39-4](./img/39-4.png)\n",
        "![그림 39-5](./img/39-5.png)    \n",
        "axis=None : 모든 원소를 다 더한 값 하나(스칼라)를 출력(default임)   \n",
        "axis=(0,2) : 튜플로 지정하면 해당 튜플에서 지정한 0번과 2번 축 모두 대해 합계"
      ],
      "cell_type": "markdown",
      "metadata": {}
    },
    {
      "cell_type": "code",
      "execution_count": 19,
      "metadata": {},
      "outputs": [
        {
          "output_type": "stream",
          "name": "stdout",
          "text": [
            "[[21]]\n(1, 1)\n21\n()\n"
          ]
        }
      ],
      "source": [
        "x = np.array([[1,2,3], [4,5,6]])\n",
        "y = np.sum(x, keepdims=True)        # keepdims는 입력과 출력의 차원 수를 똑같게 유지할지 정하는 플래그\n",
        "print(y)                            # keepdims=True : 축의 수를 유지\n",
        "print(y.shape)    \n",
        "y = np.sum(x, keepdims=False)        # keepdims=False : 형상은 (), 스칼라\n",
        "print(y)                              \n",
        "print(y.shape)    "
      ]
    },
    {
      "cell_type": "code",
      "execution_count": null,
      "metadata": {},
      "outputs": [],
      "source": [
        "class Sum(Function):\n",
        "    def __init__(self, axis, keepdims):\n",
        "        self.axis = axis\n",
        "        self.keepdims = keepdims\n",
        "\n",
        "    def forward(self, x):\n",
        "        self.x_shape = x.shape\n",
        "        y = x.sum(axis=self.axis, keepdims=self.keepdims)\n",
        "        return y\n",
        "\n",
        "    def backward(self, gy):\n",
        "        gy = utils.reshape_sum_backward(gy, self.x_shape, self.axis,\n",
        "                                        self.keepdims)\n",
        "        gx = broadcast_to(gy, self.x_shape)\n",
        "        return gx\n",
        "\n",
        "\n",
        "def sum(x, axis=None, keepdims=False):\n",
        "    return Sum(axis, keepdims)(x)"
      ]
    },
    {
      "cell_type": "code",
      "execution_count": 23,
      "metadata": {},
      "outputs": [
        {
          "output_type": "stream",
          "name": "stdout",
          "text": [
            "(2, 3, 4, 5)\nvariable([[[[14.0856125]]]])\n(1, 1, 1, 1)\n"
          ]
        }
      ],
      "source": [
        "x = Variable(np.random.randn(2, 3, 4, 5))\n",
        "y = x.sum(keepdims=True)\n",
        "print(x.shape)\n",
        "print(y)\n",
        "print(y.shape)"
      ]
    },
    {
      "cell_type": "code",
      "execution_count": null,
      "metadata": {},
      "outputs": [],
      "source": []
    }
  ],
  "metadata": {
    "anaconda-cloud": {},
    "kernelspec": {
      "display_name": "Python 3",
      "language": "python",
      "name": "python3"
    },
    "language_info": {
      "codemirror_mode": {
        "name": "ipython",
        "version": 3
      },
      "file_extension": ".py",
      "mimetype": "text/x-python",
      "name": "python",
      "nbconvert_exporter": "python",
      "pygments_lexer": "ipython3",
      "version": "3.8.3-final"
    }
  },
  "nbformat": 4,
  "nbformat_minor": 4
}