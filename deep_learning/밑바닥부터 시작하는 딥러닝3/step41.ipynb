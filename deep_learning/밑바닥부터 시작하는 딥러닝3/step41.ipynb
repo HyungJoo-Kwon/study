{
  "cells": [
    {
      "cell_type": "code",
      "metadata": {},
      "source": [
        "# 행렬의 곱\n",
        "if '__file__' in globals():\n",
        "    import os, sys\n",
        "    sys.path.append(os.path.join(os.path.dirname(__file__), '..'))\n",
        "\n"
      ],
      "outputs": [],
      "execution_count": null
    },
    {
      "source": [
        "벡터의 내적     \n",
        "a = $(a_{1}, \\cdots, a_{n})$, b = $(b_{1}, \\cdots, b_{n})$  \n",
        "![식 41.1](./img/41.1.png)      \n",
        "\n",
        "행렬의 곱   \n",
        "![그림 41-1](./img/41-1.png)"
      ],
      "cell_type": "markdown",
      "metadata": {}
    },
    {
      "cell_type": "code",
      "execution_count": 2,
      "metadata": {},
      "outputs": [
        {
          "output_type": "stream",
          "name": "stdout",
          "text": [
            "32\n[[19 22]\n [43 50]]\n"
          ]
        }
      ],
      "source": [
        "import numpy as np \n",
        "a = np.array([1,2,3])\n",
        "b = np.array([4,5,6])\n",
        "c = np.dot(a,b)\n",
        "print(c)\n",
        "\n",
        "a = np.array([[1,2], [3,4]])\n",
        "b = np.array([[5,6], [7,8]])\n",
        "c = np.dot(a,b)\n",
        "print(c)"
      ]
    },
    {
      "source": [
        "![그림 41-2](./img/41-2.png)"
      ],
      "cell_type": "markdown",
      "metadata": {}
    },
    {
      "source": [
        "# 행렬 곱\n",
        "y = xW (x = 1 x D, W = D x H, y = 1 x H)    \n",
        "![그림 41-3](./img/41-3.png)    \n",
        "y = xW (x = N x D, W = D x H, y = N x H)   \n",
        "![그림 41-5](./img/41-5.png)"
      ],
      "cell_type": "markdown",
      "metadata": {}
    },
    {
      "cell_type": "code",
      "execution_count": null,
      "metadata": {},
      "outputs": [],
      "source": [
        "class MatMul(Function):\n",
        "    def forward(self, x, W):\n",
        "        y = x.dot(W)\n",
        "        return y\n",
        "\n",
        "    def backward(self, gy):\n",
        "        x, W = self.inputs\n",
        "        gx = matmul(gy, W.T)            # W.T와 x.T에는 transpose 함수가 호출(step38)\n",
        "        gW = matmul(x.T, gy)\n",
        "        return gx, gW\n",
        "\n",
        "\n",
        "def matmul(x, W):\n",
        "    return MatMul()(x, W)\n"
      ]
    },
    {
      "cell_type": "code",
      "execution_count": 11,
      "metadata": {},
      "outputs": [
        {
          "output_type": "stream",
          "name": "stdout",
          "text": [
            "x : variable([[ 1.03456353  0.27193871  0.86023841]\n          [ 1.06768801 -0.83540155  1.35419697]]) (2, 3)\nw : variable([[-0.77110712  0.31744908  1.4434869   0.81484399]\n          [-0.59206421 -0.47752476  0.42763204  0.84477188]\n          [-0.82779724  1.08705633  0.90385875  2.0810289 ]]) (3, 4)\ny : variable([[-1.67086747  1.13369138  2.38720262  2.86291505]\n          [-1.44969098  2.20994988  2.40795197  2.98239845]]) (2, 4)\nx.grad.shape (2, 3)\nw.grad.shape (3, 4)\n"
          ]
        }
      ],
      "source": [
        "import numpy as np\n",
        "from dezero import Variable\n",
        "import dezero.functions as F\n",
        "\n",
        "x = Variable(np.random.randn(2, 3))\n",
        "w = Variable(np.random.randn(3, 4))\n",
        "y = F.matmul(x, w)\n",
        "print(f'x : {x} {x.shape}')\n",
        "print(f'w : {w} {w.shape}')\n",
        "print(f'y : {y} {y.shape}')\n",
        "y.backward()\n",
        "\n",
        "print(f'x.grad.shape {x.grad.shape}')\n",
        "print(f'w.grad.shape {w.grad.shape}')"
      ]
    },
    {
      "cell_type": "code",
      "execution_count": null,
      "metadata": {},
      "outputs": [],
      "source": []
    }
  ],
  "metadata": {
    "anaconda-cloud": {},
    "kernelspec": {
      "display_name": "Python 3",
      "language": "python",
      "name": "python3"
    },
    "language_info": {
      "codemirror_mode": {
        "name": "ipython",
        "version": 3
      },
      "file_extension": ".py",
      "mimetype": "text/x-python",
      "name": "python",
      "nbconvert_exporter": "python",
      "pygments_lexer": "ipython3",
      "version": "3.8.3-final"
    }
  },
  "nbformat": 4,
  "nbformat_minor": 4
}