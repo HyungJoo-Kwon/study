{
 "cells": [
  {
   "cell_type": "markdown",
   "metadata": {},
   "source": [
    "<h1> <center> PYTHON </center> </h1>\n",
    "<h2><center>2020.09.16</center>\n",
    "<br>\n",
    "<center>권 형 주 </center> </h2>\n"
   ]
  },
  {
   "cell_type": "code",
   "execution_count": 4,
   "metadata": {},
   "outputs": [
    {
     "name": "stdout",
     "output_type": "stream",
     "text": [
      "si\n"
     ]
    }
   ],
   "source": [
    "# 문항 1\n",
    "a = \"string\"\n",
    "print(a[0]+a[-3])"
   ]
  },
  {
   "cell_type": "code",
   "execution_count": 5,
   "metadata": {},
   "outputs": [
    {
     "data": {
      "text/plain": [
       "['하나', '둘', ['넷', '다섯', '여섯일곱'], 1, 2, 3.0]"
      ]
     },
     "execution_count": 5,
     "metadata": {},
     "output_type": "execute_result"
    }
   ],
   "source": [
    "# 문항 2\n",
    "a = [\"하나\", \"둘\", 1, 2, 3.0]\n",
    "b = [\"넷\", \"다섯\"]\n",
    "c = \"여섯\"\n",
    "d = \"일곱\"\n",
    "b.append(c+d)\n",
    "a.insert(2, b)\n",
    "\n",
    "a"
   ]
  },
  {
   "cell_type": "code",
   "execution_count": 6,
   "metadata": {},
   "outputs": [
    {
     "name": "stdout",
     "output_type": "stream",
     "text": [
      "a의 주소 1384719980736\n",
      "참조 주소 1384719980736\n",
      "복사 주소 1384716625920\n"
     ]
    }
   ],
   "source": [
    "# 문항 3\n",
    "a = ['하나', '둘', \"일곱\", 1, 2, 3.0, \"넷\", \"다섯\", \"여섯\", \"A\"]\n",
    "b = a\n",
    "c = a.copy()\n",
    "\n",
    "print(\"a의 주소\", id(a))\n",
    "print(\"참조 주소\", id(b))\n",
    "print(\"복사 주소\", id(c))"
   ]
  },
  {
   "cell_type": "code",
   "execution_count": 7,
   "metadata": {},
   "outputs": [
    {
     "name": "stdout",
     "output_type": "stream",
     "text": [
      "f의 값은(a=1, args=(2, 3, 4), kwargs={'b': 5, 'c': 6}\n"
     ]
    }
   ],
   "source": [
    "# 문항 4\n",
    "def f(a=0, *args, **kwargs):\n",
    "    print(\"f의 값은(a=%s, args=%s, kwargs=%s\" %(a, args, kwargs))\n",
    "a = 1\n",
    "args = [2,3,4]\n",
    "kwargs = {'b':5, 'c':6}\n",
    "\n",
    "f(a, *args, **kwargs)"
   ]
  },
  {
   "cell_type": "code",
   "execution_count": 8,
   "metadata": {},
   "outputs": [
    {
     "data": {
      "text/plain": [
       "10.0"
      ]
     },
     "execution_count": 8,
     "metadata": {},
     "output_type": "execute_result"
    }
   ],
   "source": [
    "# 문항 5\n",
    "(lambda b, h : 0.5 * b * h)(5,4)"
   ]
  },
  {
   "cell_type": "code",
   "execution_count": 9,
   "metadata": {},
   "outputs": [],
   "source": [
    "# 문항 6\n",
    "class Calculator:\n",
    "    value = 0\n",
    "    def __init__(self):\n",
    "        self.value = 0\n",
    "    def add(self, val):\n",
    "        self.value += val\n",
    "# 1)\n",
    "class UpgradeCalculator(Calculator):\n",
    "    def __init__(self):\n",
    "        super().__init__()\n",
    "    def add(self, val):\n",
    "        super().add(val)\n",
    "    def minus(self, val):\n",
    "        self.value -= val\n",
    "# 2)\n",
    "class MaxLimitCalculator(UpgradeCalculator):\n",
    "    def __init(self):\n",
    "        super().__init()\n",
    "    def add(self, val):\n",
    "        if self.value + val < 100:\n",
    "            super().add(val)"
   ]
  },
  {
   "cell_type": "code",
   "execution_count": 10,
   "metadata": {},
   "outputs": [
    {
     "data": {
      "text/plain": [
       "0"
      ]
     },
     "execution_count": 10,
     "metadata": {},
     "output_type": "execute_result"
    }
   ],
   "source": [
    "cal = UpgradeCalculator()\n",
    "cal.add(10)\n",
    "cal.minus(10)\n",
    "cal.value"
   ]
  },
  {
   "cell_type": "code",
   "execution_count": 11,
   "metadata": {},
   "outputs": [
    {
     "data": {
      "text/plain": [
       "50"
      ]
     },
     "execution_count": 11,
     "metadata": {},
     "output_type": "execute_result"
    }
   ],
   "source": [
    "cal = MaxLimitCalculator()\n",
    "cal.add(50)\n",
    "cal.add(60)\n",
    "cal.value"
   ]
  },
  {
   "cell_type": "code",
   "execution_count": 12,
   "metadata": {},
   "outputs": [
    {
     "name": "stdout",
     "output_type": "stream",
     "text": [
      "1\n",
      "4\n",
      "9\n",
      "16\n",
      "25\n"
     ]
    }
   ],
   "source": [
    "# 문항 7\n",
    "b = [x*x for x in [1, 2, 3, 4, 5]] # 예문\n",
    "b = (x*x for x in [1, 2, 3, 4, 5]) # 제너레이터형\n",
    "for a in b:\n",
    "    print(a)"
   ]
  },
  {
   "cell_type": "code",
   "execution_count": null,
   "metadata": {
    "scrolled": true
   },
   "outputs": [],
   "source": [
    "# 문항 8 \n",
    "f_read = open(\"C:/Windows/system.ini\", mode='r', encoding= \"utf-8\")\n",
    "f_write = open(\"C:/Users/w/Desktop/test_out.txt\", mode='w', encoding= \"utf-8\")\n",
    "count = 1\n",
    "\n",
    "while True:\n",
    "    line = f_read.readline()\n",
    "    content = f_read.read()\n",
    "    if not line:\n",
    "        break\n",
    "#2  \n",
    "    line = line.lower()\n",
    "    \n",
    "#3\n",
    "    while True:\n",
    "        if not line:\n",
    "            break\n",
    "        if \"fon\" in line:\n",
    "            for i in range(line.count(\"fon\")):  \n",
    "                line = line.replace(\"fon\", \"fon({})\" .format(count), 1)   \n",
    "                count +=1\n",
    "#1\n",
    "    f_write.writelines(line)  \n",
    "    print(line)\n",
    "## 안됩니다"
   ]
  },
  {
   "cell_type": "code",
   "execution_count": null,
   "metadata": {},
   "outputs": [],
   "source": [
    "# 문항 9\n",
    "import random\n",
    "import numpy as np\n",
    "\n",
    "num = np.random.randint(1,46)\n",
    "list = []\n",
    "for i in range(6):\n",
    "    while num in list:\n",
    "        num = np.random.randint(1,46)\n",
    "    list.append(num)\n",
    "list.sort()\n",
    "list"
   ]
  },
  {
   "cell_type": "code",
   "execution_count": null,
   "metadata": {},
   "outputs": [],
   "source": []
  }
 ],
 "metadata": {
  "kernelspec": {
   "display_name": "Python 3",
   "language": "python",
   "name": "python3"
  },
  "language_info": {
   "codemirror_mode": {
    "name": "ipython",
    "version": 3
   },
   "file_extension": ".py",
   "mimetype": "text/x-python",
   "name": "python",
   "nbconvert_exporter": "python",
   "pygments_lexer": "ipython3",
   "version": "3.8.3-final"
  }
 },
 "nbformat": 4,
 "nbformat_minor": 2
}