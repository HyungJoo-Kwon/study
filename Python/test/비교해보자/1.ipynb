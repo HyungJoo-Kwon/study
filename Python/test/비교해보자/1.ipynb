{
 "metadata": {
  "language_info": {
   "codemirror_mode": {
    "name": "ipython",
    "version": 3
   },
   "file_extension": ".py",
   "mimetype": "text/x-python",
   "name": "python",
   "nbconvert_exporter": "python",
   "pygments_lexer": "ipython3",
   "version": "3.8.3-final"
  },
  "orig_nbformat": 2,
  "kernelspec": {
   "name": "python_defaultSpec_1600392541127",
   "display_name": "Python 3.8.3 64-bit ('base': conda)"
  }
 },
 "nbformat": 4,
 "nbformat_minor": 2,
 "cells": [
  {
   "source": [
    "<h1> <center> PYTHON </center> </h1>\n",
    "<h2><center>2020.09.16</center>\n",
    "<br>\n",
    "<center>이 준 호 </center> </h2>\n",
    "\n",
    "---"
   ],
   "cell_type": "markdown",
   "metadata": {}
  },
  {
   "source": [
    "## 1번"
   ],
   "cell_type": "markdown",
   "metadata": {}
  },
  {
   "cell_type": "code",
   "execution_count": 25,
   "metadata": {
    "tags": []
   },
   "outputs": [
    {
     "output_type": "stream",
     "name": "stdout",
     "text": "si\nsi\n"
    }
   ],
   "source": [
    "a = 'string'\n",
    "print(a[0]+a[3])\n",
    "print(a[0::3])"
   ]
  },
  {
   "source": [
    "## 2번"
   ],
   "cell_type": "markdown",
   "metadata": {}
  },
  {
   "cell_type": "code",
   "execution_count": 26,
   "metadata": {
    "tags": []
   },
   "outputs": [
    {
     "output_type": "stream",
     "name": "stdout",
     "text": "['하나', '일곱', '여섯', ['넷', '다섯'], '둘', 1, 2, 3.0]\n"
    }
   ],
   "source": [
    "a = ['하나','둘',1,2,3.0]\n",
    "b = ['넷','다섯']\n",
    "c = '여섯'\n",
    "d = '일곱'\n",
    "a.insert(1,b)\n",
    "a.insert(1,c)\n",
    "a.insert(1,d)\n",
    "print(a)"
   ]
  },
  {
   "source": [
    "## 3번"
   ],
   "cell_type": "markdown",
   "metadata": {}
  },
  {
   "cell_type": "code",
   "execution_count": 27,
   "metadata": {
    "tags": []
   },
   "outputs": [
    {
     "output_type": "stream",
     "name": "stdout",
     "text": "1663790924288\n1663790924288\nTrue\n\n1663790924288\n1663792569536\nFalse\n\n1663790924288\n1663792398976\nFalse\n\n1663790924288\n1663791803392\nFalse\n\n"
    }
   ],
   "source": [
    "import copy\n",
    "a = ['하나','둘','일곱',1,2,3.0,'넷','다섯','여섯','A']\n",
    "b = a\n",
    "print(id(a))\n",
    "print(id(b))\n",
    "print(a is b)\n",
    "print()\n",
    "b = a.copy()\n",
    "print(id(a))\n",
    "print(id(b))\n",
    "print(a is b)\n",
    "print()\n",
    "b = a[:]\n",
    "print(id(a))\n",
    "print(id(b))\n",
    "print(a is b)\n",
    "print()\n",
    "b = copy.deepcopy(a)\n",
    "print(id(a))\n",
    "print(id(b))\n",
    "print(a is b)\n",
    "print()\n"
   ]
  },
  {
   "source": [
    "## 4번"
   ],
   "cell_type": "markdown",
   "metadata": {}
  },
  {
   "cell_type": "code",
   "execution_count": 28,
   "metadata": {
    "tags": []
   },
   "outputs": [
    {
     "output_type": "stream",
     "name": "stdout",
     "text": "f의 값은(a=1, args=(2, 3, 4), kwargs={'b': 5, 'c': 6}\n"
    }
   ],
   "source": [
    "def f(a=0, *args, **kwargs):\n",
    "    print(\"f의 값은(a=%s, args=%s, kwargs=%s\" %(a,args,kwargs))\n",
    "f(1, 2, 3, 4,b=5,c=6)\n",
    "# args는 뒤에 있는 것들을 다 읽습니다. kwargs는 안에서 지정해주는 것들을 읽습니다."
   ]
  },
  {
   "source": [
    "## 5번"
   ],
   "cell_type": "markdown",
   "metadata": {}
  },
  {
   "cell_type": "code",
   "execution_count": 29,
   "metadata": {
    "tags": []
   },
   "outputs": [
    {
     "output_type": "stream",
     "name": "stdout",
     "text": "10.0\n"
    }
   ],
   "source": [
    "area = lambda x,y: 0.5*x*y\n",
    "print(area(5,4))\n",
    "#lambda식 2개도 편하게 쓸 수 있네요. 저도 이번에 알았습니다."
   ]
  },
  {
   "source": [
    "## 6번"
   ],
   "cell_type": "markdown",
   "metadata": {}
  },
  {
   "source": [
    "1)"
   ],
   "cell_type": "markdown",
   "metadata": {}
  },
  {
   "cell_type": "code",
   "execution_count": 30,
   "metadata": {
    "tags": []
   },
   "outputs": [
    {
     "output_type": "stream",
     "name": "stdout",
     "text": "0\n"
    }
   ],
   "source": [
    "class Calculator:\n",
    "    def __init__(self):\n",
    "        self.value = 0\n",
    "    def add(self,val):\n",
    "        self.value += val\n",
    "#상속은 ()안에 넣어주기\n",
    "class UpgradeCalculator(Calculator):\n",
    "    def minus(self,val):\n",
    "        self.value -= val \n",
    "cal = UpgradeCalculator()\n",
    "cal.minus(10)\n",
    "cal.add(10)\n",
    "print(cal.value)"
   ]
  },
  {
   "source": [
    "2)"
   ],
   "cell_type": "markdown",
   "metadata": {}
  },
  {
   "cell_type": "code",
   "execution_count": 31,
   "metadata": {
    "tags": []
   },
   "outputs": [
    {
     "output_type": "stream",
     "name": "stdout",
     "text": "100이 넘습니다. 계산을 제한합니다.\n50\n"
    }
   ],
   "source": [
    "class Calculator:\n",
    "    def __init__(self):\n",
    "        self.value = 0\n",
    "    def add(self,val):\n",
    "        self.value += val\n",
    "\n",
    "class UpgradeCalculator(Calculator):\n",
    "    def minus(self,val):\n",
    "        self.value -= val \n",
    "#수정이 필요한 함수들만 수정하면 됩니다.\n",
    "class MaxLimitCalculator(UpgradeCalculator):\n",
    "    def add(self,val):\n",
    "        if(val+self.value<100):\n",
    "            self.value += val \n",
    "        else :\n",
    "            print(\"100이 넘습니다. 계산을 제한합니다.\")\n",
    "\n",
    "cal = MaxLimitCalculator()\n",
    "cal.add(50)\n",
    "cal.add(60)\n",
    "print(cal.value)"
   ]
  },
  {
   "source": [
    "## 7번"
   ],
   "cell_type": "markdown",
   "metadata": {}
  },
  {
   "cell_type": "code",
   "execution_count": 32,
   "metadata": {
    "tags": []
   },
   "outputs": [
    {
     "output_type": "stream",
     "name": "stdout",
     "text": "[1, 4, 9, 16, 25]\n<generator object <genexpr> at 0x0000018362341890>\n1\n"
    }
   ],
   "source": [
    "b = [i*i for i in [1,2,3,4,5]]\n",
    "print(b)\n",
    "b = (i*i for i in [1,2,3,4,5])\n",
    "print(b)\n",
    "print(next(b))"
   ]
  },
  {
   "source": [
    "## 8번"
   ],
   "cell_type": "markdown",
   "metadata": {}
  },
  {
   "source": [
    "1)"
   ],
   "cell_type": "markdown",
   "metadata": {}
  },
  {
   "source": [
    "2)"
   ],
   "cell_type": "markdown",
   "metadata": {}
  },
  {
   "source": [
    "3)"
   ],
   "cell_type": "markdown",
   "metadata": {}
  },
  {
   "cell_type": "code",
   "execution_count": 1,
   "metadata": {
    "tags": []
   },
   "outputs": [
    {
     "output_type": "stream",
     "name": "stdout",
     "text": "; for 16-bit app support\n\n[386enh]\n\nwoafont=dosapp.fon\n\nega80woa.fon=ega80woa.fon\n\nega40woa.fon=ega40woa.fon\n\ncga80woa.fon=cga80woa.fon\n\ncga40woa.fon=cga40woa.fon\n\n\n\n[drivers]\n\nwave=mmdrv.dll\n\ntimer=timer.drv\n\n\n\n[mci]\n\n"
    }
   ],
   "source": [
    "f = open(\"C:/Windows/system.ini\",'r')\n",
    "count = 1\n",
    "while True:\n",
    "    line = f.readline()\n",
    "    if not line: \n",
    "        break\n",
    "        \n",
    "    line = line.lower()\n",
    "    print(line)"
   ]
  },
  {
   "cell_type": "code",
   "execution_count": 3,
   "metadata": {
    "tags": []
   },
   "outputs": [
    {
     "output_type": "stream",
     "name": "stdout",
     "text": "; for 16-bit app support\n\n[386enh]\n\nwoafon(1)t=dosapp.fon(2)\n\nega80woa.fon(3)=ega80woa.fon(4)\n\nega40woa.fon(5)=ega40woa.fon(6)\n\ncga80woa.fon(7)=cga80woa.fon(8)\n\ncga40woa.fon(9)=cga40woa.fon(10)\n\n\n\n[drivers]\n\nwave=mmdrv.dll\n\ntimer=timer.drv\n\n\n\n[mci]\n\n"
    }
   ],
   "source": [
    "f = open(\"C:/Windows/system.ini\",'r')\n",
    "w = open(\"test_out.txt\",'w')\n",
    "count = 1\n",
    "while True:\n",
    "    line = f.readline()\n",
    "    if not line: break\n",
    "    #먼저 소문자로 변경\n",
    "    line = line.lower()\n",
    "    #이제 write할 line2를 만들어줍니다.\n",
    "    line2 = str()\n",
    "    while True:\n",
    "        #fon이 있을 때\n",
    "        if 'fon' in line :\n",
    "            #변경\n",
    "            line = line.replace('fon','fon({})'.format(count),1)\n",
    "            #변경 후 fon(#) 여기까지의 length\n",
    "            temp=line.find('fon({})'.format(count))+6\n",
    "            # ~~fon(#)까지의 string을 더해줍니다.\n",
    "            line2+=line[:temp]\n",
    "            # fon(#) 이후 나머지 string을 다시 지정 후 while 재시작\n",
    "            line = line[temp:]\n",
    "            count+=1\n",
    "            # 이렇게 하는 이유는 line에 fon이라는 단어가 2개있을 때 같은 문장을 반복해야하고,\n",
    "            # fon(#)을 if문에서 fon으로 인지하는 것을 방지하기위해서 line을 수정합니다.\n",
    "        else : \n",
    "            # fon이 하나도 없으면 line이 그 문장 전체를 말하므로 \"\"인 line2에 더해줍니다.\n",
    "            # 만약 fon이 있었다면 line은 분할되어 마지막에는 \"\"로 남습니다. 그래서 line2에 더해줘도 상관없습니다.\n",
    "            line2+=line\n",
    "            # 수정이 완료된 line2 파일에 저장\n",
    "            w.write(line2)\n",
    "            \n",
    "            print(line2)\n",
    "            break\n",
    "\n",
    "w.close()\n",
    "f.close()"
   ]
  },
  {
   "source": [
    "## 9번  \n",
    "- C++에서는 중복되는 숫자를 체크하기 위해서 계속해서 while이나 for문 등의 반복문을 통해 random을 생성하고 다시 그 안에 while이나 for문을 써서 체크했습니다.  \n",
    "- 하지만 python에서는 계속 같은 숫자를 넣어도 같은 숫자는 1개만 들어가는 set()이라는 객체가 있으니 그걸 이용해봅시다. (while문 2번쓰기 싫어서 생각했습니다.)\n"
   ],
   "cell_type": "markdown",
   "metadata": {
    "tags": []
   }
  },
  {
   "cell_type": "code",
   "execution_count": 36,
   "metadata": {
    "tags": []
   },
   "outputs": [
    {
     "output_type": "stream",
     "name": "stdout",
     "text": "[6, 7, 9, 10, 12, 38]\n"
    }
   ],
   "source": [
    "import random\n",
    "num = set()\n",
    "while True:\n",
    "    # 동일한 숫자를 넣으면 어짜피 1개로 인식\n",
    "    num.add(random.randint(1,45))\n",
    "    # 6개의 숫자가 저장시에 종료\n",
    "    if len(num)==6: break\n",
    "#sorting 하기 위해서 list로 변경\n",
    "result = list(num)\n",
    "#sort\n",
    "result.sort()\n",
    "print(result)"
   ]
  },
  {
   "cell_type": "code",
   "execution_count": null,
   "metadata": {},
   "outputs": [],
   "source": []
  },
  {
   "cell_type": "code",
   "execution_count": null,
   "metadata": {},
   "outputs": [],
   "source": []
  }
 ]
}