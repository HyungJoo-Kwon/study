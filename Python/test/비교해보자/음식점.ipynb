{
 "metadata": {
  "language_info": {
   "codemirror_mode": {
    "name": "ipython",
    "version": 3
   },
   "file_extension": ".py",
   "mimetype": "text/x-python",
   "name": "python",
   "nbconvert_exporter": "python",
   "pygments_lexer": "ipython3",
   "version": "3.8.3-final"
  },
  "orig_nbformat": 2,
  "kernelspec": {
   "name": "python_defaultSpec_1600235425848",
   "display_name": "Python 3.8.3 64-bit ('base': conda)"
  }
 },
 "nbformat": 4,
 "nbformat_minor": 2,
 "cells": [
  {
   "cell_type": "code",
   "execution_count": 1,
   "metadata": {},
   "outputs": [],
   "source": [
    "import pandas as pd\n",
    "import numpy as np\n",
    "import matplotlib.font_manager as fm\n",
    "import matplotlib.pyplot as plt\n",
    "font_path = 'C:/Windows/Fonts/NGULIM.TTF'\n",
    "font_family = fm.FontProperties(fname=font_path).get_name()\n",
    "plt.rcParams[\"font.family\"] = font_family\n",
    "\n",
    "# 저에게 던져주신 다음 문제 전에 받은 인구 데이터를 이용하여 인구 대비 치킨집 비율 추가하기"
   ]
  },
  {
   "cell_type": "code",
   "execution_count": 2,
   "metadata": {},
   "outputs": [
    {
     "output_type": "execute_result",
     "data": {
      "text/plain": "   번호 개방서비스명     개방서비스ID  개방자치단체코드                    관리번호     인허가일자  인허가취소일자  \\\n0   1  일반음식점  07_24_04_P   3410000  3410000-101-2002-00042  20020321      NaN   \n1   2  일반음식점  07_24_04_P   3410000  3410000-101-2002-00043  20020322      NaN   \n2   3  일반음식점  07_24_04_P   3410000  3410000-101-2002-00046  20020322      NaN   \n3   4  일반음식점  07_24_04_P   3410000  3410000-101-2002-00067  20020325      NaN   \n4   5  일반음식점  07_24_04_P   3410000  3410000-101-2002-00041  20020325      NaN   \n\n   영업상태구분코드 영업상태명  상세영업상태코드  ... 공장판매직종업원수  공장생산직종업원수  건물소유구분명  보증액  월세액  \\\n0         3    폐업         2  ...       NaN        NaN      NaN  NaN  NaN   \n1         3    폐업         2  ...       NaN        NaN      NaN  NaN  NaN   \n2         3    폐업         2  ...       NaN        NaN      NaN  NaN  NaN   \n3         3    폐업         2  ...       NaN        NaN      NaN  NaN  NaN   \n4         3    폐업         2  ...       NaN        NaN      NaN  NaN  NaN   \n\n  다중이용업소여부   시설총규모  전통업소지정번호 전통업소주된음식 홈페이지  \n0        N  144.58       NaN      NaN  NaN  \n1        N   59.55       NaN      NaN  NaN  \n2        N   42.78       NaN      NaN  NaN  \n3        N   77.01       NaN      NaN  NaN  \n4        N  140.58       NaN      NaN  NaN  \n\n[5 rows x 47 columns]",
      "text/html": "<div>\n<style scoped>\n    .dataframe tbody tr th:only-of-type {\n        vertical-align: middle;\n    }\n\n    .dataframe tbody tr th {\n        vertical-align: top;\n    }\n\n    .dataframe thead th {\n        text-align: right;\n    }\n</style>\n<table border=\"1\" class=\"dataframe\">\n  <thead>\n    <tr style=\"text-align: right;\">\n      <th></th>\n      <th>번호</th>\n      <th>개방서비스명</th>\n      <th>개방서비스ID</th>\n      <th>개방자치단체코드</th>\n      <th>관리번호</th>\n      <th>인허가일자</th>\n      <th>인허가취소일자</th>\n      <th>영업상태구분코드</th>\n      <th>영업상태명</th>\n      <th>상세영업상태코드</th>\n      <th>...</th>\n      <th>공장판매직종업원수</th>\n      <th>공장생산직종업원수</th>\n      <th>건물소유구분명</th>\n      <th>보증액</th>\n      <th>월세액</th>\n      <th>다중이용업소여부</th>\n      <th>시설총규모</th>\n      <th>전통업소지정번호</th>\n      <th>전통업소주된음식</th>\n      <th>홈페이지</th>\n    </tr>\n  </thead>\n  <tbody>\n    <tr>\n      <th>0</th>\n      <td>1</td>\n      <td>일반음식점</td>\n      <td>07_24_04_P</td>\n      <td>3410000</td>\n      <td>3410000-101-2002-00042</td>\n      <td>20020321</td>\n      <td>NaN</td>\n      <td>3</td>\n      <td>폐업</td>\n      <td>2</td>\n      <td>...</td>\n      <td>NaN</td>\n      <td>NaN</td>\n      <td>NaN</td>\n      <td>NaN</td>\n      <td>NaN</td>\n      <td>N</td>\n      <td>144.58</td>\n      <td>NaN</td>\n      <td>NaN</td>\n      <td>NaN</td>\n    </tr>\n    <tr>\n      <th>1</th>\n      <td>2</td>\n      <td>일반음식점</td>\n      <td>07_24_04_P</td>\n      <td>3410000</td>\n      <td>3410000-101-2002-00043</td>\n      <td>20020322</td>\n      <td>NaN</td>\n      <td>3</td>\n      <td>폐업</td>\n      <td>2</td>\n      <td>...</td>\n      <td>NaN</td>\n      <td>NaN</td>\n      <td>NaN</td>\n      <td>NaN</td>\n      <td>NaN</td>\n      <td>N</td>\n      <td>59.55</td>\n      <td>NaN</td>\n      <td>NaN</td>\n      <td>NaN</td>\n    </tr>\n    <tr>\n      <th>2</th>\n      <td>3</td>\n      <td>일반음식점</td>\n      <td>07_24_04_P</td>\n      <td>3410000</td>\n      <td>3410000-101-2002-00046</td>\n      <td>20020322</td>\n      <td>NaN</td>\n      <td>3</td>\n      <td>폐업</td>\n      <td>2</td>\n      <td>...</td>\n      <td>NaN</td>\n      <td>NaN</td>\n      <td>NaN</td>\n      <td>NaN</td>\n      <td>NaN</td>\n      <td>N</td>\n      <td>42.78</td>\n      <td>NaN</td>\n      <td>NaN</td>\n      <td>NaN</td>\n    </tr>\n    <tr>\n      <th>3</th>\n      <td>4</td>\n      <td>일반음식점</td>\n      <td>07_24_04_P</td>\n      <td>3410000</td>\n      <td>3410000-101-2002-00067</td>\n      <td>20020325</td>\n      <td>NaN</td>\n      <td>3</td>\n      <td>폐업</td>\n      <td>2</td>\n      <td>...</td>\n      <td>NaN</td>\n      <td>NaN</td>\n      <td>NaN</td>\n      <td>NaN</td>\n      <td>NaN</td>\n      <td>N</td>\n      <td>77.01</td>\n      <td>NaN</td>\n      <td>NaN</td>\n      <td>NaN</td>\n    </tr>\n    <tr>\n      <th>4</th>\n      <td>5</td>\n      <td>일반음식점</td>\n      <td>07_24_04_P</td>\n      <td>3410000</td>\n      <td>3410000-101-2002-00041</td>\n      <td>20020325</td>\n      <td>NaN</td>\n      <td>3</td>\n      <td>폐업</td>\n      <td>2</td>\n      <td>...</td>\n      <td>NaN</td>\n      <td>NaN</td>\n      <td>NaN</td>\n      <td>NaN</td>\n      <td>NaN</td>\n      <td>N</td>\n      <td>140.58</td>\n      <td>NaN</td>\n      <td>NaN</td>\n      <td>NaN</td>\n    </tr>\n  </tbody>\n</table>\n<p>5 rows × 47 columns</p>\n</div>"
     },
     "metadata": {},
     "execution_count": 2
    }
   ],
   "source": [
    "res = pd.read_excel('data/6270000_대구광역시_07_24_04_P_일반음식점.xlsx')\n",
    "res.head()"
   ]
  },
  {
   "cell_type": "code",
   "execution_count": 3,
   "metadata": {},
   "outputs": [
    {
     "output_type": "execute_result",
     "data": {
      "text/plain": "      상세영업상태코드                           소재지전체주소  업태구분명\n4589         1         대구광역시 중구 공평동 0058-0006번지   호프/통닭\n4604         1         대구광역시 중구 남산동 2120-0001번지   호프/통닭\n4627         1         대구광역시 중구 남산동 2380-0023번지   호프/통닭\n4684         1  대구광역시 중구 삼덕동1가 0028-0007번지 지상3층   호프/통닭\n4699         1         대구광역시 중구 남성로 0094-0001번지   호프/통닭",
      "text/html": "<div>\n<style scoped>\n    .dataframe tbody tr th:only-of-type {\n        vertical-align: middle;\n    }\n\n    .dataframe tbody tr th {\n        vertical-align: top;\n    }\n\n    .dataframe thead th {\n        text-align: right;\n    }\n</style>\n<table border=\"1\" class=\"dataframe\">\n  <thead>\n    <tr style=\"text-align: right;\">\n      <th></th>\n      <th>상세영업상태코드</th>\n      <th>소재지전체주소</th>\n      <th>업태구분명</th>\n    </tr>\n  </thead>\n  <tbody>\n    <tr>\n      <th>4589</th>\n      <td>1</td>\n      <td>대구광역시 중구 공평동 0058-0006번지</td>\n      <td>호프/통닭</td>\n    </tr>\n    <tr>\n      <th>4604</th>\n      <td>1</td>\n      <td>대구광역시 중구 남산동 2120-0001번지</td>\n      <td>호프/통닭</td>\n    </tr>\n    <tr>\n      <th>4627</th>\n      <td>1</td>\n      <td>대구광역시 중구 남산동 2380-0023번지</td>\n      <td>호프/통닭</td>\n    </tr>\n    <tr>\n      <th>4684</th>\n      <td>1</td>\n      <td>대구광역시 중구 삼덕동1가 0028-0007번지 지상3층</td>\n      <td>호프/통닭</td>\n    </tr>\n    <tr>\n      <th>4699</th>\n      <td>1</td>\n      <td>대구광역시 중구 남성로 0094-0001번지</td>\n      <td>호프/통닭</td>\n    </tr>\n  </tbody>\n</table>\n</div>"
     },
     "metadata": {},
     "execution_count": 3
    }
   ],
   "source": [
    "res2 = res[['상세영업상태코드','소재지전체주소','업태구분명']]\n",
    "res2 = res2.dropna(axis=0)\n",
    "res2 = res2[res2['상세영업상태코드']==1]\n",
    "res2 = res2[res2['업태구분명'].isin(['호프/통닭','통닭(치킨)'])]\n",
    "res2.head()"
   ]
  },
  {
   "cell_type": "code",
   "execution_count": 4,
   "metadata": {},
   "outputs": [],
   "source": [
    "def f(group):\n",
    "    return group[2]\n",
    "res2['동네'] = list(map(f,res2['소재지전체주소'].str.split(' ')))"
   ]
  },
  {
   "cell_type": "code",
   "execution_count": 5,
   "metadata": {},
   "outputs": [],
   "source": [
    "def f2(group):\n",
    "    return group[1]\n",
    "res2['구'] = list(map(f2,res2['소재지전체주소'].str.split(' ')))"
   ]
  },
  {
   "cell_type": "code",
   "execution_count": 6,
   "metadata": {},
   "outputs": [
    {
     "output_type": "execute_result",
     "data": {
      "text/plain": "      개수\n동네      \n대명동  149\n다사읍  118\n상인동  111\n태전동   92\n평리동   91\n..   ...\n월암동    1\n대림동    1\n이현동    1\n전동     1\n가창면    1\n\n[145 rows x 1 columns]",
      "text/html": "<div>\n<style scoped>\n    .dataframe tbody tr th:only-of-type {\n        vertical-align: middle;\n    }\n\n    .dataframe tbody tr th {\n        vertical-align: top;\n    }\n\n    .dataframe thead th {\n        text-align: right;\n    }\n</style>\n<table border=\"1\" class=\"dataframe\">\n  <thead>\n    <tr style=\"text-align: right;\">\n      <th></th>\n      <th>개수</th>\n    </tr>\n    <tr>\n      <th>동네</th>\n      <th></th>\n    </tr>\n  </thead>\n  <tbody>\n    <tr>\n      <th>대명동</th>\n      <td>149</td>\n    </tr>\n    <tr>\n      <th>다사읍</th>\n      <td>118</td>\n    </tr>\n    <tr>\n      <th>상인동</th>\n      <td>111</td>\n    </tr>\n    <tr>\n      <th>태전동</th>\n      <td>92</td>\n    </tr>\n    <tr>\n      <th>평리동</th>\n      <td>91</td>\n    </tr>\n    <tr>\n      <th>...</th>\n      <td>...</td>\n    </tr>\n    <tr>\n      <th>월암동</th>\n      <td>1</td>\n    </tr>\n    <tr>\n      <th>대림동</th>\n      <td>1</td>\n    </tr>\n    <tr>\n      <th>이현동</th>\n      <td>1</td>\n    </tr>\n    <tr>\n      <th>전동</th>\n      <td>1</td>\n    </tr>\n    <tr>\n      <th>가창면</th>\n      <td>1</td>\n    </tr>\n  </tbody>\n</table>\n<p>145 rows × 1 columns</p>\n</div>"
     },
     "metadata": {},
     "execution_count": 6
    }
   ],
   "source": [
    "res3 = res2[['동네','구']]\n",
    "res3.columns = ['동네','개수']\n",
    "res3 = res3.groupby('동네')\n",
    "res3 = res3.count()\n",
    "res3.sort_values('개수',ascending=False)"
   ]
  },
  {
   "cell_type": "code",
   "execution_count": 7,
   "metadata": {},
   "outputs": [
    {
     "output_type": "execute_result",
     "data": {
      "text/plain": "      개수\n구       \n달서구  841\n북구   618\n수성구  453\n동구   422\n달성군  394\n서구   249\n남구   207\n중구   183",
      "text/html": "<div>\n<style scoped>\n    .dataframe tbody tr th:only-of-type {\n        vertical-align: middle;\n    }\n\n    .dataframe tbody tr th {\n        vertical-align: top;\n    }\n\n    .dataframe thead th {\n        text-align: right;\n    }\n</style>\n<table border=\"1\" class=\"dataframe\">\n  <thead>\n    <tr style=\"text-align: right;\">\n      <th></th>\n      <th>개수</th>\n    </tr>\n    <tr>\n      <th>구</th>\n      <th></th>\n    </tr>\n  </thead>\n  <tbody>\n    <tr>\n      <th>달서구</th>\n      <td>841</td>\n    </tr>\n    <tr>\n      <th>북구</th>\n      <td>618</td>\n    </tr>\n    <tr>\n      <th>수성구</th>\n      <td>453</td>\n    </tr>\n    <tr>\n      <th>동구</th>\n      <td>422</td>\n    </tr>\n    <tr>\n      <th>달성군</th>\n      <td>394</td>\n    </tr>\n    <tr>\n      <th>서구</th>\n      <td>249</td>\n    </tr>\n    <tr>\n      <th>남구</th>\n      <td>207</td>\n    </tr>\n    <tr>\n      <th>중구</th>\n      <td>183</td>\n    </tr>\n  </tbody>\n</table>\n</div>"
     },
     "metadata": {},
     "execution_count": 7
    }
   ],
   "source": [
    "#똑같이 추출\n",
    "res4 = res2[['구','동네']]\n",
    "res4.columns=['구','개수']\n",
    "res4 = res4.groupby('구')\n",
    "res4 = res4.count()\n",
    "res4.sort_values('개수',ascending=False)"
   ]
  },
  {
   "cell_type": "code",
   "execution_count": 8,
   "metadata": {},
   "outputs": [],
   "source": [
    "pop1906 = pd.read_csv('data/2019.06.30.UTF8.csv',thousands=',')\n",
    "pop1906.rename(columns={'행정구역':'구분'},inplace=True)"
   ]
  },
  {
   "cell_type": "code",
   "execution_count": 9,
   "metadata": {},
   "outputs": [
    {
     "output_type": "execute_result",
     "data": {
      "text/plain": "       중구     동구     서구     남구     북구    수성구     달서구    달성군\n인구                                                         \n0    5572  27937   8765   7221  36116  31376   44236  30293\n10   5370  28629  12665  10462  46834  55090   60556  23621\n20  11620  42833  23711  20327  60691  56987   81862  29765\n30  11311  47415  19635  17871  56384  45226   71171  43412\n40  11108  52960  25199  21400  75095  76047   94565  41490\n50  11798  58640  36882  26010  76729  74962  105716  40356\n60  10069  48272  29378  22886  48297  48484   66056  26081\n70  11087  42139  23685  22505  38947  42309   47141  19221",
      "text/html": "<div>\n<style scoped>\n    .dataframe tbody tr th:only-of-type {\n        vertical-align: middle;\n    }\n\n    .dataframe tbody tr th {\n        vertical-align: top;\n    }\n\n    .dataframe thead th {\n        text-align: right;\n    }\n</style>\n<table border=\"1\" class=\"dataframe\">\n  <thead>\n    <tr style=\"text-align: right;\">\n      <th></th>\n      <th>중구</th>\n      <th>동구</th>\n      <th>서구</th>\n      <th>남구</th>\n      <th>북구</th>\n      <th>수성구</th>\n      <th>달서구</th>\n      <th>달성군</th>\n    </tr>\n    <tr>\n      <th>인구</th>\n      <th></th>\n      <th></th>\n      <th></th>\n      <th></th>\n      <th></th>\n      <th></th>\n      <th></th>\n      <th></th>\n    </tr>\n  </thead>\n  <tbody>\n    <tr>\n      <th>0</th>\n      <td>5572</td>\n      <td>27937</td>\n      <td>8765</td>\n      <td>7221</td>\n      <td>36116</td>\n      <td>31376</td>\n      <td>44236</td>\n      <td>30293</td>\n    </tr>\n    <tr>\n      <th>10</th>\n      <td>5370</td>\n      <td>28629</td>\n      <td>12665</td>\n      <td>10462</td>\n      <td>46834</td>\n      <td>55090</td>\n      <td>60556</td>\n      <td>23621</td>\n    </tr>\n    <tr>\n      <th>20</th>\n      <td>11620</td>\n      <td>42833</td>\n      <td>23711</td>\n      <td>20327</td>\n      <td>60691</td>\n      <td>56987</td>\n      <td>81862</td>\n      <td>29765</td>\n    </tr>\n    <tr>\n      <th>30</th>\n      <td>11311</td>\n      <td>47415</td>\n      <td>19635</td>\n      <td>17871</td>\n      <td>56384</td>\n      <td>45226</td>\n      <td>71171</td>\n      <td>43412</td>\n    </tr>\n    <tr>\n      <th>40</th>\n      <td>11108</td>\n      <td>52960</td>\n      <td>25199</td>\n      <td>21400</td>\n      <td>75095</td>\n      <td>76047</td>\n      <td>94565</td>\n      <td>41490</td>\n    </tr>\n    <tr>\n      <th>50</th>\n      <td>11798</td>\n      <td>58640</td>\n      <td>36882</td>\n      <td>26010</td>\n      <td>76729</td>\n      <td>74962</td>\n      <td>105716</td>\n      <td>40356</td>\n    </tr>\n    <tr>\n      <th>60</th>\n      <td>10069</td>\n      <td>48272</td>\n      <td>29378</td>\n      <td>22886</td>\n      <td>48297</td>\n      <td>48484</td>\n      <td>66056</td>\n      <td>26081</td>\n    </tr>\n    <tr>\n      <th>70</th>\n      <td>11087</td>\n      <td>42139</td>\n      <td>23685</td>\n      <td>22505</td>\n      <td>38947</td>\n      <td>42309</td>\n      <td>47141</td>\n      <td>19221</td>\n    </tr>\n  </tbody>\n</table>\n</div>"
     },
     "metadata": {},
     "execution_count": 9
    }
   ],
   "source": [
    "#남 녀가 중요하지 않으니 계로 추출 복습\n",
    "df = pop1906.copy()\n",
    "drop_list = []  \n",
    "check_list = ['총계', '구분', ' 남', ' 여'] \n",
    "for chk in check_list:  \n",
    "    for item in df.columns :  \n",
    "        if  chk in item:  \n",
    "            drop_list.append(item)  \n",
    "drop_list = list(set(drop_list))\n",
    "df3 = df.drop(drop_list,axis=1)\n",
    "df3['인구'] = (pd.DataFrame(range(0,101))/10).astype(int)*10\n",
    "df3['인구'] = np.where(df3['인구'] >= 70, 70, df3.인구)\n",
    "df3 = df3.groupby('인구')\n",
    "df3 = df3.sum()\n",
    "df3.columns = df3.columns.str.replace(' 계', '')\n",
    "df3"
   ]
  },
  {
   "cell_type": "code",
   "execution_count": 10,
   "metadata": {},
   "outputs": [],
   "source": [
    "df3=df3.T"
   ]
  },
  {
   "cell_type": "code",
   "execution_count": 11,
   "metadata": {},
   "outputs": [],
   "source": [
    "df3['총합']=df3.sum(axis='columns').astype(int)"
   ]
  },
  {
   "cell_type": "code",
   "execution_count": 12,
   "metadata": {},
   "outputs": [],
   "source": [
    "#총합만 추출\n",
    "df4 = df3['총합']"
   ]
  },
  {
   "cell_type": "code",
   "execution_count": 13,
   "metadata": {},
   "outputs": [
    {
     "output_type": "execute_result",
     "data": {
      "text/plain": "중구      77935\n동구     348825\n서구     179920\n남구     148682\n북구     439093\n수성구    430481\n달서구    571303\n달성군    254239\nName: 총합, dtype: int32"
     },
     "metadata": {},
     "execution_count": 13
    }
   ],
   "source": [
    "df4"
   ]
  },
  {
   "cell_type": "code",
   "execution_count": 14,
   "metadata": {},
   "outputs": [],
   "source": [
    "#통닭집에 이어붙이기\n",
    "res4['인구']=df4"
   ]
  },
  {
   "cell_type": "code",
   "execution_count": 15,
   "metadata": {},
   "outputs": [
    {
     "output_type": "execute_result",
     "data": {
      "text/plain": "      개수      인구\n구               \n남구   207  148682\n달서구  841  571303\n달성군  394  254239\n동구   422  348825\n북구   618  439093\n서구   249  179920\n수성구  453  430481\n중구   183   77935",
      "text/html": "<div>\n<style scoped>\n    .dataframe tbody tr th:only-of-type {\n        vertical-align: middle;\n    }\n\n    .dataframe tbody tr th {\n        vertical-align: top;\n    }\n\n    .dataframe thead th {\n        text-align: right;\n    }\n</style>\n<table border=\"1\" class=\"dataframe\">\n  <thead>\n    <tr style=\"text-align: right;\">\n      <th></th>\n      <th>개수</th>\n      <th>인구</th>\n    </tr>\n    <tr>\n      <th>구</th>\n      <th></th>\n      <th></th>\n    </tr>\n  </thead>\n  <tbody>\n    <tr>\n      <th>남구</th>\n      <td>207</td>\n      <td>148682</td>\n    </tr>\n    <tr>\n      <th>달서구</th>\n      <td>841</td>\n      <td>571303</td>\n    </tr>\n    <tr>\n      <th>달성군</th>\n      <td>394</td>\n      <td>254239</td>\n    </tr>\n    <tr>\n      <th>동구</th>\n      <td>422</td>\n      <td>348825</td>\n    </tr>\n    <tr>\n      <th>북구</th>\n      <td>618</td>\n      <td>439093</td>\n    </tr>\n    <tr>\n      <th>서구</th>\n      <td>249</td>\n      <td>179920</td>\n    </tr>\n    <tr>\n      <th>수성구</th>\n      <td>453</td>\n      <td>430481</td>\n    </tr>\n    <tr>\n      <th>중구</th>\n      <td>183</td>\n      <td>77935</td>\n    </tr>\n  </tbody>\n</table>\n</div>"
     },
     "metadata": {},
     "execution_count": 15
    }
   ],
   "source": [
    "res4"
   ]
  },
  {
   "cell_type": "code",
   "execution_count": 16,
   "metadata": {},
   "outputs": [
    {
     "output_type": "execute_result",
     "data": {
      "text/plain": "      개수      인구        비율\n구                         \n남구   207  148682  1.398649\n달서구  841  571303  1.472855\n달성군  394  254239  1.551181\n동구   422  348825  1.212644\n북구   618  439093  1.407745\n서구   249  179920  1.391061\n수성구  453  430481  1.053488\n중구   183   77935  2.376623",
      "text/html": "<div>\n<style scoped>\n    .dataframe tbody tr th:only-of-type {\n        vertical-align: middle;\n    }\n\n    .dataframe tbody tr th {\n        vertical-align: top;\n    }\n\n    .dataframe thead th {\n        text-align: right;\n    }\n</style>\n<table border=\"1\" class=\"dataframe\">\n  <thead>\n    <tr style=\"text-align: right;\">\n      <th></th>\n      <th>개수</th>\n      <th>인구</th>\n      <th>비율</th>\n    </tr>\n    <tr>\n      <th>구</th>\n      <th></th>\n      <th></th>\n      <th></th>\n    </tr>\n  </thead>\n  <tbody>\n    <tr>\n      <th>남구</th>\n      <td>207</td>\n      <td>148682</td>\n      <td>1.398649</td>\n    </tr>\n    <tr>\n      <th>달서구</th>\n      <td>841</td>\n      <td>571303</td>\n      <td>1.472855</td>\n    </tr>\n    <tr>\n      <th>달성군</th>\n      <td>394</td>\n      <td>254239</td>\n      <td>1.551181</td>\n    </tr>\n    <tr>\n      <th>동구</th>\n      <td>422</td>\n      <td>348825</td>\n      <td>1.212644</td>\n    </tr>\n    <tr>\n      <th>북구</th>\n      <td>618</td>\n      <td>439093</td>\n      <td>1.407745</td>\n    </tr>\n    <tr>\n      <th>서구</th>\n      <td>249</td>\n      <td>179920</td>\n      <td>1.391061</td>\n    </tr>\n    <tr>\n      <th>수성구</th>\n      <td>453</td>\n      <td>430481</td>\n      <td>1.053488</td>\n    </tr>\n    <tr>\n      <th>중구</th>\n      <td>183</td>\n      <td>77935</td>\n      <td>2.376623</td>\n    </tr>\n  </tbody>\n</table>\n</div>"
     },
     "metadata": {},
     "execution_count": 16
    }
   ],
   "source": [
    "#천명당 치킨집 수\n",
    "res4['비율']=res4['개수']/(res4['인구']//1000)\n",
    "res4"
   ]
  },
  {
   "cell_type": "code",
   "execution_count": null,
   "metadata": {},
   "outputs": [],
   "source": []
  },
  {
   "cell_type": "code",
   "execution_count": null,
   "metadata": {},
   "outputs": [],
   "source": []
  }
 ]
}