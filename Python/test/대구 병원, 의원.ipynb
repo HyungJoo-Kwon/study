{
 "metadata": {
  "language_info": {
   "codemirror_mode": {
    "name": "ipython",
    "version": 3
   },
   "file_extension": ".py",
   "mimetype": "text/x-python",
   "name": "python",
   "nbconvert_exporter": "python",
   "pygments_lexer": "ipython3",
   "version": "3.8.3-final"
  },
  "orig_nbformat": 2,
  "kernelspec": {
   "name": "python_defaultSpec_1600307412274",
   "display_name": "Python 3.8.3 64-bit ('base': conda)"
  }
 },
 "nbformat": 4,
 "nbformat_minor": 2,
 "cells": [
  {
   "source": [
    "'''\n",
    "1. 다음파일을 사용 하라\n",
    "- 6270000_대구광역시_01_01_01_P_병원.xlsx\n",
    "- 6270000_대구광역시_01_01_02_P_의원.xlsx\n",
    "- 2019.06.30.기준 대구광역시 주민등록인구 현황_UTF8.csv\n",
    "\n",
    "2. 다음을 구하라 (폐업을 포함하지 않음)\n",
    "1) 병원, 종합병원, 의원을 추출하고 각 구별 수를 구하라\n",
    "2) 치과병원, 치과의원을 추출하고 각 구별 수를 구하라\n",
    "\n",
    "3. 각구별 인구를 구하여 인구 1000명당 병원(의원) 및 \n",
    "   치과의 수를 비교하여 숫자로 나타내어라\n",
    "\n",
    "4 . 치과의 수와 병원(의원)의 수를 bar형태로 그려라\n",
    "    (각구별로 차트에 숫자가 표시되어야 한다.\n",
    "'''"
   ],
   "cell_type": "code",
   "metadata": {},
   "execution_count": null,
   "outputs": []
  },
  {
   "cell_type": "code",
   "execution_count": 231,
   "metadata": {},
   "outputs": [],
   "source": [
    "import pandas as pd     \n",
    "import numpy as np \n",
    "import matplotlib.pyplot as plt\n",
    "\n",
    "data1 = pd.read_excel(\"data/6270000_대구광역시_01_01_01_P_병원.xlsx\")\n",
    "data2 = pd.read_excel(\"data/6270000_대구광역시_01_01_02_P_의원.xlsx\")"
   ]
  },
  {
   "cell_type": "code",
   "execution_count": 232,
   "metadata": {
    "tags": []
   },
   "outputs": [
    {
     "output_type": "stream",
     "name": "stdout",
     "text": "<class 'pandas.core.frame.DataFrame'>\nRangeIndex: 306 entries, 0 to 305\nData columns (total 44 columns):\n #   Column     Non-Null Count  Dtype  \n---  ------     --------------  -----  \n 0   번호         306 non-null    int64  \n 1   개방서비스명     306 non-null    object \n 2   개방서비스ID    306 non-null    object \n 3   개방자치단체코드   306 non-null    int64  \n 4   관리번호       306 non-null    object \n 5   인허가일자      306 non-null    int64  \n 6   인허가취소일자    0 non-null      float64\n 7   영업상태구분코드   306 non-null    int64  \n 8   영업상태명      306 non-null    object \n 9   상세영업상태코드   306 non-null    int64  \n 10  상세영업상태명    306 non-null    object \n 11  폐업일자       88 non-null     float64\n 12  휴업시작일자     8 non-null      float64\n 13  휴업종료일자     7 non-null      float64\n 14  재개업일자      0 non-null      float64\n 15  소재지전화      291 non-null    object \n 16  소재지면적      0 non-null      float64\n 17  소재지우편번호    139 non-null    float64\n 18  소재지전체주소    243 non-null    object \n 19  도로명전체주소    296 non-null    object \n 20  도로명우편번호    268 non-null    float64\n 21  사업장명       306 non-null    object \n 22  최종수정시점     306 non-null    int64  \n 23  데이터갱신구분    306 non-null    object \n 24  데이터갱신일자    306 non-null    object \n 25  업태구분명      306 non-null    object \n 26  좌표정보(X)    280 non-null    float64\n 27  좌표정보(Y)    280 non-null    float64\n 28  의료기관종별명    306 non-null    object \n 29  의료인수       306 non-null    int64  \n 30  입원실수       306 non-null    int64  \n 31  병상수        306 non-null    int64  \n 32  총면적        306 non-null    float64\n 33  진료과목내용     306 non-null    object \n 34  진료과목내용명    306 non-null    object \n 35  지정취소일자     0 non-null      float64\n 36  완화의료지정형태   0 non-null      float64\n 37  완화의료담당부서명  0 non-null      float64\n 38  구급차특수      306 non-null    int64  \n 39  구급차일반      306 non-null    int64  \n 40  총인원        0 non-null      float64\n 41  구조사수       0 non-null      float64\n 42  허가병상수      306 non-null    int64  \n 43  최초지정일자     0 non-null      float64\ndtypes: float64(17), int64(12), object(15)\nmemory usage: 105.3+ KB\n"
    }
   ],
   "source": [
    "data1.info() # 305x44"
   ]
  },
  {
   "cell_type": "code",
   "execution_count": 233,
   "metadata": {
    "tags": []
   },
   "outputs": [
    {
     "output_type": "stream",
     "name": "stdout",
     "text": "<class 'pandas.core.frame.DataFrame'>\nRangeIndex: 4919 entries, 0 to 4918\nData columns (total 44 columns):\n #   Column     Non-Null Count  Dtype  \n---  ------     --------------  -----  \n 0   번호         4919 non-null   int64  \n 1   개방서비스명     4919 non-null   object \n 2   개방서비스ID    4919 non-null   object \n 3   개방자치단체코드   4919 non-null   int64  \n 4   관리번호       4919 non-null   object \n 5   인허가일자      4919 non-null   int64  \n 6   인허가취소일자    0 non-null      float64\n 7   영업상태구분코드   4919 non-null   int64  \n 8   영업상태명      4919 non-null   object \n 9   상세영업상태코드   4919 non-null   int64  \n 10  상세영업상태명    4919 non-null   object \n 11  폐업일자       1305 non-null   float64\n 12  휴업시작일자     29 non-null     float64\n 13  휴업종료일자     87 non-null     float64\n 14  재개업일자      0 non-null      float64\n 15  소재지전화      4707 non-null   object \n 16  소재지면적      0 non-null      float64\n 17  소재지우편번호    2475 non-null   float64\n 18  소재지전체주소    4201 non-null   object \n 19  도로명전체주소    4601 non-null   object \n 20  도로명우편번호    4318 non-null   float64\n 21  사업장명       4919 non-null   object \n 22  최종수정시점     4919 non-null   int64  \n 23  데이터갱신구분    4919 non-null   object \n 24  데이터갱신일자    4919 non-null   object \n 25  업태구분명      4919 non-null   object \n 26  좌표정보(X)    4582 non-null   float64\n 27  좌표정보(Y)    4582 non-null   float64\n 28  의료기관종별명    4919 non-null   object \n 29  의료인수       4919 non-null   int64  \n 30  입원실수       4919 non-null   int64  \n 31  병상수        4919 non-null   int64  \n 32  총면적        4919 non-null   float64\n 33  진료과목내용     4906 non-null   object \n 34  진료과목내용명    4906 non-null   object \n 35  지정취소일자     0 non-null      float64\n 36  완화의료지정형태   0 non-null      float64\n 37  완화의료담당부서명  0 non-null      float64\n 38  구급차특수      4919 non-null   int64  \n 39  구급차일반      4919 non-null   int64  \n 40  총인원        0 non-null      float64\n 41  구조사수       0 non-null      float64\n 42  허가병상수      4919 non-null   int64  \n 43  최초지정일자     0 non-null      float64\ndtypes: float64(17), int64(12), object(15)\nmemory usage: 1.7+ MB\n"
    }
   ],
   "source": [
    "data2.info() # 4918 x 44"
   ]
  },
  {
   "cell_type": "code",
   "execution_count": 234,
   "metadata": {
    "tags": []
   },
   "outputs": [
    {
     "output_type": "stream",
     "name": "stdout",
     "text": "<class 'pandas.core.frame.DataFrame'>\nRangeIndex: 5225 entries, 0 to 5224\nData columns (total 44 columns):\n #   Column     Non-Null Count  Dtype  \n---  ------     --------------  -----  \n 0   번호         5225 non-null   int64  \n 1   개방서비스명     5225 non-null   object \n 2   개방서비스ID    5225 non-null   object \n 3   개방자치단체코드   5225 non-null   int64  \n 4   관리번호       5225 non-null   object \n 5   인허가일자      5225 non-null   int64  \n 6   인허가취소일자    0 non-null      float64\n 7   영업상태구분코드   5225 non-null   int64  \n 8   영업상태명      5225 non-null   object \n 9   상세영업상태코드   5225 non-null   int64  \n 10  상세영업상태명    5225 non-null   object \n 11  폐업일자       1393 non-null   float64\n 12  휴업시작일자     37 non-null     float64\n 13  휴업종료일자     94 non-null     float64\n 14  재개업일자      0 non-null      float64\n 15  소재지전화      4998 non-null   object \n 16  소재지면적      0 non-null      float64\n 17  소재지우편번호    2614 non-null   float64\n 18  소재지전체주소    4444 non-null   object \n 19  도로명전체주소    4897 non-null   object \n 20  도로명우편번호    4586 non-null   float64\n 21  사업장명       5225 non-null   object \n 22  최종수정시점     5225 non-null   int64  \n 23  데이터갱신구분    5225 non-null   object \n 24  데이터갱신일자    5225 non-null   object \n 25  업태구분명      5225 non-null   object \n 26  좌표정보(X)    4862 non-null   float64\n 27  좌표정보(Y)    4862 non-null   float64\n 28  의료기관종별명    5225 non-null   object \n 29  의료인수       5225 non-null   int64  \n 30  입원실수       5225 non-null   int64  \n 31  병상수        5225 non-null   int64  \n 32  총면적        5225 non-null   float64\n 33  진료과목내용     5212 non-null   object \n 34  진료과목내용명    5212 non-null   object \n 35  지정취소일자     0 non-null      float64\n 36  완화의료지정형태   0 non-null      float64\n 37  완화의료담당부서명  0 non-null      float64\n 38  구급차특수      5225 non-null   int64  \n 39  구급차일반      5225 non-null   int64  \n 40  총인원        0 non-null      float64\n 41  구조사수       0 non-null      float64\n 42  허가병상수      5225 non-null   int64  \n 43  최초지정일자     0 non-null      float64\ndtypes: float64(17), int64(12), object(15)\nmemory usage: 1.8+ MB\n"
    }
   ],
   "source": [
    "data = pd.concat([data1, data2], ignore_index=True) # 인덱스 무시하고 밑으로 열별로 가져다 붙임\n",
    "data.info()"
   ]
  },
  {
   "cell_type": "code",
   "execution_count": 235,
   "metadata": {},
   "outputs": [
    {
     "output_type": "execute_result",
     "data": {
      "text/plain": "                                                도로명전체주소 업태구분명\n1     대구광역시 중구 중앙대로 366, 지하1,1,2,3,5,7,11,12,14,17층 ...    병원\n14                       대구광역시 중구 동덕로 194 (동인동1가, 동화빌딩)    병원\n15                   대구광역시 중구 달성로 56, 계명대학교대구동산병원 (동산동)  종합병원\n16                             대구광역시 중구 동덕로 197 (동인동1가)    병원\n17                              대구광역시 중구 공평로 12 (삼덕동2가)  치과병원\n...                                                 ...   ...\n5092                   대구광역시 달성군 유가읍 테크노상업로 96, 4층 401호   한의원\n5093                              대구광역시 달성군 논공읍 논공로 760  치과의원\n5094                            대구광역시 달성군 다사읍 달구벌대로 805   한의원\n5095                               대구광역시 달성군 화원읍 화암로 63  치과의원\n5096                           대구광역시 달성군 현풍읍 비슬로130길 79    의원\n\n[3825 rows x 2 columns]",
      "text/html": "<div>\n<style scoped>\n    .dataframe tbody tr th:only-of-type {\n        vertical-align: middle;\n    }\n\n    .dataframe tbody tr th {\n        vertical-align: top;\n    }\n\n    .dataframe thead th {\n        text-align: right;\n    }\n</style>\n<table border=\"1\" class=\"dataframe\">\n  <thead>\n    <tr style=\"text-align: right;\">\n      <th></th>\n      <th>도로명전체주소</th>\n      <th>업태구분명</th>\n    </tr>\n  </thead>\n  <tbody>\n    <tr>\n      <th>1</th>\n      <td>대구광역시 중구 중앙대로 366, 지하1,1,2,3,5,7,11,12,14,17층 ...</td>\n      <td>병원</td>\n    </tr>\n    <tr>\n      <th>14</th>\n      <td>대구광역시 중구 동덕로 194 (동인동1가, 동화빌딩)</td>\n      <td>병원</td>\n    </tr>\n    <tr>\n      <th>15</th>\n      <td>대구광역시 중구 달성로 56, 계명대학교대구동산병원 (동산동)</td>\n      <td>종합병원</td>\n    </tr>\n    <tr>\n      <th>16</th>\n      <td>대구광역시 중구 동덕로 197 (동인동1가)</td>\n      <td>병원</td>\n    </tr>\n    <tr>\n      <th>17</th>\n      <td>대구광역시 중구 공평로 12 (삼덕동2가)</td>\n      <td>치과병원</td>\n    </tr>\n    <tr>\n      <th>...</th>\n      <td>...</td>\n      <td>...</td>\n    </tr>\n    <tr>\n      <th>5092</th>\n      <td>대구광역시 달성군 유가읍 테크노상업로 96, 4층 401호</td>\n      <td>한의원</td>\n    </tr>\n    <tr>\n      <th>5093</th>\n      <td>대구광역시 달성군 논공읍 논공로 760</td>\n      <td>치과의원</td>\n    </tr>\n    <tr>\n      <th>5094</th>\n      <td>대구광역시 달성군 다사읍 달구벌대로 805</td>\n      <td>한의원</td>\n    </tr>\n    <tr>\n      <th>5095</th>\n      <td>대구광역시 달성군 화원읍 화암로 63</td>\n      <td>치과의원</td>\n    </tr>\n    <tr>\n      <th>5096</th>\n      <td>대구광역시 달성군 현풍읍 비슬로130길 79</td>\n      <td>의원</td>\n    </tr>\n  </tbody>\n</table>\n<p>3825 rows × 2 columns</p>\n</div>"
     },
     "metadata": {},
     "execution_count": 235
    }
   ],
   "source": [
    "data = data[data[\"영업상태명\"] == \"영업/정상\"]\n",
    "drop_list = ['번호', '개방서비스명', '개방서비스ID', '개방자치단체코드', '관리번호', '인허가일자', '인허가취소일자',\n",
    "       '영업상태구분코드', '영업상태명', '상세영업상태코드', '상세영업상태명', '폐업일자', '휴업시작일자', '휴업종료일자',\n",
    "       '재개업일자', '소재지전화', '소재지면적', '소재지우편번호', '소재지전체주소', '도로명우편번호',\n",
    "       '사업장명', '최종수정시점', '데이터갱신구분', '데이터갱신일자', '좌표정보(X)', '좌표정보(Y)',\n",
    "       '의료기관종별명', '의료인수', '입원실수', '병상수', '총면적', '진료과목내용', '진료과목내용명', '지정취소일자',\n",
    "       '완화의료지정형태', '완화의료담당부서명', '구급차특수', '구급차일반', '총인원', '구조사수', '허가병상수',\n",
    "       '최초지정일자']\n",
    "data= data.drop(drop_list, axis =1 )\n",
    "data"
   ]
  },
  {
   "cell_type": "code",
   "execution_count": 237,
   "metadata": {},
   "outputs": [],
   "source": [
    "data[[\"시\", \"구\", \"나머지\"]] = data[\"도로명전체주소\"].str.split(\" \", n=2,expand= True)\n",
    "drop_list = [\"도로명전체주소\", \"시\", \"나머지\"]\n",
    "result = data.drop(drop_list, axis=\"columns\")\n",
    "mid_result = result"
   ]
  },
  {
   "cell_type": "code",
   "execution_count": 238,
   "metadata": {},
   "outputs": [],
   "source": [
    "result = result[[\"구\", \"업태구분명\"]]\n",
    "result[\"count\"] = 1\n",
    "\n",
    "result = result.groupby([\"업태구분명\", \"구\"]).sum()"
   ]
  },
  {
   "cell_type": "code",
   "execution_count": 239,
   "metadata": {},
   "outputs": [
    {
     "output_type": "execute_result",
     "data": {
      "text/plain": "           count\n업태구분명 구         \n병원    남구       7\n      달서구     31\n      달성군      7\n      동구       9\n      북구      20\n...          ...\n한의원   동구     112\n      북구     122\n      서구      71\n      수성구    206\n      중구      69\n\n[67 rows x 1 columns]",
      "text/html": "<div>\n<style scoped>\n    .dataframe tbody tr th:only-of-type {\n        vertical-align: middle;\n    }\n\n    .dataframe tbody tr th {\n        vertical-align: top;\n    }\n\n    .dataframe thead th {\n        text-align: right;\n    }\n</style>\n<table border=\"1\" class=\"dataframe\">\n  <thead>\n    <tr style=\"text-align: right;\">\n      <th></th>\n      <th></th>\n      <th>count</th>\n    </tr>\n    <tr>\n      <th>업태구분명</th>\n      <th>구</th>\n      <th></th>\n    </tr>\n  </thead>\n  <tbody>\n    <tr>\n      <th rowspan=\"5\" valign=\"top\">병원</th>\n      <th>남구</th>\n      <td>7</td>\n    </tr>\n    <tr>\n      <th>달서구</th>\n      <td>31</td>\n    </tr>\n    <tr>\n      <th>달성군</th>\n      <td>7</td>\n    </tr>\n    <tr>\n      <th>동구</th>\n      <td>9</td>\n    </tr>\n    <tr>\n      <th>북구</th>\n      <td>20</td>\n    </tr>\n    <tr>\n      <th>...</th>\n      <th>...</th>\n      <td>...</td>\n    </tr>\n    <tr>\n      <th rowspan=\"5\" valign=\"top\">한의원</th>\n      <th>동구</th>\n      <td>112</td>\n    </tr>\n    <tr>\n      <th>북구</th>\n      <td>122</td>\n    </tr>\n    <tr>\n      <th>서구</th>\n      <td>71</td>\n    </tr>\n    <tr>\n      <th>수성구</th>\n      <td>206</td>\n    </tr>\n    <tr>\n      <th>중구</th>\n      <td>69</td>\n    </tr>\n  </tbody>\n</table>\n<p>67 rows × 1 columns</p>\n</div>"
     },
     "metadata": {},
     "execution_count": 239
    }
   ],
   "source": [
    "result"
   ]
  },
  {
   "cell_type": "code",
   "execution_count": 242,
   "metadata": {},
   "outputs": [
    {
     "output_type": "execute_result",
     "data": {
      "text/plain": "           count\n업태구분명 구         \n병원    남구       7\n      달서구     31\n      달성군      7\n      동구       9\n      북구      20\n      서구       8\n      수성구     15\n      중구      11\n의원    남구     105\n      달서구    380\n      달성군    123\n      대천로      1\n      동구     238\n      북구     253\n      서구     119\n      수성구    350\n      중구     257\n종합병원  남구       3\n      달서구      6\n      동구       1\n      북구       2\n      서구       1\n      수성구      1\n      중구       3\n치과병원  달서구      5\n      북구       2\n      수성구      5\n      중구       4\n치과의원  남구      57\n      달서구    198\n      달성군     61\n      동구     104\n      북구     143\n      서구      51\n      수성구    163\n      중구     108",
      "text/html": "<div>\n<style scoped>\n    .dataframe tbody tr th:only-of-type {\n        vertical-align: middle;\n    }\n\n    .dataframe tbody tr th {\n        vertical-align: top;\n    }\n\n    .dataframe thead th {\n        text-align: right;\n    }\n</style>\n<table border=\"1\" class=\"dataframe\">\n  <thead>\n    <tr style=\"text-align: right;\">\n      <th></th>\n      <th></th>\n      <th>count</th>\n    </tr>\n    <tr>\n      <th>업태구분명</th>\n      <th>구</th>\n      <th></th>\n    </tr>\n  </thead>\n  <tbody>\n    <tr>\n      <th rowspan=\"8\" valign=\"top\">병원</th>\n      <th>남구</th>\n      <td>7</td>\n    </tr>\n    <tr>\n      <th>달서구</th>\n      <td>31</td>\n    </tr>\n    <tr>\n      <th>달성군</th>\n      <td>7</td>\n    </tr>\n    <tr>\n      <th>동구</th>\n      <td>9</td>\n    </tr>\n    <tr>\n      <th>북구</th>\n      <td>20</td>\n    </tr>\n    <tr>\n      <th>서구</th>\n      <td>8</td>\n    </tr>\n    <tr>\n      <th>수성구</th>\n      <td>15</td>\n    </tr>\n    <tr>\n      <th>중구</th>\n      <td>11</td>\n    </tr>\n    <tr>\n      <th rowspan=\"9\" valign=\"top\">의원</th>\n      <th>남구</th>\n      <td>105</td>\n    </tr>\n    <tr>\n      <th>달서구</th>\n      <td>380</td>\n    </tr>\n    <tr>\n      <th>달성군</th>\n      <td>123</td>\n    </tr>\n    <tr>\n      <th>대천로</th>\n      <td>1</td>\n    </tr>\n    <tr>\n      <th>동구</th>\n      <td>238</td>\n    </tr>\n    <tr>\n      <th>북구</th>\n      <td>253</td>\n    </tr>\n    <tr>\n      <th>서구</th>\n      <td>119</td>\n    </tr>\n    <tr>\n      <th>수성구</th>\n      <td>350</td>\n    </tr>\n    <tr>\n      <th>중구</th>\n      <td>257</td>\n    </tr>\n    <tr>\n      <th rowspan=\"7\" valign=\"top\">종합병원</th>\n      <th>남구</th>\n      <td>3</td>\n    </tr>\n    <tr>\n      <th>달서구</th>\n      <td>6</td>\n    </tr>\n    <tr>\n      <th>동구</th>\n      <td>1</td>\n    </tr>\n    <tr>\n      <th>북구</th>\n      <td>2</td>\n    </tr>\n    <tr>\n      <th>서구</th>\n      <td>1</td>\n    </tr>\n    <tr>\n      <th>수성구</th>\n      <td>1</td>\n    </tr>\n    <tr>\n      <th>중구</th>\n      <td>3</td>\n    </tr>\n    <tr>\n      <th rowspan=\"4\" valign=\"top\">치과병원</th>\n      <th>달서구</th>\n      <td>5</td>\n    </tr>\n    <tr>\n      <th>북구</th>\n      <td>2</td>\n    </tr>\n    <tr>\n      <th>수성구</th>\n      <td>5</td>\n    </tr>\n    <tr>\n      <th>중구</th>\n      <td>4</td>\n    </tr>\n    <tr>\n      <th rowspan=\"8\" valign=\"top\">치과의원</th>\n      <th>남구</th>\n      <td>57</td>\n    </tr>\n    <tr>\n      <th>달서구</th>\n      <td>198</td>\n    </tr>\n    <tr>\n      <th>달성군</th>\n      <td>61</td>\n    </tr>\n    <tr>\n      <th>동구</th>\n      <td>104</td>\n    </tr>\n    <tr>\n      <th>북구</th>\n      <td>143</td>\n    </tr>\n    <tr>\n      <th>서구</th>\n      <td>51</td>\n    </tr>\n    <tr>\n      <th>수성구</th>\n      <td>163</td>\n    </tr>\n    <tr>\n      <th>중구</th>\n      <td>108</td>\n    </tr>\n  </tbody>\n</table>\n</div>"
     },
     "metadata": {},
     "execution_count": 242
    }
   ],
   "source": [
    "check_list = [\"병원\", \"종합병원\", \"의원\", \"치과병원\", \"치과의원\"]\n",
    "result.loc[check_list]"
   ]
  },
  {
   "cell_type": "code",
   "execution_count": 266,
   "metadata": {},
   "outputs": [],
   "source": [
    "data3 = pd.read_csv(\"data/2019.06.30.기준 대구광역시 주민등록인구 현황_UTF8.csv\", thousands=',')"
   ]
  },
  {
   "cell_type": "code",
   "execution_count": 267,
   "metadata": {},
   "outputs": [
    {
     "output_type": "execute_result",
     "data": {
      "text/plain": "     중구 계  동구 계  서구 계  남구 계  북구 계  수성구 계  달서구 계  달성군 계\n0     456  2019   559   532  2523   1565   2771   2660\n1     524  2401   688   598  2954   1964   3370   2885\n2     588  2718   852   675  3386   2387   3836   3138\n3     625  2947   947   742  3717   2839   4480   3362\n4     628  3103   885   722  3853   3069   4710   3260\n..    ...   ...   ...   ...   ...    ...    ...    ...\n96     28    56    32    52    76     67     77     36\n97     19    64    22    26    41     54     46     20\n98     16    29    16    23    34     32     30     11\n99     16    27    12    21    26     25     17      8\n100    87   115    93    77    76     95     79     28\n\n[101 rows x 8 columns]",
      "text/html": "<div>\n<style scoped>\n    .dataframe tbody tr th:only-of-type {\n        vertical-align: middle;\n    }\n\n    .dataframe tbody tr th {\n        vertical-align: top;\n    }\n\n    .dataframe thead th {\n        text-align: right;\n    }\n</style>\n<table border=\"1\" class=\"dataframe\">\n  <thead>\n    <tr style=\"text-align: right;\">\n      <th></th>\n      <th>중구 계</th>\n      <th>동구 계</th>\n      <th>서구 계</th>\n      <th>남구 계</th>\n      <th>북구 계</th>\n      <th>수성구 계</th>\n      <th>달서구 계</th>\n      <th>달성군 계</th>\n    </tr>\n  </thead>\n  <tbody>\n    <tr>\n      <th>0</th>\n      <td>456</td>\n      <td>2019</td>\n      <td>559</td>\n      <td>532</td>\n      <td>2523</td>\n      <td>1565</td>\n      <td>2771</td>\n      <td>2660</td>\n    </tr>\n    <tr>\n      <th>1</th>\n      <td>524</td>\n      <td>2401</td>\n      <td>688</td>\n      <td>598</td>\n      <td>2954</td>\n      <td>1964</td>\n      <td>3370</td>\n      <td>2885</td>\n    </tr>\n    <tr>\n      <th>2</th>\n      <td>588</td>\n      <td>2718</td>\n      <td>852</td>\n      <td>675</td>\n      <td>3386</td>\n      <td>2387</td>\n      <td>3836</td>\n      <td>3138</td>\n    </tr>\n    <tr>\n      <th>3</th>\n      <td>625</td>\n      <td>2947</td>\n      <td>947</td>\n      <td>742</td>\n      <td>3717</td>\n      <td>2839</td>\n      <td>4480</td>\n      <td>3362</td>\n    </tr>\n    <tr>\n      <th>4</th>\n      <td>628</td>\n      <td>3103</td>\n      <td>885</td>\n      <td>722</td>\n      <td>3853</td>\n      <td>3069</td>\n      <td>4710</td>\n      <td>3260</td>\n    </tr>\n    <tr>\n      <th>...</th>\n      <td>...</td>\n      <td>...</td>\n      <td>...</td>\n      <td>...</td>\n      <td>...</td>\n      <td>...</td>\n      <td>...</td>\n      <td>...</td>\n    </tr>\n    <tr>\n      <th>96</th>\n      <td>28</td>\n      <td>56</td>\n      <td>32</td>\n      <td>52</td>\n      <td>76</td>\n      <td>67</td>\n      <td>77</td>\n      <td>36</td>\n    </tr>\n    <tr>\n      <th>97</th>\n      <td>19</td>\n      <td>64</td>\n      <td>22</td>\n      <td>26</td>\n      <td>41</td>\n      <td>54</td>\n      <td>46</td>\n      <td>20</td>\n    </tr>\n    <tr>\n      <th>98</th>\n      <td>16</td>\n      <td>29</td>\n      <td>16</td>\n      <td>23</td>\n      <td>34</td>\n      <td>32</td>\n      <td>30</td>\n      <td>11</td>\n    </tr>\n    <tr>\n      <th>99</th>\n      <td>16</td>\n      <td>27</td>\n      <td>12</td>\n      <td>21</td>\n      <td>26</td>\n      <td>25</td>\n      <td>17</td>\n      <td>8</td>\n    </tr>\n    <tr>\n      <th>100</th>\n      <td>87</td>\n      <td>115</td>\n      <td>93</td>\n      <td>77</td>\n      <td>76</td>\n      <td>95</td>\n      <td>79</td>\n      <td>28</td>\n    </tr>\n  </tbody>\n</table>\n<p>101 rows × 8 columns</p>\n</div>"
     },
     "metadata": {},
     "execution_count": 267
    }
   ],
   "source": [
    "check_list = [\"행정구역\", \"총계\", \" 남\", \" 여\"]\n",
    "drop_list = []\n",
    "for chk in check_list:\n",
    "    for item in data3.columns:\n",
    "        if chk in item:\n",
    "            drop_list.append(item)\n",
    "drop_list = list(set(drop_list))\n",
    "data3 = data3.drop(drop_list, axis=\"columns\")\n",
    "data3"
   ]
  },
  {
   "cell_type": "code",
   "execution_count": 268,
   "metadata": {},
   "outputs": [
    {
     "output_type": "execute_result",
     "data": {
      "text/plain": "          0     1     2     3     4     5     6     7     8     9  ...   92  \\\n중구 계    456   524   588   625   628   542   588   553   583   485  ...   72   \n동구 계   2019  2401  2718  2947  3103  2936  2992  3067  2991  2763  ...  231   \n서구 계    559   688   852   947   885   938   998   991  1033   874  ...  117   \n남구 계    532   598   675   742   722   771   842   809   818   712  ...  114   \n북구 계   2523  2954  3386  3717  3853  3783  3984  4067  4105  3744  ...  194   \n수성구 계  1565  1964  2387  2839  3069  3269  3779  4096  4302  4106  ...  246   \n달서구 계  2771  3370  3836  4480  4710  4597  4927  5213  5313  5019  ...  220   \n달성군 계  2660  2885  3138  3362  3260  3033  3174  3135  3018  2628  ...  131   \n\n        93   94  95  96  97  98  99  100      총합  \n중구 계    48   36  31  28  19  16  16   87   77935  \n동구 계   135  128  89  56  64  29  27  115  348825  \n서구 계    74   57  40  32  22  16  12   93  179920  \n남구 계    93   62  40  52  26  23  21   77  148682  \n북구 계   124  100  46  76  41  34  26   76  439093  \n수성구 계  170  131  76  67  54  32  25   95  430481  \n달서구 계  155  127  79  77  46  30  17   79  571303  \n달성군 계   75   55  27  36  20  11   8   28  254239  \n\n[8 rows x 102 columns]",
      "text/html": "<div>\n<style scoped>\n    .dataframe tbody tr th:only-of-type {\n        vertical-align: middle;\n    }\n\n    .dataframe tbody tr th {\n        vertical-align: top;\n    }\n\n    .dataframe thead th {\n        text-align: right;\n    }\n</style>\n<table border=\"1\" class=\"dataframe\">\n  <thead>\n    <tr style=\"text-align: right;\">\n      <th></th>\n      <th>0</th>\n      <th>1</th>\n      <th>2</th>\n      <th>3</th>\n      <th>4</th>\n      <th>5</th>\n      <th>6</th>\n      <th>7</th>\n      <th>8</th>\n      <th>9</th>\n      <th>...</th>\n      <th>92</th>\n      <th>93</th>\n      <th>94</th>\n      <th>95</th>\n      <th>96</th>\n      <th>97</th>\n      <th>98</th>\n      <th>99</th>\n      <th>100</th>\n      <th>총합</th>\n    </tr>\n  </thead>\n  <tbody>\n    <tr>\n      <th>중구 계</th>\n      <td>456</td>\n      <td>524</td>\n      <td>588</td>\n      <td>625</td>\n      <td>628</td>\n      <td>542</td>\n      <td>588</td>\n      <td>553</td>\n      <td>583</td>\n      <td>485</td>\n      <td>...</td>\n      <td>72</td>\n      <td>48</td>\n      <td>36</td>\n      <td>31</td>\n      <td>28</td>\n      <td>19</td>\n      <td>16</td>\n      <td>16</td>\n      <td>87</td>\n      <td>77935</td>\n    </tr>\n    <tr>\n      <th>동구 계</th>\n      <td>2019</td>\n      <td>2401</td>\n      <td>2718</td>\n      <td>2947</td>\n      <td>3103</td>\n      <td>2936</td>\n      <td>2992</td>\n      <td>3067</td>\n      <td>2991</td>\n      <td>2763</td>\n      <td>...</td>\n      <td>231</td>\n      <td>135</td>\n      <td>128</td>\n      <td>89</td>\n      <td>56</td>\n      <td>64</td>\n      <td>29</td>\n      <td>27</td>\n      <td>115</td>\n      <td>348825</td>\n    </tr>\n    <tr>\n      <th>서구 계</th>\n      <td>559</td>\n      <td>688</td>\n      <td>852</td>\n      <td>947</td>\n      <td>885</td>\n      <td>938</td>\n      <td>998</td>\n      <td>991</td>\n      <td>1033</td>\n      <td>874</td>\n      <td>...</td>\n      <td>117</td>\n      <td>74</td>\n      <td>57</td>\n      <td>40</td>\n      <td>32</td>\n      <td>22</td>\n      <td>16</td>\n      <td>12</td>\n      <td>93</td>\n      <td>179920</td>\n    </tr>\n    <tr>\n      <th>남구 계</th>\n      <td>532</td>\n      <td>598</td>\n      <td>675</td>\n      <td>742</td>\n      <td>722</td>\n      <td>771</td>\n      <td>842</td>\n      <td>809</td>\n      <td>818</td>\n      <td>712</td>\n      <td>...</td>\n      <td>114</td>\n      <td>93</td>\n      <td>62</td>\n      <td>40</td>\n      <td>52</td>\n      <td>26</td>\n      <td>23</td>\n      <td>21</td>\n      <td>77</td>\n      <td>148682</td>\n    </tr>\n    <tr>\n      <th>북구 계</th>\n      <td>2523</td>\n      <td>2954</td>\n      <td>3386</td>\n      <td>3717</td>\n      <td>3853</td>\n      <td>3783</td>\n      <td>3984</td>\n      <td>4067</td>\n      <td>4105</td>\n      <td>3744</td>\n      <td>...</td>\n      <td>194</td>\n      <td>124</td>\n      <td>100</td>\n      <td>46</td>\n      <td>76</td>\n      <td>41</td>\n      <td>34</td>\n      <td>26</td>\n      <td>76</td>\n      <td>439093</td>\n    </tr>\n    <tr>\n      <th>수성구 계</th>\n      <td>1565</td>\n      <td>1964</td>\n      <td>2387</td>\n      <td>2839</td>\n      <td>3069</td>\n      <td>3269</td>\n      <td>3779</td>\n      <td>4096</td>\n      <td>4302</td>\n      <td>4106</td>\n      <td>...</td>\n      <td>246</td>\n      <td>170</td>\n      <td>131</td>\n      <td>76</td>\n      <td>67</td>\n      <td>54</td>\n      <td>32</td>\n      <td>25</td>\n      <td>95</td>\n      <td>430481</td>\n    </tr>\n    <tr>\n      <th>달서구 계</th>\n      <td>2771</td>\n      <td>3370</td>\n      <td>3836</td>\n      <td>4480</td>\n      <td>4710</td>\n      <td>4597</td>\n      <td>4927</td>\n      <td>5213</td>\n      <td>5313</td>\n      <td>5019</td>\n      <td>...</td>\n      <td>220</td>\n      <td>155</td>\n      <td>127</td>\n      <td>79</td>\n      <td>77</td>\n      <td>46</td>\n      <td>30</td>\n      <td>17</td>\n      <td>79</td>\n      <td>571303</td>\n    </tr>\n    <tr>\n      <th>달성군 계</th>\n      <td>2660</td>\n      <td>2885</td>\n      <td>3138</td>\n      <td>3362</td>\n      <td>3260</td>\n      <td>3033</td>\n      <td>3174</td>\n      <td>3135</td>\n      <td>3018</td>\n      <td>2628</td>\n      <td>...</td>\n      <td>131</td>\n      <td>75</td>\n      <td>55</td>\n      <td>27</td>\n      <td>36</td>\n      <td>20</td>\n      <td>11</td>\n      <td>8</td>\n      <td>28</td>\n      <td>254239</td>\n    </tr>\n  </tbody>\n</table>\n<p>8 rows × 102 columns</p>\n</div>"
     },
     "metadata": {},
     "execution_count": 268
    }
   ],
   "source": [
    "data3 = data3.T\n",
    "data3[\"총합\"] = data3.sum(axis=\"columns\")\n",
    "data3"
   ]
  },
  {
   "cell_type": "code",
   "execution_count": 276,
   "metadata": {},
   "outputs": [],
   "source": [
    "man_result = data3[\"총합\"]\n",
    "man_result.values\n",
    "man_result = pd.Series(man_result.values, index =['중구', '동구', '서구', '남구', '북구', '수성구', '달서구', '달성군'] )\n",
    "\n",
    "# man_result = man_result.reindex(['중구', '동구', '서구', '남구', '북구', '수성구', '달서구', '달성군'])"
   ]
  },
  {
   "cell_type": "code",
   "execution_count": 289,
   "metadata": {},
   "outputs": [
    {
     "output_type": "execute_result",
     "data": {
      "text/plain": "'동구'"
     },
     "metadata": {},
     "execution_count": 289
    }
   ],
   "source": [
    "man_result.index[1]"
   ]
  },
  {
   "cell_type": "code",
   "execution_count": 290,
   "metadata": {},
   "outputs": [
    {
     "output_type": "execute_result",
     "data": {
      "text/plain": "           count\n업태구분명 구         \n병원    남구       7\n      달서구     31\n      달성군      7\n      동구       9\n      북구      20\n      서구       8\n      수성구     15\n      중구      11\n의원    남구     105\n      달서구    380\n      달성군    123\n      대천로      1\n      동구     238\n      북구     253\n      서구     119\n      수성구    350\n      중구     257\n종합병원  남구       3\n      달서구      6\n      동구       1\n      북구       2\n      서구       1\n      수성구      1\n      중구       3\n치과병원  달서구      5\n      북구       2\n      수성구      5\n      중구       4\n치과의원  남구      57\n      달서구    198\n      달성군     61\n      동구     104\n      북구     143\n      서구      51\n      수성구    163\n      중구     108",
      "text/html": "<div>\n<style scoped>\n    .dataframe tbody tr th:only-of-type {\n        vertical-align: middle;\n    }\n\n    .dataframe tbody tr th {\n        vertical-align: top;\n    }\n\n    .dataframe thead th {\n        text-align: right;\n    }\n</style>\n<table border=\"1\" class=\"dataframe\">\n  <thead>\n    <tr style=\"text-align: right;\">\n      <th></th>\n      <th></th>\n      <th>count</th>\n    </tr>\n    <tr>\n      <th>업태구분명</th>\n      <th>구</th>\n      <th></th>\n    </tr>\n  </thead>\n  <tbody>\n    <tr>\n      <th rowspan=\"8\" valign=\"top\">병원</th>\n      <th>남구</th>\n      <td>7</td>\n    </tr>\n    <tr>\n      <th>달서구</th>\n      <td>31</td>\n    </tr>\n    <tr>\n      <th>달성군</th>\n      <td>7</td>\n    </tr>\n    <tr>\n      <th>동구</th>\n      <td>9</td>\n    </tr>\n    <tr>\n      <th>북구</th>\n      <td>20</td>\n    </tr>\n    <tr>\n      <th>서구</th>\n      <td>8</td>\n    </tr>\n    <tr>\n      <th>수성구</th>\n      <td>15</td>\n    </tr>\n    <tr>\n      <th>중구</th>\n      <td>11</td>\n    </tr>\n    <tr>\n      <th rowspan=\"9\" valign=\"top\">의원</th>\n      <th>남구</th>\n      <td>105</td>\n    </tr>\n    <tr>\n      <th>달서구</th>\n      <td>380</td>\n    </tr>\n    <tr>\n      <th>달성군</th>\n      <td>123</td>\n    </tr>\n    <tr>\n      <th>대천로</th>\n      <td>1</td>\n    </tr>\n    <tr>\n      <th>동구</th>\n      <td>238</td>\n    </tr>\n    <tr>\n      <th>북구</th>\n      <td>253</td>\n    </tr>\n    <tr>\n      <th>서구</th>\n      <td>119</td>\n    </tr>\n    <tr>\n      <th>수성구</th>\n      <td>350</td>\n    </tr>\n    <tr>\n      <th>중구</th>\n      <td>257</td>\n    </tr>\n    <tr>\n      <th rowspan=\"7\" valign=\"top\">종합병원</th>\n      <th>남구</th>\n      <td>3</td>\n    </tr>\n    <tr>\n      <th>달서구</th>\n      <td>6</td>\n    </tr>\n    <tr>\n      <th>동구</th>\n      <td>1</td>\n    </tr>\n    <tr>\n      <th>북구</th>\n      <td>2</td>\n    </tr>\n    <tr>\n      <th>서구</th>\n      <td>1</td>\n    </tr>\n    <tr>\n      <th>수성구</th>\n      <td>1</td>\n    </tr>\n    <tr>\n      <th>중구</th>\n      <td>3</td>\n    </tr>\n    <tr>\n      <th rowspan=\"4\" valign=\"top\">치과병원</th>\n      <th>달서구</th>\n      <td>5</td>\n    </tr>\n    <tr>\n      <th>북구</th>\n      <td>2</td>\n    </tr>\n    <tr>\n      <th>수성구</th>\n      <td>5</td>\n    </tr>\n    <tr>\n      <th>중구</th>\n      <td>4</td>\n    </tr>\n    <tr>\n      <th rowspan=\"8\" valign=\"top\">치과의원</th>\n      <th>남구</th>\n      <td>57</td>\n    </tr>\n    <tr>\n      <th>달서구</th>\n      <td>198</td>\n    </tr>\n    <tr>\n      <th>달성군</th>\n      <td>61</td>\n    </tr>\n    <tr>\n      <th>동구</th>\n      <td>104</td>\n    </tr>\n    <tr>\n      <th>북구</th>\n      <td>143</td>\n    </tr>\n    <tr>\n      <th>서구</th>\n      <td>51</td>\n    </tr>\n    <tr>\n      <th>수성구</th>\n      <td>163</td>\n    </tr>\n    <tr>\n      <th>중구</th>\n      <td>108</td>\n    </tr>\n  </tbody>\n</table>\n</div>"
     },
     "metadata": {},
     "execution_count": 290
    }
   ],
   "source": [
    "hospital_result = result\n",
    "hospital_result.loc[[\"병원\",\"종합병원\",\"의원\",\"치과의원\",\"치과병원\"]]"
   ]
  },
  {
   "cell_type": "code",
   "execution_count": 288,
   "metadata": {},
   "outputs": [
    {
     "output_type": "execute_result",
     "data": {
      "text/plain": "중구      77935\n동구     348825\n서구     179920\n남구     148682\n북구     439093\n수성구    430481\n달서구    571303\n달성군    254239\ndtype: int64"
     },
     "metadata": {},
     "execution_count": 288
    }
   ],
   "source": [
    "man_result"
   ]
  },
  {
   "cell_type": "code",
   "execution_count": 291,
   "metadata": {},
   "outputs": [
    {
     "output_type": "execute_result",
     "data": {
      "text/plain": "     업태구분명    구\n1       병원   중구\n14      병원   중구\n15    종합병원   중구\n16      병원   중구\n17    치과병원   중구\n...    ...  ...\n5092   한의원  달성군\n5093  치과의원  달성군\n5094   한의원  달성군\n5095  치과의원  달성군\n5096    의원  달성군\n\n[3825 rows x 2 columns]",
      "text/html": "<div>\n<style scoped>\n    .dataframe tbody tr th:only-of-type {\n        vertical-align: middle;\n    }\n\n    .dataframe tbody tr th {\n        vertical-align: top;\n    }\n\n    .dataframe thead th {\n        text-align: right;\n    }\n</style>\n<table border=\"1\" class=\"dataframe\">\n  <thead>\n    <tr style=\"text-align: right;\">\n      <th></th>\n      <th>업태구분명</th>\n      <th>구</th>\n    </tr>\n  </thead>\n  <tbody>\n    <tr>\n      <th>1</th>\n      <td>병원</td>\n      <td>중구</td>\n    </tr>\n    <tr>\n      <th>14</th>\n      <td>병원</td>\n      <td>중구</td>\n    </tr>\n    <tr>\n      <th>15</th>\n      <td>종합병원</td>\n      <td>중구</td>\n    </tr>\n    <tr>\n      <th>16</th>\n      <td>병원</td>\n      <td>중구</td>\n    </tr>\n    <tr>\n      <th>17</th>\n      <td>치과병원</td>\n      <td>중구</td>\n    </tr>\n    <tr>\n      <th>...</th>\n      <td>...</td>\n      <td>...</td>\n    </tr>\n    <tr>\n      <th>5092</th>\n      <td>한의원</td>\n      <td>달성군</td>\n    </tr>\n    <tr>\n      <th>5093</th>\n      <td>치과의원</td>\n      <td>달성군</td>\n    </tr>\n    <tr>\n      <th>5094</th>\n      <td>한의원</td>\n      <td>달성군</td>\n    </tr>\n    <tr>\n      <th>5095</th>\n      <td>치과의원</td>\n      <td>달성군</td>\n    </tr>\n    <tr>\n      <th>5096</th>\n      <td>의원</td>\n      <td>달성군</td>\n    </tr>\n  </tbody>\n</table>\n<p>3825 rows × 2 columns</p>\n</div>"
     },
     "metadata": {},
     "execution_count": 291
    }
   ],
   "source": [
    "mid_result[\"총 인구수\"] = mid_result[\"구\"] =="
   ]
  },
  {
   "cell_type": "code",
   "execution_count": null,
   "metadata": {},
   "outputs": [],
   "source": []
  }
 ]
}