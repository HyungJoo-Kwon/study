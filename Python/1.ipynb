{
 "metadata": {
  "language_info": {
   "codemirror_mode": {
    "name": "ipython",
    "version": 3
   },
   "file_extension": ".py",
   "mimetype": "text/x-python",
   "name": "python",
   "nbconvert_exporter": "python",
   "pygments_lexer": "ipython3",
   "version": "3.8.3-final"
  },
  "orig_nbformat": 2,
  "kernelspec": {
   "name": "Python 3.8.3 64-bit (conda)",
   "display_name": "Python 3.8.3 64-bit (conda)",
   "metadata": {
    "interpreter": {
     "hash": "ccb6990895436216020d785f85e481171ea60264840962e2fdc91afe41f44499"
    }
   }
  }
 },
 "nbformat": 4,
 "nbformat_minor": 2,
 "cells": [
  {
   "cell_type": "code",
   "execution_count": null,
   "metadata": {
    "tags": []
   },
   "outputs": [],
   "source": [
    "x = 100\n",
    "print(x)    # 변수가 자동으로 자료형 지정해줘."
   ]
  },
  {
   "cell_type": "code",
   "execution_count": 8,
   "metadata": {
    "tags": []
   },
   "outputs": [
    {
     "output_type": "stream",
     "name": "stdout",
     "text": "300\n"
    }
   ],
   "source": [
    "x= 100  \n",
    "y= 200\n",
    "sum = x+y\n",
    "print(sum)"
   ]
  },
  {
   "cell_type": "code",
   "execution_count": 6,
   "metadata": {
    "tags": []
   },
   "outputs": [
    {
     "output_type": "stream",
     "name": "stdout",
     "text": "홍길동\n대구광역시 신암동 300\n"
    }
   ],
   "source": [
    "name = \"홍길동\"                       \n",
    "address = '대구광역시 신암동 300'          #  파이썬에서 \"\", '' 구분 없다.  \n",
    "print(name)                               # 둘다 string\n",
    "print(address)\n"
   ]
  },
  {
   "cell_type": "code",
   "execution_count": 11,
   "metadata": {
    "tags": []
   },
   "outputs": [
    {
     "output_type": "stream",
     "name": "stdout",
     "text": "12\na+b\n"
    }
   ],
   "source": [
    "a = 7\n",
    "b = 5\n",
    "print(a+b)\n",
    "print(\"a+b\")"
   ]
  },
  {
   "cell_type": "code",
   "execution_count": 12,
   "metadata": {
    "tags": []
   },
   "outputs": [
    {
     "output_type": "stream",
     "name": "stdout",
     "text": "13\n76\n"
    }
   ],
   "source": [
    "x = 7; y = 6\n",
    "print(x+y)\n",
    "x = '7'; y = '6'\n",
    "print(x+y)\n"
   ]
  },
  {
   "cell_type": "markdown",
   "metadata": {},
   "source": [
    "#### 변수"
   ]
  },
  {
   "cell_type": "code",
   "execution_count": 3,
   "metadata": {
    "tags": []
   },
   "outputs": [
    {
     "output_type": "stream",
     "name": "stdout",
     "text": "['False', 'None', 'True', 'and', 'as', 'assert', 'async', 'await', 'break', 'class', 'continue', 'def', 'del', 'elif', 'else', 'except', 'finally', 'for', 'from', 'global', 'if', 'import', 'in', 'is', 'lambda', 'nonlocal', 'not', 'or', 'pass', 'raise', 'return', 'try', 'while', 'with', 'yield']\n"
    }
   ],
   "source": [
    "import keyword                      # 예약어 확인\n",
    "print(keyword.kwlist)               # 예약어라 변수로 사용 불가."
   ]
  },
  {
   "cell_type": "code",
   "execution_count": 17,
   "metadata": {},
   "outputs": [
    {
     "output_type": "execute_result",
     "data": {
      "text/plain": "'  여러줄 주석처리 ctrl + /     \\nMy new car 변수 명명법\\nMy_new_car => my_new_car # 헝가리안 표기법\\nMynewcar => myNewCar # 카멜식 표기법\\n'"
     },
     "metadata": {},
     "execution_count": 17
    }
   ],
   "source": [
    "\"\"\"  여러줄 주석처리 ctrl + /     \n",
    "My new car 변수 명명법\n",
    "My_new_car => my_new_car # 헝가리안 표기법\n",
    "Mynewcar => myNewCar # 카멜식 표기법\n",
    "\"\"\""
   ]
  },
  {
   "cell_type": "code",
   "execution_count": 10,
   "metadata": {
    "tags": []
   },
   "outputs": [
    {
     "output_type": "stream",
     "name": "stdout",
     "text": "<class 'int'>\n"
    }
   ],
   "source": [
    "print(type(10))"
   ]
  },
  {
   "cell_type": "code",
   "execution_count": 18,
   "metadata": {},
   "outputs": [],
   "source": [
    "# \"\"\"   자료형\n",
    "# -정수형 : 양수, 정수\n",
    "# -실수형 : 소수점에 포함된 실수 \n",
    "# -문자형 : 따옴표에 들어가 있는 문자형\n",
    "# -불린형 : 참 /거짓\n",
    "# \"\"\""
   ]
  },
  {
   "cell_type": "code",
   "execution_count": 23,
   "metadata": {
    "tags": []
   },
   "outputs": [
    {
     "output_type": "stream",
     "name": "stdout",
     "text": "41.0\n<class 'float'>\n6.0\n<class 'float'>\n1\n7//5: 1\n3^3: 27\n3^3: 27\nsqrt(2): 1.4142135623730951\n115.80281433592612\n50\n"
    }
   ],
   "source": [
    "a = 20.5 * 2\n",
    "print(a)\n",
    "print(type(a))      \n",
    "b = 30/5\n",
    "print(b)\n",
    "print(type(b))      # 나눗셈시 자동으로 실수형으로 변환\n",
    "\n",
    "print(7//5)         # // : 몫 연산자\n",
    "print(\"7//5:\", 7//5)    # print()에서 ,로 구분되면 한칸 띄운다.\n",
    "print(\"3^3:\", 3*3*3)  # 제곱연산자\n",
    "print(\"3^3:\", 3**3)    # 제곱연산자\n",
    "print(\"sqrt(2):\", 2**0.5)   # 루트2\n",
    "print(3.1**4.2)\n",
    "print(2*5**2)   # 2*5^2"
   ]
  },
  {
   "cell_type": "code",
   "execution_count": 28,
   "metadata": {
    "tags": []
   },
   "outputs": [
    {
     "output_type": "stream",
     "name": "stdout",
     "text": "정수를 입력하세요\n입력한 정수는 11 입니다\n입력한 정수는 23 입니다\n"
    }
   ],
   "source": [
    "print(\"정수를 입력하세요\")\n",
    "x = int(input())    #  input()은 입력을 문자열로 받는다.\n",
    "print(\"입력한 정수는\", x, \"입니다\")\n",
    "\n",
    "\n",
    "x = int(input((print(\"정수를 입력하세요\")))    #  input()은 입력을 문자열로 받는다.\n",
    "print(\"입력한 정수는\", x, \"입니다\")"
   ]
  },
  {
   "cell_type": "code",
   "execution_count": 3,
   "metadata": {
    "tags": []
   },
   "outputs": [
    {
     "output_type": "stream",
     "name": "stdout",
     "text": "문장 문장 여러줄\n 문장 여러줄\n문장\n안녕 \"난 형주\"\n문자(열)문자(열)문자(열)\n"
    }
   ],
   "source": [
    "# string 자료형\n",
    "a = '문장'\n",
    "b = \"문장\"\n",
    "c = '''여러줄\n",
    " 문장'''\n",
    "d = \"\"\"여러줄\n",
    "문장\"\"\"\n",
    "print(a,b,c,d)          # print는 기본적으로 출력하는 값 끝에 \\n을 붙임.\n",
    "print ('안녕 \"난 형주\"')\n",
    "\n",
    "# \"문자(열)\" + \"문자(열)\" + \"문자(열)\"  -> 가능\n",
    "str1 = \"문자(열)\" + \"문자(열)\" + \"문자(열)\"  # 문자(열)끼리만 + 연산 가능. \n",
    "print(str1)                                 # 문자 + 숫자는 불가능 하므로 숫자를 string형으로 변환해야 가능"
   ]
  },
  {
   "cell_type": "code",
   "execution_count": 6,
   "metadata": {
    "tags": []
   },
   "outputs": [
    {
     "output_type": "stream",
     "name": "stdout",
     "text": "===============\n권형주권형주권형주권형주권형주권형주권형주권형주권형주권형주권형주권형주권형주권형주권형주\n45\n"
    }
   ],
   "source": [
    "start = '=' * 15\n",
    "it = \"권형주\" * 15\n",
    "print(start)\n",
    "print(it)\n",
    "print(len(it))  # len(string) : string의 길이 반환"
   ]
  },
  {
   "cell_type": "code",
   "execution_count": 23,
   "metadata": {
    "tags": []
   },
   "outputs": [
    {
     "output_type": "stream",
     "name": "stdout",
     "text": "length of mountain: 8\nstr[ 0 ] =  m\nstr[ 1 ] =  o\nstr[ 2 ] =  u\nstr[ 3 ] =  n\nstr[ 4 ] =  t\nstr[ 5 ] =  a\nstr[ 6 ] =  i\nstr[ 7 ] =  n\n"
    },
    {
     "output_type": "execute_result",
     "data": {
      "text/plain": "'\\ncount = 0\\nfor n in str2 :\\n    print(\"str2[\", count, \"] = \", n)\\n    count += 1\\n'"
     },
     "metadata": {},
     "execution_count": 23
    }
   ],
   "source": [
    "str2= \"mountain\"\n",
    "print(\"length of \"+str2+ ':', len(str2))\n",
    "for n in range(len(str2)) :\n",
    "    print(\"str[\", n, \"] = \", str2[n])\n",
    "\n",
    "'''\n",
    "count = 0\n",
    "for n in str2 :\n",
    "    print(\"str2[\", count, \"] = \", n)\n",
    "    count += 1\n",
    "'''"
   ]
  },
  {
   "cell_type": "code",
   "execution_count": 15,
   "metadata": {
    "tags": []
   },
   "outputs": [
    {
     "output_type": "stream",
     "name": "stdout",
     "text": "새로 합성할 단어 : mood\nmood\n"
    }
   ],
   "source": [
    "tom = \"Tom is a good student\"       # tom[-1] : t, tom[-2] : n, tom[-3] : e  # 인덱스에 음수를 넣으면 거꾸로\n",
    "print(\"새로 합성할 단어 : mood\")\n",
    "\n",
    "print(tom[2] + tom[1] + tom[1] + tom[-4] )"
   ]
  },
  {
   "cell_type": "code",
   "execution_count": 1,
   "metadata": {},
   "outputs": [
    {
     "output_type": "error",
     "ename": "TypeError",
     "evalue": "'str' object does not support item assignment",
     "traceback": [
      "\u001b[1;31m---------------------------------------------------------------------------\u001b[0m",
      "\u001b[1;31mTypeError\u001b[0m                                 Traceback (most recent call last)",
      "\u001b[1;32m<ipython-input-1-acb2ff56ab03>\u001b[0m in \u001b[0;36m<module>\u001b[1;34m\u001b[0m\n\u001b[0;32m      1\u001b[0m \u001b[0mgreeting\u001b[0m \u001b[1;33m=\u001b[0m \u001b[1;34m\"Hello Python!\"\u001b[0m\u001b[1;33m\u001b[0m\u001b[1;33m\u001b[0m\u001b[0m\n\u001b[1;32m----> 2\u001b[1;33m \u001b[0mgreeting\u001b[0m\u001b[1;33m[\u001b[0m\u001b[1;36m0\u001b[0m\u001b[1;33m]\u001b[0m \u001b[1;33m=\u001b[0m \u001b[1;34m'J'\u001b[0m       \u001b[1;31m# 한글자만 바꾸는 것은 불가능\u001b[0m\u001b[1;33m\u001b[0m\u001b[1;33m\u001b[0m\u001b[0m\n\u001b[0m\u001b[0;32m      3\u001b[0m                         \u001b[1;31m# 변경불가\u001b[0m\u001b[1;33m\u001b[0m\u001b[1;33m\u001b[0m\u001b[1;33m\u001b[0m\u001b[0m\n\u001b[0;32m      4\u001b[0m \u001b[0mprint\u001b[0m\u001b[1;33m(\u001b[0m\u001b[0mgreeting\u001b[0m\u001b[1;33m)\u001b[0m\u001b[1;33m\u001b[0m\u001b[1;33m\u001b[0m\u001b[0m\n",
      "\u001b[1;31mTypeError\u001b[0m: 'str' object does not support item assignment"
     ]
    }
   ],
   "source": [
    "greeting = \"Hello Python!\"\n",
    "greeting[0] = 'J'       # 한글자만 바꾸는 것은 불가능\n",
    "                        # 변경불가\n",
    "print(greeting)"
   ]
  },
  {
   "cell_type": "code",
   "execution_count": 18,
   "metadata": {
    "tags": []
   },
   "outputs": [
    {
     "output_type": "stream",
     "name": "stdout",
     "text": "ello\n"
    }
   ],
   "source": [
    "'''\n",
    "slice : string의 일부를 취할 수 있음\n",
    "Hello \"Hello\"[1:4] -> \"ell\"\n",
    "'''\n",
    "print(\"Hello\"[1:4])\n",
    "'''\n",
    "[:n] 처음부터 n-1 까지\n",
    "[m:] m번째 부터 string의 끝까지\n",
    "[m:문자열의 길이보다 큰값] m번째부터 끝까지"
   ]
  },
  {
   "cell_type": "code",
   "execution_count": 1,
   "metadata": {
    "tags": []
   },
   "outputs": [
    {
     "output_type": "stream",
     "name": "stdout",
     "text": "76.376.3\n"
    }
   ],
   "source": [
    "# 숫자형 -> 문자형 변환\n",
    "a = b = 76.3\n",
    "a = str(a)\n",
    "b = str(b)\n",
    "print(a+b)\n"
   ]
  },
  {
   "cell_type": "code",
   "execution_count": 2,
   "metadata": {
    "tags": []
   },
   "outputs": [
    {
     "output_type": "stream",
     "name": "stdout",
     "text": "<class 'int'>\n<class 'float'>\n<class 'str'>\n"
    }
   ],
   "source": [
    "a = int(10.3)\n",
    "b = float(10.3)\n",
    "c = str(10.3)\n",
    "print(type(a))\n",
    "print(type(b))\n",
    "print(type(c))"
   ]
  },
  {
   "cell_type": "code",
   "execution_count": 19,
   "metadata": {
    "tags": []
   },
   "outputs": [
    {
     "output_type": "stream",
     "name": "stdout",
     "text": "키를 입력하세요: \n당신의 키는 125.25cm 입니다.\n당신의 키는 125.2cm 입니다.\n당신의 키는 125.2cm 입니다.\n당신의 키는 125cm 입니다.\n당신의 키는 125cm 입니다.\n"
    }
   ],
   "source": [
    "\n",
    "height = float(input(print(\"키를 입력하세요: \")))\n",
    "a = str(height)\n",
    "print(\"당신의 키는 \" + a + \"cm 입니다.\")  \n",
    "print(\"당신의 키는 %.1fcm 입니다.\"%(height))         # 이거 사용\n",
    "print(\"당신의 키는 {0:.1f}cm 입니다.\".format(height))\n",
    "\n",
    "# 실수형을 입력 받았을 때 정수형으로 출력하기\n",
    "print(\"당신의 키는 %dcm 입니다.\" %(height))           # 이거 사용\n",
    "print(\"당신의 키는 {}cm 입니다.\".format(int(height)))\n",
    "\n",
    "\n",
    "# print(\"당신의 키는 \" + str(float(input(print(\"키를 입력하세요: \")))) + \"cm 입니다.\")"
   ]
  },
  {
   "cell_type": "code",
   "execution_count": 21,
   "metadata": {
    "tags": []
   },
   "outputs": [
    {
     "output_type": "stream",
     "name": "stdout",
     "text": "1 2 3\na b c\n"
    }
   ],
   "source": [
    "print(\"%d %d %d\" %(1,2,3))\n",
    "print(\"{} {} {}\" .format(\"a\",\"b\",\"c\"))"
   ]
  },
  {
   "cell_type": "code",
   "execution_count": 23,
   "metadata": {
    "tags": []
   },
   "outputs": [
    {
     "output_type": "stream",
     "name": "stdout",
     "text": "제품 : apple, 가격 : 5.24$\n"
    }
   ],
   "source": [
    "print(\"제품 : {0}, 가격 : {1:.2f}$\" .format(\"apple\", 5.243))"
   ]
  },
  {
   "cell_type": "code",
   "execution_count": 24,
   "metadata": {
    "tags": []
   },
   "outputs": [
    {
     "output_type": "stream",
     "name": "stdout",
     "text": "Apple     \n     Apple\n"
    }
   ],
   "source": [
    "print(\"{0:<10s}\" .format(\"Apple\")) # 좌측정렬\n",
    "print(\"{0:>10s}\" .format(\"Apple\")) # 우측정렬\n",
    "\n"
   ]
  },
  {
   "cell_type": "code",
   "execution_count": null,
   "metadata": {},
   "outputs": [],
   "source": []
  },
  {
   "cell_type": "code",
   "execution_count": 34,
   "metadata": {
    "tags": []
   },
   "outputs": [
    {
     "output_type": "stream",
     "name": "stdout",
     "text": "1000초는 0시간 16분 40초 입니다.\n"
    }
   ],
   "source": [
    "time = int(input(\"시간을 입력하시오(초단위) : \"))\n",
    "a = (time//3600)\n",
    "b = (time % 3600 // 60)\n",
    "c = time % 60\n",
    "\n",
    "print(\"%s초는 %s시간 %s분 %s초 입니다.\" %(time,a,b,c))"
   ]
  },
  {
   "cell_type": "code",
   "execution_count": 36,
   "metadata": {
    "tags": []
   },
   "outputs": [
    {
     "output_type": "stream",
     "name": "stdout",
     "text": "아메리카노 판매 개수 : \n카페라떼 판매 개수 : \n카푸치노 판매 개수 : \n총 매출은 185000원 입니다.\n"
    }
   ],
   "source": [
    "a = int(input(print(\"아메리카노 판매 개수 : \")))\n",
    "b = int(input(print(\"카페라떼 판매 개수 : \")))\n",
    "c = int(input(print(\"카푸치노 판매 개수 : \")))\n",
    "result = a*2000 + b*3000 + c*3500\n",
    "print(\"총 매출은 %s원 입니다.\" %(result))"
   ]
  },
  {
   "cell_type": "code",
   "execution_count": 38,
   "metadata": {
    "tags": []
   },
   "outputs": [
    {
     "output_type": "stream",
     "name": "stdout",
     "text": "화씨 온도를 입력하세요\n섭씨 온도는 : 37.777778\n"
    }
   ],
   "source": [
    "a = int(input(print(\"화씨 온도를 입력하세요\")))\n",
    "a = (a-32)*5/9\n",
    "print(\"섭씨 온도는 : %lf\" %(a))"
   ]
  },
  {
   "cell_type": "code",
   "execution_count": 40,
   "metadata": {
    "tags": []
   },
   "outputs": [
    {
     "output_type": "stream",
     "name": "stdout",
     "text": "투입한 돈: \n물건 값 : \n거스름 돈 : 2400\n500원 동전의 개수 : 4\n100원 동전의 개수 : 4\n"
    }
   ],
   "source": [
    "a = int(input(print(\"투입한 돈: \")))\n",
    "b = int(input(print(\"물건 값 : \")))\n",
    "c = a-b\n",
    "print(\"거스름 돈 : %s\" %(c))\n",
    "five = c // 500\n",
    "one = c % 500 // 100\n",
    "print(\"500원 동전의 개수 : %s\" %(five))\n",
    "print(\"100원 동전의 개수 : %s\" %(one))"
   ]
  },
  {
   "cell_type": "code",
   "execution_count": null,
   "metadata": {},
   "outputs": [],
   "source": [
    "'''\n",
    "x is y : x와 y의 주소가 같은지 <-> x is not y\n",
    "\n",
    "if 조건 :\n",
    "\n",
    "else :"
   ]
  },
  {
   "cell_type": "code",
   "execution_count": 49,
   "metadata": {
    "tags": []
   },
   "outputs": [
    {
     "output_type": "stream",
     "name": "stdout",
     "text": "뒷면 0\n"
    }
   ],
   "source": [
    "import random\n",
    "coin = random.randrange(2) # randrange(n) : 0부터 n-1까지 범위에서 랜덤하게\n",
    "if (coin == 0):\n",
    "    print(\"뒷면\", coin)\n",
    "else:\n",
    "    print(\"앞면\", coin)\n",
    "\n",
    "'''\n",
    "for i in range(10)\n",
    "    print(random.randint(0,10)) # 0 ~ 10 사이의 값\n",
    "\n",
    "choice = random.choice([1,2,3])\n",
    "print(choice)\n",
    "'''"
   ]
  },
  {
   "cell_type": "code",
   "execution_count": 54,
   "metadata": {
    "tags": []
   },
   "outputs": [
    {
     "output_type": "stream",
     "name": "stdout",
     "text": "attack:오른쪽 : deffence왼쪽\n페널티킥 성공\n"
    }
   ],
   "source": [
    "import random\n",
    "\n",
    "attack = random.choice([\"왼쪽\", \"중앙\", \"오른쪽\"])  # [] : 리스트형태\n",
    "deffence = random.choice([\"왼쪽\", \"중앙\", \"오른쪽\"])\n",
    "print(\"attack:\"+attack,\":\",\"deffence:\"+deffence)\n",
    "if attack == deffence:\n",
    "    print(\"페널티킥 실패\")\n",
    "else:\n",
    "    print(\"페널티킥 성공\")"
   ]
  },
  {
   "cell_type": "code",
   "execution_count": 56,
   "metadata": {
    "tags": []
   },
   "outputs": [
    {
     "output_type": "stream",
     "name": "stdout",
     "text": "False\n"
    }
   ],
   "source": [
    "# 논리연산자 ano, or\n",
    "result = (0==0 and 3==4)\n",
    "print(result)"
   ]
  },
  {
   "cell_type": "code",
   "execution_count": 62,
   "metadata": {
    "tags": []
   },
   "outputs": [
    {
     "output_type": "stream",
     "name": "stdout",
     "text": "student\n"
    }
   ],
   "source": [
    "'''\n",
    "if 조건:\n",
    "elif 조건:\n",
    "else :\n",
    "'''\n",
    "age = int(input(\"나이입력: \"))\n",
    "if age >= 20:\n",
    "    print(\"adult\")\n",
    "elif age >= 10:\n",
    "        print(\"student\")\n",
    "else:\n",
    "     print(\"child\")"
   ]
  },
  {
   "cell_type": "code",
   "execution_count": 7,
   "metadata": {
    "tags": []
   },
   "outputs": [
    {
     "output_type": "stream",
     "name": "stdout",
     "text": "0 1 2 3 4 1 2 3 4 1 3 5 7 9 273\n32\n103\n57\n52\n0번째 반복: 273\n1번째 반복: 32\n2번째 반복: 103\n3번째 반복: 57\n4번째 반복: 52\n"
    },
    {
     "output_type": "error",
     "ename": "IndexError",
     "evalue": "list index out of range",
     "traceback": [
      "\u001b[1;31m---------------------------------------------------------------------------\u001b[0m",
      "\u001b[1;31mIndexError\u001b[0m                                Traceback (most recent call last)",
      "\u001b[1;32m<ipython-input-7-45347068c8b0>\u001b[0m in \u001b[0;36m<module>\u001b[1;34m\u001b[0m\n\u001b[0;32m     16\u001b[0m     \u001b[0mprint\u001b[0m\u001b[1;33m(\u001b[0m\u001b[1;34m\"%d번째 반복: %d\"\u001b[0m \u001b[1;33m%\u001b[0m\u001b[1;33m(\u001b[0m\u001b[0mi\u001b[0m\u001b[1;33m,\u001b[0m\u001b[0marray\u001b[0m\u001b[1;33m[\u001b[0m\u001b[0mi\u001b[0m\u001b[1;33m]\u001b[0m\u001b[1;33m)\u001b[0m\u001b[1;33m)\u001b[0m\u001b[1;33m\u001b[0m\u001b[1;33m\u001b[0m\u001b[0m\n\u001b[0;32m     17\u001b[0m \u001b[1;32mfor\u001b[0m \u001b[0mi\u001b[0m \u001b[1;32min\u001b[0m \u001b[0marray\u001b[0m\u001b[1;33m:\u001b[0m\u001b[1;33m\u001b[0m\u001b[1;33m\u001b[0m\u001b[0m\n\u001b[1;32m---> 18\u001b[1;33m     \u001b[0mprint\u001b[0m\u001b[1;33m(\u001b[0m\u001b[1;34m\"%d번째 반복: %d\"\u001b[0m \u001b[1;33m%\u001b[0m\u001b[1;33m(\u001b[0m\u001b[0mi\u001b[0m\u001b[1;33m,\u001b[0m\u001b[0marray\u001b[0m\u001b[1;33m[\u001b[0m\u001b[0mi\u001b[0m\u001b[1;33m]\u001b[0m\u001b[1;33m)\u001b[0m\u001b[1;33m)\u001b[0m\u001b[1;33m\u001b[0m\u001b[1;33m\u001b[0m\u001b[0m\n\u001b[0m\u001b[0;32m     19\u001b[0m \u001b[1;33m\u001b[0m\u001b[0m\n\u001b[0;32m     20\u001b[0m \u001b[1;32mfor\u001b[0m \u001b[0mi\u001b[0m \u001b[1;32min\u001b[0m \u001b[0mreversed\u001b[0m\u001b[1;33m(\u001b[0m\u001b[0mrange\u001b[0m\u001b[1;33m(\u001b[0m\u001b[1;36m10\u001b[0m\u001b[1;33m)\u001b[0m\u001b[1;33m)\u001b[0m\u001b[1;33m:\u001b[0m   \u001b[1;31m# reversed()\u001b[0m\u001b[1;33m\u001b[0m\u001b[1;33m\u001b[0m\u001b[0m\n",
      "\u001b[1;31mIndexError\u001b[0m: list index out of range"
     ]
    }
   ],
   "source": [
    "# range()\n",
    "# range(start = 0, stop, step =1) # 시작숫자, 끝숫자, 간격 \n",
    "for i in range(5):      \n",
    "    print(i, end = \" \") # 0~4\n",
    "\n",
    "for i in range(1, 5):\n",
    "     print(i, end = \" \") # 1~4\n",
    "\n",
    "for i in range(1, 10, 2):   # 1,3,5,7,9\n",
    "    print(i, end = \" \")\n",
    "\n",
    "array = [273, 32, 103, 57, 52] # 리스트\n",
    "for element in array:\n",
    "    print(element)\n",
    "for i in range(len(array)):\n",
    "    print(\"%d번째 반복: %d\" %(i,array[i]))\n",
    "\n",
    "for i in reversed(range(10)):   # reversed()\n",
    "    print(i, end = ' ')"
   ]
  },
  {
   "cell_type": "code",
   "execution_count": 80,
   "metadata": {},
   "outputs": [
    {
     "output_type": "execute_result",
     "data": {
      "text/plain": "'\\nfor 변수명 in 리스트명:\\n    실행할 명령\\n\\nfor 변수 in range(종료 값):\\n    문장\\n'"
     },
     "metadata": {},
     "execution_count": 80
    }
   ],
   "source": [
    "'''\n",
    "for 변수명 in 리스트명:\n",
    "    실행할 명령\n",
    "\n",
    "for 변수 in range(종료 값):\n",
    "    문장\n",
    "'''\n"
   ]
  },
  {
   "cell_type": "markdown",
   "metadata": {},
   "source": [
    "### break\n",
    "\n"
   ]
  },
  {
   "cell_type": "code",
   "execution_count": 86,
   "metadata": {
    "tags": []
   },
   "outputs": [
    {
     "output_type": "stream",
     "name": "stdout",
     "text": "0 1 2 3 4 \n 5\n"
    }
   ],
   "source": [
    "for i in range(10):     # 파이썬 중괄호 안씀\n",
    "    if i == 5:\n",
    "        break\n",
    "    print(i, end = ' ')\n",
    "print('\\n', i)"
   ]
  },
  {
   "cell_type": "code",
   "execution_count": 96,
   "metadata": {
    "tags": []
   },
   "outputs": [
    {
     "output_type": "stream",
     "name": "stdout",
     "text": "apple \n type is String\n5 \n type is Int\nbanna \n type is String\n grape \n type is String\n3 \n type is Int\n8 \n type is Int\n6 \n type is Int\nmelon \n type is String\n"
    }
   ],
   "source": [
    "mixlist = [\"apple\", 5, \"banna\", \" grape\", 3, 8, 6, \"melon\"]\n",
    "for i in range(len(mixlist)):\n",
    "    if type(mixlist[i]) == int:\n",
    "        print(mixlist[i], \"\\n\", \"type is Int\")\n",
    "    else :\n",
    "        print(mixlist[i], \"\\n\", \"type is String\")"
   ]
  },
  {
   "cell_type": "code",
   "execution_count": 97,
   "metadata": {
    "tags": []
   },
   "outputs": [
    {
     "output_type": "stream",
     "name": "stdout",
     "text": "200\n"
    }
   ],
   "source": [
    "'''\n",
    "함수\n",
    "def 함수이름 (매개변수) :\n",
    "    수행문 1\n",
    "    수행문 2\n",
    "    return <반환값>\n",
    "'''\n",
    "def calculate_rectangle_area(width, height):\n",
    "    return width * height\n",
    "rectangle_x = 10\n",
    "rectangle_y = 20\n",
    "print(calculate_rectangle_area(rectangle_x, rectangle_y))"
   ]
  },
  {
   "cell_type": "code",
   "execution_count": 106,
   "metadata": {
    "tags": []
   },
   "outputs": [
    {
     "output_type": "stream",
     "name": "stdout",
     "text": "Hello bbb. My name is aaa\nHello bbb. My name is aaa\nHello Python. My name is aaa\nHello Python. My name is aaa\n"
    },
    {
     "output_type": "execute_result",
     "data": {
      "text/plain": "'\\nf print_something(my_name, your_name = \"Python\"):\\n    print(\"Hello {}. My name is {}\" .format(your_name, my_name))\\n    print(\"Hello {0}. My name is {1}\" .format(your_name, my_name)) # 엄격하게\\n\\nprint_something(\"aaa\",\"bbb\")\\nprint_something(\"aaa\")\\n'"
     },
     "metadata": {},
     "execution_count": 106
    }
   ],
   "source": [
    "def print_something(my_name, your_name = \"Python\"):\n",
    "    print(\"Hello {}. My name is {}\" .format(your_name, my_name))\n",
    "    print(\"Hello {0}. My name is {1}\" .format(your_name, my_name)) # 엄격하게\n",
    "\n",
    "print_something(\"aaa\",\"bbb\")\n",
    "print_something(\"aaa\")\n",
    "\n",
    "'''\n",
    "f print_something(my_name, your_name = \"Python\"):\n",
    "    print(\"Hello {}. My name is {}\" .format(your_name, my_name))\n",
    "    print(\"Hello {0}. My name is {1}\" .format(your_name, my_name)) # 엄격하게\n",
    "\n",
    "print_something(\"aaa\",\"bbb\")\n",
    "print_something(\"aaa\")\n",
    "'''"
   ]
  },
  {
   "cell_type": "code",
   "execution_count": 5,
   "metadata": {
    "tags": []
   },
   "outputs": [
    {
     "output_type": "stream",
     "name": "stdout",
     "text": "28\n3\n"
    }
   ],
   "source": [
    "def asterisk_test(a, b, *args):         # 가변인수의 사용\n",
    "    return a+b+sum(args)\n",
    "result = asterisk_test(1,2,3,4,5,6,7)\n",
    "print(result)\n",
    "\n",
    "# result = asterisk_test(1)         # error\n",
    "result = asterisk_test(1,2)\n",
    "print(result)"
   ]
  },
  {
   "cell_type": "code",
   "execution_count": 11,
   "metadata": {},
   "outputs": [
    {
     "output_type": "error",
     "ename": "ValueError",
     "evalue": "invalid literal for int() with base 10: 'dfsdf'",
     "traceback": [
      "\u001b[1;31m---------------------------------------------------------------------------\u001b[0m",
      "\u001b[1;31mValueError\u001b[0m                                Traceback (most recent call last)",
      "\u001b[1;32m<ipython-input-11-17437b1d2594>\u001b[0m in \u001b[0;36m<module>\u001b[1;34m\u001b[0m\n\u001b[1;32m----> 1\u001b[1;33m \u001b[0msys\u001b[0m\u001b[1;33m.\u001b[0m\u001b[0mstdin\u001b[0m\u001b[1;33m.\u001b[0m\u001b[0mreadline\u001b[0m\u001b[1;33m(\u001b[0m\u001b[0mint\u001b[0m\u001b[1;33m(\u001b[0m\u001b[0minput\u001b[0m\u001b[1;33m(\u001b[0m\u001b[1;33m)\u001b[0m\u001b[1;33m)\u001b[0m\u001b[1;33m)\u001b[0m\u001b[1;33m\u001b[0m\u001b[1;33m\u001b[0m\u001b[0m\n\u001b[0m",
      "\u001b[1;31mValueError\u001b[0m: invalid literal for int() with base 10: 'dfsdf'"
     ]
    }
   ],
   "source": [
    "sys.stdin.readline(int(input()))"
   ]
  },
  {
   "cell_type": "code",
   "execution_count": null,
   "metadata": {},
   "outputs": [],
   "source": []
  }
 ]
}