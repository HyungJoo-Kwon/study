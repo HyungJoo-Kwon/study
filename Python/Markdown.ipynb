{
 "cells": [
  {
   "cell_type": "markdown",
   "metadata": {},
   "source": [
    "# 제목1\n",
    "## 제목2 \n",
    "### 제목3"
   ]
  },
  {
   "cell_type": "markdown",
   "metadata": {},
   "source": [
    "# 제목1\n",
    "## 제목2 \n",
    "### 제목3"
   ]
  },
  {
   "cell_type": "markdown",
   "metadata": {},
   "source": [
    "*** 사용 시 "
   ]
  },
  {
   "cell_type": "markdown",
   "metadata": {},
   "source": [
    "***"
   ]
  },
  {
   "cell_type": "markdown",
   "metadata": {},
   "source": [
    "--- 사용시"
   ]
  },
  {
   "cell_type": "markdown",
   "metadata": {},
   "source": [
    "---"
   ]
  },
  {
   "cell_type": "markdown",
   "metadata": {},
   "source": [
    "___ 사용시"
   ]
  },
  {
   "cell_type": "markdown",
   "metadata": {},
   "source": [
    "___"
   ]
  },
  {
   "cell_type": "markdown",
   "metadata": {},
   "source": [
    "리스트 인용구\n",
    "\n",
    "'*' 또는 '+' 또는 '-' 사용"
   ]
  },
  {
   "cell_type": "markdown",
   "metadata": {},
   "source": [
    "* 머리\n",
    "    * 코\n",
    "        * 입"
   ]
  },
  {
   "cell_type": "markdown",
   "metadata": {},
   "source": [
    "+ 머리\n",
    "    + 코\n",
    "        + 입"
   ]
  },
  {
   "cell_type": "markdown",
   "metadata": {},
   "source": [
    "1. 머리\n",
    "5. 다리\n",
    "3. 꼬리"
   ]
  },
  {
   "cell_type": "markdown",
   "metadata": {},
   "source": [
    "1. 머리\n",
    "5. 다리\n",
    "3. 꼬리"
   ]
  },
  {
   "cell_type": "markdown",
   "metadata": {},
   "source": [
    "1. 머리\n",
    "    * 목\n",
    "    * 허리"
   ]
  },
  {
   "cell_type": "markdown",
   "metadata": {},
   "source": [
    "1. 머리\n",
    "    * 목\n",
    "    * 허리"
   ]
  },
  {
   "cell_type": "markdown",
   "metadata": {},
   "source": [
    "특수문자 표시\n",
    "\\#####\n",
    "\n",
    "\\**"
   ]
  },
  {
   "cell_type": "markdown",
   "metadata": {},
   "source": [
    "\\#####\n",
    "\n",
    "\\**"
   ]
  },
  {
   "cell_type": "markdown",
   "metadata": {},
   "source": [
    "안녕 파이썬       // 줄 띄우거나 문장 뒤에 공백 2칸이상 넣으면 줄 띄움\n",
    "Hello python\n",
    "\n",
    "Hello pyhton"
   ]
  },
  {
   "cell_type": "markdown",
   "metadata": {},
   "source": [
    "안녕 파이썬\n",
    "Hello python\n",
    "\n",
    "Hello pyhton"
   ]
  },
  {
   "cell_type": "markdown",
   "metadata": {},
   "source": [
    "강조하기\n",
    "\n",
    "**굵은 글씨**\n",
    "_기울여 쓰기_  \n",
    "__안녕__"
   ]
  },
  {
   "cell_type": "markdown",
   "metadata": {},
   "source": [
    "강조하기\n",
    "\n",
    "**굵은 글씨**  \n",
    "_기울여 쓰기_   \n",
    "__안녕__\n"
   ]
  },
  {
   "cell_type": "markdown",
   "metadata": {},
   "source": [
    "_이탈릭에서**여기만 굵은글씨**다시 돌아옴_\n",
    "\n",
    "__굵은글씨로 시작해서*이탈릭으로 돌아왔다가*다시 굵어짐__"
   ]
  },
  {
   "cell_type": "markdown",
   "metadata": {},
   "source": [
    "_이탈릭에서**여기만 굵은글씨**다시 돌아옴_\n",
    "\n",
    "__굵은글씨로 시작해서*이탈릭으로 돌아왔다가*다시 굵어짐__"
   ]
  },
  {
   "cell_type": "markdown",
   "metadata": {},
   "source": [
    "![텍스트](이미지경로.jpg)       // 이미지 넣기\n",
    "![텍스트](이미지URL)\n",
    "![텍스트](이미지경로.jpg \"이미지 이름\")\n",
    "![텍스트](이미지URL \"이미지 이름\")"
   ]
  },
  {
   "cell_type": "markdown",
   "metadata": {},
   "source": [
    "![](C:\\Users\\w\\jupyter \"common.jpg\")\n",
    "![](https://blog.naver.com/seokks0919?Redirect=Log&logNo=222078383359)"
   ]
  },
  {
   "cell_type": "markdown",
   "metadata": {},
   "source": [
    "```\n",
    "여기에 코드를 넣으면 작동하지 않고 보임\n",
    "```"
   ]
  },
  {
   "cell_type": "markdown",
   "metadata": {},
   "source": [
    "| 왼쪽 정렬 | 가운데 정렬 | 오른쪽 정렬 |\n",
    "|:--------|:--------:|--------:|\n",
    "| 내용 11 | 내용 12 | 내용 13 |\n",
    "| 내용 21 | 내용 22 | 내용 23 |"
   ]
  },
  {
   "cell_type": "markdown",
   "metadata": {},
   "source": [
    "| 왼쪽 정렬 | 가운데 정렬 | 오른쪽 정렬 |\n",
    "|:--------|:--------:|--------:|\n",
    "| 내용 11 | 내용 12 | 내용 13 |\n",
    "| 내용 21 | 내용 22 | 내용 23 |"
   ]
  },
  {
   "cell_type": "code",
   "execution_count": 22,
   "metadata": {},
   "outputs": [
    {
     "data": {
      "text/html": [
       "<style>.container {width:90% !important; }</style>"
      ],
      "text/plain": [
       "<IPython.core.display.HTML object>"
      ]
     },
     "metadata": {},
     "output_type": "display_data"
    }
   ],
   "source": [
    "from IPython.core.display import display, HTML\n",
    "display(HTML(\"<style>.container {width:90% !important; }</style>\"))"
   ]
  },
  {
   "cell_type": "markdown",
   "metadata": {},
   "source": [
    "from IPython.core.display import display, HTML\n",
    "display(HTML(\"<style>.container {width:90% !important; }</style>\"))\n",
    "\n",
    "위에 코드 실행 후 \n",
    "\n",
    "File -> print View -> Ctrl + U 하면\n",
    "코드화 가능"
   ]
  }
 ],
 "metadata": {
  "kernelspec": {
   "display_name": "Python 3",
   "language": "python",
   "name": "python3"
  },
  "language_info": {
   "codemirror_mode": {
    "name": "ipython",
    "version": 3
   },
   "file_extension": ".py",
   "mimetype": "text/x-python",
   "name": "python",
   "nbconvert_exporter": "python",
   "pygments_lexer": "ipython3",
   "version": "3.8.3"
  }
 },
 "nbformat": 4,
 "nbformat_minor": 4
}
