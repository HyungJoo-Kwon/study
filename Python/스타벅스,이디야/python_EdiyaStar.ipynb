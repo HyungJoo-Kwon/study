{
 "metadata": {
  "language_info": {
   "codemirror_mode": {
    "name": "ipython",
    "version": 3
   },
   "file_extension": ".py",
   "mimetype": "text/x-python",
   "name": "python",
   "nbconvert_exporter": "python",
   "pygments_lexer": "ipython3",
   "version": "3.8.3-final"
  },
  "orig_nbformat": 2,
  "kernelspec": {
   "name": "Python 3.8.3 64-bit ('base': conda)",
   "display_name": "Python 3.8.3 64-bit ('base': conda)",
   "metadata": {
    "interpreter": {
     "hash": "ccb6990895436216020d785f85e481171ea60264840962e2fdc91afe41f44499"
    }
   }
  }
 },
 "nbformat": 4,
 "nbformat_minor": 2,
 "cells": [
  {
   "cell_type": "code",
   "execution_count": 1,
   "metadata": {},
   "outputs": [],
   "source": [
    "import pandas as pd\n",
    "import numpy as np\n",
    "import matplotlib.font_manager as fm\n",
    "import matplotlib.pyplot as plt\n",
    "font_path = 'C:/Windows/Fonts/NGULIM.TTF'\n",
    "font_family = fm.FontProperties(fname=font_path).get_name()\n",
    "plt.rcParams[\"font.family\"] = font_family\n"
   ]
  },
  {
   "cell_type": "code",
   "execution_count": 2,
   "metadata": {},
   "outputs": [],
   "source": [
    "df = pd.read_excel(\"data/통합 문서1.xlsx\")"
   ]
  },
  {
   "cell_type": "code",
   "execution_count": 3,
   "metadata": {},
   "outputs": [
    {
     "output_type": "execute_result",
     "data": {
      "text/plain": "     상가업소번호       상호명        지점명 상권업종대분류코드 상권업종대분류명 상권업종중분류코드 상권업종중분류명  \\\n0  19917773      대구통닭  통통치킨상인2호점         Q       음식       Q05   닭/오리요리   \n1  19919475       빵마루        NaN         Q       음식       Q08  제과제빵떡케익   \n2  19925178      오구피자        NaN         Q       음식       Q07    패스트푸드   \n3  19907335  명진가마솥오곡밥        NaN         Q       음식       Q01       한식   \n4  19909700   이오쇠고기국밥        NaN         Q       음식       Q01       한식   \n\n  상권업종소분류코드   상권업종소분류명 표준산업분류코드  ...        건물관리번호    건물명  \\\n0    Q05A08  후라이드/양념치킨   I56193  ...  2.729012e+24    NaN   \n1    Q08A01        제과점   I56191  ...  2.726011e+24  녹원아파트   \n2    Q07A01       피자전문   I56192  ...  2.817011e+24    NaN   \n3    Q01A16      보리밥전문   I56111  ...  2.920012e+24    NaN   \n4    Q01A05    해장국/감자탕   I56111  ...  2.711016e+24    NaN   \n\n                     도로명주소     구우편번호    신우편번호  동정보  층정보  호정보          경도  \\\n0     대구광역시 달서구 상화북로43길 74  704370.0  42806.0  NaN    1  NaN  128.546040   \n1        대구광역시 수성구 무학로 187  706090.0  42183.0  NaN    1  NaN  128.628821   \n2       인천광역시 남구 미추홀대로 541  402200.0  22216.0  NaN    1  NaN  126.678585   \n3  광주광역시 광산구 첨단중앙로170번길 17  506303.0  62274.0  NaN    1  NaN  126.842826   \n4      대구광역시 중구 달구벌대로 2222  700430.0  41951.0  NaN  NaN  NaN  128.606083   \n\n          위도  \n0  35.817554  \n1  35.830867  \n2  37.445680  \n3  35.220843  \n4  35.862251  \n\n[5 rows x 39 columns]",
      "text/html": "<div>\n<style scoped>\n    .dataframe tbody tr th:only-of-type {\n        vertical-align: middle;\n    }\n\n    .dataframe tbody tr th {\n        vertical-align: top;\n    }\n\n    .dataframe thead th {\n        text-align: right;\n    }\n</style>\n<table border=\"1\" class=\"dataframe\">\n  <thead>\n    <tr style=\"text-align: right;\">\n      <th></th>\n      <th>상가업소번호</th>\n      <th>상호명</th>\n      <th>지점명</th>\n      <th>상권업종대분류코드</th>\n      <th>상권업종대분류명</th>\n      <th>상권업종중분류코드</th>\n      <th>상권업종중분류명</th>\n      <th>상권업종소분류코드</th>\n      <th>상권업종소분류명</th>\n      <th>표준산업분류코드</th>\n      <th>...</th>\n      <th>건물관리번호</th>\n      <th>건물명</th>\n      <th>도로명주소</th>\n      <th>구우편번호</th>\n      <th>신우편번호</th>\n      <th>동정보</th>\n      <th>층정보</th>\n      <th>호정보</th>\n      <th>경도</th>\n      <th>위도</th>\n    </tr>\n  </thead>\n  <tbody>\n    <tr>\n      <th>0</th>\n      <td>19917773</td>\n      <td>대구통닭</td>\n      <td>통통치킨상인2호점</td>\n      <td>Q</td>\n      <td>음식</td>\n      <td>Q05</td>\n      <td>닭/오리요리</td>\n      <td>Q05A08</td>\n      <td>후라이드/양념치킨</td>\n      <td>I56193</td>\n      <td>...</td>\n      <td>2.729012e+24</td>\n      <td>NaN</td>\n      <td>대구광역시 달서구 상화북로43길 74</td>\n      <td>704370.0</td>\n      <td>42806.0</td>\n      <td>NaN</td>\n      <td>1</td>\n      <td>NaN</td>\n      <td>128.546040</td>\n      <td>35.817554</td>\n    </tr>\n    <tr>\n      <th>1</th>\n      <td>19919475</td>\n      <td>빵마루</td>\n      <td>NaN</td>\n      <td>Q</td>\n      <td>음식</td>\n      <td>Q08</td>\n      <td>제과제빵떡케익</td>\n      <td>Q08A01</td>\n      <td>제과점</td>\n      <td>I56191</td>\n      <td>...</td>\n      <td>2.726011e+24</td>\n      <td>녹원아파트</td>\n      <td>대구광역시 수성구 무학로 187</td>\n      <td>706090.0</td>\n      <td>42183.0</td>\n      <td>NaN</td>\n      <td>1</td>\n      <td>NaN</td>\n      <td>128.628821</td>\n      <td>35.830867</td>\n    </tr>\n    <tr>\n      <th>2</th>\n      <td>19925178</td>\n      <td>오구피자</td>\n      <td>NaN</td>\n      <td>Q</td>\n      <td>음식</td>\n      <td>Q07</td>\n      <td>패스트푸드</td>\n      <td>Q07A01</td>\n      <td>피자전문</td>\n      <td>I56192</td>\n      <td>...</td>\n      <td>2.817011e+24</td>\n      <td>NaN</td>\n      <td>인천광역시 남구 미추홀대로 541</td>\n      <td>402200.0</td>\n      <td>22216.0</td>\n      <td>NaN</td>\n      <td>1</td>\n      <td>NaN</td>\n      <td>126.678585</td>\n      <td>37.445680</td>\n    </tr>\n    <tr>\n      <th>3</th>\n      <td>19907335</td>\n      <td>명진가마솥오곡밥</td>\n      <td>NaN</td>\n      <td>Q</td>\n      <td>음식</td>\n      <td>Q01</td>\n      <td>한식</td>\n      <td>Q01A16</td>\n      <td>보리밥전문</td>\n      <td>I56111</td>\n      <td>...</td>\n      <td>2.920012e+24</td>\n      <td>NaN</td>\n      <td>광주광역시 광산구 첨단중앙로170번길 17</td>\n      <td>506303.0</td>\n      <td>62274.0</td>\n      <td>NaN</td>\n      <td>1</td>\n      <td>NaN</td>\n      <td>126.842826</td>\n      <td>35.220843</td>\n    </tr>\n    <tr>\n      <th>4</th>\n      <td>19909700</td>\n      <td>이오쇠고기국밥</td>\n      <td>NaN</td>\n      <td>Q</td>\n      <td>음식</td>\n      <td>Q01</td>\n      <td>한식</td>\n      <td>Q01A05</td>\n      <td>해장국/감자탕</td>\n      <td>I56111</td>\n      <td>...</td>\n      <td>2.711016e+24</td>\n      <td>NaN</td>\n      <td>대구광역시 중구 달구벌대로 2222</td>\n      <td>700430.0</td>\n      <td>41951.0</td>\n      <td>NaN</td>\n      <td>NaN</td>\n      <td>NaN</td>\n      <td>128.606083</td>\n      <td>35.862251</td>\n    </tr>\n  </tbody>\n</table>\n<p>5 rows × 39 columns</p>\n</div>"
     },
     "metadata": {},
     "execution_count": 3
    }
   ],
   "source": [
    "df.head()"
   ]
  },
  {
   "cell_type": "code",
   "execution_count": 4,
   "metadata": {},
   "outputs": [],
   "source": [
    "df1 = df[['상호명','지점명','지번주소','경도','위도','시도명']]"
   ]
  },
  {
   "cell_type": "code",
   "execution_count": 5,
   "metadata": {
    "tags": []
   },
   "outputs": [],
   "source": [
    "df2=df1[df1['시도명']=='대구광역시']"
   ]
  },
  {
   "cell_type": "code",
   "execution_count": 46,
   "metadata": {
    "tags": []
   },
   "outputs": [
    {
     "output_type": "stream",
     "name": "stdout",
     "text": "72\n35\n"
    }
   ],
   "source": [
    "Star = df2[df2['상호명'].str.contains('스타벅스', na=False)]\n",
    "Star['상호명2']='스타벅스'\n",
    "Star = Star.drop_duplicates('지번주소',keep='first')\n",
    "Ediya = df2[df2['상호명'].str.contains('이디야커피', na=False)]\n",
    "Ediya = Ediya.append(df2[df2['상호명'].str.contains('이디아커피', na=False)])\n",
    "Ediya = Ediya.append(df2[df2['상호명'].str.contains('이디아까페', na=False)])\n",
    "Ediya['상호명2']='이디야커피'\n",
    "Ediya = Ediya.drop_duplicates('지번주소',keep='first')\n",
    "dfx = Star.append(Ediya)\n",
    "print(len(Star))\n",
    "print(len(Ediya))"
   ]
  },
  {
   "cell_type": "code",
   "execution_count": 47,
   "metadata": {},
   "outputs": [],
   "source": [
    "dfx[['시','구','동','나머지']]=dfx['지번주소'].str.split(' ',n=3,expand=True)"
   ]
  },
  {
   "cell_type": "code",
   "execution_count": 48,
   "metadata": {},
   "outputs": [],
   "source": [
    "df3 = dfx"
   ]
  },
  {
   "source": [
    "# 1"
   ],
   "cell_type": "markdown",
   "metadata": {}
  },
  {
   "cell_type": "code",
   "execution_count": 50,
   "metadata": {},
   "outputs": [
    {
     "output_type": "execute_result",
     "data": {
      "text/plain": "               상호명        지점명                      지번주소          경도  \\\n30554   스타벅스동성로중앙점     동성로중앙점      대구광역시 중구 삼덕동1가 17-11  128.596677   \n31198    스타벅스대구법원점      대구법원점        대구광역시 수성구 범어동 2237  128.627770   \n31464         스타벅스    대구상인DT점        대구광역시 달서구 상인동 54-3  128.533791   \n41627         스타벅스  대구성서ICDT점       대구광역시 달서구 용산동 410-9  128.520117   \n53418         스타벅스      대구죽곡점  대구광역시 달성군 다사읍 매곡리 1546-7  128.464258   \n...            ...        ...                       ...         ...   \n442241       이디야커피     대구중구청점        대구광역시 중구 동인동2가 221  128.606331   \n489054       이디야커피     대구텍스빌점         대구광역시 북구 산격동 1667  128.609675   \n494386       이디야커피     동대구역사점          대구광역시 동구 신암동 294  128.628726   \n512351       이디야커피    대구영대병원점        대구광역시 남구 대명동 160-1  128.586059   \n16270     이디아커피시지점        시지점       대구광역시 수성구 신매동 566-3  128.704075   \n\n               위도    시도명   상호명2      시    구      동         나머지  \n30554   35.867508  대구광역시   스타벅스  대구광역시   중구  삼덕동1가       17-11  \n31198   35.864537  대구광역시   스타벅스  대구광역시  수성구    범어동        2237  \n31464   35.822791  대구광역시   스타벅스  대구광역시  달서구    상인동        54-3  \n41627   35.850711  대구광역시   스타벅스  대구광역시  달서구    용산동       410-9  \n53418   35.859160  대구광역시   스타벅스  대구광역시  달성군    다사읍  매곡리 1546-7  \n...           ...    ...    ...    ...  ...    ...         ...  \n442241  35.868757  대구광역시  이디야커피  대구광역시   중구  동인동2가         221  \n489054  35.906289  대구광역시  이디야커피  대구광역시   북구    산격동        1667  \n494386  35.879098  대구광역시  이디야커피  대구광역시   동구    신암동         294  \n512351  35.845171  대구광역시  이디야커피  대구광역시   남구    대명동       160-1  \n16270   35.839788  대구광역시  이디야커피  대구광역시  수성구    신매동       566-3  \n\n[107 rows x 11 columns]",
      "text/html": "<div>\n<style scoped>\n    .dataframe tbody tr th:only-of-type {\n        vertical-align: middle;\n    }\n\n    .dataframe tbody tr th {\n        vertical-align: top;\n    }\n\n    .dataframe thead th {\n        text-align: right;\n    }\n</style>\n<table border=\"1\" class=\"dataframe\">\n  <thead>\n    <tr style=\"text-align: right;\">\n      <th></th>\n      <th>상호명</th>\n      <th>지점명</th>\n      <th>지번주소</th>\n      <th>경도</th>\n      <th>위도</th>\n      <th>시도명</th>\n      <th>상호명2</th>\n      <th>시</th>\n      <th>구</th>\n      <th>동</th>\n      <th>나머지</th>\n    </tr>\n  </thead>\n  <tbody>\n    <tr>\n      <th>30554</th>\n      <td>스타벅스동성로중앙점</td>\n      <td>동성로중앙점</td>\n      <td>대구광역시 중구 삼덕동1가 17-11</td>\n      <td>128.596677</td>\n      <td>35.867508</td>\n      <td>대구광역시</td>\n      <td>스타벅스</td>\n      <td>대구광역시</td>\n      <td>중구</td>\n      <td>삼덕동1가</td>\n      <td>17-11</td>\n    </tr>\n    <tr>\n      <th>31198</th>\n      <td>스타벅스대구법원점</td>\n      <td>대구법원점</td>\n      <td>대구광역시 수성구 범어동 2237</td>\n      <td>128.627770</td>\n      <td>35.864537</td>\n      <td>대구광역시</td>\n      <td>스타벅스</td>\n      <td>대구광역시</td>\n      <td>수성구</td>\n      <td>범어동</td>\n      <td>2237</td>\n    </tr>\n    <tr>\n      <th>31464</th>\n      <td>스타벅스</td>\n      <td>대구상인DT점</td>\n      <td>대구광역시 달서구 상인동 54-3</td>\n      <td>128.533791</td>\n      <td>35.822791</td>\n      <td>대구광역시</td>\n      <td>스타벅스</td>\n      <td>대구광역시</td>\n      <td>달서구</td>\n      <td>상인동</td>\n      <td>54-3</td>\n    </tr>\n    <tr>\n      <th>41627</th>\n      <td>스타벅스</td>\n      <td>대구성서ICDT점</td>\n      <td>대구광역시 달서구 용산동 410-9</td>\n      <td>128.520117</td>\n      <td>35.850711</td>\n      <td>대구광역시</td>\n      <td>스타벅스</td>\n      <td>대구광역시</td>\n      <td>달서구</td>\n      <td>용산동</td>\n      <td>410-9</td>\n    </tr>\n    <tr>\n      <th>53418</th>\n      <td>스타벅스</td>\n      <td>대구죽곡점</td>\n      <td>대구광역시 달성군 다사읍 매곡리 1546-7</td>\n      <td>128.464258</td>\n      <td>35.859160</td>\n      <td>대구광역시</td>\n      <td>스타벅스</td>\n      <td>대구광역시</td>\n      <td>달성군</td>\n      <td>다사읍</td>\n      <td>매곡리 1546-7</td>\n    </tr>\n    <tr>\n      <th>...</th>\n      <td>...</td>\n      <td>...</td>\n      <td>...</td>\n      <td>...</td>\n      <td>...</td>\n      <td>...</td>\n      <td>...</td>\n      <td>...</td>\n      <td>...</td>\n      <td>...</td>\n      <td>...</td>\n    </tr>\n    <tr>\n      <th>442241</th>\n      <td>이디야커피</td>\n      <td>대구중구청점</td>\n      <td>대구광역시 중구 동인동2가 221</td>\n      <td>128.606331</td>\n      <td>35.868757</td>\n      <td>대구광역시</td>\n      <td>이디야커피</td>\n      <td>대구광역시</td>\n      <td>중구</td>\n      <td>동인동2가</td>\n      <td>221</td>\n    </tr>\n    <tr>\n      <th>489054</th>\n      <td>이디야커피</td>\n      <td>대구텍스빌점</td>\n      <td>대구광역시 북구 산격동 1667</td>\n      <td>128.609675</td>\n      <td>35.906289</td>\n      <td>대구광역시</td>\n      <td>이디야커피</td>\n      <td>대구광역시</td>\n      <td>북구</td>\n      <td>산격동</td>\n      <td>1667</td>\n    </tr>\n    <tr>\n      <th>494386</th>\n      <td>이디야커피</td>\n      <td>동대구역사점</td>\n      <td>대구광역시 동구 신암동 294</td>\n      <td>128.628726</td>\n      <td>35.879098</td>\n      <td>대구광역시</td>\n      <td>이디야커피</td>\n      <td>대구광역시</td>\n      <td>동구</td>\n      <td>신암동</td>\n      <td>294</td>\n    </tr>\n    <tr>\n      <th>512351</th>\n      <td>이디야커피</td>\n      <td>대구영대병원점</td>\n      <td>대구광역시 남구 대명동 160-1</td>\n      <td>128.586059</td>\n      <td>35.845171</td>\n      <td>대구광역시</td>\n      <td>이디야커피</td>\n      <td>대구광역시</td>\n      <td>남구</td>\n      <td>대명동</td>\n      <td>160-1</td>\n    </tr>\n    <tr>\n      <th>16270</th>\n      <td>이디아커피시지점</td>\n      <td>시지점</td>\n      <td>대구광역시 수성구 신매동 566-3</td>\n      <td>128.704075</td>\n      <td>35.839788</td>\n      <td>대구광역시</td>\n      <td>이디야커피</td>\n      <td>대구광역시</td>\n      <td>수성구</td>\n      <td>신매동</td>\n      <td>566-3</td>\n    </tr>\n  </tbody>\n</table>\n<p>107 rows × 11 columns</p>\n</div>"
     },
     "metadata": {},
     "execution_count": 50
    }
   ],
   "source": [
    "df3"
   ]
  },
  {
   "cell_type": "code",
   "execution_count": 51,
   "metadata": {},
   "outputs": [
    {
     "output_type": "execute_result",
     "data": {
      "text/plain": "       상호명2    구  count\n30554  스타벅스   중구      1\n31198  스타벅스  수성구      1\n31464  스타벅스  달서구      1\n41627  스타벅스  달서구      1\n53418  스타벅스  달성군      1",
      "text/html": "<div>\n<style scoped>\n    .dataframe tbody tr th:only-of-type {\n        vertical-align: middle;\n    }\n\n    .dataframe tbody tr th {\n        vertical-align: top;\n    }\n\n    .dataframe thead th {\n        text-align: right;\n    }\n</style>\n<table border=\"1\" class=\"dataframe\">\n  <thead>\n    <tr style=\"text-align: right;\">\n      <th></th>\n      <th>상호명2</th>\n      <th>구</th>\n      <th>count</th>\n    </tr>\n  </thead>\n  <tbody>\n    <tr>\n      <th>30554</th>\n      <td>스타벅스</td>\n      <td>중구</td>\n      <td>1</td>\n    </tr>\n    <tr>\n      <th>31198</th>\n      <td>스타벅스</td>\n      <td>수성구</td>\n      <td>1</td>\n    </tr>\n    <tr>\n      <th>31464</th>\n      <td>스타벅스</td>\n      <td>달서구</td>\n      <td>1</td>\n    </tr>\n    <tr>\n      <th>41627</th>\n      <td>스타벅스</td>\n      <td>달서구</td>\n      <td>1</td>\n    </tr>\n    <tr>\n      <th>53418</th>\n      <td>스타벅스</td>\n      <td>달성군</td>\n      <td>1</td>\n    </tr>\n  </tbody>\n</table>\n</div>"
     },
     "metadata": {},
     "execution_count": 51
    }
   ],
   "source": [
    "df4 = df3[['상호명2','구']]\n",
    "df4['count']=1\n",
    "df4.head()"
   ]
  },
  {
   "cell_type": "code",
   "execution_count": 52,
   "metadata": {},
   "outputs": [],
   "source": [
    "df5 = df4.groupby(['구','상호명2'])"
   ]
  },
  {
   "cell_type": "code",
   "execution_count": 53,
   "metadata": {},
   "outputs": [],
   "source": [
    "df5 = df5.sum()"
   ]
  },
  {
   "cell_type": "code",
   "execution_count": 54,
   "metadata": {},
   "outputs": [
    {
     "output_type": "execute_result",
     "data": {
      "text/plain": "           count\n구   상호명2        \n남구  스타벅스       3\n    이디야커피      5\n달서구 스타벅스      17\n    이디야커피      6\n달성군 스타벅스       4\n    이디야커피      3\n동구  스타벅스       7\n    이디야커피      4\n북구  스타벅스       6\n    이디야커피      7\n서구  스타벅스       3\n수성구 스타벅스      19\n    이디야커피      5\n중구  스타벅스      13\n    이디야커피      5",
      "text/html": "<div>\n<style scoped>\n    .dataframe tbody tr th:only-of-type {\n        vertical-align: middle;\n    }\n\n    .dataframe tbody tr th {\n        vertical-align: top;\n    }\n\n    .dataframe thead th {\n        text-align: right;\n    }\n</style>\n<table border=\"1\" class=\"dataframe\">\n  <thead>\n    <tr style=\"text-align: right;\">\n      <th></th>\n      <th></th>\n      <th>count</th>\n    </tr>\n    <tr>\n      <th>구</th>\n      <th>상호명2</th>\n      <th></th>\n    </tr>\n  </thead>\n  <tbody>\n    <tr>\n      <th rowspan=\"2\" valign=\"top\">남구</th>\n      <th>스타벅스</th>\n      <td>3</td>\n    </tr>\n    <tr>\n      <th>이디야커피</th>\n      <td>5</td>\n    </tr>\n    <tr>\n      <th rowspan=\"2\" valign=\"top\">달서구</th>\n      <th>스타벅스</th>\n      <td>17</td>\n    </tr>\n    <tr>\n      <th>이디야커피</th>\n      <td>6</td>\n    </tr>\n    <tr>\n      <th rowspan=\"2\" valign=\"top\">달성군</th>\n      <th>스타벅스</th>\n      <td>4</td>\n    </tr>\n    <tr>\n      <th>이디야커피</th>\n      <td>3</td>\n    </tr>\n    <tr>\n      <th rowspan=\"2\" valign=\"top\">동구</th>\n      <th>스타벅스</th>\n      <td>7</td>\n    </tr>\n    <tr>\n      <th>이디야커피</th>\n      <td>4</td>\n    </tr>\n    <tr>\n      <th rowspan=\"2\" valign=\"top\">북구</th>\n      <th>스타벅스</th>\n      <td>6</td>\n    </tr>\n    <tr>\n      <th>이디야커피</th>\n      <td>7</td>\n    </tr>\n    <tr>\n      <th>서구</th>\n      <th>스타벅스</th>\n      <td>3</td>\n    </tr>\n    <tr>\n      <th rowspan=\"2\" valign=\"top\">수성구</th>\n      <th>스타벅스</th>\n      <td>19</td>\n    </tr>\n    <tr>\n      <th>이디야커피</th>\n      <td>5</td>\n    </tr>\n    <tr>\n      <th rowspan=\"2\" valign=\"top\">중구</th>\n      <th>스타벅스</th>\n      <td>13</td>\n    </tr>\n    <tr>\n      <th>이디야커피</th>\n      <td>5</td>\n    </tr>\n  </tbody>\n</table>\n</div>"
     },
     "metadata": {},
     "execution_count": 54
    }
   ],
   "source": [
    "df5"
   ]
  },
  {
   "source": [
    "# 2"
   ],
   "cell_type": "markdown",
   "metadata": {}
  },
  {
   "cell_type": "code",
   "execution_count": 55,
   "metadata": {},
   "outputs": [
    {
     "output_type": "execute_result",
     "data": {
      "text/plain": "       상호명2      동  count\n30554  스타벅스  삼덕동1가      1\n31198  스타벅스    범어동      1\n31464  스타벅스    상인동      1\n41627  스타벅스    용산동      1\n53418  스타벅스    다사읍      1",
      "text/html": "<div>\n<style scoped>\n    .dataframe tbody tr th:only-of-type {\n        vertical-align: middle;\n    }\n\n    .dataframe tbody tr th {\n        vertical-align: top;\n    }\n\n    .dataframe thead th {\n        text-align: right;\n    }\n</style>\n<table border=\"1\" class=\"dataframe\">\n  <thead>\n    <tr style=\"text-align: right;\">\n      <th></th>\n      <th>상호명2</th>\n      <th>동</th>\n      <th>count</th>\n    </tr>\n  </thead>\n  <tbody>\n    <tr>\n      <th>30554</th>\n      <td>스타벅스</td>\n      <td>삼덕동1가</td>\n      <td>1</td>\n    </tr>\n    <tr>\n      <th>31198</th>\n      <td>스타벅스</td>\n      <td>범어동</td>\n      <td>1</td>\n    </tr>\n    <tr>\n      <th>31464</th>\n      <td>스타벅스</td>\n      <td>상인동</td>\n      <td>1</td>\n    </tr>\n    <tr>\n      <th>41627</th>\n      <td>스타벅스</td>\n      <td>용산동</td>\n      <td>1</td>\n    </tr>\n    <tr>\n      <th>53418</th>\n      <td>스타벅스</td>\n      <td>다사읍</td>\n      <td>1</td>\n    </tr>\n  </tbody>\n</table>\n</div>"
     },
     "metadata": {},
     "execution_count": 55
    }
   ],
   "source": [
    "df6 = df3[['상호명2','동']]\n",
    "df6['count']=1\n",
    "df6.head()"
   ]
  },
  {
   "cell_type": "code",
   "execution_count": 56,
   "metadata": {},
   "outputs": [],
   "source": [
    "df7 = df6.groupby(['동','상호명2'])\n",
    "df7 = df7.sum()"
   ]
  },
  {
   "cell_type": "code",
   "execution_count": 57,
   "metadata": {},
   "outputs": [
    {
     "output_type": "execute_result",
     "data": {
      "text/plain": "             count\n동     상호명2        \n각산동   이디야커피      1\n감삼동   스타벅스       2\n계산동2가 스타벅스       1\n남성로   이디야커피      1\n남일동   스타벅스       1\n...            ...\n태전동   스타벅스       1\n      이디야커피      2\n평리동   스타벅스       1\n하빈면   스타벅스       2\n효목동   스타벅스       1\n\n[74 rows x 1 columns]",
      "text/html": "<div>\n<style scoped>\n    .dataframe tbody tr th:only-of-type {\n        vertical-align: middle;\n    }\n\n    .dataframe tbody tr th {\n        vertical-align: top;\n    }\n\n    .dataframe thead th {\n        text-align: right;\n    }\n</style>\n<table border=\"1\" class=\"dataframe\">\n  <thead>\n    <tr style=\"text-align: right;\">\n      <th></th>\n      <th></th>\n      <th>count</th>\n    </tr>\n    <tr>\n      <th>동</th>\n      <th>상호명2</th>\n      <th></th>\n    </tr>\n  </thead>\n  <tbody>\n    <tr>\n      <th>각산동</th>\n      <th>이디야커피</th>\n      <td>1</td>\n    </tr>\n    <tr>\n      <th>감삼동</th>\n      <th>스타벅스</th>\n      <td>2</td>\n    </tr>\n    <tr>\n      <th>계산동2가</th>\n      <th>스타벅스</th>\n      <td>1</td>\n    </tr>\n    <tr>\n      <th>남성로</th>\n      <th>이디야커피</th>\n      <td>1</td>\n    </tr>\n    <tr>\n      <th>남일동</th>\n      <th>스타벅스</th>\n      <td>1</td>\n    </tr>\n    <tr>\n      <th>...</th>\n      <th>...</th>\n      <td>...</td>\n    </tr>\n    <tr>\n      <th rowspan=\"2\" valign=\"top\">태전동</th>\n      <th>스타벅스</th>\n      <td>1</td>\n    </tr>\n    <tr>\n      <th>이디야커피</th>\n      <td>2</td>\n    </tr>\n    <tr>\n      <th>평리동</th>\n      <th>스타벅스</th>\n      <td>1</td>\n    </tr>\n    <tr>\n      <th>하빈면</th>\n      <th>스타벅스</th>\n      <td>2</td>\n    </tr>\n    <tr>\n      <th>효목동</th>\n      <th>스타벅스</th>\n      <td>1</td>\n    </tr>\n  </tbody>\n</table>\n<p>74 rows × 1 columns</p>\n</div>"
     },
     "metadata": {},
     "execution_count": 57
    }
   ],
   "source": [
    "df7"
   ]
  },
  {
   "source": [
    "# 3"
   ],
   "cell_type": "markdown",
   "metadata": {}
  },
  {
   "cell_type": "code",
   "execution_count": 58,
   "metadata": {},
   "outputs": [],
   "source": [
    "D = df2[['상호명','지번주소','경도','위도']]"
   ]
  },
  {
   "cell_type": "code",
   "execution_count": 59,
   "metadata": {},
   "outputs": [
    {
     "output_type": "execute_result",
     "data": {
      "text/plain": "              상호명                   지번주소          경도         위도\n0            대구통닭  대구광역시 달서구 상인동 1531-12  128.546040  35.817554\n1             빵마루    대구광역시 수성구 지산동 761-8  128.628821  35.830867\n4         이오쇠고기국밥      대구광역시 중구 대봉동 12-9  128.606083  35.862251\n11             미화  대구광역시 중구 동인동4가 248-20  128.606981  35.866834\n12            충무회   대구광역시 수성구 두산동 154-26  128.617649  35.831691\n...           ...                    ...         ...        ...\n528303  동녘바다머구리해물   대구광역시 수성구 두산동 138-14  128.617187  35.833532\n528304   해녀조개돌문어탕  대구광역시 수성구 수성동2가 238-3  128.614044  35.856478\n528305   민영이수제돈까스    대구광역시 달서구 성당동 704-5  128.545157  35.845499\n528306        A모텔     대구광역시 동구 신천동 325-7  128.627103  35.874158\n528310  더칼라네일&속눈썹    대구광역시 달서구 본리동 145-5  128.544277  35.839861\n\n[129875 rows x 4 columns]",
      "text/html": "<div>\n<style scoped>\n    .dataframe tbody tr th:only-of-type {\n        vertical-align: middle;\n    }\n\n    .dataframe tbody tr th {\n        vertical-align: top;\n    }\n\n    .dataframe thead th {\n        text-align: right;\n    }\n</style>\n<table border=\"1\" class=\"dataframe\">\n  <thead>\n    <tr style=\"text-align: right;\">\n      <th></th>\n      <th>상호명</th>\n      <th>지번주소</th>\n      <th>경도</th>\n      <th>위도</th>\n    </tr>\n  </thead>\n  <tbody>\n    <tr>\n      <th>0</th>\n      <td>대구통닭</td>\n      <td>대구광역시 달서구 상인동 1531-12</td>\n      <td>128.546040</td>\n      <td>35.817554</td>\n    </tr>\n    <tr>\n      <th>1</th>\n      <td>빵마루</td>\n      <td>대구광역시 수성구 지산동 761-8</td>\n      <td>128.628821</td>\n      <td>35.830867</td>\n    </tr>\n    <tr>\n      <th>4</th>\n      <td>이오쇠고기국밥</td>\n      <td>대구광역시 중구 대봉동 12-9</td>\n      <td>128.606083</td>\n      <td>35.862251</td>\n    </tr>\n    <tr>\n      <th>11</th>\n      <td>미화</td>\n      <td>대구광역시 중구 동인동4가 248-20</td>\n      <td>128.606981</td>\n      <td>35.866834</td>\n    </tr>\n    <tr>\n      <th>12</th>\n      <td>충무회</td>\n      <td>대구광역시 수성구 두산동 154-26</td>\n      <td>128.617649</td>\n      <td>35.831691</td>\n    </tr>\n    <tr>\n      <th>...</th>\n      <td>...</td>\n      <td>...</td>\n      <td>...</td>\n      <td>...</td>\n    </tr>\n    <tr>\n      <th>528303</th>\n      <td>동녘바다머구리해물</td>\n      <td>대구광역시 수성구 두산동 138-14</td>\n      <td>128.617187</td>\n      <td>35.833532</td>\n    </tr>\n    <tr>\n      <th>528304</th>\n      <td>해녀조개돌문어탕</td>\n      <td>대구광역시 수성구 수성동2가 238-3</td>\n      <td>128.614044</td>\n      <td>35.856478</td>\n    </tr>\n    <tr>\n      <th>528305</th>\n      <td>민영이수제돈까스</td>\n      <td>대구광역시 달서구 성당동 704-5</td>\n      <td>128.545157</td>\n      <td>35.845499</td>\n    </tr>\n    <tr>\n      <th>528306</th>\n      <td>A모텔</td>\n      <td>대구광역시 동구 신천동 325-7</td>\n      <td>128.627103</td>\n      <td>35.874158</td>\n    </tr>\n    <tr>\n      <th>528310</th>\n      <td>더칼라네일&amp;속눈썹</td>\n      <td>대구광역시 달서구 본리동 145-5</td>\n      <td>128.544277</td>\n      <td>35.839861</td>\n    </tr>\n  </tbody>\n</table>\n<p>129875 rows × 4 columns</p>\n</div>"
     },
     "metadata": {},
     "execution_count": 59
    }
   ],
   "source": [
    "D"
   ]
  },
  {
   "cell_type": "code",
   "execution_count": 62,
   "metadata": {},
   "outputs": [
    {
     "output_type": "execute_result",
     "data": {
      "text/plain": "72"
     },
     "metadata": {},
     "execution_count": 62
    }
   ],
   "source": [
    "Star = D[D['상호명'].str.contains('스타벅스', na=False)]\n",
    "Star = Star.drop_duplicates('지번주소',keep='first')\n",
    "len(Star)"
   ]
  },
  {
   "cell_type": "code",
   "execution_count": 63,
   "metadata": {},
   "outputs": [],
   "source": [
    "Ediya = D[D['상호명'].str.contains('이디야커피', na=False)]\n",
    "Ediya = Ediya.append(D[D['상호명'].str.contains('이디아커피', na=False)])\n",
    "Ediya = Ediya.append(D[D['상호명'].str.contains('이디아까페', na=False)])\n",
    "Ediya = Ediya.drop_duplicates('지번주소',keep='first')"
   ]
  },
  {
   "cell_type": "code",
   "execution_count": 64,
   "metadata": {},
   "outputs": [
    {
     "output_type": "execute_result",
     "data": {
      "text/plain": "35"
     },
     "metadata": {},
     "execution_count": 64
    }
   ],
   "source": [
    "len(Ediya)"
   ]
  },
  {
   "cell_type": "code",
   "execution_count": 65,
   "metadata": {},
   "outputs": [
    {
     "output_type": "execute_result",
     "data": {
      "text/plain": "상호명               스타벅스동성로중앙점\n지번주소    대구광역시 중구 삼덕동1가 17-11\n경도                   128.597\n위도                   35.8675\nName: 30554, dtype: object"
     },
     "metadata": {},
     "execution_count": 65
    }
   ],
   "source": [
    "Star.iloc[0]"
   ]
  },
  {
   "cell_type": "code",
   "execution_count": null,
   "metadata": {
    "tags": []
   },
   "outputs": [],
   "source": [
    "#pip install haversine"
   ]
  },
  {
   "cell_type": "code",
   "execution_count": 66,
   "metadata": {},
   "outputs": [],
   "source": [
    "from haversine import haversine"
   ]
  },
  {
   "cell_type": "code",
   "execution_count": 68,
   "metadata": {},
   "outputs": [
    {
     "output_type": "execute_result",
     "data": {
      "text/plain": "                                                    (이디야커피, 대구광역시 북구 칠성동2가 20-1, 128.589799077132, 35.8852347042223)  \\\n(스타벅스동성로중앙점, 대구광역시 중구 삼덕동1가 17-11, 128.59667709...                                                NaN                  \n(스타벅스대구법원점, 대구광역시 수성구 범어동 2237, 128.62776958632...                                                NaN                  \n(스타벅스, 대구광역시 달서구 상인동 54-3, 128.533791042123, 35...                                                NaN                  \n(스타벅스, 대구광역시 달서구 용산동 410-9, 128.520117204754, 3...                                                NaN                  \n(스타벅스, 대구광역시 달성군 다사읍 매곡리 1546-7, 128.4642578269...                                                NaN                  \n...                                                                                               ...                  \n(스타벅스, 대구광역시 수성구 수성동3가 77, 128.620322658569, 35...                                                NaN                  \n(스타벅스, 대구광역시 북구 칠성동2가 371-5, 128.596147949831, ...                                                NaN                  \n(스타벅스, 대구광역시 달서구 상인동 620, 128.54104160408, 35.8...                                                NaN                  \n(스타벅스, 대구광역시 수성구 범어동 563-1, 128.624991860808, 3...                                                NaN                  \n(스타벅스, 대구광역시 중구 문화동 11-1, 128.598120429496, 35....                                                NaN                  \n\n                                                    (이디야커피, 대구광역시 달서구 신당동 1721-16, 128.493146693962, 35.8558274631559)  \\\n(스타벅스동성로중앙점, 대구광역시 중구 삼덕동1가 17-11, 128.59667709...                                                NaN                    \n(스타벅스대구법원점, 대구광역시 수성구 범어동 2237, 128.62776958632...                                                NaN                    \n(스타벅스, 대구광역시 달서구 상인동 54-3, 128.533791042123, 35...                                                NaN                    \n(스타벅스, 대구광역시 달서구 용산동 410-9, 128.520117204754, 3...                                                NaN                    \n(스타벅스, 대구광역시 달성군 다사읍 매곡리 1546-7, 128.4642578269...                                                NaN                    \n...                                                                                               ...                    \n(스타벅스, 대구광역시 수성구 수성동3가 77, 128.620322658569, 35...                                                NaN                    \n(스타벅스, 대구광역시 북구 칠성동2가 371-5, 128.596147949831, ...                                                NaN                    \n(스타벅스, 대구광역시 달서구 상인동 620, 128.54104160408, 35.8...                                                NaN                    \n(스타벅스, 대구광역시 수성구 범어동 563-1, 128.624991860808, 3...                                                NaN                    \n(스타벅스, 대구광역시 중구 문화동 11-1, 128.598120429496, 35....                                                NaN                    \n\n                                                    (이디야커피, 대구광역시 수성구 범어동 305-3, 128.634549791249, 35.8524870097051)  \\\n(스타벅스동성로중앙점, 대구광역시 중구 삼덕동1가 17-11, 128.59667709...                                                NaN                  \n(스타벅스대구법원점, 대구광역시 수성구 범어동 2237, 128.62776958632...                                                NaN                  \n(스타벅스, 대구광역시 달서구 상인동 54-3, 128.533791042123, 35...                                                NaN                  \n(스타벅스, 대구광역시 달서구 용산동 410-9, 128.520117204754, 3...                                                NaN                  \n(스타벅스, 대구광역시 달성군 다사읍 매곡리 1546-7, 128.4642578269...                                                NaN                  \n...                                                                                               ...                  \n(스타벅스, 대구광역시 수성구 수성동3가 77, 128.620322658569, 35...                                                NaN                  \n(스타벅스, 대구광역시 북구 칠성동2가 371-5, 128.596147949831, ...                                                NaN                  \n(스타벅스, 대구광역시 달서구 상인동 620, 128.54104160408, 35.8...                                                NaN                  \n(스타벅스, 대구광역시 수성구 범어동 563-1, 128.624991860808, 3...                                                NaN                  \n(스타벅스, 대구광역시 중구 문화동 11-1, 128.598120429496, 35....                                                NaN                  \n\n                                                    (이디야커피, 대구광역시 동구 신서동 528-2, 128.724505432206, 35.8673727879244)  \\\n(스타벅스동성로중앙점, 대구광역시 중구 삼덕동1가 17-11, 128.59667709...                                                NaN                 \n(스타벅스대구법원점, 대구광역시 수성구 범어동 2237, 128.62776958632...                                                NaN                 \n(스타벅스, 대구광역시 달서구 상인동 54-3, 128.533791042123, 35...                                                NaN                 \n(스타벅스, 대구광역시 달서구 용산동 410-9, 128.520117204754, 3...                                                NaN                 \n(스타벅스, 대구광역시 달성군 다사읍 매곡리 1546-7, 128.4642578269...                                                NaN                 \n...                                                                                               ...                 \n(스타벅스, 대구광역시 수성구 수성동3가 77, 128.620322658569, 35...                                                NaN                 \n(스타벅스, 대구광역시 북구 칠성동2가 371-5, 128.596147949831, ...                                                NaN                 \n(스타벅스, 대구광역시 달서구 상인동 620, 128.54104160408, 35.8...                                                NaN                 \n(스타벅스, 대구광역시 수성구 범어동 563-1, 128.624991860808, 3...                                                NaN                 \n(스타벅스, 대구광역시 중구 문화동 11-1, 128.598120429496, 35....                                                NaN                 \n\n                                                    (이디야커피, 대구광역시 남구 대명동 1676-5, 128.579709398771, 35.8427052913394)  \\\n(스타벅스동성로중앙점, 대구광역시 중구 삼덕동1가 17-11, 128.59667709...                                                NaN                  \n(스타벅스대구법원점, 대구광역시 수성구 범어동 2237, 128.62776958632...                                                NaN                  \n(스타벅스, 대구광역시 달서구 상인동 54-3, 128.533791042123, 35...                                                NaN                  \n(스타벅스, 대구광역시 달서구 용산동 410-9, 128.520117204754, 3...                                                NaN                  \n(스타벅스, 대구광역시 달성군 다사읍 매곡리 1546-7, 128.4642578269...                                                NaN                  \n...                                                                                               ...                  \n(스타벅스, 대구광역시 수성구 수성동3가 77, 128.620322658569, 35...                                                NaN                  \n(스타벅스, 대구광역시 북구 칠성동2가 371-5, 128.596147949831, ...                                                NaN                  \n(스타벅스, 대구광역시 달서구 상인동 620, 128.54104160408, 35.8...                                                NaN                  \n(스타벅스, 대구광역시 수성구 범어동 563-1, 128.624991860808, 3...                                                NaN                  \n(스타벅스, 대구광역시 중구 문화동 11-1, 128.598120429496, 35....                                                NaN                  \n\n                                                    (이디야커피, 대구광역시 수성구 신매동 10-8, 128.716409977141, 35.836497121501)  \\\n(스타벅스동성로중앙점, 대구광역시 중구 삼덕동1가 17-11, 128.59667709...                                                NaN                \n(스타벅스대구법원점, 대구광역시 수성구 범어동 2237, 128.62776958632...                                                NaN                \n(스타벅스, 대구광역시 달서구 상인동 54-3, 128.533791042123, 35...                                                NaN                \n(스타벅스, 대구광역시 달서구 용산동 410-9, 128.520117204754, 3...                                                NaN                \n(스타벅스, 대구광역시 달성군 다사읍 매곡리 1546-7, 128.4642578269...                                                NaN                \n...                                                                                               ...                \n(스타벅스, 대구광역시 수성구 수성동3가 77, 128.620322658569, 35...                                                NaN                \n(스타벅스, 대구광역시 북구 칠성동2가 371-5, 128.596147949831, ...                                                NaN                \n(스타벅스, 대구광역시 달서구 상인동 620, 128.54104160408, 35.8...                                                NaN                \n(스타벅스, 대구광역시 수성구 범어동 563-1, 128.624991860808, 3...                                                NaN                \n(스타벅스, 대구광역시 중구 문화동 11-1, 128.598120429496, 35....                                                NaN                \n\n                                                    (이디야커피, 대구광역시 북구 침산동 265-28, 128.592033333502, 35.8878014873204)  \\\n(스타벅스동성로중앙점, 대구광역시 중구 삼덕동1가 17-11, 128.59667709...                                                NaN                  \n(스타벅스대구법원점, 대구광역시 수성구 범어동 2237, 128.62776958632...                                                NaN                  \n(스타벅스, 대구광역시 달서구 상인동 54-3, 128.533791042123, 35...                                                NaN                  \n(스타벅스, 대구광역시 달서구 용산동 410-9, 128.520117204754, 3...                                                NaN                  \n(스타벅스, 대구광역시 달성군 다사읍 매곡리 1546-7, 128.4642578269...                                                NaN                  \n...                                                                                               ...                  \n(스타벅스, 대구광역시 수성구 수성동3가 77, 128.620322658569, 35...                                                NaN                  \n(스타벅스, 대구광역시 북구 칠성동2가 371-5, 128.596147949831, ...                                                NaN                  \n(스타벅스, 대구광역시 달서구 상인동 620, 128.54104160408, 35.8...                                                NaN                  \n(스타벅스, 대구광역시 수성구 범어동 563-1, 128.624991860808, 3...                                                NaN                  \n(스타벅스, 대구광역시 중구 문화동 11-1, 128.598120429496, 35....                                                NaN                  \n\n                                                    (이디야커피, 대구광역시 남구 대명동 1794-5, 128.590345729749, 35.8529196117904)  \\\n(스타벅스동성로중앙점, 대구광역시 중구 삼덕동1가 17-11, 128.59667709...                                                NaN                  \n(스타벅스대구법원점, 대구광역시 수성구 범어동 2237, 128.62776958632...                                                NaN                  \n(스타벅스, 대구광역시 달서구 상인동 54-3, 128.533791042123, 35...                                                NaN                  \n(스타벅스, 대구광역시 달서구 용산동 410-9, 128.520117204754, 3...                                                NaN                  \n(스타벅스, 대구광역시 달성군 다사읍 매곡리 1546-7, 128.4642578269...                                                NaN                  \n...                                                                                               ...                  \n(스타벅스, 대구광역시 수성구 수성동3가 77, 128.620322658569, 35...                                                NaN                  \n(스타벅스, 대구광역시 북구 칠성동2가 371-5, 128.596147949831, ...                                                NaN                  \n(스타벅스, 대구광역시 달서구 상인동 620, 128.54104160408, 35.8...                                                NaN                  \n(스타벅스, 대구광역시 수성구 범어동 563-1, 128.624991860808, 3...                                                NaN                  \n(스타벅스, 대구광역시 중구 문화동 11-1, 128.598120429496, 35....                                                NaN                  \n\n                                                    (이디야커피, 대구광역시 중구 종로1가 31-2, 128.59096549587, 35.8707898088375)  \\\n(스타벅스동성로중앙점, 대구광역시 중구 삼덕동1가 17-11, 128.59667709...                                                NaN                \n(스타벅스대구법원점, 대구광역시 수성구 범어동 2237, 128.62776958632...                                                NaN                \n(스타벅스, 대구광역시 달서구 상인동 54-3, 128.533791042123, 35...                                                NaN                \n(스타벅스, 대구광역시 달서구 용산동 410-9, 128.520117204754, 3...                                                NaN                \n(스타벅스, 대구광역시 달성군 다사읍 매곡리 1546-7, 128.4642578269...                                                NaN                \n...                                                                                               ...                \n(스타벅스, 대구광역시 수성구 수성동3가 77, 128.620322658569, 35...                                                NaN                \n(스타벅스, 대구광역시 북구 칠성동2가 371-5, 128.596147949831, ...                                                NaN                \n(스타벅스, 대구광역시 달서구 상인동 620, 128.54104160408, 35.8...                                                NaN                \n(스타벅스, 대구광역시 수성구 범어동 563-1, 128.624991860808, 3...                                                NaN                \n(스타벅스, 대구광역시 중구 문화동 11-1, 128.598120429496, 35....                                                NaN                \n\n                                                    (이디야커피, 대구광역시 북구 태전동 940-8, 128.548032650865, 35.931877463765)  \\\n(스타벅스동성로중앙점, 대구광역시 중구 삼덕동1가 17-11, 128.59667709...                                                NaN                \n(스타벅스대구법원점, 대구광역시 수성구 범어동 2237, 128.62776958632...                                                NaN                \n(스타벅스, 대구광역시 달서구 상인동 54-3, 128.533791042123, 35...                                                NaN                \n(스타벅스, 대구광역시 달서구 용산동 410-9, 128.520117204754, 3...                                                NaN                \n(스타벅스, 대구광역시 달성군 다사읍 매곡리 1546-7, 128.4642578269...                                                NaN                \n...                                                                                               ...                \n(스타벅스, 대구광역시 수성구 수성동3가 77, 128.620322658569, 35...                                                NaN                \n(스타벅스, 대구광역시 북구 칠성동2가 371-5, 128.596147949831, ...                                                NaN                \n(스타벅스, 대구광역시 달서구 상인동 620, 128.54104160408, 35.8...                                                NaN                \n(스타벅스, 대구광역시 수성구 범어동 563-1, 128.624991860808, 3...                                                NaN                \n(스타벅스, 대구광역시 중구 문화동 11-1, 128.598120429496, 35....                                                NaN                \n\n                                                    ...  \\\n(스타벅스동성로중앙점, 대구광역시 중구 삼덕동1가 17-11, 128.59667709...  ...   \n(스타벅스대구법원점, 대구광역시 수성구 범어동 2237, 128.62776958632...  ...   \n(스타벅스, 대구광역시 달서구 상인동 54-3, 128.533791042123, 35...  ...   \n(스타벅스, 대구광역시 달서구 용산동 410-9, 128.520117204754, 3...  ...   \n(스타벅스, 대구광역시 달성군 다사읍 매곡리 1546-7, 128.4642578269...  ...   \n...                                                 ...   \n(스타벅스, 대구광역시 수성구 수성동3가 77, 128.620322658569, 35...  ...   \n(스타벅스, 대구광역시 북구 칠성동2가 371-5, 128.596147949831, ...  ...   \n(스타벅스, 대구광역시 달서구 상인동 620, 128.54104160408, 35.8...  ...   \n(스타벅스, 대구광역시 수성구 범어동 563-1, 128.624991860808, 3...  ...   \n(스타벅스, 대구광역시 중구 문화동 11-1, 128.598120429496, 35....  ...   \n\n                                                    (이디야커피, 대구광역시 달성군 유가면 봉리 615, 128.461150900828, 35.6932531886948)  \\\n(스타벅스동성로중앙점, 대구광역시 중구 삼덕동1가 17-11, 128.59667709...                                                NaN                   \n(스타벅스대구법원점, 대구광역시 수성구 범어동 2237, 128.62776958632...                                                NaN                   \n(스타벅스, 대구광역시 달서구 상인동 54-3, 128.533791042123, 35...                                                NaN                   \n(스타벅스, 대구광역시 달서구 용산동 410-9, 128.520117204754, 3...                                                NaN                   \n(스타벅스, 대구광역시 달성군 다사읍 매곡리 1546-7, 128.4642578269...                                                NaN                   \n...                                                                                               ...                   \n(스타벅스, 대구광역시 수성구 수성동3가 77, 128.620322658569, 35...                                                NaN                   \n(스타벅스, 대구광역시 북구 칠성동2가 371-5, 128.596147949831, ...                                                NaN                   \n(스타벅스, 대구광역시 달서구 상인동 620, 128.54104160408, 35.8...                                                NaN                   \n(스타벅스, 대구광역시 수성구 범어동 563-1, 128.624991860808, 3...                                                NaN                   \n(스타벅스, 대구광역시 중구 문화동 11-1, 128.598120429496, 35....                                                NaN                   \n\n                                                    (이디야커피, 대구광역시 동구 각산동 1033-2, 128.713809969594, 35.8786221263659)  \\\n(스타벅스동성로중앙점, 대구광역시 중구 삼덕동1가 17-11, 128.59667709...                                                NaN                  \n(스타벅스대구법원점, 대구광역시 수성구 범어동 2237, 128.62776958632...                                                NaN                  \n(스타벅스, 대구광역시 달서구 상인동 54-3, 128.533791042123, 35...                                                NaN                  \n(스타벅스, 대구광역시 달서구 용산동 410-9, 128.520117204754, 3...                                                NaN                  \n(스타벅스, 대구광역시 달성군 다사읍 매곡리 1546-7, 128.4642578269...                                                NaN                  \n...                                                                                               ...                  \n(스타벅스, 대구광역시 수성구 수성동3가 77, 128.620322658569, 35...                                                NaN                  \n(스타벅스, 대구광역시 북구 칠성동2가 371-5, 128.596147949831, ...                                                NaN                  \n(스타벅스, 대구광역시 달서구 상인동 620, 128.54104160408, 35.8...                                                NaN                  \n(스타벅스, 대구광역시 수성구 범어동 563-1, 128.624991860808, 3...                                                NaN                  \n(스타벅스, 대구광역시 중구 문화동 11-1, 128.598120429496, 35....                                                NaN                  \n\n                                                    (이디야커피대구송현점, 대구광역시 달서구 송현동 635, 128.549403783074, 35.8287869183019)  \\\n(스타벅스동성로중앙점, 대구광역시 중구 삼덕동1가 17-11, 128.59667709...                                                NaN                     \n(스타벅스대구법원점, 대구광역시 수성구 범어동 2237, 128.62776958632...                                                NaN                     \n(스타벅스, 대구광역시 달서구 상인동 54-3, 128.533791042123, 35...                                                NaN                     \n(스타벅스, 대구광역시 달서구 용산동 410-9, 128.520117204754, 3...                                                NaN                     \n(스타벅스, 대구광역시 달성군 다사읍 매곡리 1546-7, 128.4642578269...                                                NaN                     \n...                                                                                               ...                     \n(스타벅스, 대구광역시 수성구 수성동3가 77, 128.620322658569, 35...                                                NaN                     \n(스타벅스, 대구광역시 북구 칠성동2가 371-5, 128.596147949831, ...                                                NaN                     \n(스타벅스, 대구광역시 달서구 상인동 620, 128.54104160408, 35.8...                                                NaN                     \n(스타벅스, 대구광역시 수성구 범어동 563-1, 128.624991860808, 3...                                                NaN                     \n(스타벅스, 대구광역시 중구 문화동 11-1, 128.598120429496, 35....                                                NaN                     \n\n                                                    (이디야커피, 대구광역시 북구 칠성동2가 82-2, 128.589371642991, 35.8798649325755)  \\\n(스타벅스동성로중앙점, 대구광역시 중구 삼덕동1가 17-11, 128.59667709...                                                NaN                  \n(스타벅스대구법원점, 대구광역시 수성구 범어동 2237, 128.62776958632...                                                NaN                  \n(스타벅스, 대구광역시 달서구 상인동 54-3, 128.533791042123, 35...                                                NaN                  \n(스타벅스, 대구광역시 달서구 용산동 410-9, 128.520117204754, 3...                                                NaN                  \n(스타벅스, 대구광역시 달성군 다사읍 매곡리 1546-7, 128.4642578269...                                                NaN                  \n...                                                                                               ...                  \n(스타벅스, 대구광역시 수성구 수성동3가 77, 128.620322658569, 35...                                                NaN                  \n(스타벅스, 대구광역시 북구 칠성동2가 371-5, 128.596147949831, ...                                                NaN                  \n(스타벅스, 대구광역시 달서구 상인동 620, 128.54104160408, 35.8...                                                NaN                  \n(스타벅스, 대구광역시 수성구 범어동 563-1, 128.624991860808, 3...                                                NaN                  \n(스타벅스, 대구광역시 중구 문화동 11-1, 128.598120429496, 35....                                                NaN                  \n\n                                                    (이디야커피, 대구광역시 중구 동인동1가 358-2, 128.604904647572, 35.8718921512586)  \\\n(스타벅스동성로중앙점, 대구광역시 중구 삼덕동1가 17-11, 128.59667709...                                                NaN                   \n(스타벅스대구법원점, 대구광역시 수성구 범어동 2237, 128.62776958632...                                                NaN                   \n(스타벅스, 대구광역시 달서구 상인동 54-3, 128.533791042123, 35...                                                NaN                   \n(스타벅스, 대구광역시 달서구 용산동 410-9, 128.520117204754, 3...                                                NaN                   \n(스타벅스, 대구광역시 달성군 다사읍 매곡리 1546-7, 128.4642578269...                                                NaN                   \n...                                                                                               ...                   \n(스타벅스, 대구광역시 수성구 수성동3가 77, 128.620322658569, 35...                                                NaN                   \n(스타벅스, 대구광역시 북구 칠성동2가 371-5, 128.596147949831, ...                                                NaN                   \n(스타벅스, 대구광역시 달서구 상인동 620, 128.54104160408, 35.8...                                                NaN                   \n(스타벅스, 대구광역시 수성구 범어동 563-1, 128.624991860808, 3...                                                NaN                   \n(스타벅스, 대구광역시 중구 문화동 11-1, 128.598120429496, 35....                                                NaN                   \n\n                                                    (이디야커피, 대구광역시 중구 동인동2가 221, 128.606331446311, 35.8687573736221)  \\\n(스타벅스동성로중앙점, 대구광역시 중구 삼덕동1가 17-11, 128.59667709...                                                NaN                 \n(스타벅스대구법원점, 대구광역시 수성구 범어동 2237, 128.62776958632...                                                NaN                 \n(스타벅스, 대구광역시 달서구 상인동 54-3, 128.533791042123, 35...                                                NaN                 \n(스타벅스, 대구광역시 달서구 용산동 410-9, 128.520117204754, 3...                                                NaN                 \n(스타벅스, 대구광역시 달성군 다사읍 매곡리 1546-7, 128.4642578269...                                                NaN                 \n...                                                                                               ...                 \n(스타벅스, 대구광역시 수성구 수성동3가 77, 128.620322658569, 35...                                                NaN                 \n(스타벅스, 대구광역시 북구 칠성동2가 371-5, 128.596147949831, ...                                                NaN                 \n(스타벅스, 대구광역시 달서구 상인동 620, 128.54104160408, 35.8...                                                NaN                 \n(스타벅스, 대구광역시 수성구 범어동 563-1, 128.624991860808, 3...                                                NaN                 \n(스타벅스, 대구광역시 중구 문화동 11-1, 128.598120429496, 35....                                                NaN                 \n\n                                                    (이디야커피, 대구광역시 북구 산격동 1667, 128.609675334912, 35.9062893844515)  \\\n(스타벅스동성로중앙점, 대구광역시 중구 삼덕동1가 17-11, 128.59667709...                                                NaN                \n(스타벅스대구법원점, 대구광역시 수성구 범어동 2237, 128.62776958632...                                                NaN                \n(스타벅스, 대구광역시 달서구 상인동 54-3, 128.533791042123, 35...                                                NaN                \n(스타벅스, 대구광역시 달서구 용산동 410-9, 128.520117204754, 3...                                                NaN                \n(스타벅스, 대구광역시 달성군 다사읍 매곡리 1546-7, 128.4642578269...                                                NaN                \n...                                                                                               ...                \n(스타벅스, 대구광역시 수성구 수성동3가 77, 128.620322658569, 35...                                                NaN                \n(스타벅스, 대구광역시 북구 칠성동2가 371-5, 128.596147949831, ...                                                NaN                \n(스타벅스, 대구광역시 달서구 상인동 620, 128.54104160408, 35.8...                                                NaN                \n(스타벅스, 대구광역시 수성구 범어동 563-1, 128.624991860808, 3...                                                NaN                \n(스타벅스, 대구광역시 중구 문화동 11-1, 128.598120429496, 35....                                                NaN                \n\n                                                    (이디야커피, 대구광역시 동구 신암동 294, 128.628726138595, 35.8790975727776)  \\\n(스타벅스동성로중앙점, 대구광역시 중구 삼덕동1가 17-11, 128.59667709...                                                NaN               \n(스타벅스대구법원점, 대구광역시 수성구 범어동 2237, 128.62776958632...                                                NaN               \n(스타벅스, 대구광역시 달서구 상인동 54-3, 128.533791042123, 35...                                                NaN               \n(스타벅스, 대구광역시 달서구 용산동 410-9, 128.520117204754, 3...                                                NaN               \n(스타벅스, 대구광역시 달성군 다사읍 매곡리 1546-7, 128.4642578269...                                                NaN               \n...                                                                                               ...               \n(스타벅스, 대구광역시 수성구 수성동3가 77, 128.620322658569, 35...                                                NaN               \n(스타벅스, 대구광역시 북구 칠성동2가 371-5, 128.596147949831, ...                                                NaN               \n(스타벅스, 대구광역시 달서구 상인동 620, 128.54104160408, 35.8...                                                NaN               \n(스타벅스, 대구광역시 수성구 범어동 563-1, 128.624991860808, 3...                                                NaN               \n(스타벅스, 대구광역시 중구 문화동 11-1, 128.598120429496, 35....                                                NaN               \n\n                                                    (이디야커피, 대구광역시 남구 대명동 160-1, 128.586059492804, 35.8451711663362)  \\\n(스타벅스동성로중앙점, 대구광역시 중구 삼덕동1가 17-11, 128.59667709...                                                NaN                 \n(스타벅스대구법원점, 대구광역시 수성구 범어동 2237, 128.62776958632...                                                NaN                 \n(스타벅스, 대구광역시 달서구 상인동 54-3, 128.533791042123, 35...                                                NaN                 \n(스타벅스, 대구광역시 달서구 용산동 410-9, 128.520117204754, 3...                                                NaN                 \n(스타벅스, 대구광역시 달성군 다사읍 매곡리 1546-7, 128.4642578269...                                                NaN                 \n...                                                                                               ...                 \n(스타벅스, 대구광역시 수성구 수성동3가 77, 128.620322658569, 35...                                                NaN                 \n(스타벅스, 대구광역시 북구 칠성동2가 371-5, 128.596147949831, ...                                                NaN                 \n(스타벅스, 대구광역시 달서구 상인동 620, 128.54104160408, 35.8...                                                NaN                 \n(스타벅스, 대구광역시 수성구 범어동 563-1, 128.624991860808, 3...                                                NaN                 \n(스타벅스, 대구광역시 중구 문화동 11-1, 128.598120429496, 35....                                                NaN                 \n\n                                                    (이디아커피시지점, 대구광역시 수성구 신매동 566-3, 128.704075090028, 35.8397877301189)  \n(스타벅스동성로중앙점, 대구광역시 중구 삼덕동1가 17-11, 128.59667709...                                                NaN                    \n(스타벅스대구법원점, 대구광역시 수성구 범어동 2237, 128.62776958632...                                                NaN                    \n(스타벅스, 대구광역시 달서구 상인동 54-3, 128.533791042123, 35...                                                NaN                    \n(스타벅스, 대구광역시 달서구 용산동 410-9, 128.520117204754, 3...                                                NaN                    \n(스타벅스, 대구광역시 달성군 다사읍 매곡리 1546-7, 128.4642578269...                                                NaN                    \n...                                                                                               ...                    \n(스타벅스, 대구광역시 수성구 수성동3가 77, 128.620322658569, 35...                                                NaN                    \n(스타벅스, 대구광역시 북구 칠성동2가 371-5, 128.596147949831, ...                                                NaN                    \n(스타벅스, 대구광역시 달서구 상인동 620, 128.54104160408, 35.8...                                                NaN                    \n(스타벅스, 대구광역시 수성구 범어동 563-1, 128.624991860808, 3...                                                NaN                    \n(스타벅스, 대구광역시 중구 문화동 11-1, 128.598120429496, 35....                                                NaN                    \n\n[72 rows x 35 columns]",
      "text/html": "<div>\n<style scoped>\n    .dataframe tbody tr th:only-of-type {\n        vertical-align: middle;\n    }\n\n    .dataframe tbody tr th {\n        vertical-align: top;\n    }\n\n    .dataframe thead th {\n        text-align: right;\n    }\n</style>\n<table border=\"1\" class=\"dataframe\">\n  <thead>\n    <tr style=\"text-align: right;\">\n      <th></th>\n      <th>(이디야커피, 대구광역시 북구 칠성동2가 20-1, 128.589799077132, 35.8852347042223)</th>\n      <th>(이디야커피, 대구광역시 달서구 신당동 1721-16, 128.493146693962, 35.8558274631559)</th>\n      <th>(이디야커피, 대구광역시 수성구 범어동 305-3, 128.634549791249, 35.8524870097051)</th>\n      <th>(이디야커피, 대구광역시 동구 신서동 528-2, 128.724505432206, 35.8673727879244)</th>\n      <th>(이디야커피, 대구광역시 남구 대명동 1676-5, 128.579709398771, 35.8427052913394)</th>\n      <th>(이디야커피, 대구광역시 수성구 신매동 10-8, 128.716409977141, 35.836497121501)</th>\n      <th>(이디야커피, 대구광역시 북구 침산동 265-28, 128.592033333502, 35.8878014873204)</th>\n      <th>(이디야커피, 대구광역시 남구 대명동 1794-5, 128.590345729749, 35.8529196117904)</th>\n      <th>(이디야커피, 대구광역시 중구 종로1가 31-2, 128.59096549587, 35.8707898088375)</th>\n      <th>(이디야커피, 대구광역시 북구 태전동 940-8, 128.548032650865, 35.931877463765)</th>\n      <th>...</th>\n      <th>(이디야커피, 대구광역시 달성군 유가면 봉리 615, 128.461150900828, 35.6932531886948)</th>\n      <th>(이디야커피, 대구광역시 동구 각산동 1033-2, 128.713809969594, 35.8786221263659)</th>\n      <th>(이디야커피대구송현점, 대구광역시 달서구 송현동 635, 128.549403783074, 35.8287869183019)</th>\n      <th>(이디야커피, 대구광역시 북구 칠성동2가 82-2, 128.589371642991, 35.8798649325755)</th>\n      <th>(이디야커피, 대구광역시 중구 동인동1가 358-2, 128.604904647572, 35.8718921512586)</th>\n      <th>(이디야커피, 대구광역시 중구 동인동2가 221, 128.606331446311, 35.8687573736221)</th>\n      <th>(이디야커피, 대구광역시 북구 산격동 1667, 128.609675334912, 35.9062893844515)</th>\n      <th>(이디야커피, 대구광역시 동구 신암동 294, 128.628726138595, 35.8790975727776)</th>\n      <th>(이디야커피, 대구광역시 남구 대명동 160-1, 128.586059492804, 35.8451711663362)</th>\n      <th>(이디아커피시지점, 대구광역시 수성구 신매동 566-3, 128.704075090028, 35.8397877301189)</th>\n    </tr>\n  </thead>\n  <tbody>\n    <tr>\n      <th>(스타벅스동성로중앙점, 대구광역시 중구 삼덕동1가 17-11, 128.5966770941, 35.8675078052018)</th>\n      <td>NaN</td>\n      <td>NaN</td>\n      <td>NaN</td>\n      <td>NaN</td>\n      <td>NaN</td>\n      <td>NaN</td>\n      <td>NaN</td>\n      <td>NaN</td>\n      <td>NaN</td>\n      <td>NaN</td>\n      <td>...</td>\n      <td>NaN</td>\n      <td>NaN</td>\n      <td>NaN</td>\n      <td>NaN</td>\n      <td>NaN</td>\n      <td>NaN</td>\n      <td>NaN</td>\n      <td>NaN</td>\n      <td>NaN</td>\n      <td>NaN</td>\n    </tr>\n    <tr>\n      <th>(스타벅스대구법원점, 대구광역시 수성구 범어동 2237, 128.627769586325, 35.8645372444603)</th>\n      <td>NaN</td>\n      <td>NaN</td>\n      <td>NaN</td>\n      <td>NaN</td>\n      <td>NaN</td>\n      <td>NaN</td>\n      <td>NaN</td>\n      <td>NaN</td>\n      <td>NaN</td>\n      <td>NaN</td>\n      <td>...</td>\n      <td>NaN</td>\n      <td>NaN</td>\n      <td>NaN</td>\n      <td>NaN</td>\n      <td>NaN</td>\n      <td>NaN</td>\n      <td>NaN</td>\n      <td>NaN</td>\n      <td>NaN</td>\n      <td>NaN</td>\n    </tr>\n    <tr>\n      <th>(스타벅스, 대구광역시 달서구 상인동 54-3, 128.533791042123, 35.8227913056608)</th>\n      <td>NaN</td>\n      <td>NaN</td>\n      <td>NaN</td>\n      <td>NaN</td>\n      <td>NaN</td>\n      <td>NaN</td>\n      <td>NaN</td>\n      <td>NaN</td>\n      <td>NaN</td>\n      <td>NaN</td>\n      <td>...</td>\n      <td>NaN</td>\n      <td>NaN</td>\n      <td>NaN</td>\n      <td>NaN</td>\n      <td>NaN</td>\n      <td>NaN</td>\n      <td>NaN</td>\n      <td>NaN</td>\n      <td>NaN</td>\n      <td>NaN</td>\n    </tr>\n    <tr>\n      <th>(스타벅스, 대구광역시 달서구 용산동 410-9, 128.520117204754, 35.8507113771614)</th>\n      <td>NaN</td>\n      <td>NaN</td>\n      <td>NaN</td>\n      <td>NaN</td>\n      <td>NaN</td>\n      <td>NaN</td>\n      <td>NaN</td>\n      <td>NaN</td>\n      <td>NaN</td>\n      <td>NaN</td>\n      <td>...</td>\n      <td>NaN</td>\n      <td>NaN</td>\n      <td>NaN</td>\n      <td>NaN</td>\n      <td>NaN</td>\n      <td>NaN</td>\n      <td>NaN</td>\n      <td>NaN</td>\n      <td>NaN</td>\n      <td>NaN</td>\n    </tr>\n    <tr>\n      <th>(스타벅스, 대구광역시 달성군 다사읍 매곡리 1546-7, 128.464257826967, 35.8591602989892)</th>\n      <td>NaN</td>\n      <td>NaN</td>\n      <td>NaN</td>\n      <td>NaN</td>\n      <td>NaN</td>\n      <td>NaN</td>\n      <td>NaN</td>\n      <td>NaN</td>\n      <td>NaN</td>\n      <td>NaN</td>\n      <td>...</td>\n      <td>NaN</td>\n      <td>NaN</td>\n      <td>NaN</td>\n      <td>NaN</td>\n      <td>NaN</td>\n      <td>NaN</td>\n      <td>NaN</td>\n      <td>NaN</td>\n      <td>NaN</td>\n      <td>NaN</td>\n    </tr>\n    <tr>\n      <th>...</th>\n      <td>...</td>\n      <td>...</td>\n      <td>...</td>\n      <td>...</td>\n      <td>...</td>\n      <td>...</td>\n      <td>...</td>\n      <td>...</td>\n      <td>...</td>\n      <td>...</td>\n      <td>...</td>\n      <td>...</td>\n      <td>...</td>\n      <td>...</td>\n      <td>...</td>\n      <td>...</td>\n      <td>...</td>\n      <td>...</td>\n      <td>...</td>\n      <td>...</td>\n      <td>...</td>\n    </tr>\n    <tr>\n      <th>(스타벅스, 대구광역시 수성구 수성동3가 77, 128.620322658569, 35.8538231490581)</th>\n      <td>NaN</td>\n      <td>NaN</td>\n      <td>NaN</td>\n      <td>NaN</td>\n      <td>NaN</td>\n      <td>NaN</td>\n      <td>NaN</td>\n      <td>NaN</td>\n      <td>NaN</td>\n      <td>NaN</td>\n      <td>...</td>\n      <td>NaN</td>\n      <td>NaN</td>\n      <td>NaN</td>\n      <td>NaN</td>\n      <td>NaN</td>\n      <td>NaN</td>\n      <td>NaN</td>\n      <td>NaN</td>\n      <td>NaN</td>\n      <td>NaN</td>\n    </tr>\n    <tr>\n      <th>(스타벅스, 대구광역시 북구 칠성동2가 371-5, 128.596147949831, 35.8796512312154)</th>\n      <td>NaN</td>\n      <td>NaN</td>\n      <td>NaN</td>\n      <td>NaN</td>\n      <td>NaN</td>\n      <td>NaN</td>\n      <td>NaN</td>\n      <td>NaN</td>\n      <td>NaN</td>\n      <td>NaN</td>\n      <td>...</td>\n      <td>NaN</td>\n      <td>NaN</td>\n      <td>NaN</td>\n      <td>NaN</td>\n      <td>NaN</td>\n      <td>NaN</td>\n      <td>NaN</td>\n      <td>NaN</td>\n      <td>NaN</td>\n      <td>NaN</td>\n    </tr>\n    <tr>\n      <th>(스타벅스, 대구광역시 달서구 상인동 620, 128.54104160408, 35.8148722321362)</th>\n      <td>NaN</td>\n      <td>NaN</td>\n      <td>NaN</td>\n      <td>NaN</td>\n      <td>NaN</td>\n      <td>NaN</td>\n      <td>NaN</td>\n      <td>NaN</td>\n      <td>NaN</td>\n      <td>NaN</td>\n      <td>...</td>\n      <td>NaN</td>\n      <td>NaN</td>\n      <td>NaN</td>\n      <td>NaN</td>\n      <td>NaN</td>\n      <td>NaN</td>\n      <td>NaN</td>\n      <td>NaN</td>\n      <td>NaN</td>\n      <td>NaN</td>\n    </tr>\n    <tr>\n      <th>(스타벅스, 대구광역시 수성구 범어동 563-1, 128.624991860808, 35.8576836543237)</th>\n      <td>NaN</td>\n      <td>NaN</td>\n      <td>NaN</td>\n      <td>NaN</td>\n      <td>NaN</td>\n      <td>NaN</td>\n      <td>NaN</td>\n      <td>NaN</td>\n      <td>NaN</td>\n      <td>NaN</td>\n      <td>...</td>\n      <td>NaN</td>\n      <td>NaN</td>\n      <td>NaN</td>\n      <td>NaN</td>\n      <td>NaN</td>\n      <td>NaN</td>\n      <td>NaN</td>\n      <td>NaN</td>\n      <td>NaN</td>\n      <td>NaN</td>\n    </tr>\n    <tr>\n      <th>(스타벅스, 대구광역시 중구 문화동 11-1, 128.598120429496, 35.8709617047047)</th>\n      <td>NaN</td>\n      <td>NaN</td>\n      <td>NaN</td>\n      <td>NaN</td>\n      <td>NaN</td>\n      <td>NaN</td>\n      <td>NaN</td>\n      <td>NaN</td>\n      <td>NaN</td>\n      <td>NaN</td>\n      <td>...</td>\n      <td>NaN</td>\n      <td>NaN</td>\n      <td>NaN</td>\n      <td>NaN</td>\n      <td>NaN</td>\n      <td>NaN</td>\n      <td>NaN</td>\n      <td>NaN</td>\n      <td>NaN</td>\n      <td>NaN</td>\n    </tr>\n  </tbody>\n</table>\n<p>72 rows × 35 columns</p>\n</div>"
     },
     "metadata": {},
     "execution_count": 68
    }
   ],
   "source": [
    "Dis = pd.DataFrame(np.nan,Star,Ediya)\n",
    "Dis"
   ]
  },
  {
   "cell_type": "code",
   "execution_count": 72,
   "metadata": {},
   "outputs": [],
   "source": [
    "for i in range(len(Star)):\n",
    "    for j in range(len(Ediya)):\n",
    "        Dis.iloc[i][j] = haversine(tuple(Star.iloc[i][2:]), tuple(Ediya.iloc[j][2:])) * 1000"
   ]
  },
  {
   "cell_type": "code",
   "execution_count": 93,
   "metadata": {
    "tags": []
   },
   "outputs": [
    {
     "output_type": "stream",
     "name": "stdout",
     "text": "<class 'pandas.core.frame.DataFrame'>\nIndex: 72 entries, ('스타벅스동성로중앙점', '대구광역시 중구 삼덕동1가 17-11', 128.5966770941, 35.8675078052018) to ('스타벅스', '대구광역시 중구 문화동 11-1', 128.598120429496, 35.8709617047047)\nData columns (total 35 columns):\n #   Column                                                                 Non-Null Count  Dtype\n---  ------                                                                 --------------  -----\n 0   (이디야커피, 대구광역시 북구 칠성동2가 20-1, 128.589799077132, 35.8852347042223)       72 non-null     bool \n 1   (이디야커피, 대구광역시 달서구 신당동 1721-16, 128.493146693962, 35.8558274631559)     72 non-null     bool \n 2   (이디야커피, 대구광역시 수성구 범어동 305-3, 128.634549791249, 35.8524870097051)       72 non-null     bool \n 3   (이디야커피, 대구광역시 동구 신서동 528-2, 128.724505432206, 35.8673727879244)        72 non-null     bool \n 4   (이디야커피, 대구광역시 남구 대명동 1676-5, 128.579709398771, 35.8427052913394)       72 non-null     bool \n 5   (이디야커피, 대구광역시 수성구 신매동 10-8, 128.716409977141, 35.836497121501)         72 non-null     bool \n 6   (이디야커피, 대구광역시 북구 침산동 265-28, 128.592033333502, 35.8878014873204)       72 non-null     bool \n 7   (이디야커피, 대구광역시 남구 대명동 1794-5, 128.590345729749, 35.8529196117904)       72 non-null     bool \n 8   (이디야커피, 대구광역시 중구 종로1가 31-2, 128.59096549587, 35.8707898088375)         72 non-null     bool \n 9   (이디야커피, 대구광역시 북구 태전동 940-8, 128.548032650865, 35.931877463765)         72 non-null     bool \n 10  (이디야커피, 대구광역시 중구 삼덕동2가 40-2, 128.603301340941, 35.8663660981559)       72 non-null     bool \n 11  (이디야커피, 대구광역시 수성구 범어동 1-1, 128.624211574012, 35.866899217171)          72 non-null     bool \n 12  (이디야커피, 대구광역시 달서구 진천동 833-20, 128.532068183499, 35.810063107142)       72 non-null     bool \n 13  (이디야커피, 대구광역시 수성구 욱수동 228-2, 128.708130160652, 35.8302369442292)       72 non-null     bool \n 14  (이디야커피대구종로점, 대구광역시 중구 남성로 92, 128.592014404019, 35.8673956728951)      72 non-null     bool \n 15  (이디야커피, 대구광역시 달성군 유가면 봉리 590, 128.460605789792, 35.6983749679353)      72 non-null     bool \n 16  (이디야커피대명동점, 대구광역시 남구 대명동 1676-8, 128.579750528588, 35.8422724560256)   72 non-null     bool \n 17  (이디야커피대구봉덕점, 대구광역시 남구 봉덕동 617-13, 128.598394612873, 35.8426137059987)  72 non-null     bool \n 18  (이디야커피, 대구광역시 북구 태전동 253-5, 128.543967061172, 35.9256408224078)        72 non-null     bool \n 19  (이디야커피, 대구광역시 북구 대현동 227-11, 128.606426194397, 35.8840973692704)       72 non-null     bool \n 20  (이디야커피, 대구광역시 달성군 옥포면 교항리 2915, 128.441569604244, 35.7809917927259)    72 non-null     bool \n 21  (이디야커피, 대구광역시 달서구 상인동 1595-7, 128.532407332608, 35.8227433622998)      72 non-null     bool \n 22  (이디야커피, 대구광역시 달서구 진천동 553, 128.525558900439, 35.8163469958344)         72 non-null     bool \n 23  (이디야커피, 대구광역시 동구 신서동 1147-1, 128.7309920841, 35.8791857705464)         72 non-null     bool \n 24  (이디야커피, 대구광역시 달서구 이곡동 1250-14, 128.512324425376, 35.8543411546225)     72 non-null     bool \n 25  (이디야커피, 대구광역시 달성군 유가면 봉리 615, 128.461150900828, 35.6932531886948)      72 non-null     bool \n 26  (이디야커피, 대구광역시 동구 각산동 1033-2, 128.713809969594, 35.8786221263659)       72 non-null     bool \n 27  (이디야커피대구송현점, 대구광역시 달서구 송현동 635, 128.549403783074, 35.8287869183019)    72 non-null     bool \n 28  (이디야커피, 대구광역시 북구 칠성동2가 82-2, 128.589371642991, 35.8798649325755)       72 non-null     bool \n 29  (이디야커피, 대구광역시 중구 동인동1가 358-2, 128.604904647572, 35.8718921512586)      72 non-null     bool \n 30  (이디야커피, 대구광역시 중구 동인동2가 221, 128.606331446311, 35.8687573736221)        72 non-null     bool \n 31  (이디야커피, 대구광역시 북구 산격동 1667, 128.609675334912, 35.9062893844515)         72 non-null     bool \n 32  (이디야커피, 대구광역시 동구 신암동 294, 128.628726138595, 35.8790975727776)          72 non-null     bool \n 33  (이디야커피, 대구광역시 남구 대명동 160-1, 128.586059492804, 35.8451711663362)        72 non-null     bool \n 34  (이디아커피시지점, 대구광역시 수성구 신매동 566-3, 128.704075090028, 35.8397877301189)    72 non-null     bool \ndtypes: bool(35)\nmemory usage: 3.0+ KB\n"
    }
   ],
   "source": [
    "A = Dis<100\n",
    "A.info()"
   ]
  },
  {
   "cell_type": "code",
   "execution_count": 94,
   "metadata": {},
   "outputs": [
    {
     "output_type": "execute_result",
     "data": {
      "text/plain": "(이디야커피, 대구광역시 북구 칠성동2가 20-1, 128.589799077132, 35.8852347042223)         0\n(이디야커피, 대구광역시 달서구 신당동 1721-16, 128.493146693962, 35.8558274631559)       1\n(이디야커피, 대구광역시 수성구 범어동 305-3, 128.634549791249, 35.8524870097051)         0\n(이디야커피, 대구광역시 동구 신서동 528-2, 128.724505432206, 35.8673727879244)          0\n(이디야커피, 대구광역시 남구 대명동 1676-5, 128.579709398771, 35.8427052913394)         0\n(이디야커피, 대구광역시 수성구 신매동 10-8, 128.716409977141, 35.836497121501)           0\n(이디야커피, 대구광역시 북구 침산동 265-28, 128.592033333502, 35.8878014873204)         1\n(이디야커피, 대구광역시 남구 대명동 1794-5, 128.590345729749, 35.8529196117904)         0\n(이디야커피, 대구광역시 중구 종로1가 31-2, 128.59096549587, 35.8707898088375)           0\n(이디야커피, 대구광역시 북구 태전동 940-8, 128.548032650865, 35.931877463765)           0\n(이디야커피, 대구광역시 중구 삼덕동2가 40-2, 128.603301340941, 35.8663660981559)         0\n(이디야커피, 대구광역시 수성구 범어동 1-1, 128.624211574012, 35.866899217171)            0\n(이디야커피, 대구광역시 달서구 진천동 833-20, 128.532068183499, 35.810063107142)         0\n(이디야커피, 대구광역시 수성구 욱수동 228-2, 128.708130160652, 35.8302369442292)         0\n(이디야커피대구종로점, 대구광역시 중구 남성로 92, 128.592014404019, 35.8673956728951)        1\n(이디야커피, 대구광역시 달성군 유가면 봉리 590, 128.460605789792, 35.6983749679353)        0\n(이디야커피대명동점, 대구광역시 남구 대명동 1676-8, 128.579750528588, 35.8422724560256)     0\n(이디야커피대구봉덕점, 대구광역시 남구 봉덕동 617-13, 128.598394612873, 35.8426137059987)    0\n(이디야커피, 대구광역시 북구 태전동 253-5, 128.543967061172, 35.9256408224078)          0\n(이디야커피, 대구광역시 북구 대현동 227-11, 128.606426194397, 35.8840973692704)         0\n(이디야커피, 대구광역시 달성군 옥포면 교항리 2915, 128.441569604244, 35.7809917927259)      0\n(이디야커피, 대구광역시 달서구 상인동 1595-7, 128.532407332608, 35.8227433622998)        0\n(이디야커피, 대구광역시 달서구 진천동 553, 128.525558900439, 35.8163469958344)           0\n(이디야커피, 대구광역시 동구 신서동 1147-1, 128.7309920841, 35.8791857705464)           0\n(이디야커피, 대구광역시 달서구 이곡동 1250-14, 128.512324425376, 35.8543411546225)       0\n(이디야커피, 대구광역시 달성군 유가면 봉리 615, 128.461150900828, 35.6932531886948)        0\n(이디야커피, 대구광역시 동구 각산동 1033-2, 128.713809969594, 35.8786221263659)         0\n(이디야커피대구송현점, 대구광역시 달서구 송현동 635, 128.549403783074, 35.8287869183019)      0\n(이디야커피, 대구광역시 북구 칠성동2가 82-2, 128.589371642991, 35.8798649325755)         0\n(이디야커피, 대구광역시 중구 동인동1가 358-2, 128.604904647572, 35.8718921512586)        0\n(이디야커피, 대구광역시 중구 동인동2가 221, 128.606331446311, 35.8687573736221)          0\n(이디야커피, 대구광역시 북구 산격동 1667, 128.609675334912, 35.9062893844515)           0\n(이디야커피, 대구광역시 동구 신암동 294, 128.628726138595, 35.8790975727776)            1\n(이디야커피, 대구광역시 남구 대명동 160-1, 128.586059492804, 35.8451711663362)          0\n(이디아커피시지점, 대구광역시 수성구 신매동 566-3, 128.704075090028, 35.8397877301189)      0\ndtype: int64"
     },
     "metadata": {},
     "execution_count": 94
    }
   ],
   "source": [
    "A.sum()"
   ]
  },
  {
   "cell_type": "code",
   "execution_count": 78,
   "metadata": {},
   "outputs": [
    {
     "output_type": "execute_result",
     "data": {
      "text/plain": "4"
     },
     "metadata": {},
     "execution_count": 78
    }
   ],
   "source": [
    "A.sum().sum()"
   ]
  },
  {
   "cell_type": "code",
   "execution_count": 76,
   "metadata": {},
   "outputs": [],
   "source": [
    "ED = []\n",
    "ST = []"
   ]
  },
  {
   "cell_type": "code",
   "execution_count": 81,
   "metadata": {
    "tags": []
   },
   "outputs": [
    {
     "output_type": "execute_result",
     "data": {
      "text/plain": "['대구광역시 달서구 신당동 1721-16',\n '대구광역시 중구 남성로 92',\n '대구광역시 북구 침산동 265-28',\n '대구광역시 동구 신암동 294',\n '대구광역시 달서구 신당동 1721-16',\n '대구광역시 중구 남성로 92',\n '대구광역시 북구 침산동 265-28',\n '대구광역시 동구 신암동 294',\n '대구광역시 달서구 신당동 1721-16',\n '대구광역시 중구 남성로 92',\n '대구광역시 북구 침산동 265-28',\n '대구광역시 동구 신암동 294',\n '대구광역시 달서구 신당동 1721-16',\n '대구광역시 중구 남성로 92',\n '대구광역시 북구 침산동 265-28',\n '대구광역시 동구 신암동 294']"
     },
     "metadata": {},
     "execution_count": 81
    }
   ],
   "source": [
    "for i in range(len(Star)):\n",
    "    for j in range(len(Ediya)):\n",
    "        if A.iloc[i][j]==True :\n",
    "            ST.append(Star.iloc[i][1])\n",
    "            ED.append(Ediya.iloc[j][1])\n",
    "ED\n"
   ]
  },
  {
   "cell_type": "code",
   "execution_count": 85,
   "metadata": {},
   "outputs": [
    {
     "output_type": "execute_result",
     "data": {
      "text/plain": "['대구광역시 달서구 신당동 1721-12',\n '대구광역시 중구 덕산동 53-3',\n '대구광역시 북구 침산동 245-1',\n '대구광역시 동구 신천동 1506',\n '대구광역시 달서구 신당동 1721-12',\n '대구광역시 중구 덕산동 53-3',\n '대구광역시 북구 침산동 245-1',\n '대구광역시 동구 신천동 1506',\n '대구광역시 달서구 신당동 1721-12',\n '대구광역시 중구 덕산동 53-3',\n '대구광역시 북구 침산동 245-1',\n '대구광역시 동구 신천동 1506',\n '대구광역시 달서구 신당동 1721-12',\n '대구광역시 중구 덕산동 53-3',\n '대구광역시 북구 침산동 245-1',\n '대구광역시 동구 신천동 1506']"
     },
     "metadata": {},
     "execution_count": 85
    }
   ],
   "source": [
    "ST"
   ]
  },
  {
   "cell_type": "code",
   "execution_count": 82,
   "metadata": {},
   "outputs": [
    {
     "output_type": "execute_result",
     "data": {
      "text/plain": "   ED  ST\n0 NaN NaN\n1 NaN NaN\n2 NaN NaN\n3 NaN NaN",
      "text/html": "<div>\n<style scoped>\n    .dataframe tbody tr th:only-of-type {\n        vertical-align: middle;\n    }\n\n    .dataframe tbody tr th {\n        vertical-align: top;\n    }\n\n    .dataframe thead th {\n        text-align: right;\n    }\n</style>\n<table border=\"1\" class=\"dataframe\">\n  <thead>\n    <tr style=\"text-align: right;\">\n      <th></th>\n      <th>ED</th>\n      <th>ST</th>\n    </tr>\n  </thead>\n  <tbody>\n    <tr>\n      <th>0</th>\n      <td>NaN</td>\n      <td>NaN</td>\n    </tr>\n    <tr>\n      <th>1</th>\n      <td>NaN</td>\n      <td>NaN</td>\n    </tr>\n    <tr>\n      <th>2</th>\n      <td>NaN</td>\n      <td>NaN</td>\n    </tr>\n    <tr>\n      <th>3</th>\n      <td>NaN</td>\n      <td>NaN</td>\n    </tr>\n  </tbody>\n</table>\n</div>"
     },
     "metadata": {},
     "execution_count": 82
    }
   ],
   "source": [
    "B = pd.DataFrame(np.nan,index=range(A.sum().sum()),columns=['ED','ST'])\n",
    "B"
   ]
  },
  {
   "cell_type": "code",
   "execution_count": 83,
   "metadata": {},
   "outputs": [
    {
     "output_type": "error",
     "ename": "ValueError",
     "evalue": "Length of values does not match length of index",
     "traceback": [
      "\u001b[1;31m---------------------------------------------------------------------------\u001b[0m",
      "\u001b[1;31mValueError\u001b[0m                                Traceback (most recent call last)",
      "\u001b[1;32m<ipython-input-83-6542ee972087>\u001b[0m in \u001b[0;36m<module>\u001b[1;34m\u001b[0m\n\u001b[1;32m----> 1\u001b[1;33m \u001b[0mB\u001b[0m\u001b[1;33m[\u001b[0m\u001b[1;34m'ED'\u001b[0m\u001b[1;33m]\u001b[0m\u001b[1;33m=\u001b[0m\u001b[0mED\u001b[0m\u001b[1;33m\u001b[0m\u001b[1;33m\u001b[0m\u001b[0m\n\u001b[0m\u001b[0;32m      2\u001b[0m \u001b[0mB\u001b[0m\u001b[1;33m[\u001b[0m\u001b[1;34m'ST'\u001b[0m\u001b[1;33m]\u001b[0m\u001b[1;33m=\u001b[0m\u001b[0mST\u001b[0m\u001b[1;33m\u001b[0m\u001b[1;33m\u001b[0m\u001b[0m\n",
      "\u001b[1;32m~\\anaconda3\\lib\\site-packages\\pandas\\core\\frame.py\u001b[0m in \u001b[0;36m__setitem__\u001b[1;34m(self, key, value)\u001b[0m\n\u001b[0;32m   2936\u001b[0m         \u001b[1;32melse\u001b[0m\u001b[1;33m:\u001b[0m\u001b[1;33m\u001b[0m\u001b[1;33m\u001b[0m\u001b[0m\n\u001b[0;32m   2937\u001b[0m             \u001b[1;31m# set column\u001b[0m\u001b[1;33m\u001b[0m\u001b[1;33m\u001b[0m\u001b[1;33m\u001b[0m\u001b[0m\n\u001b[1;32m-> 2938\u001b[1;33m             \u001b[0mself\u001b[0m\u001b[1;33m.\u001b[0m\u001b[0m_set_item\u001b[0m\u001b[1;33m(\u001b[0m\u001b[0mkey\u001b[0m\u001b[1;33m,\u001b[0m \u001b[0mvalue\u001b[0m\u001b[1;33m)\u001b[0m\u001b[1;33m\u001b[0m\u001b[1;33m\u001b[0m\u001b[0m\n\u001b[0m\u001b[0;32m   2939\u001b[0m \u001b[1;33m\u001b[0m\u001b[0m\n\u001b[0;32m   2940\u001b[0m     \u001b[1;32mdef\u001b[0m \u001b[0m_setitem_slice\u001b[0m\u001b[1;33m(\u001b[0m\u001b[0mself\u001b[0m\u001b[1;33m,\u001b[0m \u001b[0mkey\u001b[0m\u001b[1;33m,\u001b[0m \u001b[0mvalue\u001b[0m\u001b[1;33m)\u001b[0m\u001b[1;33m:\u001b[0m\u001b[1;33m\u001b[0m\u001b[1;33m\u001b[0m\u001b[0m\n",
      "\u001b[1;32m~\\anaconda3\\lib\\site-packages\\pandas\\core\\frame.py\u001b[0m in \u001b[0;36m_set_item\u001b[1;34m(self, key, value)\u001b[0m\n\u001b[0;32m   2998\u001b[0m \u001b[1;33m\u001b[0m\u001b[0m\n\u001b[0;32m   2999\u001b[0m         \u001b[0mself\u001b[0m\u001b[1;33m.\u001b[0m\u001b[0m_ensure_valid_index\u001b[0m\u001b[1;33m(\u001b[0m\u001b[0mvalue\u001b[0m\u001b[1;33m)\u001b[0m\u001b[1;33m\u001b[0m\u001b[1;33m\u001b[0m\u001b[0m\n\u001b[1;32m-> 3000\u001b[1;33m         \u001b[0mvalue\u001b[0m \u001b[1;33m=\u001b[0m \u001b[0mself\u001b[0m\u001b[1;33m.\u001b[0m\u001b[0m_sanitize_column\u001b[0m\u001b[1;33m(\u001b[0m\u001b[0mkey\u001b[0m\u001b[1;33m,\u001b[0m \u001b[0mvalue\u001b[0m\u001b[1;33m)\u001b[0m\u001b[1;33m\u001b[0m\u001b[1;33m\u001b[0m\u001b[0m\n\u001b[0m\u001b[0;32m   3001\u001b[0m         \u001b[0mNDFrame\u001b[0m\u001b[1;33m.\u001b[0m\u001b[0m_set_item\u001b[0m\u001b[1;33m(\u001b[0m\u001b[0mself\u001b[0m\u001b[1;33m,\u001b[0m \u001b[0mkey\u001b[0m\u001b[1;33m,\u001b[0m \u001b[0mvalue\u001b[0m\u001b[1;33m)\u001b[0m\u001b[1;33m\u001b[0m\u001b[1;33m\u001b[0m\u001b[0m\n\u001b[0;32m   3002\u001b[0m \u001b[1;33m\u001b[0m\u001b[0m\n",
      "\u001b[1;32m~\\anaconda3\\lib\\site-packages\\pandas\\core\\frame.py\u001b[0m in \u001b[0;36m_sanitize_column\u001b[1;34m(self, key, value, broadcast)\u001b[0m\n\u001b[0;32m   3634\u001b[0m \u001b[1;33m\u001b[0m\u001b[0m\n\u001b[0;32m   3635\u001b[0m             \u001b[1;31m# turn me into an ndarray\u001b[0m\u001b[1;33m\u001b[0m\u001b[1;33m\u001b[0m\u001b[1;33m\u001b[0m\u001b[0m\n\u001b[1;32m-> 3636\u001b[1;33m             \u001b[0mvalue\u001b[0m \u001b[1;33m=\u001b[0m \u001b[0msanitize_index\u001b[0m\u001b[1;33m(\u001b[0m\u001b[0mvalue\u001b[0m\u001b[1;33m,\u001b[0m \u001b[0mself\u001b[0m\u001b[1;33m.\u001b[0m\u001b[0mindex\u001b[0m\u001b[1;33m,\u001b[0m \u001b[0mcopy\u001b[0m\u001b[1;33m=\u001b[0m\u001b[1;32mFalse\u001b[0m\u001b[1;33m)\u001b[0m\u001b[1;33m\u001b[0m\u001b[1;33m\u001b[0m\u001b[0m\n\u001b[0m\u001b[0;32m   3637\u001b[0m             \u001b[1;32mif\u001b[0m \u001b[1;32mnot\u001b[0m \u001b[0misinstance\u001b[0m\u001b[1;33m(\u001b[0m\u001b[0mvalue\u001b[0m\u001b[1;33m,\u001b[0m \u001b[1;33m(\u001b[0m\u001b[0mnp\u001b[0m\u001b[1;33m.\u001b[0m\u001b[0mndarray\u001b[0m\u001b[1;33m,\u001b[0m \u001b[0mIndex\u001b[0m\u001b[1;33m)\u001b[0m\u001b[1;33m)\u001b[0m\u001b[1;33m:\u001b[0m\u001b[1;33m\u001b[0m\u001b[1;33m\u001b[0m\u001b[0m\n\u001b[0;32m   3638\u001b[0m                 \u001b[1;32mif\u001b[0m \u001b[0misinstance\u001b[0m\u001b[1;33m(\u001b[0m\u001b[0mvalue\u001b[0m\u001b[1;33m,\u001b[0m \u001b[0mlist\u001b[0m\u001b[1;33m)\u001b[0m \u001b[1;32mand\u001b[0m \u001b[0mlen\u001b[0m\u001b[1;33m(\u001b[0m\u001b[0mvalue\u001b[0m\u001b[1;33m)\u001b[0m \u001b[1;33m>\u001b[0m \u001b[1;36m0\u001b[0m\u001b[1;33m:\u001b[0m\u001b[1;33m\u001b[0m\u001b[1;33m\u001b[0m\u001b[0m\n",
      "\u001b[1;32m~\\anaconda3\\lib\\site-packages\\pandas\\core\\internals\\construction.py\u001b[0m in \u001b[0;36msanitize_index\u001b[1;34m(data, index, copy)\u001b[0m\n\u001b[0;32m    609\u001b[0m \u001b[1;33m\u001b[0m\u001b[0m\n\u001b[0;32m    610\u001b[0m     \u001b[1;32mif\u001b[0m \u001b[0mlen\u001b[0m\u001b[1;33m(\u001b[0m\u001b[0mdata\u001b[0m\u001b[1;33m)\u001b[0m \u001b[1;33m!=\u001b[0m \u001b[0mlen\u001b[0m\u001b[1;33m(\u001b[0m\u001b[0mindex\u001b[0m\u001b[1;33m)\u001b[0m\u001b[1;33m:\u001b[0m\u001b[1;33m\u001b[0m\u001b[1;33m\u001b[0m\u001b[0m\n\u001b[1;32m--> 611\u001b[1;33m         \u001b[1;32mraise\u001b[0m \u001b[0mValueError\u001b[0m\u001b[1;33m(\u001b[0m\u001b[1;34m\"Length of values does not match length of index\"\u001b[0m\u001b[1;33m)\u001b[0m\u001b[1;33m\u001b[0m\u001b[1;33m\u001b[0m\u001b[0m\n\u001b[0m\u001b[0;32m    612\u001b[0m \u001b[1;33m\u001b[0m\u001b[0m\n\u001b[0;32m    613\u001b[0m     \u001b[1;32mif\u001b[0m \u001b[0misinstance\u001b[0m\u001b[1;33m(\u001b[0m\u001b[0mdata\u001b[0m\u001b[1;33m,\u001b[0m \u001b[0mABCIndexClass\u001b[0m\u001b[1;33m)\u001b[0m \u001b[1;32mand\u001b[0m \u001b[1;32mnot\u001b[0m \u001b[0mcopy\u001b[0m\u001b[1;33m:\u001b[0m\u001b[1;33m\u001b[0m\u001b[1;33m\u001b[0m\u001b[0m\n",
      "\u001b[1;31mValueError\u001b[0m: Length of values does not match length of index"
     ]
    }
   ],
   "source": [
    "B['ED']=ED\n",
    "B['ST']=ST"
   ]
  },
  {
   "cell_type": "code",
   "execution_count": 84,
   "metadata": {},
   "outputs": [
    {
     "output_type": "execute_result",
     "data": {
      "text/plain": "   ED  ST\n0 NaN NaN\n1 NaN NaN\n2 NaN NaN\n3 NaN NaN",
      "text/html": "<div>\n<style scoped>\n    .dataframe tbody tr th:only-of-type {\n        vertical-align: middle;\n    }\n\n    .dataframe tbody tr th {\n        vertical-align: top;\n    }\n\n    .dataframe thead th {\n        text-align: right;\n    }\n</style>\n<table border=\"1\" class=\"dataframe\">\n  <thead>\n    <tr style=\"text-align: right;\">\n      <th></th>\n      <th>ED</th>\n      <th>ST</th>\n    </tr>\n  </thead>\n  <tbody>\n    <tr>\n      <th>0</th>\n      <td>NaN</td>\n      <td>NaN</td>\n    </tr>\n    <tr>\n      <th>1</th>\n      <td>NaN</td>\n      <td>NaN</td>\n    </tr>\n    <tr>\n      <th>2</th>\n      <td>NaN</td>\n      <td>NaN</td>\n    </tr>\n    <tr>\n      <th>3</th>\n      <td>NaN</td>\n      <td>NaN</td>\n    </tr>\n  </tbody>\n</table>\n</div>"
     },
     "metadata": {},
     "execution_count": 84
    }
   ],
   "source": [
    "B"
   ]
  },
  {
   "cell_type": "code",
   "execution_count": 86,
   "metadata": {},
   "outputs": [],
   "source": [
    "A = Dis<200\n",
    "ED = []\n",
    "ST = []\n",
    "for i in range(len(Star)):\n",
    "    for j in range(len(Ediya)):\n",
    "        if A.iloc[i][j]==True :\n",
    "            ST.append(Star.iloc[i][1])\n",
    "            ED.append(Ediya.iloc[j][1])"
   ]
  },
  {
   "cell_type": "code",
   "execution_count": 87,
   "metadata": {},
   "outputs": [
    {
     "output_type": "execute_result",
     "data": {
      "text/plain": "                      ED                     ST\n0   대구광역시 달서구 상인동 1595-7     대구광역시 달서구 상인동 54-3\n1  대구광역시 달서구 신당동 1721-16  대구광역시 달서구 신당동 1721-12\n2        대구광역시 중구 남성로 92      대구광역시 중구 덕산동 53-3\n3    대구광역시 북구 침산동 265-28     대구광역시 북구 침산동 245-1\n4        대구광역시 중구 남성로 92    대구광역시 중구 동성로3가 32-1\n5        대구광역시 중구 남성로 92   대구광역시 중구 동성로3가 35-13\n6      대구광역시 달서구 진천동 553    대구광역시 달서구 진천동 581-1\n7       대구광역시 동구 신암동 294      대구광역시 동구 신천동 1506",
      "text/html": "<div>\n<style scoped>\n    .dataframe tbody tr th:only-of-type {\n        vertical-align: middle;\n    }\n\n    .dataframe tbody tr th {\n        vertical-align: top;\n    }\n\n    .dataframe thead th {\n        text-align: right;\n    }\n</style>\n<table border=\"1\" class=\"dataframe\">\n  <thead>\n    <tr style=\"text-align: right;\">\n      <th></th>\n      <th>ED</th>\n      <th>ST</th>\n    </tr>\n  </thead>\n  <tbody>\n    <tr>\n      <th>0</th>\n      <td>대구광역시 달서구 상인동 1595-7</td>\n      <td>대구광역시 달서구 상인동 54-3</td>\n    </tr>\n    <tr>\n      <th>1</th>\n      <td>대구광역시 달서구 신당동 1721-16</td>\n      <td>대구광역시 달서구 신당동 1721-12</td>\n    </tr>\n    <tr>\n      <th>2</th>\n      <td>대구광역시 중구 남성로 92</td>\n      <td>대구광역시 중구 덕산동 53-3</td>\n    </tr>\n    <tr>\n      <th>3</th>\n      <td>대구광역시 북구 침산동 265-28</td>\n      <td>대구광역시 북구 침산동 245-1</td>\n    </tr>\n    <tr>\n      <th>4</th>\n      <td>대구광역시 중구 남성로 92</td>\n      <td>대구광역시 중구 동성로3가 32-1</td>\n    </tr>\n    <tr>\n      <th>5</th>\n      <td>대구광역시 중구 남성로 92</td>\n      <td>대구광역시 중구 동성로3가 35-13</td>\n    </tr>\n    <tr>\n      <th>6</th>\n      <td>대구광역시 달서구 진천동 553</td>\n      <td>대구광역시 달서구 진천동 581-1</td>\n    </tr>\n    <tr>\n      <th>7</th>\n      <td>대구광역시 동구 신암동 294</td>\n      <td>대구광역시 동구 신천동 1506</td>\n    </tr>\n  </tbody>\n</table>\n</div>"
     },
     "metadata": {},
     "execution_count": 87
    }
   ],
   "source": [
    "B = pd.DataFrame(np.nan,index=range(A.sum().sum()),columns=['ED','ST'])\n",
    "B['ED']=ED\n",
    "B['ST']=ST\n",
    "B"
   ]
  },
  {
   "cell_type": "code",
   "execution_count": 95,
   "metadata": {},
   "outputs": [
    {
     "output_type": "execute_result",
     "data": {
      "text/plain": "                       ED                      ST\n0    대구광역시 달서구 상인동 1595-7      대구광역시 달서구 상인동 54-3\n1         대구광역시 중구 남성로 92    대구광역시 중구 동성로3가 91-16\n2   대구광역시 달서구 신당동 1721-16   대구광역시 달서구 신당동 1721-12\n3   대구광역시 달서구 이곡동 1250-14    대구광역시 달서구 이곡동 1248-1\n4       대구광역시 수성구 범어동 1-1       대구광역시 수성구 범어동 2-1\n5         대구광역시 중구 남성로 92       대구광역시 중구 덕산동 53-3\n6        대구광역시 동구 신암동 294      대구광역시 동구 신천동 330-6\n7     대구광역시 북구 칠성동2가 20-1      대구광역시 북구 침산동 245-1\n8     대구광역시 북구 침산동 265-28      대구광역시 북구 침산동 245-1\n9         대구광역시 중구 남성로 92     대구광역시 중구 동성로3가 32-1\n10        대구광역시 중구 남성로 92    대구광역시 중구 동성로3가 35-13\n11        대구광역시 중구 남성로 92      대구광역시 중구 계산동2가 180\n12      대구광역시 달서구 진천동 553     대구광역시 달서구 진천동 581-1\n13   대구광역시 달성군 유가면 봉리 615  대구광역시 달성군 유가면 봉리 607-1\n14       대구광역시 동구 신암동 294       대구광역시 동구 신천동 1506",
      "text/html": "<div>\n<style scoped>\n    .dataframe tbody tr th:only-of-type {\n        vertical-align: middle;\n    }\n\n    .dataframe tbody tr th {\n        vertical-align: top;\n    }\n\n    .dataframe thead th {\n        text-align: right;\n    }\n</style>\n<table border=\"1\" class=\"dataframe\">\n  <thead>\n    <tr style=\"text-align: right;\">\n      <th></th>\n      <th>ED</th>\n      <th>ST</th>\n    </tr>\n  </thead>\n  <tbody>\n    <tr>\n      <th>0</th>\n      <td>대구광역시 달서구 상인동 1595-7</td>\n      <td>대구광역시 달서구 상인동 54-3</td>\n    </tr>\n    <tr>\n      <th>1</th>\n      <td>대구광역시 중구 남성로 92</td>\n      <td>대구광역시 중구 동성로3가 91-16</td>\n    </tr>\n    <tr>\n      <th>2</th>\n      <td>대구광역시 달서구 신당동 1721-16</td>\n      <td>대구광역시 달서구 신당동 1721-12</td>\n    </tr>\n    <tr>\n      <th>3</th>\n      <td>대구광역시 달서구 이곡동 1250-14</td>\n      <td>대구광역시 달서구 이곡동 1248-1</td>\n    </tr>\n    <tr>\n      <th>4</th>\n      <td>대구광역시 수성구 범어동 1-1</td>\n      <td>대구광역시 수성구 범어동 2-1</td>\n    </tr>\n    <tr>\n      <th>5</th>\n      <td>대구광역시 중구 남성로 92</td>\n      <td>대구광역시 중구 덕산동 53-3</td>\n    </tr>\n    <tr>\n      <th>6</th>\n      <td>대구광역시 동구 신암동 294</td>\n      <td>대구광역시 동구 신천동 330-6</td>\n    </tr>\n    <tr>\n      <th>7</th>\n      <td>대구광역시 북구 칠성동2가 20-1</td>\n      <td>대구광역시 북구 침산동 245-1</td>\n    </tr>\n    <tr>\n      <th>8</th>\n      <td>대구광역시 북구 침산동 265-28</td>\n      <td>대구광역시 북구 침산동 245-1</td>\n    </tr>\n    <tr>\n      <th>9</th>\n      <td>대구광역시 중구 남성로 92</td>\n      <td>대구광역시 중구 동성로3가 32-1</td>\n    </tr>\n    <tr>\n      <th>10</th>\n      <td>대구광역시 중구 남성로 92</td>\n      <td>대구광역시 중구 동성로3가 35-13</td>\n    </tr>\n    <tr>\n      <th>11</th>\n      <td>대구광역시 중구 남성로 92</td>\n      <td>대구광역시 중구 계산동2가 180</td>\n    </tr>\n    <tr>\n      <th>12</th>\n      <td>대구광역시 달서구 진천동 553</td>\n      <td>대구광역시 달서구 진천동 581-1</td>\n    </tr>\n    <tr>\n      <th>13</th>\n      <td>대구광역시 달성군 유가면 봉리 615</td>\n      <td>대구광역시 달성군 유가면 봉리 607-1</td>\n    </tr>\n    <tr>\n      <th>14</th>\n      <td>대구광역시 동구 신암동 294</td>\n      <td>대구광역시 동구 신천동 1506</td>\n    </tr>\n  </tbody>\n</table>\n</div>"
     },
     "metadata": {},
     "execution_count": 95
    }
   ],
   "source": [
    "A = Dis<300\n",
    "ED = []\n",
    "ST = []\n",
    "for i in range(len(Star)):\n",
    "    for j in range(len(Ediya)):\n",
    "        if A.iloc[i][j]==True :\n",
    "            ST.append(Star.iloc[i][1])\n",
    "            ED.append(Ediya.iloc[j][1])\n",
    "B = pd.DataFrame(np.nan,index=range(A.sum().sum()),columns=['ED','ST'])\n",
    "B['ED']=ED\n",
    "B['ST']=ST\n",
    "B"
   ]
  },
  {
   "source": [
    "Ediya가 35곳이 있는데 과연 4,8,15쌍이 많은 쌍일까?\n"
   ],
   "cell_type": "markdown",
   "metadata": {}
  },
  {
   "cell_type": "code",
   "execution_count": null,
   "metadata": {
    "tags": []
   },
   "outputs": [],
   "source": [
    "print(4/35)\n",
    "print(8/35)\n",
    "print(15/35)"
   ]
  },
  {
   "cell_type": "code",
   "execution_count": 97,
   "metadata": {},
   "outputs": [],
   "source": [
    "import math\n",
    "\n",
    "def Dist(A,B):\n",
    "    lat1 = A[0]\n",
    "    lon1 = A[1]\n",
    "    lat2 = B[0]\n",
    "    lon2 = B[1]\n",
    "    R = 6371000 \n",
    "    rad_lat1 = lat1 * math.pi*(1/180) # latitude, longitude in radians (angle to radians)\n",
    "    rad_lat2 = lat2 * math.pi*(1/180)\n",
    "    dis_lat = (lat2-lat1) * math.pi*(1/180)\n",
    "    dis_lon = (lon2-lon1) * math.pi*(1/180)\n",
    "    a = math.sin(dis_lat/2) * math.sin(dis_lat/2) + math.cos(rad_lat1) * math.cos(rad_lat2) * math.sin(dis_lon/2) * math.sin(dis_lon/2) #a = sin²(Δφ/2) + cos φ1 ⋅ cos φ2 ⋅ sin²(Δλ/2)\n",
    "\n",
    "    b= 1-a\n",
    "    c = 2 * (math.atan2( math.sqrt(a), math.sqrt(b)))\n",
    "\n",
    "    d = R * c #in metres\n",
    "    return d\n"
   ]
  },
  {
   "cell_type": "code",
   "execution_count": 98,
   "metadata": {},
   "outputs": [
    {
     "output_type": "execute_result",
     "data": {
      "text/plain": "10603840.545490189"
     },
     "metadata": {},
     "execution_count": 98
    }
   ],
   "source": [
    "Seoul = [37.541, 126.986]  #Latitude, Longitude\n",
    "Toronto = [43.65, -79.38]\n",
    "Dist(Seoul,Toronto)"
   ]
  },
  {
   "cell_type": "code",
   "execution_count": 99,
   "metadata": {},
   "outputs": [],
   "source": [
    "Dis2 = pd.DataFrame(np.nan,Star,Star)"
   ]
  },
  {
   "cell_type": "code",
   "execution_count": 100,
   "metadata": {},
   "outputs": [],
   "source": [
    "for i in range(len(Star)):\n",
    "    for j in range(len(Star)):\n",
    "        Dis2.iloc[i][j] = haversine(tuple(Star.iloc[i][2:]), tuple(Star.iloc[j][2:])) * 1000\n",
    "        if i==j:\n",
    "            Dis2.iloc[i][j]=50000"
   ]
  },
  {
   "cell_type": "code",
   "execution_count": 101,
   "metadata": {},
   "outputs": [],
   "source": [
    "Z = Dis2<100"
   ]
  },
  {
   "cell_type": "code",
   "execution_count": 102,
   "metadata": {},
   "outputs": [
    {
     "output_type": "execute_result",
     "data": {
      "text/plain": "10"
     },
     "metadata": {},
     "execution_count": 102
    }
   ],
   "source": [
    "Z.sum().sum()"
   ]
  },
  {
   "cell_type": "code",
   "execution_count": 103,
   "metadata": {},
   "outputs": [
    {
     "output_type": "execute_result",
     "data": {
      "text/plain": "                         ST1                       ST2\n0       대구광역시 중구 삼덕동1가 17-11       대구광역시 중구 삼덕동1가 25-1\n1       대구광역시 중구 삼덕동1가 17-11        대구광역시 중구 삼덕동1가 8-1\n2       대구광역시 중구 동성로3가 91-16        대구광역시 중구 삼덕동1가 8-1\n3       대구광역시 중구 동성로3가 91-16       대구광역시 중구 동성로3가 32-1\n4       대구광역시 중구 동성로3가 91-16      대구광역시 중구 동성로3가 35-13\n5        대구광역시 중구 삼덕동1가 25-1      대구광역시 중구 삼덕동1가 17-11\n6          대구광역시 수성구 범어동 2-1        대구광역시 동구 신천동 300-2\n7   대구광역시 달성군 하빈면 하산리 1217-6  대구광역시 달성군 하빈면 하산리 1077-2\n8          대구광역시 중구 덕산동 53-3      대구광역시 중구 동성로3가 35-13\n9         대구광역시 중구 삼덕동1가 8-1      대구광역시 중구 삼덕동1가 17-11\n10        대구광역시 중구 삼덕동1가 8-1      대구광역시 중구 동성로3가 91-16\n11        대구광역시 동구 신천동 330-6         대구광역시 동구 신천동 1506\n12       대구광역시 중구 동성로3가 32-1      대구광역시 중구 동성로3가 91-16\n13       대구광역시 중구 동성로3가 32-1      대구광역시 중구 동성로3가 35-13\n14      대구광역시 중구 동성로3가 35-13      대구광역시 중구 동성로3가 91-16\n15      대구광역시 중구 동성로3가 35-13         대구광역시 중구 덕산동 53-3\n16      대구광역시 중구 동성로3가 35-13       대구광역시 중구 동성로3가 32-1\n17      대구광역시 중구 동성로2가 88-25         대구광역시 중구 남일동 36-1\n18        대구광역시 동구 신천동 300-2         대구광역시 수성구 범어동 2-1\n19        대구광역시 중구 동문동 20-11         대구광역시 중구 문화동 11-1\n20         대구광역시 중구 남일동 36-1      대구광역시 중구 동성로2가 88-25\n21         대구광역시 동구 신천동 1506        대구광역시 동구 신천동 330-6\n22  대구광역시 달성군 하빈면 하산리 1077-2  대구광역시 달성군 하빈면 하산리 1217-6\n23         대구광역시 중구 문화동 11-1        대구광역시 중구 동문동 20-11",
      "text/html": "<div>\n<style scoped>\n    .dataframe tbody tr th:only-of-type {\n        vertical-align: middle;\n    }\n\n    .dataframe tbody tr th {\n        vertical-align: top;\n    }\n\n    .dataframe thead th {\n        text-align: right;\n    }\n</style>\n<table border=\"1\" class=\"dataframe\">\n  <thead>\n    <tr style=\"text-align: right;\">\n      <th></th>\n      <th>ST1</th>\n      <th>ST2</th>\n    </tr>\n  </thead>\n  <tbody>\n    <tr>\n      <th>0</th>\n      <td>대구광역시 중구 삼덕동1가 17-11</td>\n      <td>대구광역시 중구 삼덕동1가 25-1</td>\n    </tr>\n    <tr>\n      <th>1</th>\n      <td>대구광역시 중구 삼덕동1가 17-11</td>\n      <td>대구광역시 중구 삼덕동1가 8-1</td>\n    </tr>\n    <tr>\n      <th>2</th>\n      <td>대구광역시 중구 동성로3가 91-16</td>\n      <td>대구광역시 중구 삼덕동1가 8-1</td>\n    </tr>\n    <tr>\n      <th>3</th>\n      <td>대구광역시 중구 동성로3가 91-16</td>\n      <td>대구광역시 중구 동성로3가 32-1</td>\n    </tr>\n    <tr>\n      <th>4</th>\n      <td>대구광역시 중구 동성로3가 91-16</td>\n      <td>대구광역시 중구 동성로3가 35-13</td>\n    </tr>\n    <tr>\n      <th>5</th>\n      <td>대구광역시 중구 삼덕동1가 25-1</td>\n      <td>대구광역시 중구 삼덕동1가 17-11</td>\n    </tr>\n    <tr>\n      <th>6</th>\n      <td>대구광역시 수성구 범어동 2-1</td>\n      <td>대구광역시 동구 신천동 300-2</td>\n    </tr>\n    <tr>\n      <th>7</th>\n      <td>대구광역시 달성군 하빈면 하산리 1217-6</td>\n      <td>대구광역시 달성군 하빈면 하산리 1077-2</td>\n    </tr>\n    <tr>\n      <th>8</th>\n      <td>대구광역시 중구 덕산동 53-3</td>\n      <td>대구광역시 중구 동성로3가 35-13</td>\n    </tr>\n    <tr>\n      <th>9</th>\n      <td>대구광역시 중구 삼덕동1가 8-1</td>\n      <td>대구광역시 중구 삼덕동1가 17-11</td>\n    </tr>\n    <tr>\n      <th>10</th>\n      <td>대구광역시 중구 삼덕동1가 8-1</td>\n      <td>대구광역시 중구 동성로3가 91-16</td>\n    </tr>\n    <tr>\n      <th>11</th>\n      <td>대구광역시 동구 신천동 330-6</td>\n      <td>대구광역시 동구 신천동 1506</td>\n    </tr>\n    <tr>\n      <th>12</th>\n      <td>대구광역시 중구 동성로3가 32-1</td>\n      <td>대구광역시 중구 동성로3가 91-16</td>\n    </tr>\n    <tr>\n      <th>13</th>\n      <td>대구광역시 중구 동성로3가 32-1</td>\n      <td>대구광역시 중구 동성로3가 35-13</td>\n    </tr>\n    <tr>\n      <th>14</th>\n      <td>대구광역시 중구 동성로3가 35-13</td>\n      <td>대구광역시 중구 동성로3가 91-16</td>\n    </tr>\n    <tr>\n      <th>15</th>\n      <td>대구광역시 중구 동성로3가 35-13</td>\n      <td>대구광역시 중구 덕산동 53-3</td>\n    </tr>\n    <tr>\n      <th>16</th>\n      <td>대구광역시 중구 동성로3가 35-13</td>\n      <td>대구광역시 중구 동성로3가 32-1</td>\n    </tr>\n    <tr>\n      <th>17</th>\n      <td>대구광역시 중구 동성로2가 88-25</td>\n      <td>대구광역시 중구 남일동 36-1</td>\n    </tr>\n    <tr>\n      <th>18</th>\n      <td>대구광역시 동구 신천동 300-2</td>\n      <td>대구광역시 수성구 범어동 2-1</td>\n    </tr>\n    <tr>\n      <th>19</th>\n      <td>대구광역시 중구 동문동 20-11</td>\n      <td>대구광역시 중구 문화동 11-1</td>\n    </tr>\n    <tr>\n      <th>20</th>\n      <td>대구광역시 중구 남일동 36-1</td>\n      <td>대구광역시 중구 동성로2가 88-25</td>\n    </tr>\n    <tr>\n      <th>21</th>\n      <td>대구광역시 동구 신천동 1506</td>\n      <td>대구광역시 동구 신천동 330-6</td>\n    </tr>\n    <tr>\n      <th>22</th>\n      <td>대구광역시 달성군 하빈면 하산리 1077-2</td>\n      <td>대구광역시 달성군 하빈면 하산리 1217-6</td>\n    </tr>\n    <tr>\n      <th>23</th>\n      <td>대구광역시 중구 문화동 11-1</td>\n      <td>대구광역시 중구 동문동 20-11</td>\n    </tr>\n  </tbody>\n</table>\n</div>"
     },
     "metadata": {},
     "execution_count": 103
    }
   ],
   "source": [
    "Z = Dis2<200\n",
    "ST1 = []\n",
    "ST2 = []\n",
    "for i in range(len(Star)):\n",
    "    for j in range(len(Star)):\n",
    "        if Z.iloc[i][j]==True :\n",
    "            ST1.append(Star.iloc[i][1])\n",
    "            ST2.append(Star.iloc[j][1])\n",
    "X = pd.DataFrame(np.nan,index=range(Z.sum().sum()),columns=['ST1','ST2'])\n",
    "X['ST1']=ST1\n",
    "X['ST2']=ST2\n",
    "X"
   ]
  },
  {
   "cell_type": "code",
   "execution_count": null,
   "metadata": {},
   "outputs": [],
   "source": [
    "Z = Dis2<300\n",
    "ST1 = []\n",
    "ST2 = []\n",
    "for i in range(len(Star)):\n",
    "    for j in range(len(Star)):\n",
    "        if Z.iloc[i][j]==True :\n",
    "            ST1.append(Star.iloc[i][1])\n",
    "            ST2.append(Star.iloc[j][1])\n",
    "X = pd.DataFrame(np.nan,index=range(Z.sum().sum()),columns=['ST1','ST2'])\n",
    "X['ST1']=ST1\n",
    "X['ST2']=ST2\n",
    "X"
   ]
  },
  {
   "source": [
    "5,12,39쌍 "
   ],
   "cell_type": "markdown",
   "metadata": {}
  }
 ]
}