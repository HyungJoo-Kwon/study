{
 "metadata": {
  "language_info": {
   "codemirror_mode": {
    "name": "ipython",
    "version": 3
   },
   "file_extension": ".py",
   "mimetype": "text/x-python",
   "name": "python",
   "nbconvert_exporter": "python",
   "pygments_lexer": "ipython3",
   "version": "3.8.3-final"
  },
  "orig_nbformat": 2,
  "kernelspec": {
   "name": "Python 3.8.3 64-bit ('base': conda)",
   "display_name": "Python 3.8.3 64-bit ('base': conda)",
   "metadata": {
    "interpreter": {
     "hash": "ccb6990895436216020d785f85e481171ea60264840962e2fdc91afe41f44499"
    }
   }
  }
 },
 "nbformat": 4,
 "nbformat_minor": 2,
 "cells": [
  {
   "cell_type": "code",
   "execution_count": 73,
   "metadata": {},
   "outputs": [
    {
     "output_type": "execute_result",
     "data": {
      "text/plain": "' \\n대구에서 스타벅스와 이디야 찾고, 구별정리 동별정리하고, 할 수 있다면 경도와 위도를 이용하여 정말로 어느정도 붙어있는지 나타내시오. \\n'"
     },
     "metadata": {},
     "execution_count": 73
    }
   ],
   "source": [
    "''' \n",
    "대구에서 스타벅스와 이디야 찾고, 구별정리 동별정리하고, 할 수 있다면 경도와 위도를 이용하여 정말로 어느정도 붙어있는지 나타내시오. \n",
    "https://www.youtube.com/watch?v=PR1WeCdFWvg\n",
    "'''"
   ]
  },
  {
   "cell_type": "code",
   "execution_count": 103,
   "metadata": {},
   "outputs": [],
   "source": [
    "import pandas as pd \n",
    "\n",
    "daegu = pd.read_excel(\"data/통합 문서1.xlsx\")"
   ]
  },
  {
   "cell_type": "code",
   "execution_count": 104,
   "metadata": {},
   "outputs": [
    {
     "output_type": "execute_result",
     "data": {
      "text/plain": "Index(['상가업소번호', '상호명', '지점명', '상권업종대분류코드', '상권업종대분류명', '상권업종중분류코드',\n       '상권업종중분류명', '상권업종소분류코드', '상권업종소분류명', '표준산업분류코드', '표준산업분류명', '시도코드',\n       '시도명', '시군구코드', '시군구명', '행정동코드', '행정동명', '법정동코드', '법정동명', '지번코드',\n       '대지구분코드', '대지구분명', '지번본번지', '지번부번지', '지번주소', '도로명코드', '도로명', '건물본번지',\n       '건물부번지', '건물관리번호', '건물명', '도로명주소', '구우편번호', '신우편번호', '동정보', '층정보',\n       '호정보', '경도', '위도'],\n      dtype='object')"
     },
     "metadata": {},
     "execution_count": 104
    }
   ],
   "source": [
    "daegu.columns"
   ]
  },
  {
   "cell_type": "code",
   "execution_count": 105,
   "metadata": {},
   "outputs": [
    {
     "output_type": "execute_result",
     "data": {
      "text/plain": "             상호명 상권업종중분류명    시도명 시군구명                    지번주소          경도  \\\n116          브라운   커피점/카페  대구광역시  수성구       대구광역시 수성구 노변동 353  128.699230   \n627         카페신라   커피점/카페  대구광역시   중구       대구광역시 중구 동문동 20-4  128.596926   \n705           미도   커피점/카페  대구광역시   중구      대구광역시 중구 종로2가 66-1  128.592485   \n1006           썸   커피점/카페  대구광역시   북구    대구광역시 북구 읍내동 1236-47  128.554131   \n1018        까치찻집   커피점/카페  대구광역시  수성구   대구광역시 수성구 지산동 1277-19  128.636445   \n...          ...      ...    ...  ...                     ...         ...   \n527946    미메이트커피   커피점/카페  대구광역시  달서구       대구광역시 달서구 상인동 926  128.547417   \n528017      미쁜과일   커피점/카페  대구광역시   동구      대구광역시 동구 신암동 738-3  128.618610   \n528039       커맥스   커피점/카페  대구광역시  수성구  대구광역시 수성구 수성동4가 1090-8  128.613094   \n528041  마커스커피컴퍼니   커피점/카페  대구광역시  수성구     대구광역시 수성구 시지동 485-1  128.692078   \n528264     몬스터커피   커피점/카페  대구광역시   북구     대구광역시 북구 침산동 269-10  128.590613   \n\n               위도  \n116     35.835111  \n627     35.872581  \n705     35.868132  \n1006    35.949804  \n1018    35.823590  \n...           ...  \n527946  35.818332  \n528017  35.882701  \n528039  35.861161  \n528041  35.841254  \n528264  35.888890  \n\n[4609 rows x 7 columns]",
      "text/html": "<div>\n<style scoped>\n    .dataframe tbody tr th:only-of-type {\n        vertical-align: middle;\n    }\n\n    .dataframe tbody tr th {\n        vertical-align: top;\n    }\n\n    .dataframe thead th {\n        text-align: right;\n    }\n</style>\n<table border=\"1\" class=\"dataframe\">\n  <thead>\n    <tr style=\"text-align: right;\">\n      <th></th>\n      <th>상호명</th>\n      <th>상권업종중분류명</th>\n      <th>시도명</th>\n      <th>시군구명</th>\n      <th>지번주소</th>\n      <th>경도</th>\n      <th>위도</th>\n    </tr>\n  </thead>\n  <tbody>\n    <tr>\n      <th>116</th>\n      <td>브라운</td>\n      <td>커피점/카페</td>\n      <td>대구광역시</td>\n      <td>수성구</td>\n      <td>대구광역시 수성구 노변동 353</td>\n      <td>128.699230</td>\n      <td>35.835111</td>\n    </tr>\n    <tr>\n      <th>627</th>\n      <td>카페신라</td>\n      <td>커피점/카페</td>\n      <td>대구광역시</td>\n      <td>중구</td>\n      <td>대구광역시 중구 동문동 20-4</td>\n      <td>128.596926</td>\n      <td>35.872581</td>\n    </tr>\n    <tr>\n      <th>705</th>\n      <td>미도</td>\n      <td>커피점/카페</td>\n      <td>대구광역시</td>\n      <td>중구</td>\n      <td>대구광역시 중구 종로2가 66-1</td>\n      <td>128.592485</td>\n      <td>35.868132</td>\n    </tr>\n    <tr>\n      <th>1006</th>\n      <td>썸</td>\n      <td>커피점/카페</td>\n      <td>대구광역시</td>\n      <td>북구</td>\n      <td>대구광역시 북구 읍내동 1236-47</td>\n      <td>128.554131</td>\n      <td>35.949804</td>\n    </tr>\n    <tr>\n      <th>1018</th>\n      <td>까치찻집</td>\n      <td>커피점/카페</td>\n      <td>대구광역시</td>\n      <td>수성구</td>\n      <td>대구광역시 수성구 지산동 1277-19</td>\n      <td>128.636445</td>\n      <td>35.823590</td>\n    </tr>\n    <tr>\n      <th>...</th>\n      <td>...</td>\n      <td>...</td>\n      <td>...</td>\n      <td>...</td>\n      <td>...</td>\n      <td>...</td>\n      <td>...</td>\n    </tr>\n    <tr>\n      <th>527946</th>\n      <td>미메이트커피</td>\n      <td>커피점/카페</td>\n      <td>대구광역시</td>\n      <td>달서구</td>\n      <td>대구광역시 달서구 상인동 926</td>\n      <td>128.547417</td>\n      <td>35.818332</td>\n    </tr>\n    <tr>\n      <th>528017</th>\n      <td>미쁜과일</td>\n      <td>커피점/카페</td>\n      <td>대구광역시</td>\n      <td>동구</td>\n      <td>대구광역시 동구 신암동 738-3</td>\n      <td>128.618610</td>\n      <td>35.882701</td>\n    </tr>\n    <tr>\n      <th>528039</th>\n      <td>커맥스</td>\n      <td>커피점/카페</td>\n      <td>대구광역시</td>\n      <td>수성구</td>\n      <td>대구광역시 수성구 수성동4가 1090-8</td>\n      <td>128.613094</td>\n      <td>35.861161</td>\n    </tr>\n    <tr>\n      <th>528041</th>\n      <td>마커스커피컴퍼니</td>\n      <td>커피점/카페</td>\n      <td>대구광역시</td>\n      <td>수성구</td>\n      <td>대구광역시 수성구 시지동 485-1</td>\n      <td>128.692078</td>\n      <td>35.841254</td>\n    </tr>\n    <tr>\n      <th>528264</th>\n      <td>몬스터커피</td>\n      <td>커피점/카페</td>\n      <td>대구광역시</td>\n      <td>북구</td>\n      <td>대구광역시 북구 침산동 269-10</td>\n      <td>128.590613</td>\n      <td>35.888890</td>\n    </tr>\n  </tbody>\n</table>\n<p>4609 rows × 7 columns</p>\n</div>"
     },
     "metadata": {},
     "execution_count": 105
    }
   ],
   "source": [
    "\n",
    "daegu = daegu[[\"상호명\", \"상권업종중분류명\", \"시도명\", \"시군구명\", \"지번주소\", \"경도\", \"위도\"]]\n",
    "\n",
    "daegu = daegu[daegu[\"시도명\"] == \"대구광역시\" ]\n",
    "daegu = daegu[daegu[\"상권업종중분류명\"] == \"커피점/카페\"]\n",
    "daegu = daegu.dropna(axis=0)\n",
    "daegu\n"
   ]
  },
  {
   "cell_type": "code",
   "execution_count": null,
   "metadata": {},
   "outputs": [],
   "source": []
  },
  {
   "cell_type": "code",
   "execution_count": 106,
   "metadata": {},
   "outputs": [
    {
     "output_type": "execute_result",
     "data": {
      "text/plain": "               상호명      시    구      동          경도         위도  count\n30554   스타벅스동성로중앙점  대구광역시   중구  삼덕동1가  128.596677  35.867508      1\n31198    스타벅스대구법원점  대구광역시  수성구    범어동  128.627770  35.864537      1\n31464         스타벅스  대구광역시  달서구    상인동  128.533791  35.822791      1\n41627         스타벅스  대구광역시  달서구    용산동  128.520117  35.850711      1\n53418         스타벅스  대구광역시  달성군    다사읍  128.464258  35.859160      1\n...            ...    ...  ...    ...         ...        ...    ...\n439890       이디야커피  대구광역시   중구  동인동1가  128.604905  35.871892      1\n442241       이디야커피  대구광역시   중구  동인동2가  128.606331  35.868757      1\n489054       이디야커피  대구광역시   북구    산격동  128.609675  35.906289      1\n494386       이디야커피  대구광역시   동구    신암동  128.628726  35.879098      1\n512351       이디야커피  대구광역시   남구    대명동  128.586059  35.845171      1\n\n[106 rows x 7 columns]",
      "text/html": "<div>\n<style scoped>\n    .dataframe tbody tr th:only-of-type {\n        vertical-align: middle;\n    }\n\n    .dataframe tbody tr th {\n        vertical-align: top;\n    }\n\n    .dataframe thead th {\n        text-align: right;\n    }\n</style>\n<table border=\"1\" class=\"dataframe\">\n  <thead>\n    <tr style=\"text-align: right;\">\n      <th></th>\n      <th>상호명</th>\n      <th>시</th>\n      <th>구</th>\n      <th>동</th>\n      <th>경도</th>\n      <th>위도</th>\n      <th>count</th>\n    </tr>\n  </thead>\n  <tbody>\n    <tr>\n      <th>30554</th>\n      <td>스타벅스동성로중앙점</td>\n      <td>대구광역시</td>\n      <td>중구</td>\n      <td>삼덕동1가</td>\n      <td>128.596677</td>\n      <td>35.867508</td>\n      <td>1</td>\n    </tr>\n    <tr>\n      <th>31198</th>\n      <td>스타벅스대구법원점</td>\n      <td>대구광역시</td>\n      <td>수성구</td>\n      <td>범어동</td>\n      <td>128.627770</td>\n      <td>35.864537</td>\n      <td>1</td>\n    </tr>\n    <tr>\n      <th>31464</th>\n      <td>스타벅스</td>\n      <td>대구광역시</td>\n      <td>달서구</td>\n      <td>상인동</td>\n      <td>128.533791</td>\n      <td>35.822791</td>\n      <td>1</td>\n    </tr>\n    <tr>\n      <th>41627</th>\n      <td>스타벅스</td>\n      <td>대구광역시</td>\n      <td>달서구</td>\n      <td>용산동</td>\n      <td>128.520117</td>\n      <td>35.850711</td>\n      <td>1</td>\n    </tr>\n    <tr>\n      <th>53418</th>\n      <td>스타벅스</td>\n      <td>대구광역시</td>\n      <td>달성군</td>\n      <td>다사읍</td>\n      <td>128.464258</td>\n      <td>35.859160</td>\n      <td>1</td>\n    </tr>\n    <tr>\n      <th>...</th>\n      <td>...</td>\n      <td>...</td>\n      <td>...</td>\n      <td>...</td>\n      <td>...</td>\n      <td>...</td>\n      <td>...</td>\n    </tr>\n    <tr>\n      <th>439890</th>\n      <td>이디야커피</td>\n      <td>대구광역시</td>\n      <td>중구</td>\n      <td>동인동1가</td>\n      <td>128.604905</td>\n      <td>35.871892</td>\n      <td>1</td>\n    </tr>\n    <tr>\n      <th>442241</th>\n      <td>이디야커피</td>\n      <td>대구광역시</td>\n      <td>중구</td>\n      <td>동인동2가</td>\n      <td>128.606331</td>\n      <td>35.868757</td>\n      <td>1</td>\n    </tr>\n    <tr>\n      <th>489054</th>\n      <td>이디야커피</td>\n      <td>대구광역시</td>\n      <td>북구</td>\n      <td>산격동</td>\n      <td>128.609675</td>\n      <td>35.906289</td>\n      <td>1</td>\n    </tr>\n    <tr>\n      <th>494386</th>\n      <td>이디야커피</td>\n      <td>대구광역시</td>\n      <td>동구</td>\n      <td>신암동</td>\n      <td>128.628726</td>\n      <td>35.879098</td>\n      <td>1</td>\n    </tr>\n    <tr>\n      <th>512351</th>\n      <td>이디야커피</td>\n      <td>대구광역시</td>\n      <td>남구</td>\n      <td>대명동</td>\n      <td>128.586059</td>\n      <td>35.845171</td>\n      <td>1</td>\n    </tr>\n  </tbody>\n</table>\n<p>106 rows × 7 columns</p>\n</div>"
     },
     "metadata": {},
     "execution_count": 106
    }
   ],
   "source": [
    "star = pd.Series(daegu[\"상호명\"].unique())\n",
    "star = star[star.str.contains(\"스타벅스\", na=False)]\n",
    "daegu_star = daegu[daegu[\"상호명\"].isin(star)] # 스타벅스 포함한 상호명, na값은 false로\n",
    "\n",
    "ida = pd.Series(daegu[\"상호명\"].unique())\n",
    "ida = ida[ida.str.contains(\"이디야\", na=False)]\n",
    "daegu_ida = daegu[daegu[\"상호명\"].isin(ida)] # 이디야 포함한 상호명\n",
    "\n",
    "daegu_star = daegu_star.drop_duplicates([\"지번주소\"]) # 지번주소가 중복된 것이 있으면 제거 \n",
    "daegu_ida = daegu_ida.drop_duplicates([\"지번주소\"]) # 지번주소가 중복된 것이 있으면 제거 \n",
    "\n",
    "daegu_coffee = daegu_star.append(daegu_ida)\n",
    "\n",
    "daegu_coffee[\"지번주소\"] = daegu_coffee[\"지번주소\"].str.lstrip()\n",
    "daegu_coffee[['시', '구', '동', \"나머지\"]] = daegu_coffee[\"지번주소\"].str.split(' ', 3, expand=True)\n",
    "\n",
    "daegu_coffee = daegu_coffee[[\"상호명\", '시', '구', '동', \"경도\", \"위도\"]]\n",
    "daegu_coffee[\"count\"] = 1\n",
    "\n",
    "\n",
    "\n",
    "daegu_coffee"
   ]
  },
  {
   "cell_type": "code",
   "execution_count": 107,
   "metadata": {},
   "outputs": [
    {
     "output_type": "execute_result",
     "data": {
      "text/plain": "              경도          위도  count\n구                                  \n남구   1028.673458  286.742341      8\n달서구  2956.175256  824.172721     23\n달성군   899.083741  250.484385      7\n동구   1415.340002  394.787591     11\n북구   1671.597712  466.735357     13\n서구    385.676830  107.611828      3\n수성구  2958.627133  824.501857     23\n중구   2314.735899  645.636792     18",
      "text/html": "<div>\n<style scoped>\n    .dataframe tbody tr th:only-of-type {\n        vertical-align: middle;\n    }\n\n    .dataframe tbody tr th {\n        vertical-align: top;\n    }\n\n    .dataframe thead th {\n        text-align: right;\n    }\n</style>\n<table border=\"1\" class=\"dataframe\">\n  <thead>\n    <tr style=\"text-align: right;\">\n      <th></th>\n      <th>경도</th>\n      <th>위도</th>\n      <th>count</th>\n    </tr>\n    <tr>\n      <th>구</th>\n      <th></th>\n      <th></th>\n      <th></th>\n    </tr>\n  </thead>\n  <tbody>\n    <tr>\n      <th>남구</th>\n      <td>1028.673458</td>\n      <td>286.742341</td>\n      <td>8</td>\n    </tr>\n    <tr>\n      <th>달서구</th>\n      <td>2956.175256</td>\n      <td>824.172721</td>\n      <td>23</td>\n    </tr>\n    <tr>\n      <th>달성군</th>\n      <td>899.083741</td>\n      <td>250.484385</td>\n      <td>7</td>\n    </tr>\n    <tr>\n      <th>동구</th>\n      <td>1415.340002</td>\n      <td>394.787591</td>\n      <td>11</td>\n    </tr>\n    <tr>\n      <th>북구</th>\n      <td>1671.597712</td>\n      <td>466.735357</td>\n      <td>13</td>\n    </tr>\n    <tr>\n      <th>서구</th>\n      <td>385.676830</td>\n      <td>107.611828</td>\n      <td>3</td>\n    </tr>\n    <tr>\n      <th>수성구</th>\n      <td>2958.627133</td>\n      <td>824.501857</td>\n      <td>23</td>\n    </tr>\n    <tr>\n      <th>중구</th>\n      <td>2314.735899</td>\n      <td>645.636792</td>\n      <td>18</td>\n    </tr>\n  </tbody>\n</table>\n</div>"
     },
     "metadata": {},
     "execution_count": 107
    }
   ],
   "source": [
    "daegu_coffee.groupby(\"구\").sum()"
   ]
  },
  {
   "cell_type": "code",
   "execution_count": 108,
   "metadata": {},
   "outputs": [
    {
     "output_type": "execute_result",
     "data": {
      "text/plain": "                경도          위도  count\n동                                    \n각산동     128.713810   35.878622      1\n감삼동     257.074668   71.693673      2\n계산동2가   128.589727   35.866479      1\n남성로     128.592014   35.867396      1\n남일동     128.594364   35.870692      1\n내당동     128.556505   35.858255      1\n다사읍     128.464258   35.859160      1\n대곡동     128.520254   35.807240      1\n대명동     771.485021  215.063787      6\n대현동     128.606426   35.884097      1\n덕산동     128.591852   35.866342      1\n도원동     128.548097   35.807729      1\n동문동     128.596926   35.872581      1\n동성로2가   128.594829   35.870609      1\n동성로3가   385.781346  107.602062      3\n동인동1가   128.604905   35.871892      1\n동인동2가   257.207077   71.738309      2\n동천동     128.560531   35.942563      1\n두류동     128.561558   35.858871      1\n두산동     385.860311  107.489763      3\n만촌동     128.650236   35.856369      1\n문화동     128.598120   35.870962      1\n범물동     128.640375   35.821081      1\n범어동    1029.015463  286.890347      8\n봉덕동     257.188437   71.678554      2\n봉무동     128.639770   35.922041      1\n비산동     128.564951   35.887625      1\n산격동     385.831551  107.704236      3\n삼덕동1가   385.790473  107.602314      3\n삼덕동2가   128.603301   35.866366      1\n상인동     514.143790  143.278688      4\n성당동     128.556894   35.837928      1\n송현동     257.094613   71.652816      2\n수성동3가   128.620323   35.853823      1\n수성동4가   257.231132   71.721639      2\n신당동     256.986958   71.711679      2\n신매동     257.424468   71.676000      2\n신서동     386.182969  107.617447      3\n신암동     128.628726   35.879098      1\n신천동     385.885119  107.622318      3\n옥포면     128.441570   35.780992      1\n용산동     128.520117   35.850711      1\n욱수동     128.708130   35.830237      1\n월성동     128.525788   35.824278      1\n유가면     385.380775  107.084799      3\n이곡동     385.526753  107.564581      3\n장기동     128.533754   35.843774      1\n종로1가    128.590965   35.870790      1\n중대동     128.636409   35.987971      1\n중동      257.226458   71.688296      2\n지산동     257.250237   71.674302      2\n진천동     385.582011  107.440752      3\n칠성동2가   385.775319  107.644751      3\n침산동     257.183987   71.775288      2\n태전동     385.639898  107.784421      3\n평리동     128.555374   35.865948      1\n하빈면     256.797139   71.759433      2\n효목동     128.653199   35.880094      1",
      "text/html": "<div>\n<style scoped>\n    .dataframe tbody tr th:only-of-type {\n        vertical-align: middle;\n    }\n\n    .dataframe tbody tr th {\n        vertical-align: top;\n    }\n\n    .dataframe thead th {\n        text-align: right;\n    }\n</style>\n<table border=\"1\" class=\"dataframe\">\n  <thead>\n    <tr style=\"text-align: right;\">\n      <th></th>\n      <th>경도</th>\n      <th>위도</th>\n      <th>count</th>\n    </tr>\n    <tr>\n      <th>동</th>\n      <th></th>\n      <th></th>\n      <th></th>\n    </tr>\n  </thead>\n  <tbody>\n    <tr>\n      <th>각산동</th>\n      <td>128.713810</td>\n      <td>35.878622</td>\n      <td>1</td>\n    </tr>\n    <tr>\n      <th>감삼동</th>\n      <td>257.074668</td>\n      <td>71.693673</td>\n      <td>2</td>\n    </tr>\n    <tr>\n      <th>계산동2가</th>\n      <td>128.589727</td>\n      <td>35.866479</td>\n      <td>1</td>\n    </tr>\n    <tr>\n      <th>남성로</th>\n      <td>128.592014</td>\n      <td>35.867396</td>\n      <td>1</td>\n    </tr>\n    <tr>\n      <th>남일동</th>\n      <td>128.594364</td>\n      <td>35.870692</td>\n      <td>1</td>\n    </tr>\n    <tr>\n      <th>내당동</th>\n      <td>128.556505</td>\n      <td>35.858255</td>\n      <td>1</td>\n    </tr>\n    <tr>\n      <th>다사읍</th>\n      <td>128.464258</td>\n      <td>35.859160</td>\n      <td>1</td>\n    </tr>\n    <tr>\n      <th>대곡동</th>\n      <td>128.520254</td>\n      <td>35.807240</td>\n      <td>1</td>\n    </tr>\n    <tr>\n      <th>대명동</th>\n      <td>771.485021</td>\n      <td>215.063787</td>\n      <td>6</td>\n    </tr>\n    <tr>\n      <th>대현동</th>\n      <td>128.606426</td>\n      <td>35.884097</td>\n      <td>1</td>\n    </tr>\n    <tr>\n      <th>덕산동</th>\n      <td>128.591852</td>\n      <td>35.866342</td>\n      <td>1</td>\n    </tr>\n    <tr>\n      <th>도원동</th>\n      <td>128.548097</td>\n      <td>35.807729</td>\n      <td>1</td>\n    </tr>\n    <tr>\n      <th>동문동</th>\n      <td>128.596926</td>\n      <td>35.872581</td>\n      <td>1</td>\n    </tr>\n    <tr>\n      <th>동성로2가</th>\n      <td>128.594829</td>\n      <td>35.870609</td>\n      <td>1</td>\n    </tr>\n    <tr>\n      <th>동성로3가</th>\n      <td>385.781346</td>\n      <td>107.602062</td>\n      <td>3</td>\n    </tr>\n    <tr>\n      <th>동인동1가</th>\n      <td>128.604905</td>\n      <td>35.871892</td>\n      <td>1</td>\n    </tr>\n    <tr>\n      <th>동인동2가</th>\n      <td>257.207077</td>\n      <td>71.738309</td>\n      <td>2</td>\n    </tr>\n    <tr>\n      <th>동천동</th>\n      <td>128.560531</td>\n      <td>35.942563</td>\n      <td>1</td>\n    </tr>\n    <tr>\n      <th>두류동</th>\n      <td>128.561558</td>\n      <td>35.858871</td>\n      <td>1</td>\n    </tr>\n    <tr>\n      <th>두산동</th>\n      <td>385.860311</td>\n      <td>107.489763</td>\n      <td>3</td>\n    </tr>\n    <tr>\n      <th>만촌동</th>\n      <td>128.650236</td>\n      <td>35.856369</td>\n      <td>1</td>\n    </tr>\n    <tr>\n      <th>문화동</th>\n      <td>128.598120</td>\n      <td>35.870962</td>\n      <td>1</td>\n    </tr>\n    <tr>\n      <th>범물동</th>\n      <td>128.640375</td>\n      <td>35.821081</td>\n      <td>1</td>\n    </tr>\n    <tr>\n      <th>범어동</th>\n      <td>1029.015463</td>\n      <td>286.890347</td>\n      <td>8</td>\n    </tr>\n    <tr>\n      <th>봉덕동</th>\n      <td>257.188437</td>\n      <td>71.678554</td>\n      <td>2</td>\n    </tr>\n    <tr>\n      <th>봉무동</th>\n      <td>128.639770</td>\n      <td>35.922041</td>\n      <td>1</td>\n    </tr>\n    <tr>\n      <th>비산동</th>\n      <td>128.564951</td>\n      <td>35.887625</td>\n      <td>1</td>\n    </tr>\n    <tr>\n      <th>산격동</th>\n      <td>385.831551</td>\n      <td>107.704236</td>\n      <td>3</td>\n    </tr>\n    <tr>\n      <th>삼덕동1가</th>\n      <td>385.790473</td>\n      <td>107.602314</td>\n      <td>3</td>\n    </tr>\n    <tr>\n      <th>삼덕동2가</th>\n      <td>128.603301</td>\n      <td>35.866366</td>\n      <td>1</td>\n    </tr>\n    <tr>\n      <th>상인동</th>\n      <td>514.143790</td>\n      <td>143.278688</td>\n      <td>4</td>\n    </tr>\n    <tr>\n      <th>성당동</th>\n      <td>128.556894</td>\n      <td>35.837928</td>\n      <td>1</td>\n    </tr>\n    <tr>\n      <th>송현동</th>\n      <td>257.094613</td>\n      <td>71.652816</td>\n      <td>2</td>\n    </tr>\n    <tr>\n      <th>수성동3가</th>\n      <td>128.620323</td>\n      <td>35.853823</td>\n      <td>1</td>\n    </tr>\n    <tr>\n      <th>수성동4가</th>\n      <td>257.231132</td>\n      <td>71.721639</td>\n      <td>2</td>\n    </tr>\n    <tr>\n      <th>신당동</th>\n      <td>256.986958</td>\n      <td>71.711679</td>\n      <td>2</td>\n    </tr>\n    <tr>\n      <th>신매동</th>\n      <td>257.424468</td>\n      <td>71.676000</td>\n      <td>2</td>\n    </tr>\n    <tr>\n      <th>신서동</th>\n      <td>386.182969</td>\n      <td>107.617447</td>\n      <td>3</td>\n    </tr>\n    <tr>\n      <th>신암동</th>\n      <td>128.628726</td>\n      <td>35.879098</td>\n      <td>1</td>\n    </tr>\n    <tr>\n      <th>신천동</th>\n      <td>385.885119</td>\n      <td>107.622318</td>\n      <td>3</td>\n    </tr>\n    <tr>\n      <th>옥포면</th>\n      <td>128.441570</td>\n      <td>35.780992</td>\n      <td>1</td>\n    </tr>\n    <tr>\n      <th>용산동</th>\n      <td>128.520117</td>\n      <td>35.850711</td>\n      <td>1</td>\n    </tr>\n    <tr>\n      <th>욱수동</th>\n      <td>128.708130</td>\n      <td>35.830237</td>\n      <td>1</td>\n    </tr>\n    <tr>\n      <th>월성동</th>\n      <td>128.525788</td>\n      <td>35.824278</td>\n      <td>1</td>\n    </tr>\n    <tr>\n      <th>유가면</th>\n      <td>385.380775</td>\n      <td>107.084799</td>\n      <td>3</td>\n    </tr>\n    <tr>\n      <th>이곡동</th>\n      <td>385.526753</td>\n      <td>107.564581</td>\n      <td>3</td>\n    </tr>\n    <tr>\n      <th>장기동</th>\n      <td>128.533754</td>\n      <td>35.843774</td>\n      <td>1</td>\n    </tr>\n    <tr>\n      <th>종로1가</th>\n      <td>128.590965</td>\n      <td>35.870790</td>\n      <td>1</td>\n    </tr>\n    <tr>\n      <th>중대동</th>\n      <td>128.636409</td>\n      <td>35.987971</td>\n      <td>1</td>\n    </tr>\n    <tr>\n      <th>중동</th>\n      <td>257.226458</td>\n      <td>71.688296</td>\n      <td>2</td>\n    </tr>\n    <tr>\n      <th>지산동</th>\n      <td>257.250237</td>\n      <td>71.674302</td>\n      <td>2</td>\n    </tr>\n    <tr>\n      <th>진천동</th>\n      <td>385.582011</td>\n      <td>107.440752</td>\n      <td>3</td>\n    </tr>\n    <tr>\n      <th>칠성동2가</th>\n      <td>385.775319</td>\n      <td>107.644751</td>\n      <td>3</td>\n    </tr>\n    <tr>\n      <th>침산동</th>\n      <td>257.183987</td>\n      <td>71.775288</td>\n      <td>2</td>\n    </tr>\n    <tr>\n      <th>태전동</th>\n      <td>385.639898</td>\n      <td>107.784421</td>\n      <td>3</td>\n    </tr>\n    <tr>\n      <th>평리동</th>\n      <td>128.555374</td>\n      <td>35.865948</td>\n      <td>1</td>\n    </tr>\n    <tr>\n      <th>하빈면</th>\n      <td>256.797139</td>\n      <td>71.759433</td>\n      <td>2</td>\n    </tr>\n    <tr>\n      <th>효목동</th>\n      <td>128.653199</td>\n      <td>35.880094</td>\n      <td>1</td>\n    </tr>\n  </tbody>\n</table>\n</div>"
     },
     "metadata": {},
     "execution_count": 108
    }
   ],
   "source": [
    "daegu_coffee.groupby(\"동\").sum()"
   ]
  },
  {
   "cell_type": "code",
   "execution_count": 109,
   "metadata": {
    "tags": []
   },
   "outputs": [
    {
     "output_type": "stream",
     "name": "stdout",
     "text": "상호명         34\n상권업종중분류명    34\n시도명         34\n시군구명        34\n지번주소        34\n경도          34\n위도          34\ndtype: int64\n상호명         72\n상권업종중분류명    72\n시도명         72\n시군구명        72\n지번주소        72\n경도          72\n위도          72\ndtype: int64\n"
    }
   ],
   "source": [
    "print(daegu_ida.count())\n",
    "print(daegu_star.count())"
   ]
  },
  {
   "cell_type": "code",
   "execution_count": 110,
   "metadata": {},
   "outputs": [
    {
     "output_type": "execute_result",
     "data": {
      "text/plain": "               상호명      시    구      동          경도         위도  count\n30554   스타벅스동성로중앙점  대구광역시   중구  삼덕동1가  128.596677  35.867508      1\n31198    스타벅스대구법원점  대구광역시  수성구    범어동  128.627770  35.864537      1\n31464         스타벅스  대구광역시  달서구    상인동  128.533791  35.822791      1\n41627         스타벅스  대구광역시  달서구    용산동  128.520117  35.850711      1\n53418         스타벅스  대구광역시  달성군    다사읍  128.464258  35.859160      1\n...            ...    ...  ...    ...         ...        ...    ...\n439890       이디야커피  대구광역시   중구  동인동1가  128.604905  35.871892      1\n442241       이디야커피  대구광역시   중구  동인동2가  128.606331  35.868757      1\n489054       이디야커피  대구광역시   북구    산격동  128.609675  35.906289      1\n494386       이디야커피  대구광역시   동구    신암동  128.628726  35.879098      1\n512351       이디야커피  대구광역시   남구    대명동  128.586059  35.845171      1\n\n[106 rows x 7 columns]",
      "text/html": "<div>\n<style scoped>\n    .dataframe tbody tr th:only-of-type {\n        vertical-align: middle;\n    }\n\n    .dataframe tbody tr th {\n        vertical-align: top;\n    }\n\n    .dataframe thead th {\n        text-align: right;\n    }\n</style>\n<table border=\"1\" class=\"dataframe\">\n  <thead>\n    <tr style=\"text-align: right;\">\n      <th></th>\n      <th>상호명</th>\n      <th>시</th>\n      <th>구</th>\n      <th>동</th>\n      <th>경도</th>\n      <th>위도</th>\n      <th>count</th>\n    </tr>\n  </thead>\n  <tbody>\n    <tr>\n      <th>30554</th>\n      <td>스타벅스동성로중앙점</td>\n      <td>대구광역시</td>\n      <td>중구</td>\n      <td>삼덕동1가</td>\n      <td>128.596677</td>\n      <td>35.867508</td>\n      <td>1</td>\n    </tr>\n    <tr>\n      <th>31198</th>\n      <td>스타벅스대구법원점</td>\n      <td>대구광역시</td>\n      <td>수성구</td>\n      <td>범어동</td>\n      <td>128.627770</td>\n      <td>35.864537</td>\n      <td>1</td>\n    </tr>\n    <tr>\n      <th>31464</th>\n      <td>스타벅스</td>\n      <td>대구광역시</td>\n      <td>달서구</td>\n      <td>상인동</td>\n      <td>128.533791</td>\n      <td>35.822791</td>\n      <td>1</td>\n    </tr>\n    <tr>\n      <th>41627</th>\n      <td>스타벅스</td>\n      <td>대구광역시</td>\n      <td>달서구</td>\n      <td>용산동</td>\n      <td>128.520117</td>\n      <td>35.850711</td>\n      <td>1</td>\n    </tr>\n    <tr>\n      <th>53418</th>\n      <td>스타벅스</td>\n      <td>대구광역시</td>\n      <td>달성군</td>\n      <td>다사읍</td>\n      <td>128.464258</td>\n      <td>35.859160</td>\n      <td>1</td>\n    </tr>\n    <tr>\n      <th>...</th>\n      <td>...</td>\n      <td>...</td>\n      <td>...</td>\n      <td>...</td>\n      <td>...</td>\n      <td>...</td>\n      <td>...</td>\n    </tr>\n    <tr>\n      <th>439890</th>\n      <td>이디야커피</td>\n      <td>대구광역시</td>\n      <td>중구</td>\n      <td>동인동1가</td>\n      <td>128.604905</td>\n      <td>35.871892</td>\n      <td>1</td>\n    </tr>\n    <tr>\n      <th>442241</th>\n      <td>이디야커피</td>\n      <td>대구광역시</td>\n      <td>중구</td>\n      <td>동인동2가</td>\n      <td>128.606331</td>\n      <td>35.868757</td>\n      <td>1</td>\n    </tr>\n    <tr>\n      <th>489054</th>\n      <td>이디야커피</td>\n      <td>대구광역시</td>\n      <td>북구</td>\n      <td>산격동</td>\n      <td>128.609675</td>\n      <td>35.906289</td>\n      <td>1</td>\n    </tr>\n    <tr>\n      <th>494386</th>\n      <td>이디야커피</td>\n      <td>대구광역시</td>\n      <td>동구</td>\n      <td>신암동</td>\n      <td>128.628726</td>\n      <td>35.879098</td>\n      <td>1</td>\n    </tr>\n    <tr>\n      <th>512351</th>\n      <td>이디야커피</td>\n      <td>대구광역시</td>\n      <td>남구</td>\n      <td>대명동</td>\n      <td>128.586059</td>\n      <td>35.845171</td>\n      <td>1</td>\n    </tr>\n  </tbody>\n</table>\n<p>106 rows × 7 columns</p>\n</div>"
     },
     "metadata": {},
     "execution_count": 110
    }
   ],
   "source": [
    "daegu_coffee"
   ]
  },
  {
   "cell_type": "code",
   "execution_count": 111,
   "metadata": {},
   "outputs": [],
   "source": [
    "cal_daegu_coffee = daegu_coffee\n",
    "cal_daegu_coffee = cal_daegu_coffee.reset_index()\n",
    "cal_daegu_coffee = cal_daegu_coffee[[\"구\",\"동\",\"상호명\", \"경도\", \"위도\"]]"
   ]
  },
  {
   "cell_type": "code",
   "execution_count": 112,
   "metadata": {},
   "outputs": [
    {
     "output_type": "execute_result",
     "data": {
      "text/plain": "       구      동         상호명          경도         위도\n0     중구  삼덕동1가  스타벅스동성로중앙점  128.596677  35.867508\n1    수성구    범어동   스타벅스대구법원점  128.627770  35.864537\n2    달서구    상인동        스타벅스  128.533791  35.822791\n3    달서구    용산동        스타벅스  128.520117  35.850711\n4    달성군    다사읍        스타벅스  128.464258  35.859160\n..   ...    ...         ...         ...        ...\n101   중구  동인동1가       이디야커피  128.604905  35.871892\n102   중구  동인동2가       이디야커피  128.606331  35.868757\n103   북구    산격동       이디야커피  128.609675  35.906289\n104   동구    신암동       이디야커피  128.628726  35.879098\n105   남구    대명동       이디야커피  128.586059  35.845171\n\n[106 rows x 5 columns]",
      "text/html": "<div>\n<style scoped>\n    .dataframe tbody tr th:only-of-type {\n        vertical-align: middle;\n    }\n\n    .dataframe tbody tr th {\n        vertical-align: top;\n    }\n\n    .dataframe thead th {\n        text-align: right;\n    }\n</style>\n<table border=\"1\" class=\"dataframe\">\n  <thead>\n    <tr style=\"text-align: right;\">\n      <th></th>\n      <th>구</th>\n      <th>동</th>\n      <th>상호명</th>\n      <th>경도</th>\n      <th>위도</th>\n    </tr>\n  </thead>\n  <tbody>\n    <tr>\n      <th>0</th>\n      <td>중구</td>\n      <td>삼덕동1가</td>\n      <td>스타벅스동성로중앙점</td>\n      <td>128.596677</td>\n      <td>35.867508</td>\n    </tr>\n    <tr>\n      <th>1</th>\n      <td>수성구</td>\n      <td>범어동</td>\n      <td>스타벅스대구법원점</td>\n      <td>128.627770</td>\n      <td>35.864537</td>\n    </tr>\n    <tr>\n      <th>2</th>\n      <td>달서구</td>\n      <td>상인동</td>\n      <td>스타벅스</td>\n      <td>128.533791</td>\n      <td>35.822791</td>\n    </tr>\n    <tr>\n      <th>3</th>\n      <td>달서구</td>\n      <td>용산동</td>\n      <td>스타벅스</td>\n      <td>128.520117</td>\n      <td>35.850711</td>\n    </tr>\n    <tr>\n      <th>4</th>\n      <td>달성군</td>\n      <td>다사읍</td>\n      <td>스타벅스</td>\n      <td>128.464258</td>\n      <td>35.859160</td>\n    </tr>\n    <tr>\n      <th>...</th>\n      <td>...</td>\n      <td>...</td>\n      <td>...</td>\n      <td>...</td>\n      <td>...</td>\n    </tr>\n    <tr>\n      <th>101</th>\n      <td>중구</td>\n      <td>동인동1가</td>\n      <td>이디야커피</td>\n      <td>128.604905</td>\n      <td>35.871892</td>\n    </tr>\n    <tr>\n      <th>102</th>\n      <td>중구</td>\n      <td>동인동2가</td>\n      <td>이디야커피</td>\n      <td>128.606331</td>\n      <td>35.868757</td>\n    </tr>\n    <tr>\n      <th>103</th>\n      <td>북구</td>\n      <td>산격동</td>\n      <td>이디야커피</td>\n      <td>128.609675</td>\n      <td>35.906289</td>\n    </tr>\n    <tr>\n      <th>104</th>\n      <td>동구</td>\n      <td>신암동</td>\n      <td>이디야커피</td>\n      <td>128.628726</td>\n      <td>35.879098</td>\n    </tr>\n    <tr>\n      <th>105</th>\n      <td>남구</td>\n      <td>대명동</td>\n      <td>이디야커피</td>\n      <td>128.586059</td>\n      <td>35.845171</td>\n    </tr>\n  </tbody>\n</table>\n<p>106 rows × 5 columns</p>\n</div>"
     },
     "metadata": {},
     "execution_count": 112
    }
   ],
   "source": [
    "cal_daegu_coffee"
   ]
  },
  {
   "cell_type": "code",
   "execution_count": 113,
   "metadata": {
    "tags": []
   },
   "outputs": [
    {
     "output_type": "stream",
     "name": "stdout",
     "text": "Requirement already satisfied: haversine in c:\\users\\w\\anaconda3\\lib\\site-packages (2.3.0)Note: you may need to restart the kernel to use updated packages.\n\n"
    }
   ],
   "source": [
    "pip install haversine"
   ]
  },
  {
   "cell_type": "code",
   "execution_count": 114,
   "metadata": {},
   "outputs": [
    {
     "output_type": "execute_result",
     "data": {
      "text/plain": "       구      동         상호명          경도         위도  \\\n0     중구  삼덕동1가  스타벅스동성로중앙점  128.596677  35.867508   \n1    수성구    범어동   스타벅스대구법원점  128.627770  35.864537   \n2    달서구    상인동        스타벅스  128.533791  35.822791   \n3    달서구    용산동        스타벅스  128.520117  35.850711   \n4    달성군    다사읍        스타벅스  128.464258  35.859160   \n..   ...    ...         ...         ...        ...   \n101   중구  동인동1가       이디야커피  128.604905  35.871892   \n102   중구  동인동2가       이디야커피  128.606331  35.868757   \n103   북구    산격동       이디야커피  128.609675  35.906289   \n104   동구    신암동       이디야커피  128.628726  35.879098   \n105   남구    대명동       이디야커피  128.586059  35.845171   \n\n                                                    참고      가장 가까운 지점  \\\n0     중구 삼덕동1가 스타벅스와의 거리가 0.06712225093556787로 가장 짧습니다           스타벅스   \n1       수성구 범어동 스타벅스와의 거리가 0.2269484887001416로 가장 짧습니다           스타벅스   \n2     달서구 상인동 이디야커피와의 거리가 0.12486972816079255로 가장 짧습니다          이디야커피   \n3       달서구 이곡동 이디야커피와의 거리가 0.810050029324139로 가장 짧습니다          이디야커피   \n4       달서구 신당동 이디야커피와의 거리가 2.629737277793995로 가장 짧습니다          이디야커피   \n..                                                 ...            ...   \n101  중구 동인동2가 이디야커피와의 거리가 0.37152518180045485로 가장 짧습니다          이디야커피   \n102  중구 동인동1가 이디야커피와의 거리가 0.37152518180045485로 가장 짧습니다          이디야커피   \n103  북구 산격동 스타벅스대구유통단지점와의 거리가 0.3351386470320799로 가...    스타벅스대구유통단지점   \n104  동구 신천동 스타벅스신세계백화점대구점와의 거리가 0.13599483752007로 가...  스타벅스신세계백화점대구점   \n105     남구 대명동 이디야커피와의 거리가 0.6346610043664037로 가장 짧습니다          이디야커피   \n\n           거리  \n0    0.067122  \n1    0.226948  \n2    0.124870  \n3    0.810050  \n4    2.629737  \n..        ...  \n101  0.371525  \n102  0.371525  \n103  0.335139  \n104  0.135995  \n105  0.634661  \n\n[106 rows x 8 columns]",
      "text/html": "<div>\n<style scoped>\n    .dataframe tbody tr th:only-of-type {\n        vertical-align: middle;\n    }\n\n    .dataframe tbody tr th {\n        vertical-align: top;\n    }\n\n    .dataframe thead th {\n        text-align: right;\n    }\n</style>\n<table border=\"1\" class=\"dataframe\">\n  <thead>\n    <tr style=\"text-align: right;\">\n      <th></th>\n      <th>구</th>\n      <th>동</th>\n      <th>상호명</th>\n      <th>경도</th>\n      <th>위도</th>\n      <th>참고</th>\n      <th>가장 가까운 지점</th>\n      <th>거리</th>\n    </tr>\n  </thead>\n  <tbody>\n    <tr>\n      <th>0</th>\n      <td>중구</td>\n      <td>삼덕동1가</td>\n      <td>스타벅스동성로중앙점</td>\n      <td>128.596677</td>\n      <td>35.867508</td>\n      <td>중구 삼덕동1가 스타벅스와의 거리가 0.06712225093556787로 가장 짧습니다</td>\n      <td>스타벅스</td>\n      <td>0.067122</td>\n    </tr>\n    <tr>\n      <th>1</th>\n      <td>수성구</td>\n      <td>범어동</td>\n      <td>스타벅스대구법원점</td>\n      <td>128.627770</td>\n      <td>35.864537</td>\n      <td>수성구 범어동 스타벅스와의 거리가 0.2269484887001416로 가장 짧습니다</td>\n      <td>스타벅스</td>\n      <td>0.226948</td>\n    </tr>\n    <tr>\n      <th>2</th>\n      <td>달서구</td>\n      <td>상인동</td>\n      <td>스타벅스</td>\n      <td>128.533791</td>\n      <td>35.822791</td>\n      <td>달서구 상인동 이디야커피와의 거리가 0.12486972816079255로 가장 짧습니다</td>\n      <td>이디야커피</td>\n      <td>0.124870</td>\n    </tr>\n    <tr>\n      <th>3</th>\n      <td>달서구</td>\n      <td>용산동</td>\n      <td>스타벅스</td>\n      <td>128.520117</td>\n      <td>35.850711</td>\n      <td>달서구 이곡동 이디야커피와의 거리가 0.810050029324139로 가장 짧습니다</td>\n      <td>이디야커피</td>\n      <td>0.810050</td>\n    </tr>\n    <tr>\n      <th>4</th>\n      <td>달성군</td>\n      <td>다사읍</td>\n      <td>스타벅스</td>\n      <td>128.464258</td>\n      <td>35.859160</td>\n      <td>달서구 신당동 이디야커피와의 거리가 2.629737277793995로 가장 짧습니다</td>\n      <td>이디야커피</td>\n      <td>2.629737</td>\n    </tr>\n    <tr>\n      <th>...</th>\n      <td>...</td>\n      <td>...</td>\n      <td>...</td>\n      <td>...</td>\n      <td>...</td>\n      <td>...</td>\n      <td>...</td>\n      <td>...</td>\n    </tr>\n    <tr>\n      <th>101</th>\n      <td>중구</td>\n      <td>동인동1가</td>\n      <td>이디야커피</td>\n      <td>128.604905</td>\n      <td>35.871892</td>\n      <td>중구 동인동2가 이디야커피와의 거리가 0.37152518180045485로 가장 짧습니다</td>\n      <td>이디야커피</td>\n      <td>0.371525</td>\n    </tr>\n    <tr>\n      <th>102</th>\n      <td>중구</td>\n      <td>동인동2가</td>\n      <td>이디야커피</td>\n      <td>128.606331</td>\n      <td>35.868757</td>\n      <td>중구 동인동1가 이디야커피와의 거리가 0.37152518180045485로 가장 짧습니다</td>\n      <td>이디야커피</td>\n      <td>0.371525</td>\n    </tr>\n    <tr>\n      <th>103</th>\n      <td>북구</td>\n      <td>산격동</td>\n      <td>이디야커피</td>\n      <td>128.609675</td>\n      <td>35.906289</td>\n      <td>북구 산격동 스타벅스대구유통단지점와의 거리가 0.3351386470320799로 가...</td>\n      <td>스타벅스대구유통단지점</td>\n      <td>0.335139</td>\n    </tr>\n    <tr>\n      <th>104</th>\n      <td>동구</td>\n      <td>신암동</td>\n      <td>이디야커피</td>\n      <td>128.628726</td>\n      <td>35.879098</td>\n      <td>동구 신천동 스타벅스신세계백화점대구점와의 거리가 0.13599483752007로 가...</td>\n      <td>스타벅스신세계백화점대구점</td>\n      <td>0.135995</td>\n    </tr>\n    <tr>\n      <th>105</th>\n      <td>남구</td>\n      <td>대명동</td>\n      <td>이디야커피</td>\n      <td>128.586059</td>\n      <td>35.845171</td>\n      <td>남구 대명동 이디야커피와의 거리가 0.6346610043664037로 가장 짧습니다</td>\n      <td>이디야커피</td>\n      <td>0.634661</td>\n    </tr>\n  </tbody>\n</table>\n<p>106 rows × 8 columns</p>\n</div>"
     },
     "metadata": {},
     "execution_count": 114
    }
   ],
   "source": [
    "from haversine import haversine\n",
    "cal_daegu_coffee[\"참고\"] = \"\"\n",
    "cal_daegu_coffee[\"가장 가까운 지점\"] = \"\"\n",
    "for i in range(cal_daegu_coffee.index.size):\n",
    "    latitude = cal_daegu_coffee.loc[i,\"위도\"] \n",
    "    longitude = cal_daegu_coffee.loc[i,\"경도\"]\n",
    "    first = latitude, longitude\n",
    "    min_result = []\n",
    "    for j in range(cal_daegu_coffee.index.size):\n",
    "        if i != j:\n",
    "            latitude = cal_daegu_coffee.loc[j,\"위도\"] \n",
    "            longitude = cal_daegu_coffee.loc[j,\"경도\"]\n",
    "            second = latitude, longitude\n",
    "            min_result.append(haversine(first, second))\n",
    "        else:\n",
    "            min_result.append(100000000000000000000000000000000)\n",
    "    temp = min_result.copy()\n",
    "    temp.sort()\n",
    "    min_index = 0\n",
    "    for a in range(len(min_result)):\n",
    "        if min_result[a] == temp[0]:\n",
    "            min_index = a    \n",
    "    cal_daegu_coffee.loc[i, \"참고\"] = cal_daegu_coffee.loc[min_index,\"구\"] + \" \" + cal_daegu_coffee.loc[min_index, \"동\"] + \" \" + cal_daegu_coffee.loc[min_index, \"상호명\"] + \"와의 거리가 \"  + str(min_result[min_index]) + \"로 가장 짧습니다\"\n",
    "    cal_daegu_coffee.loc[i, \"가장 가까운 지점\"] = cal_daegu_coffee.loc[min_index, \"상호명\"]\n",
    "    cal_daegu_coffee.loc[i, \"거리\"] = min_result[min_index]\n",
    "# 각 지점별 가장 가까운 곳 찾기\n",
    "cal_daegu_coffee"
   ]
  },
  {
   "cell_type": "code",
   "execution_count": 115,
   "metadata": {},
   "outputs": [
    {
     "output_type": "execute_result",
     "data": {
      "text/plain": "       구      동            상호명          경도         위도  \\\n2    달서구    상인동           스타벅스  128.533791  35.822791   \n3    달서구    용산동           스타벅스  128.520117  35.850711   \n4    달성군    다사읍           스타벅스  128.464258  35.859160   \n11    동구    신서동           스타벅스  128.727472  35.870888   \n12   수성구    신매동      스타벅스대구시지점  128.708058  35.839503   \n16   달서구    신당동           스타벅스  128.493811  35.855852   \n17   달서구    이곡동           스타벅스  128.510325  35.855071   \n18   수성구    만촌동           스타벅스  128.650236  35.856369   \n19    남구    대명동           스타벅스  128.579977  35.835304   \n20   수성구    범어동           스타벅스  128.626254  35.866168   \n23   달서구    성당동           스타벅스  128.556894  35.837928   \n25    북구    산격동           스타벅스  128.608571  35.892325   \n28    서구    비산동           스타벅스  128.564951  35.887625   \n30    남구    대명동           스타벅스  128.569179  35.845415   \n31    중구    덕산동     스타벅스대구반월당점  128.591852  35.866342   \n36    북구    침산동           스타벅스  128.591953  35.887486   \n43    북구    동천동           스타벅스  128.560531  35.942563   \n51    북구    태전동           스타벅스  128.547899  35.926903   \n53   달서구    월성동      스타벅스대구월성점  128.525788  35.824278   \n57    북구    산격동    스타벅스대구유통단지점  128.613304  35.905622   \n60   달서구    진천동           스타벅스  128.524384  35.814342   \n61   달성군    유가면  스타벅스대구테크노폴리스점  128.459018  35.693171   \n62    동구    신천동  스타벅스신세계백화점대구점  128.629249  35.877950   \n65   달서구    송현동           스타벅스  128.545210  35.824029   \n68    북구  칠성동2가           스타벅스  128.596148  35.879651   \n72    북구  칠성동2가          이디야커피  128.589799  35.885235   \n73   달서구    신당동          이디야커피  128.493147  35.855827   \n74   수성구    범어동          이디야커피  128.634550  35.852487   \n75    동구    신서동          이디야커피  128.724505  35.867373   \n77   수성구    신매동          이디야커피  128.716410  35.836497   \n78    북구    침산동          이디야커피  128.592033  35.887801   \n80    중구   종로1가          이디야커피  128.590965  35.870790   \n81    북구    태전동          이디야커피  128.548033  35.931877   \n83   수성구    범어동          이디야커피  128.624212  35.866899   \n84   달서구    진천동          이디야커피  128.532068  35.810063   \n86    중구    남성로     이디야커피대구종로점  128.592014  35.867396   \n89    남구    봉덕동     이디야커피대구봉덕점  128.598395  35.842614   \n90    북구    태전동          이디야커피  128.543967  35.925641   \n91    북구    대현동          이디야커피  128.606426  35.884097   \n92   달성군    옥포면          이디야커피  128.441570  35.780992   \n93   달서구    상인동          이디야커피  128.532407  35.822743   \n94   달서구    진천동          이디야커피  128.525559  35.816347   \n95    동구    신서동          이디야커피  128.730992  35.879186   \n96   달서구    이곡동          이디야커피  128.512324  35.854341   \n97   달성군    유가면          이디야커피  128.461151  35.693253   \n98    동구    각산동          이디야커피  128.713810  35.878622   \n99   달서구    송현동     이디야커피대구송현점  128.549404  35.828787   \n103   북구    산격동          이디야커피  128.609675  35.906289   \n104   동구    신암동          이디야커피  128.628726  35.879098   \n\n                                                    참고      가장 가까운 지점  \\\n2     달서구 상인동 이디야커피와의 거리가 0.12486972816079255로 가장 짧습니다          이디야커피   \n3       달서구 이곡동 이디야커피와의 거리가 0.810050029324139로 가장 짧습니다          이디야커피   \n4       달서구 신당동 이디야커피와의 거리가 2.629737277793995로 가장 짧습니다          이디야커피   \n11      동구 신서동 이디야커피와의 거리가 0.4735364875948054로 가장 짧습니다          이디야커피   \n12     수성구 신매동 이디야커피와의 거리가 0.8237683896877954로 가장 짧습니다          이디야커피   \n16    달서구 신당동 이디야커피와의 거리가 0.05994351931365911로 가장 짧습니다          이디야커피   \n17    달서구 이곡동 이디야커피와의 거리가 0.19760285385497198로 가장 짧습니다          이디야커피   \n18     수성구 범어동 이디야커피와의 거리가 1.4781531280902191로 가장 짧습니다          이디야커피   \n19   남구 대명동 이디야커피대명동점와의 거리가 0.775114236943295로 가장 짧습니다      이디야커피대명동점   \n20    수성구 범어동 이디야커피와의 거리가 0.20125523893036543로 가장 짧습니다          이디야커피   \n23   달서구 송현동 이디야커피대구송현점와의 거리가 1.2202944797438895로 가...     이디야커피대구송현점   \n25      북구 대현동 이디야커피와의 거리가 0.9350127772002557로 가장 짧습니다          이디야커피   \n28      북구 칠성동2가 이디야커피와의 거리가 2.25425003731989로 가장 짧습니다          이디야커피   \n30      남구 대명동 이디야커피와의 거리가 0.9958156475404107로 가장 짧습니다          이디야커피   \n31   중구 남성로 이디야커피대구종로점와의 거리가 0.11808672542967752로 가...     이디야커피대구종로점   \n36     북구 침산동 이디야커피와의 거리가 0.03576540665464168로 가장 짧습니다          이디야커피   \n43       북구 태전동 이디야커피와의 거리가 1.636486865236389로 가장 짧습니다          이디야커피   \n51     북구 태전동 이디야커피와의 거리가 0.38080402865333435로 가장 짧습니다          이디야커피   \n53     달서구 상인동 이디야커피와의 거리가 0.6206832948775841로 가장 짧습니다          이디야커피   \n57      북구 산격동 이디야커피와의 거리가 0.3351386470320799로 가장 짧습니다          이디야커피   \n60    달서구 진천동 이디야커피와의 거리가 0.24682954553567274로 가장 짧습니다          이디야커피   \n61    달성군 유가면 이디야커피와의 거리가 0.19283862492197645로 가장 짧습니다          이디야커피   \n62        동구 신암동 이디야커피와의 거리가 0.13599483752007로 가장 짧습니다          이디야커피   \n65   달서구 송현동 이디야커피대구송현점와의 거리가 0.6502947253454092로 가...     이디야커피대구송현점   \n68    북구 칠성동2가 이디야커피와의 거리가 0.6109782042751346로 가장 짧습니다          이디야커피   \n72       북구 침산동 스타벅스와의 거리가 0.3167941996231153로 가장 짧습니다           스타벅스   \n73     달서구 신당동 스타벅스와의 거리가 0.05994351931365911로 가장 짧습니다           스타벅스   \n74      수성구 범어동 스타벅스와의 거리가 1.0372580383036556로 가장 짧습니다           스타벅스   \n75       동구 신서동 스타벅스와의 거리가 0.4735364875948054로 가장 짧습니다           스타벅스   \n77   수성구 신매동 스타벅스대구시지점와의 거리가 0.8237683896877954로 가장...      스타벅스대구시지점   \n78      북구 침산동 스타벅스와의 거리가 0.03576540665464168로 가장 짧습니다           스타벅스   \n80      중구 남일동 스타벅스와의 거리가 0.30645532693391797로 가장 짧습니다           스타벅스   \n81       북구 태전동 스타벅스와의 거리가 0.5532882147916882로 가장 짧습니다           스타벅스   \n83     수성구 범어동 스타벅스와의 거리가 0.20125523893036543로 가장 짧습니다           스타벅스   \n84      달서구 진천동 스타벅스와의 거리가 0.8405571065995938로 가장 짧습니다           스타벅스   \n86   중구 덕산동 스타벅스대구반월당점와의 거리가 0.11808672542967752로 가...     스타벅스대구반월당점   \n89         남구 봉덕동 스타벅스와의 거리가 1.05709208342827로 가장 짧습니다           스타벅스   \n90      북구 태전동 스타벅스와의 거리가 0.38080402865333435로 가장 짧습니다           스타벅스   \n91       북구 산격동 스타벅스와의 거리가 0.9350127772002557로 가장 짧습니다           스타벅스   \n92        달서구 대곡동 스타벅스와의 거리가 7.67351129011616로 가장 짧습니다           스타벅스   \n93     달서구 상인동 스타벅스와의 거리가 0.12486972816079255로 가장 짧습니다           스타벅스   \n94     달서구 진천동 스타벅스와의 거리가 0.24682954553567274로 가장 짧습니다           스타벅스   \n95       동구 신서동 스타벅스와의 거리가 0.9756610090811474로 가장 짧습니다           스타벅스   \n96     달서구 이곡동 스타벅스와의 거리가 0.19760285385497198로 가장 짧습니다           스타벅스   \n97   달성군 유가면 스타벅스대구테크노폴리스점와의 거리가 0.1928386249219764...  스타벅스대구테크노폴리스점   \n98       동구 신서동 스타벅스와의 거리가 1.5016199478246879로 가장 짧습니다           스타벅스   \n99      달서구 송현동 스타벅스와의 거리가 0.6502947253454092로 가장 짧습니다           스타벅스   \n103  북구 산격동 스타벅스대구유통단지점와의 거리가 0.3351386470320799로 가...    스타벅스대구유통단지점   \n104  동구 신천동 스타벅스신세계백화점대구점와의 거리가 0.13599483752007로 가...  스타벅스신세계백화점대구점   \n\n           거리  starCheck  VSstarCheck  \n2    0.124870       True        False  \n3    0.810050       True        False  \n4    2.629737       True        False  \n11   0.473536       True        False  \n12   0.823768       True        False  \n16   0.059944       True        False  \n17   0.197603       True        False  \n18   1.478153       True        False  \n19   0.775114       True        False  \n20   0.201255       True        False  \n23   1.220294       True        False  \n25   0.935013       True        False  \n28   2.254250       True        False  \n30   0.995816       True        False  \n31   0.118087       True        False  \n36   0.035765       True        False  \n43   1.636487       True        False  \n51   0.380804       True        False  \n53   0.620683       True        False  \n57   0.335139       True        False  \n60   0.246830       True        False  \n61   0.192839       True        False  \n62   0.135995       True        False  \n65   0.650295       True        False  \n68   0.610978       True        False  \n72   0.316794      False         True  \n73   0.059944      False         True  \n74   1.037258      False         True  \n75   0.473536      False         True  \n77   0.823768      False         True  \n78   0.035765      False         True  \n80   0.306455      False         True  \n81   0.553288      False         True  \n83   0.201255      False         True  \n84   0.840557      False         True  \n86   0.118087      False         True  \n89   1.057092      False         True  \n90   0.380804      False         True  \n91   0.935013      False         True  \n92   7.673511      False         True  \n93   0.124870      False         True  \n94   0.246830      False         True  \n95   0.975661      False         True  \n96   0.197603      False         True  \n97   0.192839      False         True  \n98   1.501620      False         True  \n99   0.650295      False         True  \n103  0.335139      False         True  \n104  0.135995      False         True  ",
      "text/html": "<div>\n<style scoped>\n    .dataframe tbody tr th:only-of-type {\n        vertical-align: middle;\n    }\n\n    .dataframe tbody tr th {\n        vertical-align: top;\n    }\n\n    .dataframe thead th {\n        text-align: right;\n    }\n</style>\n<table border=\"1\" class=\"dataframe\">\n  <thead>\n    <tr style=\"text-align: right;\">\n      <th></th>\n      <th>구</th>\n      <th>동</th>\n      <th>상호명</th>\n      <th>경도</th>\n      <th>위도</th>\n      <th>참고</th>\n      <th>가장 가까운 지점</th>\n      <th>거리</th>\n      <th>starCheck</th>\n      <th>VSstarCheck</th>\n    </tr>\n  </thead>\n  <tbody>\n    <tr>\n      <th>2</th>\n      <td>달서구</td>\n      <td>상인동</td>\n      <td>스타벅스</td>\n      <td>128.533791</td>\n      <td>35.822791</td>\n      <td>달서구 상인동 이디야커피와의 거리가 0.12486972816079255로 가장 짧습니다</td>\n      <td>이디야커피</td>\n      <td>0.124870</td>\n      <td>True</td>\n      <td>False</td>\n    </tr>\n    <tr>\n      <th>3</th>\n      <td>달서구</td>\n      <td>용산동</td>\n      <td>스타벅스</td>\n      <td>128.520117</td>\n      <td>35.850711</td>\n      <td>달서구 이곡동 이디야커피와의 거리가 0.810050029324139로 가장 짧습니다</td>\n      <td>이디야커피</td>\n      <td>0.810050</td>\n      <td>True</td>\n      <td>False</td>\n    </tr>\n    <tr>\n      <th>4</th>\n      <td>달성군</td>\n      <td>다사읍</td>\n      <td>스타벅스</td>\n      <td>128.464258</td>\n      <td>35.859160</td>\n      <td>달서구 신당동 이디야커피와의 거리가 2.629737277793995로 가장 짧습니다</td>\n      <td>이디야커피</td>\n      <td>2.629737</td>\n      <td>True</td>\n      <td>False</td>\n    </tr>\n    <tr>\n      <th>11</th>\n      <td>동구</td>\n      <td>신서동</td>\n      <td>스타벅스</td>\n      <td>128.727472</td>\n      <td>35.870888</td>\n      <td>동구 신서동 이디야커피와의 거리가 0.4735364875948054로 가장 짧습니다</td>\n      <td>이디야커피</td>\n      <td>0.473536</td>\n      <td>True</td>\n      <td>False</td>\n    </tr>\n    <tr>\n      <th>12</th>\n      <td>수성구</td>\n      <td>신매동</td>\n      <td>스타벅스대구시지점</td>\n      <td>128.708058</td>\n      <td>35.839503</td>\n      <td>수성구 신매동 이디야커피와의 거리가 0.8237683896877954로 가장 짧습니다</td>\n      <td>이디야커피</td>\n      <td>0.823768</td>\n      <td>True</td>\n      <td>False</td>\n    </tr>\n    <tr>\n      <th>16</th>\n      <td>달서구</td>\n      <td>신당동</td>\n      <td>스타벅스</td>\n      <td>128.493811</td>\n      <td>35.855852</td>\n      <td>달서구 신당동 이디야커피와의 거리가 0.05994351931365911로 가장 짧습니다</td>\n      <td>이디야커피</td>\n      <td>0.059944</td>\n      <td>True</td>\n      <td>False</td>\n    </tr>\n    <tr>\n      <th>17</th>\n      <td>달서구</td>\n      <td>이곡동</td>\n      <td>스타벅스</td>\n      <td>128.510325</td>\n      <td>35.855071</td>\n      <td>달서구 이곡동 이디야커피와의 거리가 0.19760285385497198로 가장 짧습니다</td>\n      <td>이디야커피</td>\n      <td>0.197603</td>\n      <td>True</td>\n      <td>False</td>\n    </tr>\n    <tr>\n      <th>18</th>\n      <td>수성구</td>\n      <td>만촌동</td>\n      <td>스타벅스</td>\n      <td>128.650236</td>\n      <td>35.856369</td>\n      <td>수성구 범어동 이디야커피와의 거리가 1.4781531280902191로 가장 짧습니다</td>\n      <td>이디야커피</td>\n      <td>1.478153</td>\n      <td>True</td>\n      <td>False</td>\n    </tr>\n    <tr>\n      <th>19</th>\n      <td>남구</td>\n      <td>대명동</td>\n      <td>스타벅스</td>\n      <td>128.579977</td>\n      <td>35.835304</td>\n      <td>남구 대명동 이디야커피대명동점와의 거리가 0.775114236943295로 가장 짧습니다</td>\n      <td>이디야커피대명동점</td>\n      <td>0.775114</td>\n      <td>True</td>\n      <td>False</td>\n    </tr>\n    <tr>\n      <th>20</th>\n      <td>수성구</td>\n      <td>범어동</td>\n      <td>스타벅스</td>\n      <td>128.626254</td>\n      <td>35.866168</td>\n      <td>수성구 범어동 이디야커피와의 거리가 0.20125523893036543로 가장 짧습니다</td>\n      <td>이디야커피</td>\n      <td>0.201255</td>\n      <td>True</td>\n      <td>False</td>\n    </tr>\n    <tr>\n      <th>23</th>\n      <td>달서구</td>\n      <td>성당동</td>\n      <td>스타벅스</td>\n      <td>128.556894</td>\n      <td>35.837928</td>\n      <td>달서구 송현동 이디야커피대구송현점와의 거리가 1.2202944797438895로 가...</td>\n      <td>이디야커피대구송현점</td>\n      <td>1.220294</td>\n      <td>True</td>\n      <td>False</td>\n    </tr>\n    <tr>\n      <th>25</th>\n      <td>북구</td>\n      <td>산격동</td>\n      <td>스타벅스</td>\n      <td>128.608571</td>\n      <td>35.892325</td>\n      <td>북구 대현동 이디야커피와의 거리가 0.9350127772002557로 가장 짧습니다</td>\n      <td>이디야커피</td>\n      <td>0.935013</td>\n      <td>True</td>\n      <td>False</td>\n    </tr>\n    <tr>\n      <th>28</th>\n      <td>서구</td>\n      <td>비산동</td>\n      <td>스타벅스</td>\n      <td>128.564951</td>\n      <td>35.887625</td>\n      <td>북구 칠성동2가 이디야커피와의 거리가 2.25425003731989로 가장 짧습니다</td>\n      <td>이디야커피</td>\n      <td>2.254250</td>\n      <td>True</td>\n      <td>False</td>\n    </tr>\n    <tr>\n      <th>30</th>\n      <td>남구</td>\n      <td>대명동</td>\n      <td>스타벅스</td>\n      <td>128.569179</td>\n      <td>35.845415</td>\n      <td>남구 대명동 이디야커피와의 거리가 0.9958156475404107로 가장 짧습니다</td>\n      <td>이디야커피</td>\n      <td>0.995816</td>\n      <td>True</td>\n      <td>False</td>\n    </tr>\n    <tr>\n      <th>31</th>\n      <td>중구</td>\n      <td>덕산동</td>\n      <td>스타벅스대구반월당점</td>\n      <td>128.591852</td>\n      <td>35.866342</td>\n      <td>중구 남성로 이디야커피대구종로점와의 거리가 0.11808672542967752로 가...</td>\n      <td>이디야커피대구종로점</td>\n      <td>0.118087</td>\n      <td>True</td>\n      <td>False</td>\n    </tr>\n    <tr>\n      <th>36</th>\n      <td>북구</td>\n      <td>침산동</td>\n      <td>스타벅스</td>\n      <td>128.591953</td>\n      <td>35.887486</td>\n      <td>북구 침산동 이디야커피와의 거리가 0.03576540665464168로 가장 짧습니다</td>\n      <td>이디야커피</td>\n      <td>0.035765</td>\n      <td>True</td>\n      <td>False</td>\n    </tr>\n    <tr>\n      <th>43</th>\n      <td>북구</td>\n      <td>동천동</td>\n      <td>스타벅스</td>\n      <td>128.560531</td>\n      <td>35.942563</td>\n      <td>북구 태전동 이디야커피와의 거리가 1.636486865236389로 가장 짧습니다</td>\n      <td>이디야커피</td>\n      <td>1.636487</td>\n      <td>True</td>\n      <td>False</td>\n    </tr>\n    <tr>\n      <th>51</th>\n      <td>북구</td>\n      <td>태전동</td>\n      <td>스타벅스</td>\n      <td>128.547899</td>\n      <td>35.926903</td>\n      <td>북구 태전동 이디야커피와의 거리가 0.38080402865333435로 가장 짧습니다</td>\n      <td>이디야커피</td>\n      <td>0.380804</td>\n      <td>True</td>\n      <td>False</td>\n    </tr>\n    <tr>\n      <th>53</th>\n      <td>달서구</td>\n      <td>월성동</td>\n      <td>스타벅스대구월성점</td>\n      <td>128.525788</td>\n      <td>35.824278</td>\n      <td>달서구 상인동 이디야커피와의 거리가 0.6206832948775841로 가장 짧습니다</td>\n      <td>이디야커피</td>\n      <td>0.620683</td>\n      <td>True</td>\n      <td>False</td>\n    </tr>\n    <tr>\n      <th>57</th>\n      <td>북구</td>\n      <td>산격동</td>\n      <td>스타벅스대구유통단지점</td>\n      <td>128.613304</td>\n      <td>35.905622</td>\n      <td>북구 산격동 이디야커피와의 거리가 0.3351386470320799로 가장 짧습니다</td>\n      <td>이디야커피</td>\n      <td>0.335139</td>\n      <td>True</td>\n      <td>False</td>\n    </tr>\n    <tr>\n      <th>60</th>\n      <td>달서구</td>\n      <td>진천동</td>\n      <td>스타벅스</td>\n      <td>128.524384</td>\n      <td>35.814342</td>\n      <td>달서구 진천동 이디야커피와의 거리가 0.24682954553567274로 가장 짧습니다</td>\n      <td>이디야커피</td>\n      <td>0.246830</td>\n      <td>True</td>\n      <td>False</td>\n    </tr>\n    <tr>\n      <th>61</th>\n      <td>달성군</td>\n      <td>유가면</td>\n      <td>스타벅스대구테크노폴리스점</td>\n      <td>128.459018</td>\n      <td>35.693171</td>\n      <td>달성군 유가면 이디야커피와의 거리가 0.19283862492197645로 가장 짧습니다</td>\n      <td>이디야커피</td>\n      <td>0.192839</td>\n      <td>True</td>\n      <td>False</td>\n    </tr>\n    <tr>\n      <th>62</th>\n      <td>동구</td>\n      <td>신천동</td>\n      <td>스타벅스신세계백화점대구점</td>\n      <td>128.629249</td>\n      <td>35.877950</td>\n      <td>동구 신암동 이디야커피와의 거리가 0.13599483752007로 가장 짧습니다</td>\n      <td>이디야커피</td>\n      <td>0.135995</td>\n      <td>True</td>\n      <td>False</td>\n    </tr>\n    <tr>\n      <th>65</th>\n      <td>달서구</td>\n      <td>송현동</td>\n      <td>스타벅스</td>\n      <td>128.545210</td>\n      <td>35.824029</td>\n      <td>달서구 송현동 이디야커피대구송현점와의 거리가 0.6502947253454092로 가...</td>\n      <td>이디야커피대구송현점</td>\n      <td>0.650295</td>\n      <td>True</td>\n      <td>False</td>\n    </tr>\n    <tr>\n      <th>68</th>\n      <td>북구</td>\n      <td>칠성동2가</td>\n      <td>스타벅스</td>\n      <td>128.596148</td>\n      <td>35.879651</td>\n      <td>북구 칠성동2가 이디야커피와의 거리가 0.6109782042751346로 가장 짧습니다</td>\n      <td>이디야커피</td>\n      <td>0.610978</td>\n      <td>True</td>\n      <td>False</td>\n    </tr>\n    <tr>\n      <th>72</th>\n      <td>북구</td>\n      <td>칠성동2가</td>\n      <td>이디야커피</td>\n      <td>128.589799</td>\n      <td>35.885235</td>\n      <td>북구 침산동 스타벅스와의 거리가 0.3167941996231153로 가장 짧습니다</td>\n      <td>스타벅스</td>\n      <td>0.316794</td>\n      <td>False</td>\n      <td>True</td>\n    </tr>\n    <tr>\n      <th>73</th>\n      <td>달서구</td>\n      <td>신당동</td>\n      <td>이디야커피</td>\n      <td>128.493147</td>\n      <td>35.855827</td>\n      <td>달서구 신당동 스타벅스와의 거리가 0.05994351931365911로 가장 짧습니다</td>\n      <td>스타벅스</td>\n      <td>0.059944</td>\n      <td>False</td>\n      <td>True</td>\n    </tr>\n    <tr>\n      <th>74</th>\n      <td>수성구</td>\n      <td>범어동</td>\n      <td>이디야커피</td>\n      <td>128.634550</td>\n      <td>35.852487</td>\n      <td>수성구 범어동 스타벅스와의 거리가 1.0372580383036556로 가장 짧습니다</td>\n      <td>스타벅스</td>\n      <td>1.037258</td>\n      <td>False</td>\n      <td>True</td>\n    </tr>\n    <tr>\n      <th>75</th>\n      <td>동구</td>\n      <td>신서동</td>\n      <td>이디야커피</td>\n      <td>128.724505</td>\n      <td>35.867373</td>\n      <td>동구 신서동 스타벅스와의 거리가 0.4735364875948054로 가장 짧습니다</td>\n      <td>스타벅스</td>\n      <td>0.473536</td>\n      <td>False</td>\n      <td>True</td>\n    </tr>\n    <tr>\n      <th>77</th>\n      <td>수성구</td>\n      <td>신매동</td>\n      <td>이디야커피</td>\n      <td>128.716410</td>\n      <td>35.836497</td>\n      <td>수성구 신매동 스타벅스대구시지점와의 거리가 0.8237683896877954로 가장...</td>\n      <td>스타벅스대구시지점</td>\n      <td>0.823768</td>\n      <td>False</td>\n      <td>True</td>\n    </tr>\n    <tr>\n      <th>78</th>\n      <td>북구</td>\n      <td>침산동</td>\n      <td>이디야커피</td>\n      <td>128.592033</td>\n      <td>35.887801</td>\n      <td>북구 침산동 스타벅스와의 거리가 0.03576540665464168로 가장 짧습니다</td>\n      <td>스타벅스</td>\n      <td>0.035765</td>\n      <td>False</td>\n      <td>True</td>\n    </tr>\n    <tr>\n      <th>80</th>\n      <td>중구</td>\n      <td>종로1가</td>\n      <td>이디야커피</td>\n      <td>128.590965</td>\n      <td>35.870790</td>\n      <td>중구 남일동 스타벅스와의 거리가 0.30645532693391797로 가장 짧습니다</td>\n      <td>스타벅스</td>\n      <td>0.306455</td>\n      <td>False</td>\n      <td>True</td>\n    </tr>\n    <tr>\n      <th>81</th>\n      <td>북구</td>\n      <td>태전동</td>\n      <td>이디야커피</td>\n      <td>128.548033</td>\n      <td>35.931877</td>\n      <td>북구 태전동 스타벅스와의 거리가 0.5532882147916882로 가장 짧습니다</td>\n      <td>스타벅스</td>\n      <td>0.553288</td>\n      <td>False</td>\n      <td>True</td>\n    </tr>\n    <tr>\n      <th>83</th>\n      <td>수성구</td>\n      <td>범어동</td>\n      <td>이디야커피</td>\n      <td>128.624212</td>\n      <td>35.866899</td>\n      <td>수성구 범어동 스타벅스와의 거리가 0.20125523893036543로 가장 짧습니다</td>\n      <td>스타벅스</td>\n      <td>0.201255</td>\n      <td>False</td>\n      <td>True</td>\n    </tr>\n    <tr>\n      <th>84</th>\n      <td>달서구</td>\n      <td>진천동</td>\n      <td>이디야커피</td>\n      <td>128.532068</td>\n      <td>35.810063</td>\n      <td>달서구 진천동 스타벅스와의 거리가 0.8405571065995938로 가장 짧습니다</td>\n      <td>스타벅스</td>\n      <td>0.840557</td>\n      <td>False</td>\n      <td>True</td>\n    </tr>\n    <tr>\n      <th>86</th>\n      <td>중구</td>\n      <td>남성로</td>\n      <td>이디야커피대구종로점</td>\n      <td>128.592014</td>\n      <td>35.867396</td>\n      <td>중구 덕산동 스타벅스대구반월당점와의 거리가 0.11808672542967752로 가...</td>\n      <td>스타벅스대구반월당점</td>\n      <td>0.118087</td>\n      <td>False</td>\n      <td>True</td>\n    </tr>\n    <tr>\n      <th>89</th>\n      <td>남구</td>\n      <td>봉덕동</td>\n      <td>이디야커피대구봉덕점</td>\n      <td>128.598395</td>\n      <td>35.842614</td>\n      <td>남구 봉덕동 스타벅스와의 거리가 1.05709208342827로 가장 짧습니다</td>\n      <td>스타벅스</td>\n      <td>1.057092</td>\n      <td>False</td>\n      <td>True</td>\n    </tr>\n    <tr>\n      <th>90</th>\n      <td>북구</td>\n      <td>태전동</td>\n      <td>이디야커피</td>\n      <td>128.543967</td>\n      <td>35.925641</td>\n      <td>북구 태전동 스타벅스와의 거리가 0.38080402865333435로 가장 짧습니다</td>\n      <td>스타벅스</td>\n      <td>0.380804</td>\n      <td>False</td>\n      <td>True</td>\n    </tr>\n    <tr>\n      <th>91</th>\n      <td>북구</td>\n      <td>대현동</td>\n      <td>이디야커피</td>\n      <td>128.606426</td>\n      <td>35.884097</td>\n      <td>북구 산격동 스타벅스와의 거리가 0.9350127772002557로 가장 짧습니다</td>\n      <td>스타벅스</td>\n      <td>0.935013</td>\n      <td>False</td>\n      <td>True</td>\n    </tr>\n    <tr>\n      <th>92</th>\n      <td>달성군</td>\n      <td>옥포면</td>\n      <td>이디야커피</td>\n      <td>128.441570</td>\n      <td>35.780992</td>\n      <td>달서구 대곡동 스타벅스와의 거리가 7.67351129011616로 가장 짧습니다</td>\n      <td>스타벅스</td>\n      <td>7.673511</td>\n      <td>False</td>\n      <td>True</td>\n    </tr>\n    <tr>\n      <th>93</th>\n      <td>달서구</td>\n      <td>상인동</td>\n      <td>이디야커피</td>\n      <td>128.532407</td>\n      <td>35.822743</td>\n      <td>달서구 상인동 스타벅스와의 거리가 0.12486972816079255로 가장 짧습니다</td>\n      <td>스타벅스</td>\n      <td>0.124870</td>\n      <td>False</td>\n      <td>True</td>\n    </tr>\n    <tr>\n      <th>94</th>\n      <td>달서구</td>\n      <td>진천동</td>\n      <td>이디야커피</td>\n      <td>128.525559</td>\n      <td>35.816347</td>\n      <td>달서구 진천동 스타벅스와의 거리가 0.24682954553567274로 가장 짧습니다</td>\n      <td>스타벅스</td>\n      <td>0.246830</td>\n      <td>False</td>\n      <td>True</td>\n    </tr>\n    <tr>\n      <th>95</th>\n      <td>동구</td>\n      <td>신서동</td>\n      <td>이디야커피</td>\n      <td>128.730992</td>\n      <td>35.879186</td>\n      <td>동구 신서동 스타벅스와의 거리가 0.9756610090811474로 가장 짧습니다</td>\n      <td>스타벅스</td>\n      <td>0.975661</td>\n      <td>False</td>\n      <td>True</td>\n    </tr>\n    <tr>\n      <th>96</th>\n      <td>달서구</td>\n      <td>이곡동</td>\n      <td>이디야커피</td>\n      <td>128.512324</td>\n      <td>35.854341</td>\n      <td>달서구 이곡동 스타벅스와의 거리가 0.19760285385497198로 가장 짧습니다</td>\n      <td>스타벅스</td>\n      <td>0.197603</td>\n      <td>False</td>\n      <td>True</td>\n    </tr>\n    <tr>\n      <th>97</th>\n      <td>달성군</td>\n      <td>유가면</td>\n      <td>이디야커피</td>\n      <td>128.461151</td>\n      <td>35.693253</td>\n      <td>달성군 유가면 스타벅스대구테크노폴리스점와의 거리가 0.1928386249219764...</td>\n      <td>스타벅스대구테크노폴리스점</td>\n      <td>0.192839</td>\n      <td>False</td>\n      <td>True</td>\n    </tr>\n    <tr>\n      <th>98</th>\n      <td>동구</td>\n      <td>각산동</td>\n      <td>이디야커피</td>\n      <td>128.713810</td>\n      <td>35.878622</td>\n      <td>동구 신서동 스타벅스와의 거리가 1.5016199478246879로 가장 짧습니다</td>\n      <td>스타벅스</td>\n      <td>1.501620</td>\n      <td>False</td>\n      <td>True</td>\n    </tr>\n    <tr>\n      <th>99</th>\n      <td>달서구</td>\n      <td>송현동</td>\n      <td>이디야커피대구송현점</td>\n      <td>128.549404</td>\n      <td>35.828787</td>\n      <td>달서구 송현동 스타벅스와의 거리가 0.6502947253454092로 가장 짧습니다</td>\n      <td>스타벅스</td>\n      <td>0.650295</td>\n      <td>False</td>\n      <td>True</td>\n    </tr>\n    <tr>\n      <th>103</th>\n      <td>북구</td>\n      <td>산격동</td>\n      <td>이디야커피</td>\n      <td>128.609675</td>\n      <td>35.906289</td>\n      <td>북구 산격동 스타벅스대구유통단지점와의 거리가 0.3351386470320799로 가...</td>\n      <td>스타벅스대구유통단지점</td>\n      <td>0.335139</td>\n      <td>False</td>\n      <td>True</td>\n    </tr>\n    <tr>\n      <th>104</th>\n      <td>동구</td>\n      <td>신암동</td>\n      <td>이디야커피</td>\n      <td>128.628726</td>\n      <td>35.879098</td>\n      <td>동구 신천동 스타벅스신세계백화점대구점와의 거리가 0.13599483752007로 가...</td>\n      <td>스타벅스신세계백화점대구점</td>\n      <td>0.135995</td>\n      <td>False</td>\n      <td>True</td>\n    </tr>\n  </tbody>\n</table>\n</div>"
     },
     "metadata": {},
     "execution_count": 115
    }
   ],
   "source": [
    "star = pd.Series(cal_daegu_coffee[\"상호명\"].unique())\n",
    "star = star[star.str.contains(\"스타벅스\", na=False)]\n",
    "\n",
    "ida = pd.Series(cal_daegu_coffee[\"상호명\"].unique())\n",
    "ida = ida[ida.str.contains(\"이디야\", na=False)]\n",
    "\n",
    "\n",
    "cal_daegu_coffee[\"starCheck\"] = cal_daegu_coffee[\"상호명\"].isin(star)\n",
    "cal_daegu_coffee[\"VSstarCheck\"] = cal_daegu_coffee[\"가장 가까운 지점\"].isin(star)\n",
    "\n",
    "cal_daegu_coffee[cal_daegu_coffee[\"starCheck\"] != cal_daegu_coffee[\"VSstarCheck\"]]\n",
    "# 각 지점별 다른 브랜드와 가장 가까운 거리 찾기"
   ]
  },
  {
   "cell_type": "code",
   "execution_count": null,
   "metadata": {},
   "outputs": [],
   "source": []
  }
 ]
}