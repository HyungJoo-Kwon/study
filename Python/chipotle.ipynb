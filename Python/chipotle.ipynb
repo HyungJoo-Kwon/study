{
 "metadata": {
  "language_info": {
   "codemirror_mode": {
    "name": "ipython",
    "version": 3
   },
   "file_extension": ".py",
   "mimetype": "text/x-python",
   "name": "python",
   "nbconvert_exporter": "python",
   "pygments_lexer": "ipython3",
   "version": "3.8.3-final"
  },
  "orig_nbformat": 2,
  "kernelspec": {
   "name": "python_defaultSpec_1599635501140",
   "display_name": "Python 3.8.3 64-bit ('base': conda)"
  }
 },
 "nbformat": 4,
 "nbformat_minor": 2,
 "cells": [
  {
   "cell_type": "code",
   "execution_count": 1,
   "metadata": {},
   "outputs": [],
   "source": [
    "import pandas as pd\n",
    "file_path = 'chipotle.tsv'\n",
    "chipo = pd.read_csv(file_path,sep='\\t')"
   ]
  },
  {
   "cell_type": "code",
   "execution_count": 2,
   "metadata": {},
   "outputs": [
    {
     "output_type": "execute_result",
     "data": {
      "text/plain": "   order_id  quantity                              item_name  \\\n0         1         1           Chips and Fresh Tomato Salsa   \n1         1         1                                   Izze   \n2         1         1                       Nantucket Nectar   \n3         1         1  Chips and Tomatillo-Green Chili Salsa   \n4         2         2                           Chicken Bowl   \n\n                                  choice_description item_price  \n0                                                NaN     $2.39   \n1                                       [Clementine]     $3.39   \n2                                            [Apple]     $3.39   \n3                                                NaN     $2.39   \n4  [Tomatillo-Red Chili Salsa (Hot), [Black Beans...    $16.98   ",
      "text/html": "<div>\n<style scoped>\n    .dataframe tbody tr th:only-of-type {\n        vertical-align: middle;\n    }\n\n    .dataframe tbody tr th {\n        vertical-align: top;\n    }\n\n    .dataframe thead th {\n        text-align: right;\n    }\n</style>\n<table border=\"1\" class=\"dataframe\">\n  <thead>\n    <tr style=\"text-align: right;\">\n      <th></th>\n      <th>order_id</th>\n      <th>quantity</th>\n      <th>item_name</th>\n      <th>choice_description</th>\n      <th>item_price</th>\n    </tr>\n  </thead>\n  <tbody>\n    <tr>\n      <th>0</th>\n      <td>1</td>\n      <td>1</td>\n      <td>Chips and Fresh Tomato Salsa</td>\n      <td>NaN</td>\n      <td>$2.39</td>\n    </tr>\n    <tr>\n      <th>1</th>\n      <td>1</td>\n      <td>1</td>\n      <td>Izze</td>\n      <td>[Clementine]</td>\n      <td>$3.39</td>\n    </tr>\n    <tr>\n      <th>2</th>\n      <td>1</td>\n      <td>1</td>\n      <td>Nantucket Nectar</td>\n      <td>[Apple]</td>\n      <td>$3.39</td>\n    </tr>\n    <tr>\n      <th>3</th>\n      <td>1</td>\n      <td>1</td>\n      <td>Chips and Tomatillo-Green Chili Salsa</td>\n      <td>NaN</td>\n      <td>$2.39</td>\n    </tr>\n    <tr>\n      <th>4</th>\n      <td>2</td>\n      <td>2</td>\n      <td>Chicken Bowl</td>\n      <td>[Tomatillo-Red Chili Salsa (Hot), [Black Beans...</td>\n      <td>$16.98</td>\n    </tr>\n  </tbody>\n</table>\n</div>"
     },
     "metadata": {},
     "execution_count": 2
    }
   ],
   "source": [
    "chipo.head()"
   ]
  },
  {
   "cell_type": "markdown",
   "metadata": {},
   "source": [
    "## 1번 "
   ]
  },
  {
   "cell_type": "code",
   "execution_count": 3,
   "metadata": {},
   "outputs": [
    {
     "output_type": "execute_result",
     "data": {
      "text/plain": "Chicken Bowl                    726\nChicken Burrito                 553\nChips and Guacamole             479\nSteak Burrito                   368\nCanned Soft Drink               301\nChips                           211\nSteak Bowl                      211\nBottled Water                   162\nChicken Soft Tacos              115\nChips and Fresh Tomato Salsa    110\nName: item_name, dtype: int64"
     },
     "metadata": {},
     "execution_count": 3
    }
   ],
   "source": [
    "chipo['item_name'].value_counts()[0:10]"
   ]
  },
  {
   "cell_type": "code",
   "execution_count": 4,
   "metadata": {},
   "outputs": [
    {
     "output_type": "execute_result",
     "data": {
      "text/plain": "$1.09     106\n$1.25     264\n$1.50     117\n$1.69      99\n$1.99       1\n         ... \n$8.75     730\n$8.90      20\n$8.99     246\n$9.25     398\n$9.39      17\nName: item_price, Length: 78, dtype: int64"
     },
     "metadata": {},
     "execution_count": 4
    }
   ],
   "source": [
    "chipo['item_price'].value_counts().sort_index()"
   ]
  },
  {
   "cell_type": "code",
   "execution_count": 5,
   "metadata": {},
   "outputs": [
    {
     "output_type": "execute_result",
     "data": {
      "text/plain": "array(['$2.39 ', '$3.39 ', '$16.98 ', '$10.98 ', '$1.69 ', '$11.75 ',\n       '$9.25 ', '$4.45 ', '$8.75 ', '$11.25 ', '$8.49 ', '$2.18 ',\n       '$8.99 ', '$1.09 ', '$2.95 ', '$2.15 ', '$3.99 ', '$22.50 ',\n       '$11.48 ', '$17.98 ', '$17.50 ', '$4.30 ', '$5.90 ', '$1.25 ',\n       '$23.78 ', '$6.49 ', '$11.08 ', '$1.50 ', '$22.16 ', '$32.94 ',\n       '$22.20 ', '$10.58 ', '$2.50 ', '$23.50 ', '$7.40 ', '$18.50 ',\n       '$3.00 ', '$6.78 ', '$11.89 ', '$9.39 ', '$4.00 ', '$3.75 ',\n       '$8.69 ', '$2.29 ', '$8.90 ', '$3.27 ', '$3.89 ', '$8.19 ',\n       '$35.00 ', '$27.75 ', '$11.80 ', '$6.00 ', '$26.25 ', '$21.96 ',\n       '$4.36 ', '$7.50 ', '$4.78 ', '$13.35 ', '$6.45 ', '$5.07 ',\n       '$22.96 ', '$7.17 ', '$7.98 ', '$4.50 ', '$26.07 ', '$12.98 ',\n       '$35.25 ', '$44.25 ', '$10.50 ', '$33.75 ', '$16.38 ', '$13.52 ',\n       '$5.00 ', '$15.00 ', '$8.50 ', '$17.80 ', '$1.99 ', '$11.49 '],\n      dtype=object)"
     },
     "metadata": {},
     "execution_count": 5
    }
   ],
   "source": [
    "chipo['item_price'].unique()"
   ]
  },
  {
   "cell_type": "markdown",
   "metadata": {},
   "source": [
    "## 3번"
   ]
  },
  {
   "cell_type": "code",
   "execution_count": 8,
   "metadata": {},
   "outputs": [
    {
     "output_type": "execute_result",
     "data": {
      "text/plain": "18"
     },
     "metadata": {},
     "execution_count": 8
    }
   ],
   "source": [
    "sum(chipo[chipo['item_name']=='Veggie Salad Bowl']['quantity'])"
   ]
  },
  {
   "cell_type": "markdown",
   "metadata": {},
   "source": [
    "## 2번 \n",
    "- 가격을 전부 float 로 수정하자"
   ]
  },
  {
   "cell_type": "code",
   "execution_count": 9,
   "metadata": {
    "tags": []
   },
   "outputs": [],
   "source": [
    "item_name=chipo['item_name']\n",
    "quantity=chipo['quantity']\n",
    "item_price=chipo['item_price']\n"
   ]
  },
  {
   "cell_type": "code",
   "execution_count": 10,
   "metadata": {},
   "outputs": [],
   "source": [
    "for i in range(len(item_price)):\n",
    "    item_price[i]=item_price[i].replace('$',\"\")\n",
    "    item_price[i]=item_price[i].replace(' ',\"\")\n",
    "    item_price[i]=float(item_price[i])\n"
   ]
  },
  {
   "cell_type": "markdown",
   "metadata": {},
   "source": [
    "## 1개의 가격이 가장 높은 것들"
   ]
  },
  {
   "cell_type": "code",
   "execution_count": 71,
   "metadata": {},
   "outputs": [
    {
     "output_type": "execute_result",
     "data": {
      "text/plain": "11.89"
     },
     "metadata": {},
     "execution_count": 71
    }
   ],
   "source": [
    "item_per_price=item_price/quantity\n",
    "max(item_per_price)\n"
   ]
  },
  {
   "cell_type": "code",
   "execution_count": 72,
   "metadata": {},
   "outputs": [
    {
     "output_type": "execute_result",
     "data": {
      "text/plain": "28"
     },
     "metadata": {},
     "execution_count": 72
    }
   ],
   "source": [
    "sum(item_per_price==11.89)"
   ]
  },
  {
   "cell_type": "code",
   "execution_count": 73,
   "metadata": {},
   "outputs": [
    {
     "output_type": "execute_result",
     "data": {
      "text/plain": "1326    11.89\n606     11.89\n4313    11.89\n3208    11.89\n749     11.89\n4239    11.89\n1229    11.89\n2439    11.89\n2442    11.89\n2401    11.89\ndtype: object"
     },
     "metadata": {},
     "execution_count": 73
    }
   ],
   "source": [
    "item_per_price.sort_values().tail(10)"
   ]
  },
  {
   "cell_type": "markdown",
   "metadata": {},
   "source": [
    "찾아보면 나오는 메뉴들  \n",
    " Steak Salad Bowl  \n",
    " Barbacoa Salad Bowel  \n",
    "실제로 이것들의 주문을 보면 전부 선택사항이 있었다. "
   ]
  },
  {
   "cell_type": "code",
   "execution_count": 49,
   "metadata": {},
   "outputs": [
    {
     "output_type": "execute_result",
     "data": {
      "text/plain": "281     [Tomatillo Red Chili Salsa, [Black Beans, Chee...\n606     [Fresh Tomato Salsa, [Pinto Beans, Cheese, Gua...\n607                         [Fresh Tomato Salsa, Lettuce]\n613     [Tomatillo Red Chili Salsa, [Fajita Vegetables...\n749     [Roasted Chili Corn Salsa, [Rice, Cheese, Lett...\n1159    [Fresh Tomato Salsa, [Rice, Fajita Vegetables,...\n1311    [Roasted Chili Corn Salsa, [Fajita Vegetables,...\n1505    [Fresh Tomato Salsa, [Rice, Pinto Beans, Chees...\n1571    [Fresh Tomato Salsa, [Fajita Vegetables, Sour ...\n1590    [Fresh Tomato Salsa, [Fajita Vegetables, Rice,...\n1816    [Fresh Tomato Salsa, [Rice, Black Beans, Chees...\n2401    [Fresh Tomato Salsa, [Fajita Vegetables, Guaca...\n2439    [Fresh Tomato Salsa, [Fajita Vegetables, Rice,...\n2600    [Fresh Tomato Salsa, [Fajita Vegetables, Lettu...\n2624    [Fresh Tomato Salsa, [Black Beans, Sour Cream,...\n2740    [Fresh Tomato Salsa, [Fajita Vegetables, Black...\n2804    [Tomatillo Red Chili Salsa, [Rice, Black Beans...\n2957    [Fresh Tomato Salsa, [Black Beans, Cheese, Gua...\n3098    [Roasted Chili Corn Salsa, [Rice, Black Beans,...\n3120    [Roasted Chili Corn Salsa, [Fajita Vegetables,...\n3350    [Fresh Tomato Salsa, [Cheese, Guacamole, Lettu...\n3493    [Roasted Chili Corn Salsa, [Fajita Vegetables,...\n4036    [Fresh Tomato Salsa, [Fajita Vegetables, Chees...\n4241    [Roasted Chili Corn Salsa, [Fajita Vegetables,...\n4313    [Roasted Chili Corn Salsa, [Fajita Vegetables,...\n4391    [Fresh Tomato Salsa, [Black Beans, Pinto Beans...\n4419    [Roasted Chili Corn Salsa, [Fajita Vegetables,...\n4547    [Roasted Chili Corn Salsa, [Fajita Vegetables,...\n4572    [Fresh Tomato Salsa, [Fajita Vegetables, Lettu...\nName: choice_description, dtype: object"
     },
     "metadata": {},
     "execution_count": 49
    }
   ],
   "source": [
    "chipo[chipo['item_name']=='Steak Salad Bowl']['choice_description']"
   ]
  },
  {
   "cell_type": "code",
   "execution_count": 42,
   "metadata": {},
   "outputs": [
    {
     "output_type": "execute_result",
     "data": {
      "text/plain": "      order_id  quantity            item_name choice_description item_price\n1140       471         1        Bottled Water                NaN       1.09\n3361      1348         1        Bottled Water                NaN       1.09\n4001      1602         1        Bottled Water                NaN       1.09\n3499      1405         1        Bottled Water                NaN       1.09\n2545      1009         1        Bottled Water                NaN       1.09\n...        ...       ...                  ...                ...        ...\n2230       899         1  Chips and Guacamole                NaN       4.45\n2220       894         1  Chips and Guacamole                NaN       4.45\n2207       890         1  Chips and Guacamole                NaN       4.45\n2489       989         1  Chips and Guacamole                NaN       4.45\n4616      1832         1  Chips and Guacamole                NaN       4.45\n\n[1164 rows x 5 columns]",
      "text/html": "<div>\n<style scoped>\n    .dataframe tbody tr th:only-of-type {\n        vertical-align: middle;\n    }\n\n    .dataframe tbody tr th {\n        vertical-align: top;\n    }\n\n    .dataframe thead th {\n        text-align: right;\n    }\n</style>\n<table border=\"1\" class=\"dataframe\">\n  <thead>\n    <tr style=\"text-align: right;\">\n      <th></th>\n      <th>order_id</th>\n      <th>quantity</th>\n      <th>item_name</th>\n      <th>choice_description</th>\n      <th>item_price</th>\n    </tr>\n  </thead>\n  <tbody>\n    <tr>\n      <th>1140</th>\n      <td>471</td>\n      <td>1</td>\n      <td>Bottled Water</td>\n      <td>NaN</td>\n      <td>1.09</td>\n    </tr>\n    <tr>\n      <th>3361</th>\n      <td>1348</td>\n      <td>1</td>\n      <td>Bottled Water</td>\n      <td>NaN</td>\n      <td>1.09</td>\n    </tr>\n    <tr>\n      <th>4001</th>\n      <td>1602</td>\n      <td>1</td>\n      <td>Bottled Water</td>\n      <td>NaN</td>\n      <td>1.09</td>\n    </tr>\n    <tr>\n      <th>3499</th>\n      <td>1405</td>\n      <td>1</td>\n      <td>Bottled Water</td>\n      <td>NaN</td>\n      <td>1.09</td>\n    </tr>\n    <tr>\n      <th>2545</th>\n      <td>1009</td>\n      <td>1</td>\n      <td>Bottled Water</td>\n      <td>NaN</td>\n      <td>1.09</td>\n    </tr>\n    <tr>\n      <th>...</th>\n      <td>...</td>\n      <td>...</td>\n      <td>...</td>\n      <td>...</td>\n      <td>...</td>\n    </tr>\n    <tr>\n      <th>2230</th>\n      <td>899</td>\n      <td>1</td>\n      <td>Chips and Guacamole</td>\n      <td>NaN</td>\n      <td>4.45</td>\n    </tr>\n    <tr>\n      <th>2220</th>\n      <td>894</td>\n      <td>1</td>\n      <td>Chips and Guacamole</td>\n      <td>NaN</td>\n      <td>4.45</td>\n    </tr>\n    <tr>\n      <th>2207</th>\n      <td>890</td>\n      <td>1</td>\n      <td>Chips and Guacamole</td>\n      <td>NaN</td>\n      <td>4.45</td>\n    </tr>\n    <tr>\n      <th>2489</th>\n      <td>989</td>\n      <td>1</td>\n      <td>Chips and Guacamole</td>\n      <td>NaN</td>\n      <td>4.45</td>\n    </tr>\n    <tr>\n      <th>4616</th>\n      <td>1832</td>\n      <td>1</td>\n      <td>Chips and Guacamole</td>\n      <td>NaN</td>\n      <td>4.45</td>\n    </tr>\n  </tbody>\n</table>\n<p>1164 rows × 5 columns</p>\n</div>"
     },
     "metadata": {},
     "execution_count": 42
    }
   ],
   "source": [
    "chipo[chipo['choice_description'].isnull()==True][chipo['quantity']==1].sort_values(by='item_price')"
   ]
  },
  {
   "cell_type": "code",
   "execution_count": 44,
   "metadata": {},
   "outputs": [
    {
     "output_type": "execute_result",
     "data": {
      "text/plain": "array(['Chips and Fresh Tomato Salsa',\n       'Chips and Tomatillo-Green Chili Salsa', 'Side of Chips',\n       'Chips and Guacamole', 'Bottled Water',\n       'Chips and Tomatillo Green Chili Salsa', 'Chips',\n       'Chips and Tomatillo Red Chili Salsa',\n       'Chips and Roasted Chili-Corn Salsa',\n       'Chips and Roasted Chili Corn Salsa',\n       'Chips and Tomatillo-Red Chili Salsa',\n       'Chips and Mild Fresh Tomato Salsa'], dtype=object)"
     },
     "metadata": {},
     "execution_count": 44
    }
   ],
   "source": [
    "chipo[chipo['choice_description'].isnull()==True][chipo['quantity']==1]['item_name'].unique()"
   ]
  },
  {
   "cell_type": "markdown",
   "metadata": {},
   "source": [
    "단품으로 주문한것들에는 포함되지 않는 것들이 많았음"
   ]
  },
  {
   "cell_type": "code",
   "execution_count": 46,
   "metadata": {},
   "outputs": [
    {
     "output_type": "execute_result",
     "data": {
      "text/plain": "array(['Chips and Fresh Tomato Salsa', 'Izze', 'Nantucket Nectar',\n       'Chips and Tomatillo-Green Chili Salsa', 'Chicken Bowl',\n       'Side of Chips', 'Steak Burrito', 'Steak Soft Tacos',\n       'Chips and Guacamole', 'Chicken Crispy Tacos',\n       'Chicken Soft Tacos', 'Chicken Burrito', 'Canned Soda',\n       'Barbacoa Burrito', 'Carnitas Burrito', 'Carnitas Bowl',\n       'Bottled Water', 'Chips and Tomatillo Green Chili Salsa',\n       'Barbacoa Bowl', 'Chips', 'Chicken Salad Bowl', 'Steak Bowl',\n       'Barbacoa Soft Tacos', 'Veggie Burrito', 'Veggie Bowl',\n       'Steak Crispy Tacos', 'Chips and Tomatillo Red Chili Salsa',\n       'Barbacoa Crispy Tacos', 'Veggie Salad Bowl',\n       'Chips and Roasted Chili-Corn Salsa',\n       'Chips and Roasted Chili Corn Salsa', 'Carnitas Soft Tacos',\n       'Chicken Salad', 'Canned Soft Drink', 'Steak Salad Bowl',\n       '6 Pack Soft Drink', 'Chips and Tomatillo-Red Chili Salsa', 'Bowl',\n       'Burrito', 'Crispy Tacos', 'Carnitas Crispy Tacos', 'Steak Salad',\n       'Chips and Mild Fresh Tomato Salsa', 'Veggie Soft Tacos',\n       'Carnitas Salad Bowl', 'Barbacoa Salad Bowl', 'Salad',\n       'Veggie Crispy Tacos', 'Veggie Salad', 'Carnitas Salad'],\n      dtype=object)"
     },
     "metadata": {},
     "execution_count": 46
    }
   ],
   "source": [
    "chipo['item_name'].unique()"
   ]
  },
  {
   "cell_type": "code",
   "execution_count": 58,
   "metadata": {},
   "outputs": [
    {
     "output_type": "execute_result",
     "data": {
      "text/plain": "11.083548387096766"
     },
     "metadata": {},
     "execution_count": 58
    }
   ],
   "source": [
    "\n",
    "sum(chipo[chipo['item_name']=='Steak Salad Bowl']['item_price'])/sum(chipo[chipo['item_name']=='Steak Salad Bowl']['quantity'])"
   ]
  },
  {
   "cell_type": "code",
   "execution_count": 59,
   "metadata": {},
   "outputs": [],
   "source": [
    "mean_price=[]"
   ]
  },
  {
   "cell_type": "code",
   "execution_count": 60,
   "metadata": {},
   "outputs": [
    {
     "output_type": "execute_result",
     "data": {
      "text/plain": "'Chips and Fresh Tomato Salsa'"
     },
     "metadata": {},
     "execution_count": 60
    }
   ],
   "source": [
    "chipo['item_name'].unique()[0]"
   ]
  },
  {
   "cell_type": "markdown",
   "metadata": {},
   "source": [
    "저희는 절대 추가 사항마다의 가격을 구할 수가 없습니다. 각각의 가격이 적힌 메뉴표가 저희한테는 존재하지 않습니다.\n",
    "그래서 각 메뉴들의 평균 값을 계산해봅시다. 각 주문에는 그 상품의 가격이 무조건 포함. 선택사항은 사람마다 다릅니다."
   ]
  },
  {
   "cell_type": "code",
   "execution_count": 61,
   "metadata": {},
   "outputs": [],
   "source": [
    "for i in chipo['item_name'].unique():\n",
    "    mean_price.append(sum(chipo[chipo['item_name']==i]['item_price'])/sum(chipo[chipo['item_name']==i]['quantity']))"
   ]
  },
  {
   "cell_type": "code",
   "execution_count": 64,
   "metadata": {},
   "outputs": [
    {
     "output_type": "execute_result",
     "data": {
      "text/plain": "11.083548387096766"
     },
     "metadata": {},
     "execution_count": 64
    }
   ],
   "source": [
    "max(mean_price) "
   ]
  },
  {
   "cell_type": "code",
   "execution_count": 65,
   "metadata": {},
   "outputs": [
    {
     "output_type": "execute_result",
     "data": {
      "text/plain": "[2.779692307692303,\n 3.3899999999999997,\n 3.39,\n 2.39,\n 9.648791064388927,\n 1.6899999999999984,\n 9.977797927461117,\n 9.57232142857143,\n 4.3498814229249145,\n 9.442600000000002,\n 9.234083333333334,\n 9.43455160744498,\n 1.090000000000002,\n 9.832417582417586,\n 9.963833333333334,\n 10.376197183098595,\n 1.4339336492890997,\n 2.950000000000001,\n 10.18727272727273,\n 2.14930434782608,\n 9.989837398373984,\n 10.227104072398193,\n 10.0184,\n 9.636804123711343,\n 9.97689655172414,\n 9.926111111111112,\n 2.9500000000000006,\n 10.0175,\n 10.13888888888889,\n 2.39,\n 2.950000000000001,\n 9.3985,\n 9.01,\n 1.25,\n 11.083548387096766,\n 6.490000000000004,\n 2.39,\n 7.4,\n 7.3999999999999995,\n 7.4,\n 9.745000000000001,\n 8.915,\n 3.0,\n 9.245000000000001,\n 11.056666666666667,\n 10.64,\n 7.4,\n 8.49,\n 8.49,\n 8.99]"
     },
     "metadata": {},
     "execution_count": 65
    }
   ],
   "source": [
    "mean_price"
   ]
  },
  {
   "cell_type": "markdown",
   "metadata": {},
   "source": [
    "그렇게 찾은 메뉴"
   ]
  },
  {
   "cell_type": "code",
   "execution_count": 97,
   "metadata": {},
   "outputs": [
    {
     "output_type": "execute_result",
     "data": {
      "text/plain": "'Steak Salad Bowl'"
     },
     "metadata": {},
     "execution_count": 97
    }
   ],
   "source": [
    "chipo['item_name'].unique()[-16]"
   ]
  },
  {
   "cell_type": "code",
   "execution_count": 94,
   "metadata": {},
   "outputs": [
    {
     "output_type": "execute_result",
     "data": {
      "text/plain": "31"
     },
     "metadata": {},
     "execution_count": 94
    }
   ],
   "source": [
    "sum(chipo[chipo['item_name']=='Steak Salad Bowl']['quantity'])"
   ]
  },
  {
   "cell_type": "code",
   "execution_count": 95,
   "metadata": {},
   "outputs": [
    {
     "output_type": "execute_result",
     "data": {
      "text/plain": "281     [Tomatillo Red Chili Salsa, [Black Beans, Chee...\n606     [Fresh Tomato Salsa, [Pinto Beans, Cheese, Gua...\n607                         [Fresh Tomato Salsa, Lettuce]\n613     [Tomatillo Red Chili Salsa, [Fajita Vegetables...\n749     [Roasted Chili Corn Salsa, [Rice, Cheese, Lett...\n1159    [Fresh Tomato Salsa, [Rice, Fajita Vegetables,...\n1311    [Roasted Chili Corn Salsa, [Fajita Vegetables,...\n1505    [Fresh Tomato Salsa, [Rice, Pinto Beans, Chees...\n1571    [Fresh Tomato Salsa, [Fajita Vegetables, Sour ...\n1590    [Fresh Tomato Salsa, [Fajita Vegetables, Rice,...\n1816    [Fresh Tomato Salsa, [Rice, Black Beans, Chees...\n2401    [Fresh Tomato Salsa, [Fajita Vegetables, Guaca...\n2439    [Fresh Tomato Salsa, [Fajita Vegetables, Rice,...\n2600    [Fresh Tomato Salsa, [Fajita Vegetables, Lettu...\n2624    [Fresh Tomato Salsa, [Black Beans, Sour Cream,...\n2740    [Fresh Tomato Salsa, [Fajita Vegetables, Black...\n2804    [Tomatillo Red Chili Salsa, [Rice, Black Beans...\n2957    [Fresh Tomato Salsa, [Black Beans, Cheese, Gua...\n3098    [Roasted Chili Corn Salsa, [Rice, Black Beans,...\n3120    [Roasted Chili Corn Salsa, [Fajita Vegetables,...\n3350    [Fresh Tomato Salsa, [Cheese, Guacamole, Lettu...\n3493    [Roasted Chili Corn Salsa, [Fajita Vegetables,...\n4036    [Fresh Tomato Salsa, [Fajita Vegetables, Chees...\n4241    [Roasted Chili Corn Salsa, [Fajita Vegetables,...\n4313    [Roasted Chili Corn Salsa, [Fajita Vegetables,...\n4391    [Fresh Tomato Salsa, [Black Beans, Pinto Beans...\n4419    [Roasted Chili Corn Salsa, [Fajita Vegetables,...\n4547    [Roasted Chili Corn Salsa, [Fajita Vegetables,...\n4572    [Fresh Tomato Salsa, [Fajita Vegetables, Lettu...\nName: choice_description, dtype: object"
     },
     "metadata": {},
     "execution_count": 95
    }
   ],
   "source": [
    "chipo[chipo['item_name']=='Steak Salad Bowl']['choice_description']"
   ]
  },
  {
   "cell_type": "code",
   "execution_count": 98,
   "metadata": {},
   "outputs": [
    {
     "output_type": "execute_result",
     "data": {
      "text/plain": "'Carnitas Salad Bowl'"
     },
     "metadata": {},
     "execution_count": 98
    }
   ],
   "source": [
    "#비슷한 가격의 다른 제품을 보자\n",
    "chipo['item_name'].unique()[-6]"
   ]
  },
  {
   "cell_type": "markdown",
   "metadata": {},
   "source": [
    " 추가사항이 비슷함"
   ]
  },
  {
   "cell_type": "code",
   "execution_count": 101,
   "metadata": {},
   "outputs": [
    {
     "output_type": "execute_result",
     "data": {
      "text/plain": "1132    [Fresh Tomato Salsa, [Rice, Black Beans, Chees...\n1865     [Fresh Tomato Salsa, [Rice, Cheese, Sour Cream]]\n2610    [Roasted Chili Corn Salsa, [Fajita Vegetables,...\n3115    [Tomatillo Green Chili Salsa, [Rice, Pinto Bea...\n3749    [Roasted Chili Corn Salsa, [Fajita Vegetables,...\n4239    [Tomatillo Green Chili Salsa, [Black Beans, Ch...\nName: choice_description, dtype: object"
     },
     "metadata": {},
     "execution_count": 101
    }
   ],
   "source": [
    "chipo[chipo['item_name']=='Carnitas Salad Bowl']['choice_description']"
   ]
  },
  {
   "cell_type": "code",
   "execution_count": 104,
   "metadata": {},
   "outputs": [
    {
     "output_type": "execute_result",
     "data": {
      "text/plain": "31"
     },
     "metadata": {},
     "execution_count": 104
    }
   ],
   "source": [
    "sum(chipo[chipo['item_name']=='Steak Salad Bowl']['quantity'])"
   ]
  }
 ]
}