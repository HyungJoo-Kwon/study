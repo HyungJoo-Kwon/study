{
 "metadata": {
  "language_info": {
   "codemirror_mode": {
    "name": "ipython",
    "version": 3
   },
   "file_extension": ".py",
   "mimetype": "text/x-python",
   "name": "python",
   "nbconvert_exporter": "python",
   "pygments_lexer": "ipython3",
   "version": "3.8.3-final"
  },
  "orig_nbformat": 2,
  "kernelspec": {
   "name": "python_defaultSpec_1600227251654",
   "display_name": "Python 3.8.3 64-bit ('base': conda)"
  }
 },
 "nbformat": 4,
 "nbformat_minor": 2,
 "cells": [
  {
   "cell_type": "code",
   "execution_count": null,
   "metadata": {},
   "outputs": [],
   "source": [
    "'''\n",
    "try:\n",
    "    ~\n",
    "except\n",
    "    ~\n",
    "else:\n",
    "''' \n",
    "'''\n",
    "try:\n",
    "    ~\n",
    "except\n",
    "    ~\n",
    "finally        #예외 발생 유뮤와 상관없이 finally 사용\n",
    "    ~\n",
    "'''"
   ]
  },
  {
   "cell_type": "code",
   "execution_count": 4,
   "metadata": {},
   "outputs": [],
   "source": [
    "f = open(\"test.txt\", mode='w')\n",
    "f.write(\"파이선에 온 걸 환영해\")\n",
    "f.close()"
   ]
  },
  {
   "cell_type": "code",
   "execution_count": 8,
   "metadata": {},
   "outputs": [],
   "source": [
    "with open(\"test2.txt\", mode='w') as f2:                #  옵션 'w' : 아예 새로 작성,                                                           #  'a' : 있는 것에 추가하기\n",
    "    f2.write(\"파이선 월드에 온 걸 환영해\")\n",
    "with open(\"test2.txt\", mode='w') as f2:\n",
    "    f2.writelines([\"파이선 월드에 온 걸 환영해 \\n\",\"파이선 월드에 온 걸 환영해\",\"파이선 월드에 온 걸 환영해\"])  # writelines() : 리스트를 한줄에 입력\n",
    "with open(\"test2.txt\", 'a') as f:\n",
    "    f.write(\"어서와라 환영한다 \\n\")   "
   ]
  },
  {
   "cell_type": "code",
   "execution_count": 52,
   "metadata": {
    "tags": []
   },
   "outputs": [],
   "source": [
    "ff = open(\"loop.txt\", 'w', encoding='utf-8')\n",
    "\n",
    "for i in range(1,101):\n",
    "    a = str(i)\n",
    "    ff.write(\"%s\" %a)\n",
    "#    ff.writelines(\"{}\".format(a))\n",
    "    ff.write(\" \")\n"
   ]
  },
  {
   "cell_type": "code",
   "execution_count": 56,
   "metadata": {
    "tags": []
   },
   "outputs": [
    {
     "output_type": "stream",
     "name": "stdout",
     "text": "I have a dream, a song to sing\nTo help me cope with anything\nIf you see the wonder of a fairy tale\nYou can take the future even\nif you fail I believe in angels\nSomething good in everything\n\n"
    }
   ],
   "source": [
    "f = open(\"test.txt\", 'w',  encoding='utf-8')\n",
    "f.write(\"I have a dream, a song to sing\\n\\\n",
    "To help me cope with anything\\n\\\n",
    "If you see the wonder of a fairy tale\\n\\\n",
    "You can take the future even\\n\\\n",
    "if you fail I believe in angels\\n\\\n",
    "Something good in everything\\n\")\n",
    "\n",
    "f = open(\"test.txt\", 'r', encoding='utf-8')     # 읽기\n",
    "a = f.read()\n",
    "print(a)\n",
    "f.close()"
   ]
  },
  {
   "cell_type": "code",
   "execution_count": 9,
   "metadata": {
    "tags": []
   },
   "outputs": [
    {
     "output_type": "stream",
     "name": "stdout",
     "text": "['(밴쿠버=연합뉴스) 조재용 통신원 = 캐나다에서 쿠거(일명 퓨마)에 습격 당한 10대 소년을 반려견이 달려들어 구해낸 사실이 알려져 화제다.\\n', '\\n', '3일(현지시간) CTV 등에 따르면 브리티시 컬럼비아(BC)주 내륙 산간 지역인 릴루엣 인근 숲속에서 지난달 31일 가족과 함께 산책 중이던 10대 어린이가 길옆 나무위에서 나타난 쿠거의 습격을 받았으나 반려견의 재빠른 대응으로 구출됐다.\\n', '\\n', '당시 일행은 성인 여성 2명과 10~13세 어린이 4명으로 부근의 가족 별장 캐빈을 출발해 숲속길을 따라 산책을 나선 길이었다.\\n', '\\n', '쿠거 쿠거 쿠거\\n', '쿠거쿠거쿠거\\n']\n"
    }
   ],
   "source": [
    "f = open(\"data/test.txt\", 'r', encoding='utf-8')     # 읽기\n",
    "a = f.readlines()                           # 리스트로 불러들이기.\n",
    "print(a)\n",
    "f.close()"
   ]
  },
  {
   "cell_type": "code",
   "execution_count": 10,
   "metadata": {
    "tags": []
   },
   "outputs": [
    {
     "output_type": "stream",
     "name": "stdout",
     "text": "(밴쿠버=연합뉴스) 조재용 통신원 = 캐나다에서 쿠거(일명 퓨마)에 습격 당한 10대 소년을 반려견이 달려들어 구해낸 사실이 알려져 화제다.\n \n\n3일(현지시간) CTV 등에 따르면 브리티시 컬럼비아(BC)주 내륙 산간 지역인 릴루엣 인근 숲속에서 지난달 31일 가족과 함께 산책 중이던 10대 어린이가 길옆 나무위에서 나타난 쿠거의 습격을 받았으나 반려견의 재빠른 대응으로 구출됐다.\n\n"
    }
   ],
   "source": [
    "f = open(\"data/test.txt\", 'r', encoding='utf-8')     # 읽기\n",
    "a = f.readline()                           # 한줄씩 불러들이기\n",
    "print(a, end = ' ')              # end = ' ' : 줄바꿈을 공백으로 바꾸기\n",
    "a = f.readline()                           # 한줄씩 불러들이기\n",
    "print(a)\n",
    "a = f.readline()                           # 한줄씩 불러들이기\n",
    "print(a)\n",
    "f.close()"
   ]
  },
  {
   "cell_type": "code",
   "execution_count": 12,
   "metadata": {
    "tags": []
   },
   "outputs": [
    {
     "output_type": "stream",
     "name": "stdout",
     "text": "(밴쿠버=연합뉴스) 조재용 통신원 = 캐나다에서 쿠거(일명 퓨마)에 습격 당한 10대 소년을 반려견이 달려들어 구해낸 사실이 알려져 화제다. \n \n3일(현지시간) CTV 등에 따르면 브리티시 컬럼비아(BC)주 내륙 산간 지역인 릴루엣 인근 숲속에서 지난달 31일 가족과 함께 산책 중이던 10대 어린이가 길옆 나무위에서 나타난 쿠거의 습격을 받았으나 반려견의 재빠른 대응으로 구출됐다. \n \n당시 일행은 성인 여성 2명과 10~13세 어린이 4명으로 부근의 가족 별장 캐빈을 출발해 숲속길을 따라 산책을 나선 길이었다. \n \n쿠거 쿠거 쿠거 \n쿠거쿠거쿠거 \n"
    }
   ],
   "source": [
    "f = open(\"data/test.txt\", 'r', encoding='utf-8')     \n",
    "i = 0\n",
    "while True:\n",
    "    line = f.readline()\n",
    "    if not line:\n",
    "        break\n",
    "    print(line.replace(\"\\n\", ' '))\n",
    "    i += 1                 "
   ]
  },
  {
   "cell_type": "code",
   "execution_count": 13,
   "metadata": {
    "tags": []
   },
   "outputs": [
    {
     "output_type": "stream",
     "name": "stdout",
     "text": "65 9\n"
    }
   ],
   "source": [
    "f = open(\"data/test.txt\", 'r', encoding=\"utf-8\")\n",
    "contents = f.read()\n",
    "word_list = contents.split(' ')     # 공백으로 나누기\n",
    "line_list = contents.split(\"\\n\")    # 줄바뀜으로 나누기\n",
    "print(len(word_list), len(line_list))"
   ]
  },
  {
   "cell_type": "code",
   "execution_count": 16,
   "metadata": {
    "tags": []
   },
   "outputs": [
    {
     "output_type": "stream",
     "name": "stdout",
     "text": "(밴쿠버=연합뉴스) 조재용 통신원 = 캐나다에서 1) 사자(일명 퓨마)에 습격 당한 10대 소년을 반려견이 달려들어 구해낸 사실이 알려져 화제다.\n\n\n\n3일(현지시간) CTV 등에 따르면 브리티시 컬럼비아(BC)주 내륙 산간 지역인 릴루엣 인근 숲속에서 지난달 31일 가족과 함께 산책 중이던 10대 어린이가 길옆 나무위에서 나타난 2) 사자의 습격을 받았으나 반려견의 재빠른 대응으로 구출됐다.\n\n\n\n당시 일행은 성인 여성 2명과 10~13세 어린이 4명으로 부근의 가족 별장 캐빈을 출발해 숲속길을 따라 산책을 나선 길이었다.\n\n\n\n3) 사자 4) 사자 5) 사자\n\n6) 사자7) 사자8) 사자\n\n"
    }
   ],
   "source": [
    "f = open(\"data/test.txt\", 'r', encoding=\"utf-8\")\n",
    "f_out = open(\"out_test.txt\", 'w', encoding=\"utf-8\")\n",
    "count = 1\n",
    "while True:\n",
    "    line = f.readline()\n",
    "    word = line.split(' ')\n",
    "    if not line:\n",
    "        break\n",
    "    if \"쿠거\" in line:\n",
    "        for i in range(line.count(\"쿠거\")):  \n",
    "            line = line.replace(\"쿠거\", \"{}) {}\" .format(count, \"사자\"), 1)   \n",
    "             #  문자열.replace(“검색 문자”, “치환 문자” [, 치환 횟수])\n",
    "            count +=1\n",
    "   \n",
    "           \n",
    "    f_out.writelines(line)\n",
    "    print(line)\n",
    "    "
   ]
  },
  {
   "cell_type": "code",
   "execution_count": null,
   "metadata": {},
   "outputs": [],
   "source": []
  },
  {
   "cell_type": "code",
   "execution_count": 156,
   "metadata": {},
   "outputs": [],
   "source": [
    "import os\n",
    "import pickle       # pickle : 메모리에 로딩된 객체\n",
    "\n",
    "if not os.path.isdir(\"log\"):\n",
    "    os.mkdir(\"log\")\n",
    "\n",
    "f = open(\"list.pickle\", 'wb')\n",
    "test = [1,2,3,4]\n",
    "pickle.dump(test, f)        #  멤리에 로딩된 객체를 영속화\n",
    "f.close()"
   ]
  },
  {
   "cell_type": "code",
   "execution_count": 158,
   "metadata": {
    "tags": []
   },
   "outputs": [
    {
     "output_type": "stream",
     "name": "stdout",
     "text": "[1, 2, 3, 4]\n"
    }
   ],
   "source": [
    "f = open(\"list.pickle\", \"rb\")\n",
    "test_pickle = pickle.load(f)    # 로딩된 객체를 일반 변수로\n",
    "print(test_pickle)"
   ]
  },
  {
   "cell_type": "code",
   "execution_count": 191,
   "metadata": {
    "tags": []
   },
   "outputs": [
    {
     "output_type": "stream",
     "name": "stdout",
     "text": "현재 체력은 300 입니다\n데미지를 몇 입었습니까 ? :  10\n\n체력이 290 남았습니다\n데미지를 몇 입었습니까 ? :  100\n\n체력이 190 남았습니다\n데미지를 몇 입었습니까 ? :  50\n\n체력이 140 남았습니다\n데미지를 몇 입었습니까 ? :  save\n"
    }
   ],
   "source": [
    "HP = 300\n",
    "count = 0\n",
    "print(\"현재 체력은 %d 입니다\" %HP)\n",
    "with open(\"test2.txt\", mode='r', encoding=\"utf-8\") as f:\n",
    "    while True:\n",
    "        line = f.readline()\n",
    "        if not line:\n",
    "            break\n",
    "        print(\"데미지를 몇 입었습니까 ? : \", line)\n",
    "        if line == \"save\":\n",
    "            with open(\"save.txt\", mode='w', encoding=\"utf-8\") as ff:\n",
    "                ff.write(str(HP))\n",
    "                break\n",
    "        \n",
    "        HP -= int(line)\n",
    "        print(\"체력이 %d 남았습니다\" %(HP))\n",
    "       \n"
   ]
  },
  {
   "cell_type": "code",
   "execution_count": 192,
   "metadata": {
    "tags": []
   },
   "outputs": [
    {
     "output_type": "stream",
     "name": "stdout",
     "text": "세이브 된 파일을 불러오는 중\n현재 체력은 140 입니다\n데미지를 몇 입었습니까 ? :  10\n\n체력이 130 남았습니다\n데미지를 몇 입었습니까 ? :  100\n\n체력이 30 남았습니다\n데미지를 몇 입었습니까 ? :  50\n\n체력이 0 남았습니다\n"
    }
   ],
   "source": [
    "try:\n",
    "    with open(\"save.txt\", mode='r', encoding=\"utf-8\") as fff:\n",
    "        HP = fff.readline()\n",
    "        HP = int(HP)\n",
    "        print(\"세이브 된 파일을 불러오는 중\")\n",
    "except:\n",
    "    print(\"세이브 된 파일을 찾을 수 없습니다.\")\n",
    "print(\"현재 체력은 %d 입니다\" %HP)\n",
    "with open(\"test2.txt\", mode='r', encoding=\"utf-8\") as f:\n",
    "    while True:\n",
    "        line = f.readline()\n",
    "        if not line:\n",
    "            break\n",
    "        print(\"데미지를 몇 입었습니까 ? : \", line)\n",
    "        if line == \"save\":\n",
    "            with open(\"save.txt\", mode='w', encoding=\"utf-8\") as ff:\n",
    "                ff.write(str(HP))\n",
    "                break       \n",
    "        HP -= int(line)\n",
    "        if HP < 0:\n",
    "            print(\"체력이 0 남았습니다\")\n",
    "            break\n",
    "        else:\n",
    "            print(\"체력이 %d 남았습니다\" %(HP))\n"
   ]
  },
  {
   "cell_type": "code",
   "execution_count": null,
   "metadata": {},
   "outputs": [],
   "source": []
  }
 ]
}